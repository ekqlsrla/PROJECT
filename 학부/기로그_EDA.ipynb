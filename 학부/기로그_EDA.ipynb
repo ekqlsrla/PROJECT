{
 "cells": [
  {
   "cell_type": "code",
   "execution_count": 79,
   "metadata": {},
   "outputs": [],
   "source": [
    "#library import\n",
    "import numpy as np\n",
    "import pandas as pd\n",
    "import matplotlib.pyplot as plt"
   ]
  },
  {
   "cell_type": "code",
   "execution_count": 80,
   "metadata": {},
   "outputs": [],
   "source": [
    "#데이터 불러오기\n",
    "\n",
    "user = pd.read_csv('C:/Users/DaBin/Desktop/Python/DATA/기로그/raw data/user_100.csv')\n",
    "data = pd.read_csv('C:/Users/DaBin/Desktop/Python/DATA/기로그/raw data/memory_100.csv')"
   ]
  },
  {
   "cell_type": "code",
   "execution_count": 81,
   "metadata": {},
   "outputs": [
    {
     "data": {
      "text/html": [
       "<div>\n",
       "<style scoped>\n",
       "    .dataframe tbody tr th:only-of-type {\n",
       "        vertical-align: middle;\n",
       "    }\n",
       "\n",
       "    .dataframe tbody tr th {\n",
       "        vertical-align: top;\n",
       "    }\n",
       "\n",
       "    .dataframe thead th {\n",
       "        text-align: right;\n",
       "    }\n",
       "</style>\n",
       "<table border=\"1\" class=\"dataframe\">\n",
       "  <thead>\n",
       "    <tr style=\"text-align: right;\">\n",
       "      <th></th>\n",
       "      <th>USER_ID</th>\n",
       "      <th>MY_INVITE_CODE</th>\n",
       "      <th>OTHER_INVITE_CODE</th>\n",
       "      <th>RELATE_SNS_ACCOUNT</th>\n",
       "      <th>AUTH_MEMO</th>\n",
       "      <th>BIRTH_DATE</th>\n",
       "      <th>EVENT_MEMORY_COUNT</th>\n",
       "      <th>ROLE</th>\n",
       "      <th>UNIQUE_ID</th>\n",
       "      <th>PASSWORD</th>\n",
       "      <th>EMAIL</th>\n",
       "      <th>NICKNAME</th>\n",
       "      <th>PROMO_AGREE_DATE</th>\n",
       "      <th>BEAN_BALANCE</th>\n",
       "      <th>I_DATE</th>\n",
       "      <th>U_DATE</th>\n",
       "      <th>USE_YN</th>\n",
       "    </tr>\n",
       "  </thead>\n",
       "  <tbody>\n",
       "    <tr>\n",
       "      <th>0</th>\n",
       "      <td>952</td>\n",
       "      <td>NaN</td>\n",
       "      <td>NaN</td>\n",
       "      <td>AA001</td>\n",
       "      <td>NaN</td>\n",
       "      <td>1974-03-28 15:00:00</td>\n",
       "      <td>1</td>\n",
       "      <td>AB002</td>\n",
       "      <td>3135914902</td>\n",
       "      <td>NaN</td>\n",
       "      <td>NaN</td>\n",
       "      <td>Klug</td>\n",
       "      <td>0000-00-00 00:00:00</td>\n",
       "      <td>0</td>\n",
       "      <td>2023-10-27 04:47:03</td>\n",
       "      <td>2023-10-27 04:47:03</td>\n",
       "      <td>1</td>\n",
       "    </tr>\n",
       "    <tr>\n",
       "      <th>1</th>\n",
       "      <td>951</td>\n",
       "      <td>NaN</td>\n",
       "      <td>NaN</td>\n",
       "      <td>AA001</td>\n",
       "      <td>NaN</td>\n",
       "      <td>1987-12-01 00:00:00</td>\n",
       "      <td>1</td>\n",
       "      <td>AB002</td>\n",
       "      <td>NaN</td>\n",
       "      <td>NaN</td>\n",
       "      <td>NaN</td>\n",
       "      <td>특별소</td>\n",
       "      <td>0000-00-00 00:00:00</td>\n",
       "      <td>0</td>\n",
       "      <td>2023-10-27 02:48:54</td>\n",
       "      <td>2023-10-27 02:52:02</td>\n",
       "      <td>0</td>\n",
       "    </tr>\n",
       "    <tr>\n",
       "      <th>2</th>\n",
       "      <td>950</td>\n",
       "      <td>NaN</td>\n",
       "      <td>NaN</td>\n",
       "      <td>AA001</td>\n",
       "      <td>NaN</td>\n",
       "      <td>2023-08-26 15:00:00</td>\n",
       "      <td>0</td>\n",
       "      <td>AB002</td>\n",
       "      <td>3135034430</td>\n",
       "      <td>NaN</td>\n",
       "      <td>NaN</td>\n",
       "      <td>준영이</td>\n",
       "      <td>0000-00-00 00:00:00</td>\n",
       "      <td>0</td>\n",
       "      <td>2023-10-26 11:52:38</td>\n",
       "      <td>2023-10-26 11:52:38</td>\n",
       "      <td>1</td>\n",
       "    </tr>\n",
       "    <tr>\n",
       "      <th>3</th>\n",
       "      <td>949</td>\n",
       "      <td>NaN</td>\n",
       "      <td>NaN</td>\n",
       "      <td>AA002</td>\n",
       "      <td>NaN</td>\n",
       "      <td>1986-02-24 05:00:00</td>\n",
       "      <td>0</td>\n",
       "      <td>AB002</td>\n",
       "      <td>001447.c32b45b55f8445a5b984b7d6b4ca431f.0924</td>\n",
       "      <td>NaN</td>\n",
       "      <td>NaN</td>\n",
       "      <td>니루</td>\n",
       "      <td>0000-00-00 00:00:00</td>\n",
       "      <td>0</td>\n",
       "      <td>2023-10-26 09:24:24</td>\n",
       "      <td>2023-10-26 09:24:24</td>\n",
       "      <td>1</td>\n",
       "    </tr>\n",
       "    <tr>\n",
       "      <th>4</th>\n",
       "      <td>948</td>\n",
       "      <td>NaN</td>\n",
       "      <td>NaN</td>\n",
       "      <td>AA002</td>\n",
       "      <td>NaN</td>\n",
       "      <td>1989-10-05 06:00:00</td>\n",
       "      <td>0</td>\n",
       "      <td>AB002</td>\n",
       "      <td>000938.0c509500eace4c609978b756f362d7ea.1349</td>\n",
       "      <td>NaN</td>\n",
       "      <td>NaN</td>\n",
       "      <td>노력</td>\n",
       "      <td>0000-00-00 00:00:00</td>\n",
       "      <td>0</td>\n",
       "      <td>2023-10-25 13:50:01</td>\n",
       "      <td>2023-10-25 13:50:01</td>\n",
       "      <td>1</td>\n",
       "    </tr>\n",
       "  </tbody>\n",
       "</table>\n",
       "</div>"
      ],
      "text/plain": [
       "   USER_ID  MY_INVITE_CODE OTHER_INVITE_CODE RELATE_SNS_ACCOUNT  AUTH_MEMO  \\\n",
       "0      952             NaN               NaN              AA001        NaN   \n",
       "1      951             NaN               NaN              AA001        NaN   \n",
       "2      950             NaN               NaN              AA001        NaN   \n",
       "3      949             NaN               NaN              AA002        NaN   \n",
       "4      948             NaN               NaN              AA002        NaN   \n",
       "\n",
       "            BIRTH_DATE  EVENT_MEMORY_COUNT   ROLE  \\\n",
       "0  1974-03-28 15:00:00                   1  AB002   \n",
       "1  1987-12-01 00:00:00                   1  AB002   \n",
       "2  2023-08-26 15:00:00                   0  AB002   \n",
       "3  1986-02-24 05:00:00                   0  AB002   \n",
       "4  1989-10-05 06:00:00                   0  AB002   \n",
       "\n",
       "                                      UNIQUE_ID  PASSWORD  EMAIL NICKNAME  \\\n",
       "0                                    3135914902       NaN    NaN     Klug   \n",
       "1                                           NaN       NaN    NaN      특별소   \n",
       "2                                    3135034430       NaN    NaN      준영이   \n",
       "3  001447.c32b45b55f8445a5b984b7d6b4ca431f.0924       NaN    NaN       니루   \n",
       "4  000938.0c509500eace4c609978b756f362d7ea.1349       NaN    NaN       노력   \n",
       "\n",
       "      PROMO_AGREE_DATE  BEAN_BALANCE               I_DATE  \\\n",
       "0  0000-00-00 00:00:00             0  2023-10-27 04:47:03   \n",
       "1  0000-00-00 00:00:00             0  2023-10-27 02:48:54   \n",
       "2  0000-00-00 00:00:00             0  2023-10-26 11:52:38   \n",
       "3  0000-00-00 00:00:00             0  2023-10-26 09:24:24   \n",
       "4  0000-00-00 00:00:00             0  2023-10-25 13:50:01   \n",
       "\n",
       "                U_DATE  USE_YN  \n",
       "0  2023-10-27 04:47:03       1  \n",
       "1  2023-10-27 02:52:02       0  \n",
       "2  2023-10-26 11:52:38       1  \n",
       "3  2023-10-26 09:24:24       1  \n",
       "4  2023-10-25 13:50:01       1  "
      ]
     },
     "execution_count": 81,
     "metadata": {},
     "output_type": "execute_result"
    }
   ],
   "source": [
    "user.head()"
   ]
  },
  {
   "cell_type": "markdown",
   "metadata": {},
   "source": [
    "# PREPROCESSING"
   ]
  },
  {
   "cell_type": "code",
   "execution_count": 82,
   "metadata": {},
   "outputs": [],
   "source": [
    "#필요한 feature 만 선택\n",
    "\n",
    "user = user[[\"USER_ID\",\"EVENT_MEMORY_COUNT\",\"NICKNAME\",\"I_DATE\",\"U_DATE\",\"USE_YN\"]]\n",
    "data = data[['MEMORY_ID','WRITER','MEMORY_DATE','IS_PRINTED','I_DATE','U_DATE','USE_YN','QUESTION']]"
   ]
  },
  {
   "cell_type": "code",
   "execution_count": 83,
   "metadata": {},
   "outputs": [],
   "source": [
    "#작성횟수 피처 추가\n",
    "data2 = pd.DataFrame(data.groupby('WRITER')['USE_YN'].count().sort_values())\n",
    "\n",
    "data_new = pd.merge(data,data2, how='left',on='WRITER').drop('USE_YN_x',axis = 1)"
   ]
  },
  {
   "cell_type": "code",
   "execution_count": 84,
   "metadata": {},
   "outputs": [],
   "source": [
    "#칼럼명 수정\n",
    "\n",
    "data_new.rename(columns = {'USE_YN_y' : 'count'},inplace = True)"
   ]
  },
  {
   "cell_type": "code",
   "execution_count": 85,
   "metadata": {},
   "outputs": [
    {
     "data": {
      "text/html": [
       "<div>\n",
       "<style scoped>\n",
       "    .dataframe tbody tr th:only-of-type {\n",
       "        vertical-align: middle;\n",
       "    }\n",
       "\n",
       "    .dataframe tbody tr th {\n",
       "        vertical-align: top;\n",
       "    }\n",
       "\n",
       "    .dataframe thead th {\n",
       "        text-align: right;\n",
       "    }\n",
       "</style>\n",
       "<table border=\"1\" class=\"dataframe\">\n",
       "  <thead>\n",
       "    <tr style=\"text-align: right;\">\n",
       "      <th></th>\n",
       "      <th>MEMORY_ID</th>\n",
       "      <th>WRITER</th>\n",
       "      <th>MEMORY_DATE</th>\n",
       "      <th>IS_PRINTED</th>\n",
       "      <th>I_DATE</th>\n",
       "      <th>U_DATE</th>\n",
       "      <th>QUESTION</th>\n",
       "      <th>count</th>\n",
       "    </tr>\n",
       "  </thead>\n",
       "  <tbody>\n",
       "    <tr>\n",
       "      <th>0</th>\n",
       "      <td>4013</td>\n",
       "      <td>461</td>\n",
       "      <td>2023-10-03 00:00:00</td>\n",
       "      <td>0</td>\n",
       "      <td>2023-10-27 06:08:36</td>\n",
       "      <td>2023-10-27 06:08:36</td>\n",
       "      <td>608</td>\n",
       "      <td>4</td>\n",
       "    </tr>\n",
       "    <tr>\n",
       "      <th>1</th>\n",
       "      <td>4012</td>\n",
       "      <td>461</td>\n",
       "      <td>2023-10-26 00:00:00</td>\n",
       "      <td>0</td>\n",
       "      <td>2023-10-27 06:06:38</td>\n",
       "      <td>2023-10-27 06:06:38</td>\n",
       "      <td>631</td>\n",
       "      <td>4</td>\n",
       "    </tr>\n",
       "    <tr>\n",
       "      <th>2</th>\n",
       "      <td>4011</td>\n",
       "      <td>914</td>\n",
       "      <td>2023-10-27 00:00:00</td>\n",
       "      <td>0</td>\n",
       "      <td>2023-10-27 05:56:23</td>\n",
       "      <td>2023-10-27 05:56:23</td>\n",
       "      <td>309</td>\n",
       "      <td>5</td>\n",
       "    </tr>\n",
       "    <tr>\n",
       "      <th>3</th>\n",
       "      <td>4010</td>\n",
       "      <td>914</td>\n",
       "      <td>2023-10-26 00:00:00</td>\n",
       "      <td>0</td>\n",
       "      <td>2023-10-27 05:54:41</td>\n",
       "      <td>2023-10-27 05:54:41</td>\n",
       "      <td>308</td>\n",
       "      <td>5</td>\n",
       "    </tr>\n",
       "    <tr>\n",
       "      <th>4</th>\n",
       "      <td>4009</td>\n",
       "      <td>914</td>\n",
       "      <td>2023-10-25 00:00:00</td>\n",
       "      <td>0</td>\n",
       "      <td>2023-10-27 05:53:38</td>\n",
       "      <td>2023-10-27 05:53:38</td>\n",
       "      <td>307</td>\n",
       "      <td>5</td>\n",
       "    </tr>\n",
       "  </tbody>\n",
       "</table>\n",
       "</div>"
      ],
      "text/plain": [
       "   MEMORY_ID  WRITER          MEMORY_DATE  IS_PRINTED               I_DATE  \\\n",
       "0       4013     461  2023-10-03 00:00:00           0  2023-10-27 06:08:36   \n",
       "1       4012     461  2023-10-26 00:00:00           0  2023-10-27 06:06:38   \n",
       "2       4011     914  2023-10-27 00:00:00           0  2023-10-27 05:56:23   \n",
       "3       4010     914  2023-10-26 00:00:00           0  2023-10-27 05:54:41   \n",
       "4       4009     914  2023-10-25 00:00:00           0  2023-10-27 05:53:38   \n",
       "\n",
       "                U_DATE  QUESTION  count  \n",
       "0  2023-10-27 06:08:36       608      4  \n",
       "1  2023-10-27 06:06:38       631      4  \n",
       "2  2023-10-27 05:56:23       309      5  \n",
       "3  2023-10-27 05:54:41       308      5  \n",
       "4  2023-10-27 05:53:38       307      5  "
      ]
     },
     "execution_count": 85,
     "metadata": {},
     "output_type": "execute_result"
    }
   ],
   "source": [
    "#수정된 데이터 data_new 확인\n",
    "\n",
    "data_new.head()"
   ]
  },
  {
   "cell_type": "markdown",
   "metadata": {},
   "source": [
    "## data csv 살펴보기"
   ]
  },
  {
   "cell_type": "code",
   "execution_count": 86,
   "metadata": {},
   "outputs": [
    {
     "name": "stdout",
     "output_type": "stream",
     "text": [
      "<class 'pandas.core.frame.DataFrame'>\n",
      "RangeIndex: 100 entries, 0 to 99\n",
      "Data columns (total 8 columns):\n",
      " #   Column       Non-Null Count  Dtype \n",
      "---  ------       --------------  ----- \n",
      " 0   MEMORY_ID    100 non-null    int64 \n",
      " 1   WRITER       100 non-null    int64 \n",
      " 2   MEMORY_DATE  100 non-null    object\n",
      " 3   IS_PRINTED   100 non-null    int64 \n",
      " 4   I_DATE       100 non-null    object\n",
      " 5   U_DATE       100 non-null    object\n",
      " 6   QUESTION     100 non-null    int64 \n",
      " 7   count        100 non-null    int64 \n",
      "dtypes: int64(5), object(3)\n",
      "memory usage: 6.4+ KB\n"
     ]
    }
   ],
   "source": [
    "data_new.info()"
   ]
  },
  {
   "cell_type": "markdown",
   "metadata": {},
   "source": [
    "### 1) 작성 기간/횟수 - `MEMORY_DATE` "
   ]
  },
  {
   "cell_type": "code",
   "execution_count": 87,
   "metadata": {},
   "outputs": [
    {
     "data": {
      "text/plain": [
       "WRITER\n",
       "184     6\n",
       "537    10\n",
       "568     5\n",
       "603     5\n",
       "687     9\n",
       "714     5\n",
       "914     5\n",
       "Name: count, dtype: int64"
      ]
     },
     "execution_count": 87,
     "metadata": {},
     "output_type": "execute_result"
    }
   ],
   "source": [
    "#3일내에 5회 이상 작성한 writer 확인\n",
    "\n",
    "most_writer = data_new.groupby('WRITER')['count'].count()\n",
    "most_writer = most_writer[most_writer >= 5]\n",
    "most_index = ['184','537','568','603','687','714','914']\n",
    "\n",
    "most_writer"
   ]
  },
  {
   "cell_type": "code",
   "execution_count": 88,
   "metadata": {},
   "outputs": [],
   "source": [
    "#writer 변수 수정\n",
    "writer_list = pd.read_csv('C:/Users/DaBin/Desktop/Python/DATA/기로그/raw data/memory_10.csv')\n",
    "\n",
    "data_new['WRITER'] = writer_list\n",
    "data_new['WRITER'] = data['WRITER'].astype(str)\n",
    "\n",
    "data_new.MEMORY_DATE = [x[:10] for x in data_new.MEMORY_DATE ]"
   ]
  },
  {
   "cell_type": "code",
   "execution_count": 89,
   "metadata": {},
   "outputs": [],
   "source": [
    "#datetime 변경 및 상위 작성자 분류\n",
    "\n",
    "from datetime import datetime\n",
    "\n",
    "\n",
    "data_new['MEMORY_DATE'] = [datetime.strptime(x,'%Y-%m-%d') for x in data_new['MEMORY_DATE']]\n",
    "\n",
    "writer_5 = data_new[(data_new.WRITER == '184') | (data_new.WRITER == '537') | (data_new.WRITER == '568') | (data_new.WRITER == '603') | (data_new.WRITER == '687')\n",
    "                | (data_new.WRITER == '714') | (data_new.WRITER == '914')]\n",
    "\n"
   ]
  },
  {
   "cell_type": "markdown",
   "metadata": {},
   "source": [
    "#### (1) `MEMORT DATE`와 `I_DATE`"
   ]
  },
  {
   "cell_type": "markdown",
   "metadata": {},
   "source": [
    "* 상위작성자 별 `MEMORY_DATE`와 `I_DATE` 비교"
   ]
  },
  {
   "cell_type": "code",
   "execution_count": 90,
   "metadata": {},
   "outputs": [
    {
     "data": {
      "text/html": [
       "<div>\n",
       "<style scoped>\n",
       "    .dataframe tbody tr th:only-of-type {\n",
       "        vertical-align: middle;\n",
       "    }\n",
       "\n",
       "    .dataframe tbody tr th {\n",
       "        vertical-align: top;\n",
       "    }\n",
       "\n",
       "    .dataframe thead th {\n",
       "        text-align: right;\n",
       "    }\n",
       "</style>\n",
       "<table border=\"1\" class=\"dataframe\">\n",
       "  <thead>\n",
       "    <tr style=\"text-align: right;\">\n",
       "      <th></th>\n",
       "      <th>I_DATE</th>\n",
       "      <th>MEMORY_DATE</th>\n",
       "    </tr>\n",
       "    <tr>\n",
       "      <th>WRITER</th>\n",
       "      <th></th>\n",
       "      <th></th>\n",
       "    </tr>\n",
       "  </thead>\n",
       "  <tbody>\n",
       "    <tr>\n",
       "      <th>184</th>\n",
       "      <td>2023-10-24 13:05:04</td>\n",
       "      <td>2023-10-21</td>\n",
       "    </tr>\n",
       "    <tr>\n",
       "      <th>537</th>\n",
       "      <td>2023-10-26 10:02:15</td>\n",
       "      <td>2023-10-16</td>\n",
       "    </tr>\n",
       "    <tr>\n",
       "      <th>568</th>\n",
       "      <td>2023-10-24 15:39:34</td>\n",
       "      <td>2023-10-21</td>\n",
       "    </tr>\n",
       "    <tr>\n",
       "      <th>603</th>\n",
       "      <td>2023-10-24 14:38:51</td>\n",
       "      <td>2023-10-21</td>\n",
       "    </tr>\n",
       "    <tr>\n",
       "      <th>687</th>\n",
       "      <td>2023-10-24 13:54:13</td>\n",
       "      <td>2023-10-15</td>\n",
       "    </tr>\n",
       "    <tr>\n",
       "      <th>714</th>\n",
       "      <td>2023-10-24 15:15:53</td>\n",
       "      <td>2023-10-10</td>\n",
       "    </tr>\n",
       "    <tr>\n",
       "      <th>914</th>\n",
       "      <td>2023-10-27 05:51:07</td>\n",
       "      <td>2023-10-23</td>\n",
       "    </tr>\n",
       "  </tbody>\n",
       "</table>\n",
       "</div>"
      ],
      "text/plain": [
       "                     I_DATE MEMORY_DATE\n",
       "WRITER                                 \n",
       "184     2023-10-24 13:05:04  2023-10-21\n",
       "537     2023-10-26 10:02:15  2023-10-16\n",
       "568     2023-10-24 15:39:34  2023-10-21\n",
       "603     2023-10-24 14:38:51  2023-10-21\n",
       "687     2023-10-24 13:54:13  2023-10-15\n",
       "714     2023-10-24 15:15:53  2023-10-10\n",
       "914     2023-10-27 05:51:07  2023-10-23"
      ]
     },
     "execution_count": 90,
     "metadata": {},
     "output_type": "execute_result"
    }
   ],
   "source": [
    "writer_5.groupby('WRITER')[['I_DATE','MEMORY_DATE']].min()"
   ]
  },
  {
   "cell_type": "markdown",
   "metadata": {},
   "source": [
    "* 하위 8명의 `MEMORY_DATE`와 `I_DATE` 비교 : 상위 데이터에 비해 차이가 적음"
   ]
  },
  {
   "cell_type": "code",
   "execution_count": 91,
   "metadata": {},
   "outputs": [
    {
     "data": {
      "text/plain": [
       "WRITER\n",
       "952    1\n",
       "890    1\n",
       "713    1\n",
       "951    1\n",
       "659    1\n",
       "808    1\n",
       "473    1\n",
       "28     1\n",
       "Name: count, dtype: int64"
      ]
     },
     "execution_count": 91,
     "metadata": {},
     "output_type": "execute_result"
    }
   ],
   "source": [
    "data_new.groupby('WRITER')['count'].count().sort_values(ascending = True)[:8]"
   ]
  },
  {
   "cell_type": "code",
   "execution_count": 92,
   "metadata": {},
   "outputs": [
    {
     "data": {
      "text/html": [
       "<div>\n",
       "<style scoped>\n",
       "    .dataframe tbody tr th:only-of-type {\n",
       "        vertical-align: middle;\n",
       "    }\n",
       "\n",
       "    .dataframe tbody tr th {\n",
       "        vertical-align: top;\n",
       "    }\n",
       "\n",
       "    .dataframe thead th {\n",
       "        text-align: right;\n",
       "    }\n",
       "</style>\n",
       "<table border=\"1\" class=\"dataframe\">\n",
       "  <thead>\n",
       "    <tr style=\"text-align: right;\">\n",
       "      <th></th>\n",
       "      <th>I_DATE</th>\n",
       "      <th>MEMORY_DATE</th>\n",
       "    </tr>\n",
       "    <tr>\n",
       "      <th>WRITER</th>\n",
       "      <th></th>\n",
       "      <th></th>\n",
       "    </tr>\n",
       "  </thead>\n",
       "  <tbody>\n",
       "    <tr>\n",
       "      <th>473</th>\n",
       "      <td>2023-10-24 20:22:17</td>\n",
       "      <td>2023-10-24</td>\n",
       "    </tr>\n",
       "    <tr>\n",
       "      <th>659</th>\n",
       "      <td>2023-10-24 14:09:39</td>\n",
       "      <td>2023-10-24</td>\n",
       "    </tr>\n",
       "    <tr>\n",
       "      <th>713</th>\n",
       "      <td>2023-10-24 21:27:52</td>\n",
       "      <td>2023-10-24</td>\n",
       "    </tr>\n",
       "    <tr>\n",
       "      <th>808</th>\n",
       "      <td>2023-10-24 09:47:05</td>\n",
       "      <td>2023-10-24</td>\n",
       "    </tr>\n",
       "    <tr>\n",
       "      <th>890</th>\n",
       "      <td>2023-10-27 04:11:23</td>\n",
       "      <td>2023-10-26</td>\n",
       "    </tr>\n",
       "    <tr>\n",
       "      <th>951</th>\n",
       "      <td>2023-10-26 17:50:34</td>\n",
       "      <td>2023-10-27</td>\n",
       "    </tr>\n",
       "    <tr>\n",
       "      <th>952</th>\n",
       "      <td>2023-10-27 04:50:19</td>\n",
       "      <td>2023-10-27</td>\n",
       "    </tr>\n",
       "  </tbody>\n",
       "</table>\n",
       "</div>"
      ],
      "text/plain": [
       "                     I_DATE MEMORY_DATE\n",
       "WRITER                                 \n",
       "473     2023-10-24 20:22:17  2023-10-24\n",
       "659     2023-10-24 14:09:39  2023-10-24\n",
       "713     2023-10-24 21:27:52  2023-10-24\n",
       "808     2023-10-24 09:47:05  2023-10-24\n",
       "890     2023-10-27 04:11:23  2023-10-26\n",
       "951     2023-10-26 17:50:34  2023-10-27\n",
       "952     2023-10-27 04:50:19  2023-10-27"
      ]
     },
     "execution_count": 92,
     "metadata": {},
     "output_type": "execute_result"
    }
   ],
   "source": [
    "writer_8 = data_new[(data_new.WRITER == '952') | (data_new.WRITER == '890') | (data_new.WRITER == '713') | (data_new.WRITER == '951') | (data_new.WRITER == '659')\n",
    "                | (data_new.WRITER == '808') | (data_new.WRITER == '473')| (data_new.WRITER == '23')]\n",
    "\n",
    "writer_8.groupby('WRITER')[['I_DATE','MEMORY_DATE']].min()"
   ]
  },
  {
   "cell_type": "markdown",
   "metadata": {},
   "source": [
    "* 전체 데이터 중 가장 과거의 `MEMORY_DATE`"
   ]
  },
  {
   "cell_type": "code",
   "execution_count": 93,
   "metadata": {},
   "outputs": [
    {
     "data": {
      "text/html": [
       "<div>\n",
       "<style scoped>\n",
       "    .dataframe tbody tr th:only-of-type {\n",
       "        vertical-align: middle;\n",
       "    }\n",
       "\n",
       "    .dataframe tbody tr th {\n",
       "        vertical-align: top;\n",
       "    }\n",
       "\n",
       "    .dataframe thead th {\n",
       "        text-align: right;\n",
       "    }\n",
       "</style>\n",
       "<table border=\"1\" class=\"dataframe\">\n",
       "  <thead>\n",
       "    <tr style=\"text-align: right;\">\n",
       "      <th></th>\n",
       "      <th>MEMORY_ID</th>\n",
       "      <th>WRITER</th>\n",
       "      <th>MEMORY_DATE</th>\n",
       "      <th>IS_PRINTED</th>\n",
       "      <th>I_DATE</th>\n",
       "      <th>U_DATE</th>\n",
       "      <th>QUESTION</th>\n",
       "      <th>count</th>\n",
       "    </tr>\n",
       "  </thead>\n",
       "  <tbody>\n",
       "    <tr>\n",
       "      <th>0</th>\n",
       "      <td>4013</td>\n",
       "      <td>461</td>\n",
       "      <td>2023-10-03</td>\n",
       "      <td>0</td>\n",
       "      <td>2023-10-27 06:08:36</td>\n",
       "      <td>2023-10-27 06:08:36</td>\n",
       "      <td>608</td>\n",
       "      <td>4</td>\n",
       "    </tr>\n",
       "  </tbody>\n",
       "</table>\n",
       "</div>"
      ],
      "text/plain": [
       "   MEMORY_ID WRITER MEMORY_DATE  IS_PRINTED               I_DATE  \\\n",
       "0       4013    461  2023-10-03           0  2023-10-27 06:08:36   \n",
       "\n",
       "                U_DATE  QUESTION  count  \n",
       "0  2023-10-27 06:08:36       608      4  "
      ]
     },
     "execution_count": 93,
     "metadata": {},
     "output_type": "execute_result"
    }
   ],
   "source": [
    "data_new[data_new.MEMORY_DATE == data_new['MEMORY_DATE'].min()]"
   ]
  },
  {
   "cell_type": "code",
   "execution_count": 94,
   "metadata": {},
   "outputs": [
    {
     "data": {
      "text/html": [
       "<div>\n",
       "<style scoped>\n",
       "    .dataframe tbody tr th:only-of-type {\n",
       "        vertical-align: middle;\n",
       "    }\n",
       "\n",
       "    .dataframe tbody tr th {\n",
       "        vertical-align: top;\n",
       "    }\n",
       "\n",
       "    .dataframe thead th {\n",
       "        text-align: right;\n",
       "    }\n",
       "</style>\n",
       "<table border=\"1\" class=\"dataframe\">\n",
       "  <thead>\n",
       "    <tr style=\"text-align: right;\">\n",
       "      <th></th>\n",
       "      <th>MEMORY_ID</th>\n",
       "      <th>WRITER</th>\n",
       "      <th>MEMORY_DATE</th>\n",
       "      <th>IS_PRINTED</th>\n",
       "      <th>I_DATE</th>\n",
       "      <th>U_DATE</th>\n",
       "      <th>QUESTION</th>\n",
       "      <th>count</th>\n",
       "    </tr>\n",
       "  </thead>\n",
       "  <tbody>\n",
       "    <tr>\n",
       "      <th>0</th>\n",
       "      <td>4013</td>\n",
       "      <td>461</td>\n",
       "      <td>2023-10-03</td>\n",
       "      <td>0</td>\n",
       "      <td>2023-10-27 06:08:36</td>\n",
       "      <td>2023-10-27 06:08:36</td>\n",
       "      <td>608</td>\n",
       "      <td>4</td>\n",
       "    </tr>\n",
       "    <tr>\n",
       "      <th>1</th>\n",
       "      <td>4012</td>\n",
       "      <td>461</td>\n",
       "      <td>2023-10-26</td>\n",
       "      <td>0</td>\n",
       "      <td>2023-10-27 06:06:38</td>\n",
       "      <td>2023-10-27 06:06:38</td>\n",
       "      <td>631</td>\n",
       "      <td>4</td>\n",
       "    </tr>\n",
       "    <tr>\n",
       "      <th>8</th>\n",
       "      <td>4005</td>\n",
       "      <td>461</td>\n",
       "      <td>2023-10-19</td>\n",
       "      <td>0</td>\n",
       "      <td>2023-10-27 04:48:50</td>\n",
       "      <td>2023-10-27 04:48:50</td>\n",
       "      <td>624</td>\n",
       "      <td>4</td>\n",
       "    </tr>\n",
       "    <tr>\n",
       "      <th>58</th>\n",
       "      <td>3955</td>\n",
       "      <td>461</td>\n",
       "      <td>2023-10-17</td>\n",
       "      <td>0</td>\n",
       "      <td>2023-10-25 05:44:00</td>\n",
       "      <td>2023-10-25 05:44:00</td>\n",
       "      <td>622</td>\n",
       "      <td>4</td>\n",
       "    </tr>\n",
       "  </tbody>\n",
       "</table>\n",
       "</div>"
      ],
      "text/plain": [
       "    MEMORY_ID WRITER MEMORY_DATE  IS_PRINTED               I_DATE  \\\n",
       "0        4013    461  2023-10-03           0  2023-10-27 06:08:36   \n",
       "1        4012    461  2023-10-26           0  2023-10-27 06:06:38   \n",
       "8        4005    461  2023-10-19           0  2023-10-27 04:48:50   \n",
       "58       3955    461  2023-10-17           0  2023-10-25 05:44:00   \n",
       "\n",
       "                 U_DATE  QUESTION  count  \n",
       "0   2023-10-27 06:08:36       608      4  \n",
       "1   2023-10-27 06:06:38       631      4  \n",
       "8   2023-10-27 04:48:50       624      4  \n",
       "58  2023-10-25 05:44:00       622      4  "
      ]
     },
     "execution_count": 94,
     "metadata": {},
     "output_type": "execute_result"
    }
   ],
   "source": [
    "data_new[data_new['WRITER'] == '461']"
   ]
  },
  {
   "cell_type": "markdown",
   "metadata": {},
   "source": [
    "* 가장 많은 기록을 한 WRITER -> 매일 기록"
   ]
  },
  {
   "cell_type": "code",
   "execution_count": 95,
   "metadata": {},
   "outputs": [
    {
     "data": {
      "text/html": [
       "<div>\n",
       "<style scoped>\n",
       "    .dataframe tbody tr th:only-of-type {\n",
       "        vertical-align: middle;\n",
       "    }\n",
       "\n",
       "    .dataframe tbody tr th {\n",
       "        vertical-align: top;\n",
       "    }\n",
       "\n",
       "    .dataframe thead th {\n",
       "        text-align: right;\n",
       "    }\n",
       "</style>\n",
       "<table border=\"1\" class=\"dataframe\">\n",
       "  <thead>\n",
       "    <tr style=\"text-align: right;\">\n",
       "      <th></th>\n",
       "      <th>MEMORY_ID</th>\n",
       "      <th>WRITER</th>\n",
       "      <th>MEMORY_DATE</th>\n",
       "      <th>IS_PRINTED</th>\n",
       "      <th>I_DATE</th>\n",
       "      <th>U_DATE</th>\n",
       "      <th>QUESTION</th>\n",
       "      <th>count</th>\n",
       "    </tr>\n",
       "  </thead>\n",
       "  <tbody>\n",
       "    <tr>\n",
       "      <th>30</th>\n",
       "      <td>3983</td>\n",
       "      <td>537</td>\n",
       "      <td>2023-10-16</td>\n",
       "      <td>0</td>\n",
       "      <td>2023-10-26 10:07:47</td>\n",
       "      <td>2023-10-26 10:07:47</td>\n",
       "      <td>489</td>\n",
       "      <td>10</td>\n",
       "    </tr>\n",
       "    <tr>\n",
       "      <th>31</th>\n",
       "      <td>3982</td>\n",
       "      <td>537</td>\n",
       "      <td>2023-10-17</td>\n",
       "      <td>0</td>\n",
       "      <td>2023-10-26 10:06:12</td>\n",
       "      <td>2023-10-26 10:06:12</td>\n",
       "      <td>490</td>\n",
       "      <td>10</td>\n",
       "    </tr>\n",
       "    <tr>\n",
       "      <th>27</th>\n",
       "      <td>3986</td>\n",
       "      <td>537</td>\n",
       "      <td>2023-10-18</td>\n",
       "      <td>0</td>\n",
       "      <td>2023-10-26 10:13:39</td>\n",
       "      <td>2023-10-26 10:13:39</td>\n",
       "      <td>491</td>\n",
       "      <td>10</td>\n",
       "    </tr>\n",
       "    <tr>\n",
       "      <th>32</th>\n",
       "      <td>3981</td>\n",
       "      <td>537</td>\n",
       "      <td>2023-10-19</td>\n",
       "      <td>0</td>\n",
       "      <td>2023-10-26 10:04:51</td>\n",
       "      <td>2023-10-26 10:04:51</td>\n",
       "      <td>492</td>\n",
       "      <td>10</td>\n",
       "    </tr>\n",
       "    <tr>\n",
       "      <th>28</th>\n",
       "      <td>3985</td>\n",
       "      <td>537</td>\n",
       "      <td>2023-10-20</td>\n",
       "      <td>0</td>\n",
       "      <td>2023-10-26 10:11:25</td>\n",
       "      <td>2023-10-26 10:11:25</td>\n",
       "      <td>493</td>\n",
       "      <td>10</td>\n",
       "    </tr>\n",
       "    <tr>\n",
       "      <th>29</th>\n",
       "      <td>3984</td>\n",
       "      <td>537</td>\n",
       "      <td>2023-10-21</td>\n",
       "      <td>0</td>\n",
       "      <td>2023-10-26 10:09:13</td>\n",
       "      <td>2023-10-26 10:09:13</td>\n",
       "      <td>494</td>\n",
       "      <td>10</td>\n",
       "    </tr>\n",
       "    <tr>\n",
       "      <th>33</th>\n",
       "      <td>3980</td>\n",
       "      <td>537</td>\n",
       "      <td>2023-10-22</td>\n",
       "      <td>0</td>\n",
       "      <td>2023-10-26 10:03:20</td>\n",
       "      <td>2023-10-26 10:03:20</td>\n",
       "      <td>495</td>\n",
       "      <td>10</td>\n",
       "    </tr>\n",
       "    <tr>\n",
       "      <th>26</th>\n",
       "      <td>3987</td>\n",
       "      <td>537</td>\n",
       "      <td>2023-10-23</td>\n",
       "      <td>0</td>\n",
       "      <td>2023-10-26 10:18:13</td>\n",
       "      <td>2023-10-26 10:18:13</td>\n",
       "      <td>496</td>\n",
       "      <td>10</td>\n",
       "    </tr>\n",
       "    <tr>\n",
       "      <th>25</th>\n",
       "      <td>3988</td>\n",
       "      <td>537</td>\n",
       "      <td>2023-10-24</td>\n",
       "      <td>0</td>\n",
       "      <td>2023-10-26 10:21:40</td>\n",
       "      <td>2023-10-26 10:21:40</td>\n",
       "      <td>497</td>\n",
       "      <td>10</td>\n",
       "    </tr>\n",
       "    <tr>\n",
       "      <th>34</th>\n",
       "      <td>3979</td>\n",
       "      <td>537</td>\n",
       "      <td>2023-10-25</td>\n",
       "      <td>0</td>\n",
       "      <td>2023-10-26 10:02:15</td>\n",
       "      <td>2023-10-26 10:02:15</td>\n",
       "      <td>498</td>\n",
       "      <td>10</td>\n",
       "    </tr>\n",
       "  </tbody>\n",
       "</table>\n",
       "</div>"
      ],
      "text/plain": [
       "    MEMORY_ID WRITER MEMORY_DATE  IS_PRINTED               I_DATE  \\\n",
       "30       3983    537  2023-10-16           0  2023-10-26 10:07:47   \n",
       "31       3982    537  2023-10-17           0  2023-10-26 10:06:12   \n",
       "27       3986    537  2023-10-18           0  2023-10-26 10:13:39   \n",
       "32       3981    537  2023-10-19           0  2023-10-26 10:04:51   \n",
       "28       3985    537  2023-10-20           0  2023-10-26 10:11:25   \n",
       "29       3984    537  2023-10-21           0  2023-10-26 10:09:13   \n",
       "33       3980    537  2023-10-22           0  2023-10-26 10:03:20   \n",
       "26       3987    537  2023-10-23           0  2023-10-26 10:18:13   \n",
       "25       3988    537  2023-10-24           0  2023-10-26 10:21:40   \n",
       "34       3979    537  2023-10-25           0  2023-10-26 10:02:15   \n",
       "\n",
       "                 U_DATE  QUESTION  count  \n",
       "30  2023-10-26 10:07:47       489     10  \n",
       "31  2023-10-26 10:06:12       490     10  \n",
       "27  2023-10-26 10:13:39       491     10  \n",
       "32  2023-10-26 10:04:51       492     10  \n",
       "28  2023-10-26 10:11:25       493     10  \n",
       "29  2023-10-26 10:09:13       494     10  \n",
       "33  2023-10-26 10:03:20       495     10  \n",
       "26  2023-10-26 10:18:13       496     10  \n",
       "25  2023-10-26 10:21:40       497     10  \n",
       "34  2023-10-26 10:02:15       498     10  "
      ]
     },
     "execution_count": 95,
     "metadata": {},
     "output_type": "execute_result"
    }
   ],
   "source": [
    "data_new[data_new['WRITER'] == '537'].sort_values(by = 'MEMORY_DATE')"
   ]
  },
  {
   "cell_type": "markdown",
   "metadata": {},
   "source": [
    "* `I_DATE`와 `MEMORY_DATE` 간의 평균 차이 : 2일"
   ]
  },
  {
   "cell_type": "code",
   "execution_count": 96,
   "metadata": {},
   "outputs": [],
   "source": [
    "day_memory = [x.day for x in data_new.MEMORY_DATE] \n",
    "\n",
    "data_new.I_DATE = [x[:10] for x in data_new.I_DATE ]\n",
    "data_new['I_DATE'] = [datetime.strptime(x,'%Y-%m-%d') for x in data_new['I_DATE']]\n",
    "\n",
    "day_date = [x.day for x in data_new.I_DATE] "
   ]
  },
  {
   "cell_type": "code",
   "execution_count": 97,
   "metadata": {},
   "outputs": [
    {
     "data": {
      "text/plain": [
       "2.0"
      ]
     },
     "execution_count": 97,
     "metadata": {},
     "output_type": "execute_result"
    }
   ],
   "source": [
    "np.mean([y-x for x,y in zip(day_memory,day_date)])"
   ]
  },
  {
   "cell_type": "markdown",
   "metadata": {},
   "source": [
    "* Outlier를 제외하고 고려한다면 작성횟수가 많을 수록 차이가 크다"
   ]
  },
  {
   "cell_type": "code",
   "execution_count": 102,
   "metadata": {},
   "outputs": [
    {
     "data": {
      "text/plain": [
       "Text(0, 0.5, '[I_DATE] - [MEMORT_DATE]')"
      ]
     },
     "execution_count": 102,
     "metadata": {},
     "output_type": "execute_result"
    },
    {
     "data": {
      "image/png": "[encoded data removed]",
      "text/plain": [
       "<Figure size 640x480 with 1 Axes>"
      ]
     },
     "metadata": {},
     "output_type": "display_data"
    }
   ],
   "source": [
    "import matplotlib.pyplot as plt\n",
    "\n",
    "from matplotlib import font_manager, rc\n",
    "font_path = \"C:/Windows/Fonts/NGULIM.TTF\"\n",
    "font = font_manager.FontProperties(fname=font_path).get_name()\n",
    "rc('font', family=font)\n",
    "\n",
    "diff = [y-x for x,y in zip(day_memory,day_date)]\n",
    "plt.scatter(y = diff,x = data_new['count'])\n",
    "plt.xlabel('작성횟수')\n",
    "plt.ylabel('[I_DATE] - [MEMORT_DATE]')"
   ]
  },
  {
   "cell_type": "code",
   "execution_count": 103,
   "metadata": {},
   "outputs": [],
   "source": [
    "diff = pd.DataFrame(diff,columns = ['diff'])\n",
    "\n",
    "data_new= pd.concat([data_new,diff],axis = 1)"
   ]
  },
  {
   "cell_type": "code",
   "execution_count": 104,
   "metadata": {},
   "outputs": [
    {
     "data": {
      "text/plain": [
       "count\n",
       "1     0.000000\n",
       "2     0.250000\n",
       "3     0.370370\n",
       "4     3.666667\n",
       "5     2.550000\n",
       "6     1.000000\n",
       "9     3.555556\n",
       "10    5.500000\n",
       "Name: diff, dtype: float64"
      ]
     },
     "execution_count": 104,
     "metadata": {},
     "output_type": "execute_result"
    }
   ],
   "source": [
    "#작성횟수별 평균\n",
    "data_new.groupby('count')['diff'].mean()"
   ]
  },
  {
   "cell_type": "markdown",
   "metadata": {},
   "source": [
    "* `diff`에 따른 count 횟수 차이는 보이지 않음음"
   ]
  },
  {
   "cell_type": "code",
   "execution_count": 124,
   "metadata": {},
   "outputs": [
    {
     "data": {
      "text/plain": [
       "47"
      ]
     },
     "execution_count": 124,
     "metadata": {},
     "output_type": "execute_result"
    }
   ],
   "source": [
    "sum(data_new['diff'] == 0)"
   ]
  },
  {
   "cell_type": "code",
   "execution_count": 129,
   "metadata": {},
   "outputs": [],
   "source": [
    "data_diff_0 = data_new[data_new['diff'] == 0]\n",
    "data_diff_1 = data_new[data_new['diff'] != 0]"
   ]
  },
  {
   "cell_type": "code",
   "execution_count": 133,
   "metadata": {},
   "outputs": [
    {
     "data": {
      "text/plain": [
       "(array([6., 3., 8., 2., 0., 4., 1., 0., 0., 1.]),\n",
       " array([1. , 1.8, 2.6, 3.4, 4.2, 5. , 5.8, 6.6, 7.4, 8.2, 9. ]),\n",
       " <BarContainer object of 10 artists>)"
      ]
     },
     "execution_count": 133,
     "metadata": {},
     "output_type": "execute_result"
    },
    {
     "data": {
      "image/png": "[encoded data removed]",
      "text/plain": [
       "<Figure size 640x480 with 1 Axes>"
      ]
     },
     "metadata": {},
     "output_type": "display_data"
    }
   ],
   "source": [
    "plt.hist(data_diff_0.groupby('WRITER')['count'].mean())"
   ]
  },
  {
   "cell_type": "code",
   "execution_count": 135,
   "metadata": {},
   "outputs": [
    {
     "data": {
      "text/plain": [
       "(array([2., 2., 6., 2., 4., 1., 0., 0., 1., 1.]),\n",
       " array([ 1. ,  1.9,  2.8,  3.7,  4.6,  5.5,  6.4,  7.3,  8.2,  9.1, 10. ]),\n",
       " <BarContainer object of 10 artists>)"
      ]
     },
     "execution_count": 135,
     "metadata": {},
     "output_type": "execute_result"
    },
    {
     "data": {
      "image/png": "[encoded data removed]",
      "text/plain": [
       "<Figure size 640x480 with 1 Axes>"
      ]
     },
     "metadata": {},
     "output_type": "display_data"
    }
   ],
   "source": [
    "plt.hist(data_diff_1.groupby('WRITER')['count'].mean())"
   ]
  },
  {
   "cell_type": "markdown",
   "metadata": {},
   "source": [
    "### 2) `QUESTION`"
   ]
  },
  {
   "cell_type": "markdown",
   "metadata": {},
   "source": [
    "#### (1) 작성자별 QUESTION 특징\n",
    "\n",
    "1. 작성자별 QUESTION 수치 편차 큼\n",
    "2. 작성자별 QUESTION 수치 대체로 일정함\n"
   ]
  },
  {
   "cell_type": "markdown",
   "metadata": {},
   "source": [
    "* QUESTION 평균 수치 나타낸 히스토그램\n",
    "  -  대부분 500대의 값\n"
   ]
  },
  {
   "cell_type": "code",
   "execution_count": 116,
   "metadata": {},
   "outputs": [
    {
     "data": {
      "text/plain": [
       "Text(0.5, 1.0, 'QUESTION 평균수치')"
      ]
     },
     "execution_count": 116,
     "metadata": {},
     "output_type": "execute_result"
    },
    {
     "data": {
      "image/png": "[encoded data removed]",
      "text/plain": [
       "<Figure size 640x480 with 1 Axes>"
      ]
     },
     "metadata": {},
     "output_type": "display_data"
    }
   ],
   "source": [
    "data_que = data_new.groupby(\"WRITER\")['QUESTION'].mean().sort_values()\n",
    "\n",
    "plt.hist(data_que)\n",
    "plt.title('QUESTION 평균수치')"
   ]
  },
  {
   "cell_type": "markdown",
   "metadata": {},
   "source": [
    "* `QUESTION`값이 가장 **높은** 작성자 => *꾸준히 매일 작성 + 비슷한 QUESITON 수치*"
   ]
  },
  {
   "cell_type": "code",
   "execution_count": 120,
   "metadata": {},
   "outputs": [
    {
     "data": {
      "text/plain": [
       "WRITER\n",
       "884    3164\n",
       "890    3163\n",
       "772    3162\n",
       "933    1925\n",
       "952    1325\n",
       "659    1066\n",
       "713     937\n",
       "944     781\n",
       "473     667\n",
       "461     631\n",
       "951     569\n",
       "603     522\n",
       "184     512\n",
       "28      500\n",
       "537     498\n",
       "684     477\n",
       "714     468\n",
       "808     415\n",
       "796     413\n",
       "687     413\n",
       "568     399\n",
       "706     392\n",
       "887     378\n",
       "844     369\n",
       "746     364\n",
       "907     357\n",
       "930     355\n",
       "916     350\n",
       "938     349\n",
       "875     339\n",
       "914     309\n",
       "Name: QUESTION, dtype: int64"
      ]
     },
     "execution_count": 120,
     "metadata": {},
     "output_type": "execute_result"
    }
   ],
   "source": [
    "data_new.groupby(\"WRITER\")['QUESTION'].max().sort_values(ascending= False)"
   ]
  },
  {
   "cell_type": "code",
   "execution_count": 122,
   "metadata": {},
   "outputs": [
    {
     "data": {
      "text/html": [
       "<div>\n",
       "<style scoped>\n",
       "    .dataframe tbody tr th:only-of-type {\n",
       "        vertical-align: middle;\n",
       "    }\n",
       "\n",
       "    .dataframe tbody tr th {\n",
       "        vertical-align: top;\n",
       "    }\n",
       "\n",
       "    .dataframe thead th {\n",
       "        text-align: right;\n",
       "    }\n",
       "</style>\n",
       "<table border=\"1\" class=\"dataframe\">\n",
       "  <thead>\n",
       "    <tr style=\"text-align: right;\">\n",
       "      <th></th>\n",
       "      <th>MEMORY_ID</th>\n",
       "      <th>WRITER</th>\n",
       "      <th>MEMORY_DATE</th>\n",
       "      <th>IS_PRINTED</th>\n",
       "      <th>I_DATE</th>\n",
       "      <th>U_DATE</th>\n",
       "      <th>QUESTION</th>\n",
       "      <th>count</th>\n",
       "      <th>diff</th>\n",
       "    </tr>\n",
       "  </thead>\n",
       "  <tbody>\n",
       "    <tr>\n",
       "      <th>10</th>\n",
       "      <td>4003</td>\n",
       "      <td>884</td>\n",
       "      <td>2023-10-27</td>\n",
       "      <td>0</td>\n",
       "      <td>2023-10-27</td>\n",
       "      <td>2023-10-27 04:16:30</td>\n",
       "      <td>3164</td>\n",
       "      <td>4</td>\n",
       "      <td>0</td>\n",
       "    </tr>\n",
       "    <tr>\n",
       "      <th>39</th>\n",
       "      <td>3974</td>\n",
       "      <td>884</td>\n",
       "      <td>2023-10-26</td>\n",
       "      <td>0</td>\n",
       "      <td>2023-10-26</td>\n",
       "      <td>2023-10-26 01:02:00</td>\n",
       "      <td>3161</td>\n",
       "      <td>4</td>\n",
       "      <td>0</td>\n",
       "    </tr>\n",
       "    <tr>\n",
       "      <th>65</th>\n",
       "      <td>3948</td>\n",
       "      <td>884</td>\n",
       "      <td>2023-10-25</td>\n",
       "      <td>0</td>\n",
       "      <td>2023-10-25</td>\n",
       "      <td>2023-10-25 01:22:33</td>\n",
       "      <td>3160</td>\n",
       "      <td>4</td>\n",
       "      <td>0</td>\n",
       "    </tr>\n",
       "    <tr>\n",
       "      <th>97</th>\n",
       "      <td>3916</td>\n",
       "      <td>884</td>\n",
       "      <td>2023-10-24</td>\n",
       "      <td>0</td>\n",
       "      <td>2023-10-24</td>\n",
       "      <td>2023-10-24 12:08:44</td>\n",
       "      <td>3159</td>\n",
       "      <td>4</td>\n",
       "      <td>0</td>\n",
       "    </tr>\n",
       "  </tbody>\n",
       "</table>\n",
       "</div>"
      ],
      "text/plain": [
       "    MEMORY_ID WRITER MEMORY_DATE  IS_PRINTED     I_DATE               U_DATE  \\\n",
       "10       4003    884  2023-10-27           0 2023-10-27  2023-10-27 04:16:30   \n",
       "39       3974    884  2023-10-26           0 2023-10-26  2023-10-26 01:02:00   \n",
       "65       3948    884  2023-10-25           0 2023-10-25  2023-10-25 01:22:33   \n",
       "97       3916    884  2023-10-24           0 2023-10-24  2023-10-24 12:08:44   \n",
       "\n",
       "    QUESTION  count  diff  \n",
       "10      3164      4     0  \n",
       "39      3161      4     0  \n",
       "65      3160      4     0  \n",
       "97      3159      4     0  "
      ]
     },
     "execution_count": 122,
     "metadata": {},
     "output_type": "execute_result"
    }
   ],
   "source": [
    "data_new[data_new.WRITER == '884']"
   ]
  },
  {
   "cell_type": "markdown",
   "metadata": {},
   "source": [
    "* QUESTION이 가장 작은 작성자"
   ]
  },
  {
   "cell_type": "code",
   "execution_count": 353,
   "metadata": {},
   "outputs": [
    {
     "data": {
      "text/html": [
       "<div>\n",
       "<style scoped>\n",
       "    .dataframe tbody tr th:only-of-type {\n",
       "        vertical-align: middle;\n",
       "    }\n",
       "\n",
       "    .dataframe tbody tr th {\n",
       "        vertical-align: top;\n",
       "    }\n",
       "\n",
       "    .dataframe thead th {\n",
       "        text-align: right;\n",
       "    }\n",
       "</style>\n",
       "<table border=\"1\" class=\"dataframe\">\n",
       "  <thead>\n",
       "    <tr style=\"text-align: right;\">\n",
       "      <th></th>\n",
       "      <th>MEMORY_ID</th>\n",
       "      <th>WRITER</th>\n",
       "      <th>MEMORY_DATE</th>\n",
       "      <th>IS_PRINTED</th>\n",
       "      <th>I_DATE</th>\n",
       "      <th>U_DATE</th>\n",
       "      <th>USE_YN</th>\n",
       "      <th>QUESTION</th>\n",
       "    </tr>\n",
       "  </thead>\n",
       "  <tbody>\n",
       "    <tr>\n",
       "      <th>2</th>\n",
       "      <td>4011</td>\n",
       "      <td>914</td>\n",
       "      <td>2023-10-27</td>\n",
       "      <td>0</td>\n",
       "      <td>2023-10-27</td>\n",
       "      <td>2023-10-27 05:56:23</td>\n",
       "      <td>1</td>\n",
       "      <td>309</td>\n",
       "    </tr>\n",
       "    <tr>\n",
       "      <th>3</th>\n",
       "      <td>4010</td>\n",
       "      <td>914</td>\n",
       "      <td>2023-10-26</td>\n",
       "      <td>0</td>\n",
       "      <td>2023-10-27</td>\n",
       "      <td>2023-10-27 05:54:41</td>\n",
       "      <td>1</td>\n",
       "      <td>308</td>\n",
       "    </tr>\n",
       "    <tr>\n",
       "      <th>4</th>\n",
       "      <td>4009</td>\n",
       "      <td>914</td>\n",
       "      <td>2023-10-25</td>\n",
       "      <td>0</td>\n",
       "      <td>2023-10-27</td>\n",
       "      <td>2023-10-27 05:53:38</td>\n",
       "      <td>1</td>\n",
       "      <td>307</td>\n",
       "    </tr>\n",
       "    <tr>\n",
       "      <th>5</th>\n",
       "      <td>4008</td>\n",
       "      <td>914</td>\n",
       "      <td>2023-10-24</td>\n",
       "      <td>0</td>\n",
       "      <td>2023-10-27</td>\n",
       "      <td>2023-10-27 05:52:34</td>\n",
       "      <td>1</td>\n",
       "      <td>306</td>\n",
       "    </tr>\n",
       "    <tr>\n",
       "      <th>6</th>\n",
       "      <td>4007</td>\n",
       "      <td>914</td>\n",
       "      <td>2023-10-23</td>\n",
       "      <td>0</td>\n",
       "      <td>2023-10-27</td>\n",
       "      <td>2023-10-27 05:51:07</td>\n",
       "      <td>1</td>\n",
       "      <td>305</td>\n",
       "    </tr>\n",
       "  </tbody>\n",
       "</table>\n",
       "</div>"
      ],
      "text/plain": [
       "   MEMORY_ID WRITER MEMORY_DATE  IS_PRINTED     I_DATE               U_DATE  \\\n",
       "2       4011    914  2023-10-27           0 2023-10-27  2023-10-27 05:56:23   \n",
       "3       4010    914  2023-10-26           0 2023-10-27  2023-10-27 05:54:41   \n",
       "4       4009    914  2023-10-25           0 2023-10-27  2023-10-27 05:53:38   \n",
       "5       4008    914  2023-10-24           0 2023-10-27  2023-10-27 05:52:34   \n",
       "6       4007    914  2023-10-23           0 2023-10-27  2023-10-27 05:51:07   \n",
       "\n",
       "   USE_YN  QUESTION  \n",
       "2       1       309  \n",
       "3       1       308  \n",
       "4       1       307  \n",
       "5       1       306  \n",
       "6       1       305  "
      ]
     },
     "execution_count": 353,
     "metadata": {},
     "output_type": "execute_result"
    }
   ],
   "source": [
    "data[data.WRITER == '914']"
   ]
  },
  {
   "cell_type": "markdown",
   "metadata": {},
   "source": [
    "=> `QUESITON` 수치가 낮다고 해서 `MEMORY_DATE`가 일정하지 않은 것은 아님"
   ]
  },
  {
   "cell_type": "markdown",
   "metadata": {},
   "source": [
    "* 작성자별 QUESTION RANGE"
   ]
  },
  {
   "cell_type": "code",
   "execution_count": 136,
   "metadata": {},
   "outputs": [
    {
     "data": {
      "text/html": [
       "<div>\n",
       "<style scoped>\n",
       "    .dataframe tbody tr th:only-of-type {\n",
       "        vertical-align: middle;\n",
       "    }\n",
       "\n",
       "    .dataframe tbody tr th {\n",
       "        vertical-align: top;\n",
       "    }\n",
       "\n",
       "    .dataframe thead th {\n",
       "        text-align: right;\n",
       "    }\n",
       "</style>\n",
       "<table border=\"1\" class=\"dataframe\">\n",
       "  <thead>\n",
       "    <tr style=\"text-align: right;\">\n",
       "      <th></th>\n",
       "      <th>min</th>\n",
       "      <th>max</th>\n",
       "    </tr>\n",
       "    <tr>\n",
       "      <th>WRITER</th>\n",
       "      <th></th>\n",
       "      <th></th>\n",
       "    </tr>\n",
       "  </thead>\n",
       "  <tbody>\n",
       "    <tr>\n",
       "      <th>914</th>\n",
       "      <td>305.0</td>\n",
       "      <td>309.0</td>\n",
       "    </tr>\n",
       "    <tr>\n",
       "      <th>875</th>\n",
       "      <td>337.0</td>\n",
       "      <td>339.0</td>\n",
       "    </tr>\n",
       "    <tr>\n",
       "      <th>938</th>\n",
       "      <td>345.0</td>\n",
       "      <td>349.0</td>\n",
       "    </tr>\n",
       "    <tr>\n",
       "      <th>916</th>\n",
       "      <td>347.0</td>\n",
       "      <td>350.0</td>\n",
       "    </tr>\n",
       "    <tr>\n",
       "      <th>930</th>\n",
       "      <td>353.0</td>\n",
       "      <td>355.0</td>\n",
       "    </tr>\n",
       "    <tr>\n",
       "      <th>907</th>\n",
       "      <td>355.0</td>\n",
       "      <td>357.0</td>\n",
       "    </tr>\n",
       "    <tr>\n",
       "      <th>746</th>\n",
       "      <td>359.0</td>\n",
       "      <td>364.0</td>\n",
       "    </tr>\n",
       "    <tr>\n",
       "      <th>844</th>\n",
       "      <td>367.0</td>\n",
       "      <td>369.0</td>\n",
       "    </tr>\n",
       "    <tr>\n",
       "      <th>887</th>\n",
       "      <td>376.0</td>\n",
       "      <td>378.0</td>\n",
       "    </tr>\n",
       "    <tr>\n",
       "      <th>772</th>\n",
       "      <td>388.0</td>\n",
       "      <td>3162.0</td>\n",
       "    </tr>\n",
       "    <tr>\n",
       "      <th>706</th>\n",
       "      <td>391.0</td>\n",
       "      <td>392.0</td>\n",
       "    </tr>\n",
       "    <tr>\n",
       "      <th>568</th>\n",
       "      <td>395.0</td>\n",
       "      <td>399.0</td>\n",
       "    </tr>\n",
       "    <tr>\n",
       "      <th>687</th>\n",
       "      <td>402.0</td>\n",
       "      <td>413.0</td>\n",
       "    </tr>\n",
       "    <tr>\n",
       "      <th>796</th>\n",
       "      <td>411.0</td>\n",
       "      <td>413.0</td>\n",
       "    </tr>\n",
       "    <tr>\n",
       "      <th>808</th>\n",
       "      <td>415.0</td>\n",
       "      <td>415.0</td>\n",
       "    </tr>\n",
       "    <tr>\n",
       "      <th>714</th>\n",
       "      <td>452.0</td>\n",
       "      <td>468.0</td>\n",
       "    </tr>\n",
       "    <tr>\n",
       "      <th>684</th>\n",
       "      <td>475.0</td>\n",
       "      <td>477.0</td>\n",
       "    </tr>\n",
       "    <tr>\n",
       "      <th>537</th>\n",
       "      <td>489.0</td>\n",
       "      <td>498.0</td>\n",
       "    </tr>\n",
       "    <tr>\n",
       "      <th>28</th>\n",
       "      <td>500.0</td>\n",
       "      <td>500.0</td>\n",
       "    </tr>\n",
       "    <tr>\n",
       "      <th>184</th>\n",
       "      <td>507.0</td>\n",
       "      <td>512.0</td>\n",
       "    </tr>\n",
       "    <tr>\n",
       "      <th>603</th>\n",
       "      <td>518.0</td>\n",
       "      <td>522.0</td>\n",
       "    </tr>\n",
       "    <tr>\n",
       "      <th>951</th>\n",
       "      <td>569.0</td>\n",
       "      <td>569.0</td>\n",
       "    </tr>\n",
       "    <tr>\n",
       "      <th>461</th>\n",
       "      <td>608.0</td>\n",
       "      <td>631.0</td>\n",
       "    </tr>\n",
       "    <tr>\n",
       "      <th>473</th>\n",
       "      <td>667.0</td>\n",
       "      <td>667.0</td>\n",
       "    </tr>\n",
       "    <tr>\n",
       "      <th>944</th>\n",
       "      <td>780.0</td>\n",
       "      <td>781.0</td>\n",
       "    </tr>\n",
       "    <tr>\n",
       "      <th>713</th>\n",
       "      <td>937.0</td>\n",
       "      <td>937.0</td>\n",
       "    </tr>\n",
       "    <tr>\n",
       "      <th>659</th>\n",
       "      <td>1066.0</td>\n",
       "      <td>1066.0</td>\n",
       "    </tr>\n",
       "    <tr>\n",
       "      <th>952</th>\n",
       "      <td>1325.0</td>\n",
       "      <td>1325.0</td>\n",
       "    </tr>\n",
       "    <tr>\n",
       "      <th>933</th>\n",
       "      <td>1923.0</td>\n",
       "      <td>1925.0</td>\n",
       "    </tr>\n",
       "    <tr>\n",
       "      <th>884</th>\n",
       "      <td>3159.0</td>\n",
       "      <td>3164.0</td>\n",
       "    </tr>\n",
       "    <tr>\n",
       "      <th>890</th>\n",
       "      <td>3163.0</td>\n",
       "      <td>3163.0</td>\n",
       "    </tr>\n",
       "  </tbody>\n",
       "</table>\n",
       "</div>"
      ],
      "text/plain": [
       "           min     max\n",
       "WRITER                \n",
       "914      305.0   309.0\n",
       "875      337.0   339.0\n",
       "938      345.0   349.0\n",
       "916      347.0   350.0\n",
       "930      353.0   355.0\n",
       "907      355.0   357.0\n",
       "746      359.0   364.0\n",
       "844      367.0   369.0\n",
       "887      376.0   378.0\n",
       "772      388.0  3162.0\n",
       "706      391.0   392.0\n",
       "568      395.0   399.0\n",
       "687      402.0   413.0\n",
       "796      411.0   413.0\n",
       "808      415.0   415.0\n",
       "714      452.0   468.0\n",
       "684      475.0   477.0\n",
       "537      489.0   498.0\n",
       "28       500.0   500.0\n",
       "184      507.0   512.0\n",
       "603      518.0   522.0\n",
       "951      569.0   569.0\n",
       "461      608.0   631.0\n",
       "473      667.0   667.0\n",
       "944      780.0   781.0\n",
       "713      937.0   937.0\n",
       "659     1066.0  1066.0\n",
       "952     1325.0  1325.0\n",
       "933     1923.0  1925.0\n",
       "884     3159.0  3164.0\n",
       "890     3163.0  3163.0"
      ]
     },
     "execution_count": 136,
     "metadata": {},
     "output_type": "execute_result"
    }
   ],
   "source": [
    "data_new.groupby('WRITER')['QUESTION'].describe()[['min','max']].sort_values(by = 'min')"
   ]
  },
  {
   "cell_type": "markdown",
   "metadata": {},
   "source": [
    "#### (2) 작성횟수와 QUESTION 관계"
   ]
  },
  {
   "cell_type": "code",
   "execution_count": 164,
   "metadata": {},
   "outputs": [
    {
     "data": {
      "text/plain": [
       "<matplotlib.collections.PathCollection at 0x1d556f31580>"
      ]
     },
     "execution_count": 164,
     "metadata": {},
     "output_type": "execute_result"
    },
    {
     "data": {
      "image/png": "[encoded data removed]",
      "text/plain": [
       "<Figure size 640x480 with 1 Axes>"
      ]
     },
     "metadata": {},
     "output_type": "display_data"
    }
   ],
   "source": [
    "import matplotlib.pyplot as plt\n",
    "\n",
    "plt.scatter(x = 'count', y = 'QUESTION', data = data_new)"
   ]
  },
  {
   "cell_type": "markdown",
   "metadata": {},
   "source": [
    "=> 작성횟수와 QUESITON 수치는 큰 관련 없지만 어느정도의 outlier를 제외한다면 적은 횟수일수록 대체로 QUESTION이 큼을 알 수 있음"
   ]
  },
  {
   "cell_type": "markdown",
   "metadata": {},
   "source": [
    "#### (3) `diff`와 `QUESTION`\n",
    "\n",
    "* diff에 따른 QUESTION의 큰 차이는 보이지 않지만 diff가 0이 아닌 그룹보다 대체로 QUESTION 값이 크고 초기 사용자임을 확인할 수 있다.\n",
    "\n",
    "-> 초기 사용자일수록 diff가 작고 QUESITON값이 큰 경향을 짐작"
   ]
  },
  {
   "cell_type": "code",
   "execution_count": 187,
   "metadata": {},
   "outputs": [],
   "source": [
    "data_new['diff_01'] = ['0' if x == 0 else '1' for x in data_new['diff']]"
   ]
  },
  {
   "cell_type": "code",
   "execution_count": 209,
   "metadata": {},
   "outputs": [
    {
     "data": {
      "text/plain": [
       "Text(0.5, 1.0, 'diff가 0인 그룹의 count-QUESTION')"
      ]
     },
     "execution_count": 209,
     "metadata": {},
     "output_type": "execute_result"
    },
    {
     "data": {
      "image/png": "[encoded data removed]",
      "text/plain": [
       "<Figure size 640x480 with 1 Axes>"
      ]
     },
     "metadata": {},
     "output_type": "display_data"
    }
   ],
   "source": [
    "plt.scatter(x = 'count', y = 'QUESTION', data = data_new[data_new['diff_01'] == '0'])\n",
    "plt.title('diff가 0인 그룹의 count-QUESTION')"
   ]
  },
  {
   "cell_type": "code",
   "execution_count": 201,
   "metadata": {},
   "outputs": [
    {
     "data": {
      "text/plain": [
       "Text(0.5, 1.0, 'diff가 1인 그룹의 count-QUESTION')"
      ]
     },
     "execution_count": 201,
     "metadata": {},
     "output_type": "execute_result"
    },
    {
     "data": {
      "image/png": "[encoded data removed]",
      "text/plain": [
       "<Figure size 640x480 with 1 Axes>"
      ]
     },
     "metadata": {},
     "output_type": "display_data"
    }
   ],
   "source": [
    "plt.scatter(x = 'count', y = 'QUESTION', data = data_new[data_new['diff_01'] == '1'])\n",
    "plt.title('diff가 1인 그룹의 count-QUESTION')"
   ]
  },
  {
   "cell_type": "markdown",
   "metadata": {},
   "source": [
    "* diff 에 따른 QUESTION 비교"
   ]
  },
  {
   "cell_type": "code",
   "execution_count": 210,
   "metadata": {},
   "outputs": [
    {
     "data": {
      "text/plain": [
       "<matplotlib.collections.PathCollection at 0x1d556de91f0>"
      ]
     },
     "execution_count": 210,
     "metadata": {},
     "output_type": "execute_result"
    },
    {
     "data": {
      "image/png": "[encoded data removed]",
      "text/plain": [
       "<Figure size 640x480 with 1 Axes>"
      ]
     },
     "metadata": {},
     "output_type": "display_data"
    }
   ],
   "source": [
    "plt.scatter(x = 'diff', y = 'QUESTION',data = data_new)"
   ]
  },
  {
   "cell_type": "markdown",
   "metadata": {},
   "source": [
    "### 3) `IS_PRINTED`"
   ]
  },
  {
   "cell_type": "code",
   "execution_count": 356,
   "metadata": {},
   "outputs": [
    {
     "data": {
      "text/plain": [
       "100"
      ]
     },
     "execution_count": 356,
     "metadata": {},
     "output_type": "execute_result"
    }
   ],
   "source": [
    "sum(data.IS_PRINTED == 0)"
   ]
  },
  {
   "cell_type": "markdown",
   "metadata": {},
   "source": [
    "---\n",
    "## USER data 살펴보기"
   ]
  },
  {
   "cell_type": "code",
   "execution_count": 212,
   "metadata": {},
   "outputs": [],
   "source": [
    "memory = pd.read_csv('C:/Users/DaBin/Desktop/Python/DATA/기로그/raw data/memory_100.csv')\n",
    "user = pd.read_csv('C:/Users/DaBin/Desktop/Python/DATA/기로그/raw data/user_100.csv')\n",
    "\n",
    "writer = pd.read_csv('C:/Users/DaBin/Desktop/Python/DATA/기로그/raw data/memory_10.csv')\n",
    "\n",
    "memory['WRITER'] = writer"
   ]
  },
  {
   "cell_type": "code",
   "execution_count": 213,
   "metadata": {},
   "outputs": [],
   "source": [
    "writer = []\n",
    "for x in memory.WRITER :\n",
    "    if (x > 852) & (x <= 952) :\n",
    "        writer.append(x)\n"
   ]
  },
  {
   "cell_type": "code",
   "execution_count": 214,
   "metadata": {},
   "outputs": [
    {
     "data": {
      "text/plain": [
       "[930, 933, 938, 875, 907, 887, 944, 914, 884, 916, 951, 952, 890]"
      ]
     },
     "execution_count": 214,
     "metadata": {},
     "output_type": "execute_result"
    }
   ],
   "source": [
    "writer = list(set(writer))\n",
    "writer #user data와 공통된 WRITER list"
   ]
  },
  {
   "cell_type": "markdown",
   "metadata": {},
   "source": [
    "### 1) `RELATE_SNS_ACCOUNT`"
   ]
  },
  {
   "cell_type": "code",
   "execution_count": 215,
   "metadata": {},
   "outputs": [
    {
     "data": {
      "text/plain": [
       "RELATE_SNS_ACCOUNT\n",
       "AA001    92\n",
       "AA002     8\n",
       "Name: count, dtype: int64"
      ]
     },
     "execution_count": 215,
     "metadata": {},
     "output_type": "execute_result"
    }
   ],
   "source": [
    "#대부분 AA001을 사용\n",
    "user['RELATE_SNS_ACCOUNT'].value_counts()"
   ]
  },
  {
   "cell_type": "markdown",
   "metadata": {},
   "source": [
    "### 2) `EVENT_MEMORY_COUNT`"
   ]
  },
  {
   "cell_type": "code",
   "execution_count": 216,
   "metadata": {},
   "outputs": [
    {
     "data": {
      "text/plain": [
       "EVENT_MEMORY_COUNT\n",
       "0     67\n",
       "1     14\n",
       "2      4\n",
       "5      2\n",
       "7      2\n",
       "17     2\n",
       "14     2\n",
       "3      1\n",
       "10     1\n",
       "4      1\n",
       "6      1\n",
       "12     1\n",
       "16     1\n",
       "22     1\n",
       "Name: count, dtype: int64"
      ]
     },
     "execution_count": 216,
     "metadata": {},
     "output_type": "execute_result"
    }
   ],
   "source": [
    "user['EVENT_MEMORY_COUNT'].value_counts()"
   ]
  },
  {
   "cell_type": "code",
   "execution_count": 217,
   "metadata": {},
   "outputs": [
    {
     "data": {
      "text/plain": [
       "RELATE_SNS_ACCOUNT  EVENT_MEMORY_COUNT\n",
       "AA001               0                     62\n",
       "                    1                     13\n",
       "                    2                      3\n",
       "                    5                      2\n",
       "                    7                      2\n",
       "                    17                     2\n",
       "                    16                     1\n",
       "                    22                     1\n",
       "                    12                     1\n",
       "                    14                     1\n",
       "                    10                     1\n",
       "                    6                      1\n",
       "                    4                      1\n",
       "                    3                      1\n",
       "AA002               0                      5\n",
       "                    2                      1\n",
       "                    1                      1\n",
       "                    14                     1\n",
       "Name: count, dtype: int64"
      ]
     },
     "execution_count": 217,
     "metadata": {},
     "output_type": "execute_result"
    }
   ],
   "source": [
    "user.groupby('RELATE_SNS_ACCOUNT')['EVENT_MEMORY_COUNT'].value_counts()"
   ]
  },
  {
   "cell_type": "markdown",
   "metadata": {},
   "source": [
    "## USER + MEMORY"
   ]
  },
  {
   "cell_type": "code",
   "execution_count": 220,
   "metadata": {},
   "outputs": [],
   "source": [
    "memory_index = []\n",
    "for x in writer :\n",
    "    if x in list(memory['WRITER']) :\n",
    "        memory_index.extend(memory[memory['WRITER'] == x].index)\n",
    "\n",
    "user_index = []\n",
    "for x in writer :\n",
    "    if x in list(user['USER_ID']) :\n",
    "        user_index.extend(user[user['USER_ID'] == x].index)\n"
   ]
  },
  {
   "cell_type": "code",
   "execution_count": 221,
   "metadata": {},
   "outputs": [],
   "source": [
    "memory_new = data_new.iloc[memory_index]\n",
    "user_new = user.iloc[user_index]"
   ]
  },
  {
   "cell_type": "code",
   "execution_count": 225,
   "metadata": {},
   "outputs": [
    {
     "name": "stderr",
     "output_type": "stream",
     "text": [
      "C:\\Users\\DaBin\\AppData\\Local\\Temp\\ipykernel_22492\\1485144847.py:1: SettingWithCopyWarning: \n",
      "A value is trying to be set on a copy of a slice from a DataFrame.\n",
      "Try using .loc[row_indexer,col_indexer] = value instead\n",
      "\n",
      "See the caveats in the documentation: https://pandas.pydata.org/pandas-docs/stable/user_guide/indexing.html#returning-a-view-versus-a-copy\n",
      "  user_new['USER_ID'] = user_new['USER_ID'].astype(str)\n",
      "C:\\Users\\DaBin\\AppData\\Local\\Temp\\ipykernel_22492\\1485144847.py:2: SettingWithCopyWarning: \n",
      "A value is trying to be set on a copy of a slice from a DataFrame.\n",
      "Try using .loc[row_indexer,col_indexer] = value instead\n",
      "\n",
      "See the caveats in the documentation: https://pandas.pydata.org/pandas-docs/stable/user_guide/indexing.html#returning-a-view-versus-a-copy\n",
      "  memory_new['WRITER'] = memory_new['WRITER'].astype(str)\n",
      "C:\\Users\\DaBin\\AppData\\Local\\Temp\\ipykernel_22492\\1485144847.py:4: SettingWithCopyWarning: \n",
      "A value is trying to be set on a copy of a slice from a DataFrame\n",
      "\n",
      "See the caveats in the documentation: https://pandas.pydata.org/pandas-docs/stable/user_guide/indexing.html#returning-a-view-versus-a-copy\n",
      "  user_new.rename(columns = {'USER_ID' : 'WRITER'},inplace = True)\n"
     ]
    }
   ],
   "source": [
    "user_new['USER_ID'] = user_new['USER_ID'].astype(str)\n",
    "memory_new['WRITER'] = memory_new['WRITER'].astype(str)\n",
    "\n",
    "user_new.rename(columns = {'USER_ID' : 'WRITER'},inplace = True)"
   ]
  },
  {
   "cell_type": "code",
   "execution_count": 227,
   "metadata": {},
   "outputs": [],
   "source": [
    "user_memory = pd.merge(memory_new,user_new,how = 'left',on = 'WRITER')[['WRITER','MEMORY_DATE','QUESTION','count','diff','diff_01','RELATE_SNS_ACCOUNT','EVENT_MEMORY_COUNT','ROLE']]"
   ]
  },
  {
   "cell_type": "code",
   "execution_count": 228,
   "metadata": {},
   "outputs": [
    {
     "data": {
      "text/html": [
       "<div>\n",
       "<style scoped>\n",
       "    .dataframe tbody tr th:only-of-type {\n",
       "        vertical-align: middle;\n",
       "    }\n",
       "\n",
       "    .dataframe tbody tr th {\n",
       "        vertical-align: top;\n",
       "    }\n",
       "\n",
       "    .dataframe thead th {\n",
       "        text-align: right;\n",
       "    }\n",
       "</style>\n",
       "<table border=\"1\" class=\"dataframe\">\n",
       "  <thead>\n",
       "    <tr style=\"text-align: right;\">\n",
       "      <th></th>\n",
       "      <th>WRITER</th>\n",
       "      <th>MEMORY_DATE</th>\n",
       "      <th>QUESTION</th>\n",
       "      <th>count</th>\n",
       "      <th>diff</th>\n",
       "      <th>diff_01</th>\n",
       "      <th>RELATE_SNS_ACCOUNT</th>\n",
       "      <th>EVENT_MEMORY_COUNT</th>\n",
       "      <th>ROLE</th>\n",
       "    </tr>\n",
       "  </thead>\n",
       "  <tbody>\n",
       "    <tr>\n",
       "      <th>0</th>\n",
       "      <td>930</td>\n",
       "      <td>2023-10-26</td>\n",
       "      <td>355</td>\n",
       "      <td>3</td>\n",
       "      <td>0</td>\n",
       "      <td>0</td>\n",
       "      <td>AA001</td>\n",
       "      <td>7</td>\n",
       "      <td>AB002</td>\n",
       "    </tr>\n",
       "    <tr>\n",
       "      <th>1</th>\n",
       "      <td>930</td>\n",
       "      <td>2023-10-24</td>\n",
       "      <td>353</td>\n",
       "      <td>3</td>\n",
       "      <td>1</td>\n",
       "      <td>1</td>\n",
       "      <td>AA001</td>\n",
       "      <td>7</td>\n",
       "      <td>AB002</td>\n",
       "    </tr>\n",
       "    <tr>\n",
       "      <th>2</th>\n",
       "      <td>930</td>\n",
       "      <td>2023-10-25</td>\n",
       "      <td>354</td>\n",
       "      <td>3</td>\n",
       "      <td>0</td>\n",
       "      <td>0</td>\n",
       "      <td>AA001</td>\n",
       "      <td>7</td>\n",
       "      <td>AB002</td>\n",
       "    </tr>\n",
       "    <tr>\n",
       "      <th>3</th>\n",
       "      <td>933</td>\n",
       "      <td>2023-10-26</td>\n",
       "      <td>1925</td>\n",
       "      <td>3</td>\n",
       "      <td>0</td>\n",
       "      <td>0</td>\n",
       "      <td>AA001</td>\n",
       "      <td>3</td>\n",
       "      <td>AB002</td>\n",
       "    </tr>\n",
       "    <tr>\n",
       "      <th>4</th>\n",
       "      <td>933</td>\n",
       "      <td>2023-10-25</td>\n",
       "      <td>1924</td>\n",
       "      <td>3</td>\n",
       "      <td>0</td>\n",
       "      <td>0</td>\n",
       "      <td>AA001</td>\n",
       "      <td>3</td>\n",
       "      <td>AB002</td>\n",
       "    </tr>\n",
       "  </tbody>\n",
       "</table>\n",
       "</div>"
      ],
      "text/plain": [
       "  WRITER MEMORY_DATE  QUESTION  count  diff diff_01 RELATE_SNS_ACCOUNT  \\\n",
       "0    930  2023-10-26       355      3     0       0              AA001   \n",
       "1    930  2023-10-24       353      3     1       1              AA001   \n",
       "2    930  2023-10-25       354      3     0       0              AA001   \n",
       "3    933  2023-10-26      1925      3     0       0              AA001   \n",
       "4    933  2023-10-25      1924      3     0       0              AA001   \n",
       "\n",
       "   EVENT_MEMORY_COUNT   ROLE  \n",
       "0                   7  AB002  \n",
       "1                   7  AB002  \n",
       "2                   7  AB002  \n",
       "3                   3  AB002  \n",
       "4                   3  AB002  "
      ]
     },
     "execution_count": 228,
     "metadata": {},
     "output_type": "execute_result"
    }
   ],
   "source": [
    "user_memory.head()"
   ]
  },
  {
   "cell_type": "markdown",
   "metadata": {},
   "source": [
    "* `RELATE_SNS_ACCOUNT`와 `count` : 대부분 **AA001** "
   ]
  },
  {
   "cell_type": "code",
   "execution_count": 229,
   "metadata": {},
   "outputs": [
    {
     "data": {
      "text/plain": [
       "WRITER  RELATE_SNS_ACCOUNT\n",
       "875     AA001                 3\n",
       "884     AA001                 4\n",
       "887     AA001                 3\n",
       "890     AA001                 1\n",
       "907     AA001                 3\n",
       "914     AA001                 5\n",
       "916     AA001                 2\n",
       "930     AA001                 3\n",
       "933     AA001                 3\n",
       "938     AA001                 4\n",
       "944     AA002                 2\n",
       "951     AA001                 1\n",
       "952     AA001                 1\n",
       "Name: count, dtype: int64"
      ]
     },
     "execution_count": 229,
     "metadata": {},
     "output_type": "execute_result"
    }
   ],
   "source": [
    "user_memory.groupby('WRITER')['RELATE_SNS_ACCOUNT'].value_counts()"
   ]
  },
  {
   "cell_type": "markdown",
   "metadata": {},
   "source": [
    "* **938**을 제외하고는 대체로 높은 `EVENT_MEMORY_COUNT`는 높은 `COUNT`를 보임"
   ]
  },
  {
   "cell_type": "code",
   "execution_count": 238,
   "metadata": {},
   "outputs": [
    {
     "data": {
      "text/plain": [
       "EVENT_MEMORY_COUNT  WRITER\n",
       "1                   951       1\n",
       "                    952       1\n",
       "2                   944       2\n",
       "3                   933       3\n",
       "4                   907       3\n",
       "5                   938       4\n",
       "6                   890       1\n",
       "7                   930       3\n",
       "                    916       2\n",
       "10                  914       5\n",
       "14                  875       3\n",
       "16                  887       3\n",
       "17                  884       4\n",
       "Name: count, dtype: int64"
      ]
     },
     "execution_count": 238,
     "metadata": {},
     "output_type": "execute_result"
    }
   ],
   "source": [
    "user_memory.groupby('EVENT_MEMORY_COUNT')['WRITER'].value_counts()"
   ]
  }
 ],
 "metadata": {
  "kernelspec": {
   "display_name": "Python 3",
   "language": "python",
   "name": "python3"
  },
  "language_info": {
   "codemirror_mode": {
    "name": "ipython",
    "version": 3
   },
   "file_extension": ".py",
   "mimetype": "text/x-python",
   "name": "python",
   "nbconvert_exporter": "python",
   "pygments_lexer": "ipython3",
   "version": "3.12.0"
  }
 },
 "nbformat": 4,
 "nbformat_minor": 2
}
