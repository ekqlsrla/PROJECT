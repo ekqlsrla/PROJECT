{
  "nbformat": 4,
  "nbformat_minor": 0,
  "metadata": {
    "colab": {
      "provenance": [],
      "include_colab_link": true
    },
    "kernelspec": {
      "name": "python3",
      "display_name": "Python 3"
    },
    "language_info": {
      "name": "python"
    }
  },
  "cells": [
    {
      "cell_type": "markdown",
      "metadata": {
        "id": "view-in-github",
        "colab_type": "text"
      },
      "source": [
        "<a href=\"https://colab.research.google.com/github/ekqlsrla/PROJECT/blob/main/%ED%95%99%EB%B6%80/%EC%B5%9C%EC%A2%85_%EC%BD%94%EB%93%9C_%EC%A0%95%EB%A6%AC.ipynb\" target=\"_parent\"><img src=\"https://colab.research.google.com/assets/colab-badge.svg\" alt=\"Open In Colab\"/></a>"
      ]
    },
    {
      "cell_type": "code",
      "source": [
        "from google.colab import drive\n",
        "drive.mount('/content/drive')"
      ],
      "metadata": {
        "id": "kim6H9WqHjVc",
        "colab": {
          "base_uri": "https://localhost:8080/"
        },
        "outputId": "91ea9310-b718-4d44-9e75-0a72a851a8c6"
      },
      "execution_count": null,
      "outputs": [
        {
          "output_type": "stream",
          "name": "stdout",
          "text": [
            "Mounted at /content/drive\n"
          ]
        }
      ]
    },
    {
      "cell_type": "code",
      "execution_count": null,
      "metadata": {
        "id": "lggcfkuMSCcV"
      },
      "outputs": [],
      "source": [
        "import pandas as pd\n",
        "import numpy as np\n",
        "\n",
        "\n",
        "\n",
        "train = pd.read_csv('/content/drive/MyDrive/데이터/기상청/surface_tp_train.csv',index_col = 0)\n",
        "test = pd.read_csv(\"/content/drive/MyDrive/데이터/기상청/surface_tp_test.csv\",index_col = 0)\n",
        "train.columns = ['stn','year','mmddhh','ta','td','hm','ws','rn','re','ww','ts','si','ss','sn']\n",
        "test.columns = ['stn','year','mmddhh','ta','td','hm','ws','rn','re','ww','si','ss','sn']"
      ]
    },
    {
      "cell_type": "code",
      "source": [
        "train['stn'].value_counts()"
      ],
      "metadata": {
        "id": "z__m8DOPdPd6",
        "colab": {
          "base_uri": "https://localhost:8080/"
        },
        "outputId": "5220798c-d6f0-41d9-d0d2-f0921ec9d170"
      },
      "execution_count": null,
      "outputs": [
        {
          "output_type": "execute_result",
          "data": {
            "text/plain": [
              "1     43824\n",
              "2     43824\n",
              "3     43824\n",
              "4     43824\n",
              "5     43824\n",
              "6     43824\n",
              "7     43824\n",
              "8     43824\n",
              "9     43824\n",
              "10    43824\n",
              "Name: stn, dtype: int64"
            ]
          },
          "metadata": {},
          "execution_count": 210
        }
      ]
    },
    {
      "cell_type": "code",
      "source": [
        "train.head()"
      ],
      "metadata": {
        "colab": {
          "base_uri": "https://localhost:8080/",
          "height": 206
        },
        "id": "1905xRiQPy5z",
        "outputId": "ed145981-7c97-49e5-9da4-fe0e94a9864e"
      },
      "execution_count": null,
      "outputs": [
        {
          "output_type": "execute_result",
          "data": {
            "text/plain": [
              "   stn year  mmddhh    ta    td    hm   ws   rn  re ww   ts    si    ss    sn\n",
              "1    1    A   20100  -9.9 -10.7  93.9  0.6  0.0   0  H -1.3 -99.9 -99.9 -99.9\n",
              "2    1    A   20101 -10.8 -11.6  93.8  0.6  0.0   0  H -1.5 -99.9 -99.9 -99.9\n",
              "3    1    A   20102 -11.4 -12.1  94.6  0.7  0.0   0  H -1.7 -99.9 -99.9 -99.9\n",
              "4    1    A   20103 -11.6 -12.5  93.4  0.6  0.0   0  H -1.8 -99.9 -99.9 -99.9\n",
              "5    1    A   20104 -11.8 -12.7  93.0  0.6  0.0   0  H -2.0 -99.9 -99.9 -99.9"
            ],
            "text/html": [
              "\n",
              "  <div id=\"df-064f8b8a-ae98-40d3-980d-e617d8be539b\">\n",
              "    <div class=\"colab-df-container\">\n",
              "      <div>\n",
              "<style scoped>\n",
              "    .dataframe tbody tr th:only-of-type {\n",
              "        vertical-align: middle;\n",
              "    }\n",
              "\n",
              "    .dataframe tbody tr th {\n",
              "        vertical-align: top;\n",
              "    }\n",
              "\n",
              "    .dataframe thead th {\n",
              "        text-align: right;\n",
              "    }\n",
              "</style>\n",
              "<table border=\"1\" class=\"dataframe\">\n",
              "  <thead>\n",
              "    <tr style=\"text-align: right;\">\n",
              "      <th></th>\n",
              "      <th>stn</th>\n",
              "      <th>year</th>\n",
              "      <th>mmddhh</th>\n",
              "      <th>ta</th>\n",
              "      <th>td</th>\n",
              "      <th>hm</th>\n",
              "      <th>ws</th>\n",
              "      <th>rn</th>\n",
              "      <th>re</th>\n",
              "      <th>ww</th>\n",
              "      <th>ts</th>\n",
              "      <th>si</th>\n",
              "      <th>ss</th>\n",
              "      <th>sn</th>\n",
              "    </tr>\n",
              "  </thead>\n",
              "  <tbody>\n",
              "    <tr>\n",
              "      <th>1</th>\n",
              "      <td>1</td>\n",
              "      <td>A</td>\n",
              "      <td>20100</td>\n",
              "      <td>-9.9</td>\n",
              "      <td>-10.7</td>\n",
              "      <td>93.9</td>\n",
              "      <td>0.6</td>\n",
              "      <td>0.0</td>\n",
              "      <td>0</td>\n",
              "      <td>H</td>\n",
              "      <td>-1.3</td>\n",
              "      <td>-99.9</td>\n",
              "      <td>-99.9</td>\n",
              "      <td>-99.9</td>\n",
              "    </tr>\n",
              "    <tr>\n",
              "      <th>2</th>\n",
              "      <td>1</td>\n",
              "      <td>A</td>\n",
              "      <td>20101</td>\n",
              "      <td>-10.8</td>\n",
              "      <td>-11.6</td>\n",
              "      <td>93.8</td>\n",
              "      <td>0.6</td>\n",
              "      <td>0.0</td>\n",
              "      <td>0</td>\n",
              "      <td>H</td>\n",
              "      <td>-1.5</td>\n",
              "      <td>-99.9</td>\n",
              "      <td>-99.9</td>\n",
              "      <td>-99.9</td>\n",
              "    </tr>\n",
              "    <tr>\n",
              "      <th>3</th>\n",
              "      <td>1</td>\n",
              "      <td>A</td>\n",
              "      <td>20102</td>\n",
              "      <td>-11.4</td>\n",
              "      <td>-12.1</td>\n",
              "      <td>94.6</td>\n",
              "      <td>0.7</td>\n",
              "      <td>0.0</td>\n",
              "      <td>0</td>\n",
              "      <td>H</td>\n",
              "      <td>-1.7</td>\n",
              "      <td>-99.9</td>\n",
              "      <td>-99.9</td>\n",
              "      <td>-99.9</td>\n",
              "    </tr>\n",
              "    <tr>\n",
              "      <th>4</th>\n",
              "      <td>1</td>\n",
              "      <td>A</td>\n",
              "      <td>20103</td>\n",
              "      <td>-11.6</td>\n",
              "      <td>-12.5</td>\n",
              "      <td>93.4</td>\n",
              "      <td>0.6</td>\n",
              "      <td>0.0</td>\n",
              "      <td>0</td>\n",
              "      <td>H</td>\n",
              "      <td>-1.8</td>\n",
              "      <td>-99.9</td>\n",
              "      <td>-99.9</td>\n",
              "      <td>-99.9</td>\n",
              "    </tr>\n",
              "    <tr>\n",
              "      <th>5</th>\n",
              "      <td>1</td>\n",
              "      <td>A</td>\n",
              "      <td>20104</td>\n",
              "      <td>-11.8</td>\n",
              "      <td>-12.7</td>\n",
              "      <td>93.0</td>\n",
              "      <td>0.6</td>\n",
              "      <td>0.0</td>\n",
              "      <td>0</td>\n",
              "      <td>H</td>\n",
              "      <td>-2.0</td>\n",
              "      <td>-99.9</td>\n",
              "      <td>-99.9</td>\n",
              "      <td>-99.9</td>\n",
              "    </tr>\n",
              "  </tbody>\n",
              "</table>\n",
              "</div>\n",
              "      <button class=\"colab-df-convert\" onclick=\"convertToInteractive('df-064f8b8a-ae98-40d3-980d-e617d8be539b')\"\n",
              "              title=\"Convert this dataframe to an interactive table.\"\n",
              "              style=\"display:none;\">\n",
              "        \n",
              "  <svg xmlns=\"http://www.w3.org/2000/svg\" height=\"24px\"viewBox=\"0 0 24 24\"\n",
              "       width=\"24px\">\n",
              "    <path d=\"M0 0h24v24H0V0z\" fill=\"none\"/>\n",
              "    <path d=\"M18.56 5.44l.94 2.06.94-2.06 2.06-.94-2.06-.94-.94-2.06-.94 2.06-2.06.94zm-11 1L8.5 8.5l.94-2.06 2.06-.94-2.06-.94L8.5 2.5l-.94 2.06-2.06.94zm10 10l.94 2.06.94-2.06 2.06-.94-2.06-.94-.94-2.06-.94 2.06-2.06.94z\"/><path d=\"M17.41 7.96l-1.37-1.37c-.4-.4-.92-.59-1.43-.59-.52 0-1.04.2-1.43.59L10.3 9.45l-7.72 7.72c-.78.78-.78 2.05 0 2.83L4 21.41c.39.39.9.59 1.41.59.51 0 1.02-.2 1.41-.59l7.78-7.78 2.81-2.81c.8-.78.8-2.07 0-2.86zM5.41 20L4 18.59l7.72-7.72 1.47 1.35L5.41 20z\"/>\n",
              "  </svg>\n",
              "      </button>\n",
              "      \n",
              "  <style>\n",
              "    .colab-df-container {\n",
              "      display:flex;\n",
              "      flex-wrap:wrap;\n",
              "      gap: 12px;\n",
              "    }\n",
              "\n",
              "    .colab-df-convert {\n",
              "      background-color: #E8F0FE;\n",
              "      border: none;\n",
              "      border-radius: 50%;\n",
              "      cursor: pointer;\n",
              "      display: none;\n",
              "      fill: #1967D2;\n",
              "      height: 32px;\n",
              "      padding: 0 0 0 0;\n",
              "      width: 32px;\n",
              "    }\n",
              "\n",
              "    .colab-df-convert:hover {\n",
              "      background-color: #E2EBFA;\n",
              "      box-shadow: 0px 1px 2px rgba(60, 64, 67, 0.3), 0px 1px 3px 1px rgba(60, 64, 67, 0.15);\n",
              "      fill: #174EA6;\n",
              "    }\n",
              "\n",
              "    [theme=dark] .colab-df-convert {\n",
              "      background-color: #3B4455;\n",
              "      fill: #D2E3FC;\n",
              "    }\n",
              "\n",
              "    [theme=dark] .colab-df-convert:hover {\n",
              "      background-color: #434B5C;\n",
              "      box-shadow: 0px 1px 3px 1px rgba(0, 0, 0, 0.15);\n",
              "      filter: drop-shadow(0px 1px 2px rgba(0, 0, 0, 0.3));\n",
              "      fill: #FFFFFF;\n",
              "    }\n",
              "  </style>\n",
              "\n",
              "      <script>\n",
              "        const buttonEl =\n",
              "          document.querySelector('#df-064f8b8a-ae98-40d3-980d-e617d8be539b button.colab-df-convert');\n",
              "        buttonEl.style.display =\n",
              "          google.colab.kernel.accessAllowed ? 'block' : 'none';\n",
              "\n",
              "        async function convertToInteractive(key) {\n",
              "          const element = document.querySelector('#df-064f8b8a-ae98-40d3-980d-e617d8be539b');\n",
              "          const dataTable =\n",
              "            await google.colab.kernel.invokeFunction('convertToInteractive',\n",
              "                                                     [key], {});\n",
              "          if (!dataTable) return;\n",
              "\n",
              "          const docLinkHtml = 'Like what you see? Visit the ' +\n",
              "            '<a target=\"_blank\" href=https://colab.research.google.com/notebooks/data_table.ipynb>data table notebook</a>'\n",
              "            + ' to learn more about interactive tables.';\n",
              "          element.innerHTML = '';\n",
              "          dataTable['output_type'] = 'display_data';\n",
              "          await google.colab.output.renderOutput(dataTable, element);\n",
              "          const docLink = document.createElement('div');\n",
              "          docLink.innerHTML = docLinkHtml;\n",
              "          element.appendChild(docLink);\n",
              "        }\n",
              "      </script>\n",
              "    </div>\n",
              "  </div>\n",
              "  "
            ]
          },
          "metadata": {},
          "execution_count": 211
        }
      ]
    },
    {
      "cell_type": "code",
      "source": [
        "test.head()"
      ],
      "metadata": {
        "id": "I5t8imKcTEw3",
        "colab": {
          "base_uri": "https://localhost:8080/",
          "height": 206
        },
        "outputId": "5e3a9434-efba-48a4-c8d0-2058a8b8e594"
      },
      "execution_count": null,
      "outputs": [
        {
          "output_type": "execute_result",
          "data": {
            "text/plain": [
              "  stn year  mmddhh   ta   td    hm   ws   rn  re ww    si    ss   sn\n",
              "1   a    F   20100  0.6 -2.0  82.5  2.7  0.0   0  G -99.9 -99.9  3.1\n",
              "2   a    F   20101  0.0 -5.2  68.3  3.2  0.0   0  R -99.9 -99.9  3.1\n",
              "3   a    F   20102 -0.3 -6.4  63.7  2.7  0.0   0  C -99.9 -99.9  3.1\n",
              "4   a    F   20103 -1.0 -4.5  77.2  2.1  0.2   7  R -99.9 -99.9  4.1\n",
              "5   a    F   20104 -1.4 -3.1  88.3  2.9  0.6   3  R -99.9 -99.9  4.7"
            ],
            "text/html": [
              "\n",
              "  <div id=\"df-d0d07b64-97bd-4760-b11a-72bc440343c0\">\n",
              "    <div class=\"colab-df-container\">\n",
              "      <div>\n",
              "<style scoped>\n",
              "    .dataframe tbody tr th:only-of-type {\n",
              "        vertical-align: middle;\n",
              "    }\n",
              "\n",
              "    .dataframe tbody tr th {\n",
              "        vertical-align: top;\n",
              "    }\n",
              "\n",
              "    .dataframe thead th {\n",
              "        text-align: right;\n",
              "    }\n",
              "</style>\n",
              "<table border=\"1\" class=\"dataframe\">\n",
              "  <thead>\n",
              "    <tr style=\"text-align: right;\">\n",
              "      <th></th>\n",
              "      <th>stn</th>\n",
              "      <th>year</th>\n",
              "      <th>mmddhh</th>\n",
              "      <th>ta</th>\n",
              "      <th>td</th>\n",
              "      <th>hm</th>\n",
              "      <th>ws</th>\n",
              "      <th>rn</th>\n",
              "      <th>re</th>\n",
              "      <th>ww</th>\n",
              "      <th>si</th>\n",
              "      <th>ss</th>\n",
              "      <th>sn</th>\n",
              "    </tr>\n",
              "  </thead>\n",
              "  <tbody>\n",
              "    <tr>\n",
              "      <th>1</th>\n",
              "      <td>a</td>\n",
              "      <td>F</td>\n",
              "      <td>20100</td>\n",
              "      <td>0.6</td>\n",
              "      <td>-2.0</td>\n",
              "      <td>82.5</td>\n",
              "      <td>2.7</td>\n",
              "      <td>0.0</td>\n",
              "      <td>0</td>\n",
              "      <td>G</td>\n",
              "      <td>-99.9</td>\n",
              "      <td>-99.9</td>\n",
              "      <td>3.1</td>\n",
              "    </tr>\n",
              "    <tr>\n",
              "      <th>2</th>\n",
              "      <td>a</td>\n",
              "      <td>F</td>\n",
              "      <td>20101</td>\n",
              "      <td>0.0</td>\n",
              "      <td>-5.2</td>\n",
              "      <td>68.3</td>\n",
              "      <td>3.2</td>\n",
              "      <td>0.0</td>\n",
              "      <td>0</td>\n",
              "      <td>R</td>\n",
              "      <td>-99.9</td>\n",
              "      <td>-99.9</td>\n",
              "      <td>3.1</td>\n",
              "    </tr>\n",
              "    <tr>\n",
              "      <th>3</th>\n",
              "      <td>a</td>\n",
              "      <td>F</td>\n",
              "      <td>20102</td>\n",
              "      <td>-0.3</td>\n",
              "      <td>-6.4</td>\n",
              "      <td>63.7</td>\n",
              "      <td>2.7</td>\n",
              "      <td>0.0</td>\n",
              "      <td>0</td>\n",
              "      <td>C</td>\n",
              "      <td>-99.9</td>\n",
              "      <td>-99.9</td>\n",
              "      <td>3.1</td>\n",
              "    </tr>\n",
              "    <tr>\n",
              "      <th>4</th>\n",
              "      <td>a</td>\n",
              "      <td>F</td>\n",
              "      <td>20103</td>\n",
              "      <td>-1.0</td>\n",
              "      <td>-4.5</td>\n",
              "      <td>77.2</td>\n",
              "      <td>2.1</td>\n",
              "      <td>0.2</td>\n",
              "      <td>7</td>\n",
              "      <td>R</td>\n",
              "      <td>-99.9</td>\n",
              "      <td>-99.9</td>\n",
              "      <td>4.1</td>\n",
              "    </tr>\n",
              "    <tr>\n",
              "      <th>5</th>\n",
              "      <td>a</td>\n",
              "      <td>F</td>\n",
              "      <td>20104</td>\n",
              "      <td>-1.4</td>\n",
              "      <td>-3.1</td>\n",
              "      <td>88.3</td>\n",
              "      <td>2.9</td>\n",
              "      <td>0.6</td>\n",
              "      <td>3</td>\n",
              "      <td>R</td>\n",
              "      <td>-99.9</td>\n",
              "      <td>-99.9</td>\n",
              "      <td>4.7</td>\n",
              "    </tr>\n",
              "  </tbody>\n",
              "</table>\n",
              "</div>\n",
              "      <button class=\"colab-df-convert\" onclick=\"convertToInteractive('df-d0d07b64-97bd-4760-b11a-72bc440343c0')\"\n",
              "              title=\"Convert this dataframe to an interactive table.\"\n",
              "              style=\"display:none;\">\n",
              "        \n",
              "  <svg xmlns=\"http://www.w3.org/2000/svg\" height=\"24px\"viewBox=\"0 0 24 24\"\n",
              "       width=\"24px\">\n",
              "    <path d=\"M0 0h24v24H0V0z\" fill=\"none\"/>\n",
              "    <path d=\"M18.56 5.44l.94 2.06.94-2.06 2.06-.94-2.06-.94-.94-2.06-.94 2.06-2.06.94zm-11 1L8.5 8.5l.94-2.06 2.06-.94-2.06-.94L8.5 2.5l-.94 2.06-2.06.94zm10 10l.94 2.06.94-2.06 2.06-.94-2.06-.94-.94-2.06-.94 2.06-2.06.94z\"/><path d=\"M17.41 7.96l-1.37-1.37c-.4-.4-.92-.59-1.43-.59-.52 0-1.04.2-1.43.59L10.3 9.45l-7.72 7.72c-.78.78-.78 2.05 0 2.83L4 21.41c.39.39.9.59 1.41.59.51 0 1.02-.2 1.41-.59l7.78-7.78 2.81-2.81c.8-.78.8-2.07 0-2.86zM5.41 20L4 18.59l7.72-7.72 1.47 1.35L5.41 20z\"/>\n",
              "  </svg>\n",
              "      </button>\n",
              "      \n",
              "  <style>\n",
              "    .colab-df-container {\n",
              "      display:flex;\n",
              "      flex-wrap:wrap;\n",
              "      gap: 12px;\n",
              "    }\n",
              "\n",
              "    .colab-df-convert {\n",
              "      background-color: #E8F0FE;\n",
              "      border: none;\n",
              "      border-radius: 50%;\n",
              "      cursor: pointer;\n",
              "      display: none;\n",
              "      fill: #1967D2;\n",
              "      height: 32px;\n",
              "      padding: 0 0 0 0;\n",
              "      width: 32px;\n",
              "    }\n",
              "\n",
              "    .colab-df-convert:hover {\n",
              "      background-color: #E2EBFA;\n",
              "      box-shadow: 0px 1px 2px rgba(60, 64, 67, 0.3), 0px 1px 3px 1px rgba(60, 64, 67, 0.15);\n",
              "      fill: #174EA6;\n",
              "    }\n",
              "\n",
              "    [theme=dark] .colab-df-convert {\n",
              "      background-color: #3B4455;\n",
              "      fill: #D2E3FC;\n",
              "    }\n",
              "\n",
              "    [theme=dark] .colab-df-convert:hover {\n",
              "      background-color: #434B5C;\n",
              "      box-shadow: 0px 1px 3px 1px rgba(0, 0, 0, 0.15);\n",
              "      filter: drop-shadow(0px 1px 2px rgba(0, 0, 0, 0.3));\n",
              "      fill: #FFFFFF;\n",
              "    }\n",
              "  </style>\n",
              "\n",
              "      <script>\n",
              "        const buttonEl =\n",
              "          document.querySelector('#df-d0d07b64-97bd-4760-b11a-72bc440343c0 button.colab-df-convert');\n",
              "        buttonEl.style.display =\n",
              "          google.colab.kernel.accessAllowed ? 'block' : 'none';\n",
              "\n",
              "        async function convertToInteractive(key) {\n",
              "          const element = document.querySelector('#df-d0d07b64-97bd-4760-b11a-72bc440343c0');\n",
              "          const dataTable =\n",
              "            await google.colab.kernel.invokeFunction('convertToInteractive',\n",
              "                                                     [key], {});\n",
              "          if (!dataTable) return;\n",
              "\n",
              "          const docLinkHtml = 'Like what you see? Visit the ' +\n",
              "            '<a target=\"_blank\" href=https://colab.research.google.com/notebooks/data_table.ipynb>data table notebook</a>'\n",
              "            + ' to learn more about interactive tables.';\n",
              "          element.innerHTML = '';\n",
              "          dataTable['output_type'] = 'display_data';\n",
              "          await google.colab.output.renderOutput(dataTable, element);\n",
              "          const docLink = document.createElement('div');\n",
              "          docLink.innerHTML = docLinkHtml;\n",
              "          element.appendChild(docLink);\n",
              "        }\n",
              "      </script>\n",
              "    </div>\n",
              "  </div>\n",
              "  "
            ]
          },
          "metadata": {},
          "execution_count": 212
        }
      ]
    },
    {
      "cell_type": "code",
      "source": [
        "test['stn'].value_counts()"
      ],
      "metadata": {
        "id": "bcV6leaRdISH",
        "colab": {
          "base_uri": "https://localhost:8080/"
        },
        "outputId": "261164ad-ca88-4cd0-9bf2-394f74539fd0"
      },
      "execution_count": null,
      "outputs": [
        {
          "output_type": "execute_result",
          "data": {
            "text/plain": [
              "a    8760\n",
              "b    8760\n",
              "c    8760\n",
              "Name: stn, dtype: int64"
            ]
          },
          "metadata": {},
          "execution_count": 213
        }
      ]
    },
    {
      "cell_type": "code",
      "source": [
        "train.info()"
      ],
      "metadata": {
        "id": "w4nZEO-_TGNj",
        "colab": {
          "base_uri": "https://localhost:8080/"
        },
        "outputId": "b1d5e37d-9fd6-4e58-a4cb-1f511c1c94ae"
      },
      "execution_count": null,
      "outputs": [
        {
          "output_type": "stream",
          "name": "stdout",
          "text": [
            "<class 'pandas.core.frame.DataFrame'>\n",
            "Int64Index: 438240 entries, 1 to 438240\n",
            "Data columns (total 14 columns):\n",
            " #   Column  Non-Null Count   Dtype  \n",
            "---  ------  --------------   -----  \n",
            " 0   stn     438240 non-null  int64  \n",
            " 1   year    438240 non-null  object \n",
            " 2   mmddhh  438240 non-null  int64  \n",
            " 3   ta      438240 non-null  float64\n",
            " 4   td      438240 non-null  float64\n",
            " 5   hm      438240 non-null  float64\n",
            " 6   ws      438240 non-null  float64\n",
            " 7   rn      438240 non-null  float64\n",
            " 8   re      438240 non-null  int64  \n",
            " 9   ww      438240 non-null  object \n",
            " 10  ts      438240 non-null  float64\n",
            " 11  si      438240 non-null  float64\n",
            " 12  ss      438240 non-null  float64\n",
            " 13  sn      438240 non-null  float64\n",
            "dtypes: float64(9), int64(3), object(2)\n",
            "memory usage: 50.2+ MB\n"
          ]
        }
      ]
    },
    {
      "cell_type": "code",
      "source": [
        "test.info()"
      ],
      "metadata": {
        "id": "o0pP0sMwTHzE",
        "colab": {
          "base_uri": "https://localhost:8080/"
        },
        "outputId": "405d10cd-61df-4b74-d083-26c38e560e75"
      },
      "execution_count": null,
      "outputs": [
        {
          "output_type": "stream",
          "name": "stdout",
          "text": [
            "<class 'pandas.core.frame.DataFrame'>\n",
            "Int64Index: 26280 entries, 1 to 26280\n",
            "Data columns (total 13 columns):\n",
            " #   Column  Non-Null Count  Dtype  \n",
            "---  ------  --------------  -----  \n",
            " 0   stn     26280 non-null  object \n",
            " 1   year    26280 non-null  object \n",
            " 2   mmddhh  26280 non-null  int64  \n",
            " 3   ta      26280 non-null  float64\n",
            " 4   td      26280 non-null  float64\n",
            " 5   hm      26280 non-null  float64\n",
            " 6   ws      26280 non-null  float64\n",
            " 7   rn      26280 non-null  float64\n",
            " 8   re      26280 non-null  int64  \n",
            " 9   ww      26280 non-null  object \n",
            " 10  si      26280 non-null  float64\n",
            " 11  ss      26280 non-null  float64\n",
            " 12  sn      26280 non-null  float64\n",
            "dtypes: float64(8), int64(2), object(3)\n",
            "memory usage: 2.8+ MB\n"
          ]
        }
      ]
    },
    {
      "cell_type": "code",
      "source": [
        "train.describe()"
      ],
      "metadata": {
        "id": "A7GEWlkFTJyF",
        "colab": {
          "base_uri": "https://localhost:8080/",
          "height": 364
        },
        "outputId": "b0506863-941f-4fe3-a894-0931d4136822"
      },
      "execution_count": null,
      "outputs": [
        {
          "output_type": "execute_result",
          "data": {
            "text/plain": [
              "                 stn         mmddhh             ta             td  \\\n",
              "count  438240.000000  438240.000000  438240.000000  438240.000000   \n",
              "mean        5.500000   66819.769441      13.648830       6.546744   \n",
              "std         2.872285   34506.091290      11.042725      12.627285   \n",
              "min         1.000000   10100.000000     -99.900000     -99.900000   \n",
              "25%         3.000000   40202.000000       5.800000      -2.400000   \n",
              "50%         5.500000   70209.000000      14.700000       7.300000   \n",
              "75%         8.000000  100116.000000      22.200000      17.100000   \n",
              "max        10.000000  123123.000000      39.400000      29.300000   \n",
              "\n",
              "                  hm             ws             rn             re  \\\n",
              "count  438240.000000  438240.000000  438240.000000  438240.000000   \n",
              "mean       65.429143       1.982703      -1.539624       2.608285   \n",
              "std        22.430588       5.156003      12.996733      13.570768   \n",
              "min       -99.900000     -99.900000     -99.900000     -99.000000   \n",
              "25%        49.200000       1.000000       0.000000       0.000000   \n",
              "50%        66.500000       1.800000       0.000000       0.000000   \n",
              "75%        83.900000       3.000000       0.000000       0.000000   \n",
              "max       100.000000      24.600000     623.500000      60.000000   \n",
              "\n",
              "                  ts             si             ss             sn  \n",
              "count  438240.000000  438240.000000  438240.000000  438240.000000  \n",
              "mean       15.268847     -45.005243     -45.094056     -98.205804  \n",
              "std        13.362203      50.307733      50.000381      13.128373  \n",
              "min       -99.900000     -99.900000     -99.900000     -99.900000  \n",
              "25%         4.800000     -99.900000     -99.900000     -99.900000  \n",
              "50%        15.500000       0.010000       0.000000     -99.900000  \n",
              "75%        24.300000       0.990000       0.700000     -99.900000  \n",
              "max        65.700000       4.770000       1.000000      37.400000  "
            ],
            "text/html": [
              "\n",
              "  <div id=\"df-3a0fde6d-8791-4c42-8878-4f121bda046f\">\n",
              "    <div class=\"colab-df-container\">\n",
              "      <div>\n",
              "<style scoped>\n",
              "    .dataframe tbody tr th:only-of-type {\n",
              "        vertical-align: middle;\n",
              "    }\n",
              "\n",
              "    .dataframe tbody tr th {\n",
              "        vertical-align: top;\n",
              "    }\n",
              "\n",
              "    .dataframe thead th {\n",
              "        text-align: right;\n",
              "    }\n",
              "</style>\n",
              "<table border=\"1\" class=\"dataframe\">\n",
              "  <thead>\n",
              "    <tr style=\"text-align: right;\">\n",
              "      <th></th>\n",
              "      <th>stn</th>\n",
              "      <th>mmddhh</th>\n",
              "      <th>ta</th>\n",
              "      <th>td</th>\n",
              "      <th>hm</th>\n",
              "      <th>ws</th>\n",
              "      <th>rn</th>\n",
              "      <th>re</th>\n",
              "      <th>ts</th>\n",
              "      <th>si</th>\n",
              "      <th>ss</th>\n",
              "      <th>sn</th>\n",
              "    </tr>\n",
              "  </thead>\n",
              "  <tbody>\n",
              "    <tr>\n",
              "      <th>count</th>\n",
              "      <td>438240.000000</td>\n",
              "      <td>438240.000000</td>\n",
              "      <td>438240.000000</td>\n",
              "      <td>438240.000000</td>\n",
              "      <td>438240.000000</td>\n",
              "      <td>438240.000000</td>\n",
              "      <td>438240.000000</td>\n",
              "      <td>438240.000000</td>\n",
              "      <td>438240.000000</td>\n",
              "      <td>438240.000000</td>\n",
              "      <td>438240.000000</td>\n",
              "      <td>438240.000000</td>\n",
              "    </tr>\n",
              "    <tr>\n",
              "      <th>mean</th>\n",
              "      <td>5.500000</td>\n",
              "      <td>66819.769441</td>\n",
              "      <td>13.648830</td>\n",
              "      <td>6.546744</td>\n",
              "      <td>65.429143</td>\n",
              "      <td>1.982703</td>\n",
              "      <td>-1.539624</td>\n",
              "      <td>2.608285</td>\n",
              "      <td>15.268847</td>\n",
              "      <td>-45.005243</td>\n",
              "      <td>-45.094056</td>\n",
              "      <td>-98.205804</td>\n",
              "    </tr>\n",
              "    <tr>\n",
              "      <th>std</th>\n",
              "      <td>2.872285</td>\n",
              "      <td>34506.091290</td>\n",
              "      <td>11.042725</td>\n",
              "      <td>12.627285</td>\n",
              "      <td>22.430588</td>\n",
              "      <td>5.156003</td>\n",
              "      <td>12.996733</td>\n",
              "      <td>13.570768</td>\n",
              "      <td>13.362203</td>\n",
              "      <td>50.307733</td>\n",
              "      <td>50.000381</td>\n",
              "      <td>13.128373</td>\n",
              "    </tr>\n",
              "    <tr>\n",
              "      <th>min</th>\n",
              "      <td>1.000000</td>\n",
              "      <td>10100.000000</td>\n",
              "      <td>-99.900000</td>\n",
              "      <td>-99.900000</td>\n",
              "      <td>-99.900000</td>\n",
              "      <td>-99.900000</td>\n",
              "      <td>-99.900000</td>\n",
              "      <td>-99.000000</td>\n",
              "      <td>-99.900000</td>\n",
              "      <td>-99.900000</td>\n",
              "      <td>-99.900000</td>\n",
              "      <td>-99.900000</td>\n",
              "    </tr>\n",
              "    <tr>\n",
              "      <th>25%</th>\n",
              "      <td>3.000000</td>\n",
              "      <td>40202.000000</td>\n",
              "      <td>5.800000</td>\n",
              "      <td>-2.400000</td>\n",
              "      <td>49.200000</td>\n",
              "      <td>1.000000</td>\n",
              "      <td>0.000000</td>\n",
              "      <td>0.000000</td>\n",
              "      <td>4.800000</td>\n",
              "      <td>-99.900000</td>\n",
              "      <td>-99.900000</td>\n",
              "      <td>-99.900000</td>\n",
              "    </tr>\n",
              "    <tr>\n",
              "      <th>50%</th>\n",
              "      <td>5.500000</td>\n",
              "      <td>70209.000000</td>\n",
              "      <td>14.700000</td>\n",
              "      <td>7.300000</td>\n",
              "      <td>66.500000</td>\n",
              "      <td>1.800000</td>\n",
              "      <td>0.000000</td>\n",
              "      <td>0.000000</td>\n",
              "      <td>15.500000</td>\n",
              "      <td>0.010000</td>\n",
              "      <td>0.000000</td>\n",
              "      <td>-99.900000</td>\n",
              "    </tr>\n",
              "    <tr>\n",
              "      <th>75%</th>\n",
              "      <td>8.000000</td>\n",
              "      <td>100116.000000</td>\n",
              "      <td>22.200000</td>\n",
              "      <td>17.100000</td>\n",
              "      <td>83.900000</td>\n",
              "      <td>3.000000</td>\n",
              "      <td>0.000000</td>\n",
              "      <td>0.000000</td>\n",
              "      <td>24.300000</td>\n",
              "      <td>0.990000</td>\n",
              "      <td>0.700000</td>\n",
              "      <td>-99.900000</td>\n",
              "    </tr>\n",
              "    <tr>\n",
              "      <th>max</th>\n",
              "      <td>10.000000</td>\n",
              "      <td>123123.000000</td>\n",
              "      <td>39.400000</td>\n",
              "      <td>29.300000</td>\n",
              "      <td>100.000000</td>\n",
              "      <td>24.600000</td>\n",
              "      <td>623.500000</td>\n",
              "      <td>60.000000</td>\n",
              "      <td>65.700000</td>\n",
              "      <td>4.770000</td>\n",
              "      <td>1.000000</td>\n",
              "      <td>37.400000</td>\n",
              "    </tr>\n",
              "  </tbody>\n",
              "</table>\n",
              "</div>\n",
              "      <button class=\"colab-df-convert\" onclick=\"convertToInteractive('df-3a0fde6d-8791-4c42-8878-4f121bda046f')\"\n",
              "              title=\"Convert this dataframe to an interactive table.\"\n",
              "              style=\"display:none;\">\n",
              "        \n",
              "  <svg xmlns=\"http://www.w3.org/2000/svg\" height=\"24px\"viewBox=\"0 0 24 24\"\n",
              "       width=\"24px\">\n",
              "    <path d=\"M0 0h24v24H0V0z\" fill=\"none\"/>\n",
              "    <path d=\"M18.56 5.44l.94 2.06.94-2.06 2.06-.94-2.06-.94-.94-2.06-.94 2.06-2.06.94zm-11 1L8.5 8.5l.94-2.06 2.06-.94-2.06-.94L8.5 2.5l-.94 2.06-2.06.94zm10 10l.94 2.06.94-2.06 2.06-.94-2.06-.94-.94-2.06-.94 2.06-2.06.94z\"/><path d=\"M17.41 7.96l-1.37-1.37c-.4-.4-.92-.59-1.43-.59-.52 0-1.04.2-1.43.59L10.3 9.45l-7.72 7.72c-.78.78-.78 2.05 0 2.83L4 21.41c.39.39.9.59 1.41.59.51 0 1.02-.2 1.41-.59l7.78-7.78 2.81-2.81c.8-.78.8-2.07 0-2.86zM5.41 20L4 18.59l7.72-7.72 1.47 1.35L5.41 20z\"/>\n",
              "  </svg>\n",
              "      </button>\n",
              "      \n",
              "  <style>\n",
              "    .colab-df-container {\n",
              "      display:flex;\n",
              "      flex-wrap:wrap;\n",
              "      gap: 12px;\n",
              "    }\n",
              "\n",
              "    .colab-df-convert {\n",
              "      background-color: #E8F0FE;\n",
              "      border: none;\n",
              "      border-radius: 50%;\n",
              "      cursor: pointer;\n",
              "      display: none;\n",
              "      fill: #1967D2;\n",
              "      height: 32px;\n",
              "      padding: 0 0 0 0;\n",
              "      width: 32px;\n",
              "    }\n",
              "\n",
              "    .colab-df-convert:hover {\n",
              "      background-color: #E2EBFA;\n",
              "      box-shadow: 0px 1px 2px rgba(60, 64, 67, 0.3), 0px 1px 3px 1px rgba(60, 64, 67, 0.15);\n",
              "      fill: #174EA6;\n",
              "    }\n",
              "\n",
              "    [theme=dark] .colab-df-convert {\n",
              "      background-color: #3B4455;\n",
              "      fill: #D2E3FC;\n",
              "    }\n",
              "\n",
              "    [theme=dark] .colab-df-convert:hover {\n",
              "      background-color: #434B5C;\n",
              "      box-shadow: 0px 1px 3px 1px rgba(0, 0, 0, 0.15);\n",
              "      filter: drop-shadow(0px 1px 2px rgba(0, 0, 0, 0.3));\n",
              "      fill: #FFFFFF;\n",
              "    }\n",
              "  </style>\n",
              "\n",
              "      <script>\n",
              "        const buttonEl =\n",
              "          document.querySelector('#df-3a0fde6d-8791-4c42-8878-4f121bda046f button.colab-df-convert');\n",
              "        buttonEl.style.display =\n",
              "          google.colab.kernel.accessAllowed ? 'block' : 'none';\n",
              "\n",
              "        async function convertToInteractive(key) {\n",
              "          const element = document.querySelector('#df-3a0fde6d-8791-4c42-8878-4f121bda046f');\n",
              "          const dataTable =\n",
              "            await google.colab.kernel.invokeFunction('convertToInteractive',\n",
              "                                                     [key], {});\n",
              "          if (!dataTable) return;\n",
              "\n",
              "          const docLinkHtml = 'Like what you see? Visit the ' +\n",
              "            '<a target=\"_blank\" href=https://colab.research.google.com/notebooks/data_table.ipynb>data table notebook</a>'\n",
              "            + ' to learn more about interactive tables.';\n",
              "          element.innerHTML = '';\n",
              "          dataTable['output_type'] = 'display_data';\n",
              "          await google.colab.output.renderOutput(dataTable, element);\n",
              "          const docLink = document.createElement('div');\n",
              "          docLink.innerHTML = docLinkHtml;\n",
              "          element.appendChild(docLink);\n",
              "        }\n",
              "      </script>\n",
              "    </div>\n",
              "  </div>\n",
              "  "
            ]
          },
          "metadata": {},
          "execution_count": 216
        }
      ]
    },
    {
      "cell_type": "code",
      "source": [
        "test.describe()"
      ],
      "metadata": {
        "id": "ua2vlCaZTMJY",
        "colab": {
          "base_uri": "https://localhost:8080/",
          "height": 300
        },
        "outputId": "622f59a0-2ad1-426b-f7a3-c6cd7bcb2bda"
      },
      "execution_count": null,
      "outputs": [
        {
          "output_type": "execute_result",
          "data": {
            "text/plain": [
              "              mmddhh            ta            td            hm            ws  \\\n",
              "count   26280.000000  26280.000000  26280.000000  26280.000000  26280.000000   \n",
              "mean    66843.828767     13.766069      6.529836     64.298569      2.520358   \n",
              "std     34500.845655     10.899467     12.836080     20.380532      4.278442   \n",
              "min     10100.000000    -99.900000    -99.900000    -99.900000    -99.900000   \n",
              "25%     40205.750000      5.900000     -2.800000     49.900000      1.600000   \n",
              "50%     70211.500000     15.200000      7.600000     65.500000      2.500000   \n",
              "75%    100117.250000     22.800000     16.900000     80.300000      3.400000   \n",
              "max    123123.000000     35.400000     26.700000    100.000000     13.200000   \n",
              "\n",
              "                 rn            re            si            ss            sn  \n",
              "count  26280.000000  26280.000000  26280.000000  26280.000000  26280.000000  \n",
              "mean      -3.669814      1.560769    -44.724293    -45.081275    -97.378691  \n",
              "std       19.242398     11.735493     50.334400     49.992807     15.822127  \n",
              "min      -99.900000    -99.000000    -99.900000    -99.900000    -99.900000  \n",
              "25%        0.000000      0.000000    -99.900000    -99.900000    -99.900000  \n",
              "50%        0.000000      0.000000      0.020000      0.000000    -99.900000  \n",
              "75%        0.000000      0.000000      1.130000      0.700000    -99.900000  \n",
              "max       83.200000     60.000000      3.850000      1.000000      8.400000  "
            ],
            "text/html": [
              "\n",
              "  <div id=\"df-6b1a7d88-520e-446d-8c77-dd7079901750\">\n",
              "    <div class=\"colab-df-container\">\n",
              "      <div>\n",
              "<style scoped>\n",
              "    .dataframe tbody tr th:only-of-type {\n",
              "        vertical-align: middle;\n",
              "    }\n",
              "\n",
              "    .dataframe tbody tr th {\n",
              "        vertical-align: top;\n",
              "    }\n",
              "\n",
              "    .dataframe thead th {\n",
              "        text-align: right;\n",
              "    }\n",
              "</style>\n",
              "<table border=\"1\" class=\"dataframe\">\n",
              "  <thead>\n",
              "    <tr style=\"text-align: right;\">\n",
              "      <th></th>\n",
              "      <th>mmddhh</th>\n",
              "      <th>ta</th>\n",
              "      <th>td</th>\n",
              "      <th>hm</th>\n",
              "      <th>ws</th>\n",
              "      <th>rn</th>\n",
              "      <th>re</th>\n",
              "      <th>si</th>\n",
              "      <th>ss</th>\n",
              "      <th>sn</th>\n",
              "    </tr>\n",
              "  </thead>\n",
              "  <tbody>\n",
              "    <tr>\n",
              "      <th>count</th>\n",
              "      <td>26280.000000</td>\n",
              "      <td>26280.000000</td>\n",
              "      <td>26280.000000</td>\n",
              "      <td>26280.000000</td>\n",
              "      <td>26280.000000</td>\n",
              "      <td>26280.000000</td>\n",
              "      <td>26280.000000</td>\n",
              "      <td>26280.000000</td>\n",
              "      <td>26280.000000</td>\n",
              "      <td>26280.000000</td>\n",
              "    </tr>\n",
              "    <tr>\n",
              "      <th>mean</th>\n",
              "      <td>66843.828767</td>\n",
              "      <td>13.766069</td>\n",
              "      <td>6.529836</td>\n",
              "      <td>64.298569</td>\n",
              "      <td>2.520358</td>\n",
              "      <td>-3.669814</td>\n",
              "      <td>1.560769</td>\n",
              "      <td>-44.724293</td>\n",
              "      <td>-45.081275</td>\n",
              "      <td>-97.378691</td>\n",
              "    </tr>\n",
              "    <tr>\n",
              "      <th>std</th>\n",
              "      <td>34500.845655</td>\n",
              "      <td>10.899467</td>\n",
              "      <td>12.836080</td>\n",
              "      <td>20.380532</td>\n",
              "      <td>4.278442</td>\n",
              "      <td>19.242398</td>\n",
              "      <td>11.735493</td>\n",
              "      <td>50.334400</td>\n",
              "      <td>49.992807</td>\n",
              "      <td>15.822127</td>\n",
              "    </tr>\n",
              "    <tr>\n",
              "      <th>min</th>\n",
              "      <td>10100.000000</td>\n",
              "      <td>-99.900000</td>\n",
              "      <td>-99.900000</td>\n",
              "      <td>-99.900000</td>\n",
              "      <td>-99.900000</td>\n",
              "      <td>-99.900000</td>\n",
              "      <td>-99.000000</td>\n",
              "      <td>-99.900000</td>\n",
              "      <td>-99.900000</td>\n",
              "      <td>-99.900000</td>\n",
              "    </tr>\n",
              "    <tr>\n",
              "      <th>25%</th>\n",
              "      <td>40205.750000</td>\n",
              "      <td>5.900000</td>\n",
              "      <td>-2.800000</td>\n",
              "      <td>49.900000</td>\n",
              "      <td>1.600000</td>\n",
              "      <td>0.000000</td>\n",
              "      <td>0.000000</td>\n",
              "      <td>-99.900000</td>\n",
              "      <td>-99.900000</td>\n",
              "      <td>-99.900000</td>\n",
              "    </tr>\n",
              "    <tr>\n",
              "      <th>50%</th>\n",
              "      <td>70211.500000</td>\n",
              "      <td>15.200000</td>\n",
              "      <td>7.600000</td>\n",
              "      <td>65.500000</td>\n",
              "      <td>2.500000</td>\n",
              "      <td>0.000000</td>\n",
              "      <td>0.000000</td>\n",
              "      <td>0.020000</td>\n",
              "      <td>0.000000</td>\n",
              "      <td>-99.900000</td>\n",
              "    </tr>\n",
              "    <tr>\n",
              "      <th>75%</th>\n",
              "      <td>100117.250000</td>\n",
              "      <td>22.800000</td>\n",
              "      <td>16.900000</td>\n",
              "      <td>80.300000</td>\n",
              "      <td>3.400000</td>\n",
              "      <td>0.000000</td>\n",
              "      <td>0.000000</td>\n",
              "      <td>1.130000</td>\n",
              "      <td>0.700000</td>\n",
              "      <td>-99.900000</td>\n",
              "    </tr>\n",
              "    <tr>\n",
              "      <th>max</th>\n",
              "      <td>123123.000000</td>\n",
              "      <td>35.400000</td>\n",
              "      <td>26.700000</td>\n",
              "      <td>100.000000</td>\n",
              "      <td>13.200000</td>\n",
              "      <td>83.200000</td>\n",
              "      <td>60.000000</td>\n",
              "      <td>3.850000</td>\n",
              "      <td>1.000000</td>\n",
              "      <td>8.400000</td>\n",
              "    </tr>\n",
              "  </tbody>\n",
              "</table>\n",
              "</div>\n",
              "      <button class=\"colab-df-convert\" onclick=\"convertToInteractive('df-6b1a7d88-520e-446d-8c77-dd7079901750')\"\n",
              "              title=\"Convert this dataframe to an interactive table.\"\n",
              "              style=\"display:none;\">\n",
              "        \n",
              "  <svg xmlns=\"http://www.w3.org/2000/svg\" height=\"24px\"viewBox=\"0 0 24 24\"\n",
              "       width=\"24px\">\n",
              "    <path d=\"M0 0h24v24H0V0z\" fill=\"none\"/>\n",
              "    <path d=\"M18.56 5.44l.94 2.06.94-2.06 2.06-.94-2.06-.94-.94-2.06-.94 2.06-2.06.94zm-11 1L8.5 8.5l.94-2.06 2.06-.94-2.06-.94L8.5 2.5l-.94 2.06-2.06.94zm10 10l.94 2.06.94-2.06 2.06-.94-2.06-.94-.94-2.06-.94 2.06-2.06.94z\"/><path d=\"M17.41 7.96l-1.37-1.37c-.4-.4-.92-.59-1.43-.59-.52 0-1.04.2-1.43.59L10.3 9.45l-7.72 7.72c-.78.78-.78 2.05 0 2.83L4 21.41c.39.39.9.59 1.41.59.51 0 1.02-.2 1.41-.59l7.78-7.78 2.81-2.81c.8-.78.8-2.07 0-2.86zM5.41 20L4 18.59l7.72-7.72 1.47 1.35L5.41 20z\"/>\n",
              "  </svg>\n",
              "      </button>\n",
              "      \n",
              "  <style>\n",
              "    .colab-df-container {\n",
              "      display:flex;\n",
              "      flex-wrap:wrap;\n",
              "      gap: 12px;\n",
              "    }\n",
              "\n",
              "    .colab-df-convert {\n",
              "      background-color: #E8F0FE;\n",
              "      border: none;\n",
              "      border-radius: 50%;\n",
              "      cursor: pointer;\n",
              "      display: none;\n",
              "      fill: #1967D2;\n",
              "      height: 32px;\n",
              "      padding: 0 0 0 0;\n",
              "      width: 32px;\n",
              "    }\n",
              "\n",
              "    .colab-df-convert:hover {\n",
              "      background-color: #E2EBFA;\n",
              "      box-shadow: 0px 1px 2px rgba(60, 64, 67, 0.3), 0px 1px 3px 1px rgba(60, 64, 67, 0.15);\n",
              "      fill: #174EA6;\n",
              "    }\n",
              "\n",
              "    [theme=dark] .colab-df-convert {\n",
              "      background-color: #3B4455;\n",
              "      fill: #D2E3FC;\n",
              "    }\n",
              "\n",
              "    [theme=dark] .colab-df-convert:hover {\n",
              "      background-color: #434B5C;\n",
              "      box-shadow: 0px 1px 3px 1px rgba(0, 0, 0, 0.15);\n",
              "      filter: drop-shadow(0px 1px 2px rgba(0, 0, 0, 0.3));\n",
              "      fill: #FFFFFF;\n",
              "    }\n",
              "  </style>\n",
              "\n",
              "      <script>\n",
              "        const buttonEl =\n",
              "          document.querySelector('#df-6b1a7d88-520e-446d-8c77-dd7079901750 button.colab-df-convert');\n",
              "        buttonEl.style.display =\n",
              "          google.colab.kernel.accessAllowed ? 'block' : 'none';\n",
              "\n",
              "        async function convertToInteractive(key) {\n",
              "          const element = document.querySelector('#df-6b1a7d88-520e-446d-8c77-dd7079901750');\n",
              "          const dataTable =\n",
              "            await google.colab.kernel.invokeFunction('convertToInteractive',\n",
              "                                                     [key], {});\n",
              "          if (!dataTable) return;\n",
              "\n",
              "          const docLinkHtml = 'Like what you see? Visit the ' +\n",
              "            '<a target=\"_blank\" href=https://colab.research.google.com/notebooks/data_table.ipynb>data table notebook</a>'\n",
              "            + ' to learn more about interactive tables.';\n",
              "          element.innerHTML = '';\n",
              "          dataTable['output_type'] = 'display_data';\n",
              "          await google.colab.output.renderOutput(dataTable, element);\n",
              "          const docLink = document.createElement('div');\n",
              "          docLink.innerHTML = docLinkHtml;\n",
              "          element.appendChild(docLink);\n",
              "        }\n",
              "      </script>\n",
              "    </div>\n",
              "  </div>\n",
              "  "
            ]
          },
          "metadata": {},
          "execution_count": 217
        }
      ]
    },
    {
      "cell_type": "markdown",
      "source": [
        "---\n",
        "# **1. 데이터 정리**\n",
        "\n",
        "* `STN` : 지점번호\n",
        "* `year` : 년도\n",
        "* `mmddhh` : 월/일/시간\n",
        "* `ta` : 1시간 평균 기온(C)\n",
        "* `td` : 1시간 평균 이슬점온도(C)\n",
        "* `hm` : 1시간 평균 상대습도(%)\n",
        "* `WS` : 1시간 평균 풍속(m/s)\n",
        "* `rn` : 1시간 누적 강수량(mm)\n",
        "* `re` : 1시간 누적 강수유무(분)\n",
        "* `ww` : 현천계 현천(S:눈,R:비,F:안개,H:박무,G:연무,C:맑음,X:모름)\n",
        "* `ts` : 1시간 평균 지면온도(C)\n",
        "* `si` : 1시간 누적 일사량(MJ)\n",
        "* `ss` : 1시간 누적 일조량(초)\n",
        "* `sn` : 위시간 :00분에 측정된 적설 깊이(CM)\n"
      ],
      "metadata": {
        "id": "XfyQmOoETP3f"
      }
    },
    {
      "cell_type": "markdown",
      "source": [
        "---\n",
        "# **2. 데이터 살펴보기**"
      ],
      "metadata": {
        "id": "a5QgdaCcTU7C"
      }
    },
    {
      "cell_type": "code",
      "source": [
        "import matplotlib.pyplot as plt\n",
        "\n",
        "train.hist(bins = 50, figsize = (20,20))\n",
        "plt.show()"
      ],
      "metadata": {
        "id": "6-VFLf91TXH8",
        "colab": {
          "base_uri": "https://localhost:8080/",
          "height": 1000
        },
        "outputId": "459b57f9-0b01-48c8-a0c0-b15898a599c1"
      },
      "execution_count": null,
      "outputs": [
        {
          "output_type": "display_data",
          "data": {
            "text/plain": [
              "<Figure size 2000x2000 with 12 Axes>"
            ],
            "image/png": "[encoded data removed]"
          },
          "metadata": {}
        }
      ]
    },
    {
      "cell_type": "code",
      "source": [
        "import seaborn as sns\n",
        "import matplotlib.pyplot as plt\n",
        "%matplotlib inline\n",
        "\n",
        "corr = train.corr()\n",
        "plt.figure(figsize = (14,14))\n",
        "sns.heatmap(corr,annot=True,fmt = '.1g',cmap = 'Blues')"
      ],
      "metadata": {
        "id": "p9BuAz24TaOb",
        "colab": {
          "base_uri": "https://localhost:8080/",
          "height": 1000
        },
        "outputId": "f2852662-5b74-4865-f2ab-36ae30d34847"
      },
      "execution_count": null,
      "outputs": [
        {
          "output_type": "stream",
          "name": "stderr",
          "text": [
            "<ipython-input-219-afad9cb3caa6>:5: FutureWarning: The default value of numeric_only in DataFrame.corr is deprecated. In a future version, it will default to False. Select only valid columns or specify the value of numeric_only to silence this warning.\n",
            "  corr = train.corr()\n"
          ]
        },
        {
          "output_type": "execute_result",
          "data": {
            "text/plain": [
              "<Axes: >"
            ]
          },
          "metadata": {},
          "execution_count": 219
        },
        {
          "output_type": "display_data",
          "data": {
            "text/plain": [
              "<Figure size 1400x1400 with 2 Axes>"
            ],
            "image/png": "[encoded data removed]"
          },
          "metadata": {}
        }
      ]
    },
    {
      "cell_type": "code",
      "source": [
        "# 'ta','td','hm','ws','rn','re' VS. 'mmddhh'\n",
        "\n",
        "import matplotlib.pyplot as plt\n",
        "\n",
        "%matplotlib inline\n",
        "\n",
        "fig, axes = plt.subplots(2,3)\n",
        "\n",
        "train_b = train[train['year']=='B']\n",
        "\n",
        "x = train_b['mmddhh']\n",
        "y = train_b['ta'] # 평균기온\n",
        "axes[0][0].scatter(x,y)\n",
        "axes[0,0].set_title(\"ta\")\n",
        "axes[0,0].get_xaxis().set_visible(False)\n",
        "\n",
        "x = train_b['mmddhh']\n",
        "y = train_b['td'] # 이슬점온도\n",
        "axes[0][1].scatter(x,y)\n",
        "axes[0, 1].set_title(\"td\")\n",
        "axes[0,1].get_xaxis().set_visible(False)\n",
        "\n",
        "x = train_b['mmddhh']\n",
        "y = train_b['hm'] # 상대습도\n",
        "axes[0][2].scatter(x,y)\n",
        "axes[0, 2].set_title(\"hm\")\n",
        "axes[0,2].get_xaxis().set_visible(False)\n",
        "\n",
        "x = train_b['mmddhh']\n",
        "y = train_b['ws'] # 풍속\n",
        "axes[1][0].scatter(x,y)\n",
        "axes[1, 0].set_title(\"ws\")\n",
        "axes[1,0].get_xaxis().set_visible(False)\n",
        "\n",
        "x = train_b['mmddhh']\n",
        "y = train_b['rn'] # 강수량\n",
        "axes[1][1].scatter(x,y)\n",
        "axes[1, 1].set_title(\"rn\")\n",
        "axes[1,1].get_xaxis().set_visible(False)\n",
        "\n",
        "x = train_b['mmddhh']\n",
        "y = train_b['re'] # 강수유무\n",
        "axes[1][2].scatter(x,y)\n",
        "axes[1, 2].set_title(\"re\")\n",
        "axes[1,2].get_xaxis().set_visible(False)\n",
        "\n",
        "plt.show()\n",
        "\n",
        "# re 제외하고 모두 계절별 유의미한 패턴이 보인다"
      ],
      "metadata": {
        "colab": {
          "base_uri": "https://localhost:8080/",
          "height": 430
        },
        "id": "EyDr53vtldkn",
        "outputId": "bfadfd0a-ac8a-48a4-b5d6-b4ee92df0198"
      },
      "execution_count": null,
      "outputs": [
        {
          "output_type": "display_data",
          "data": {
            "text/plain": [
              "<Figure size 640x480 with 6 Axes>"
            ],
            "image/png": "[encoded data removed]"
          },
          "metadata": {}
        }
      ]
    },
    {
      "cell_type": "markdown",
      "source": [
        "---\n",
        "# **3. 데이터 전처리**"
      ],
      "metadata": {
        "id": "hlIrvP_ETiQv"
      }
    },
    {
      "cell_type": "markdown",
      "source": [
        "## 0) 사전 조사"
      ],
      "metadata": {
        "id": "CvWimlgrTpxE"
      }
    },
    {
      "cell_type": "markdown",
      "source": [
        "- 평균 **기온**과 평균 **이슬점 온도** : 0.9\n",
        "- 평균 **이슬점온도**와 **상대습도** : 0.6\n",
        "- *평균지면온도*와 평균 기온 : 0.9\n",
        "- *평균지면온도*와 평균 이슬점온도 : 0.8\n",
        "→ 이슬점 온도와 기온&상대습도 상관관계 처리 필요\n",
        "\n",
        "* TA&TD&HM&WS&RN&RE&TS 칼럼 -> 공통적으로 결측치가 있는 칼럼은 8100 가량으로 전체 관측치의 1% *제거 혹은 결측치 대체 필요*\n",
        "* 적설량을 나타내는 **SN 칼럼**은 겨울"
      ],
      "metadata": {
        "id": "PiYQyNILT5CA"
      }
    },
    {
      "cell_type": "markdown",
      "source": [
        "## 1) 결측치 처리"
      ],
      "metadata": {
        "id": "iIcpaOpMTkVN"
      }
    },
    {
      "cell_type": "markdown",
      "source": [
        "### (1) TA&TD&HM&WS&RN&RE&TS : DROP"
      ],
      "metadata": {
        "id": "Hq7u9gABUYyr"
      }
    },
    {
      "cell_type": "code",
      "source": [
        "#TA : 결측치 630개 존재\n",
        "\n",
        "sum(train[\"ta\"] <= -99.9)"
      ],
      "metadata": {
        "id": "igF53yFJUmJc",
        "colab": {
          "base_uri": "https://localhost:8080/"
        },
        "outputId": "b59ab939-d84d-491f-9f35-367b0b005935"
      },
      "execution_count": null,
      "outputs": [
        {
          "output_type": "execute_result",
          "data": {
            "text/plain": [
              "630"
            ]
          },
          "metadata": {},
          "execution_count": 221
        }
      ]
    },
    {
      "cell_type": "code",
      "source": [
        "#TD: 결측치 646개 존재\n",
        "\n",
        "sum(train[\"td\"] <= -99.9)"
      ],
      "metadata": {
        "id": "Fq_CvlIxUn-N",
        "colab": {
          "base_uri": "https://localhost:8080/"
        },
        "outputId": "b6979e57-8b18-4b5e-f721-afc8575f09c8"
      },
      "execution_count": null,
      "outputs": [
        {
          "output_type": "execute_result",
          "data": {
            "text/plain": [
              "646"
            ]
          },
          "metadata": {},
          "execution_count": 222
        }
      ]
    },
    {
      "cell_type": "code",
      "source": [
        "#HM: 결측치 578개 존재\n",
        "\n",
        "sum(train[\"hm\"] <= -99.9)"
      ],
      "metadata": {
        "id": "QU0vik48Upu8",
        "colab": {
          "base_uri": "https://localhost:8080/"
        },
        "outputId": "2f5b1aef-2290-4fd1-cc84-2e72977446ec"
      },
      "execution_count": null,
      "outputs": [
        {
          "output_type": "execute_result",
          "data": {
            "text/plain": [
              "578"
            ]
          },
          "metadata": {},
          "execution_count": 223
        }
      ]
    },
    {
      "cell_type": "code",
      "source": [
        "#WS: 결측치 1007개 존재\n",
        "\n",
        "sum(train[\"ws\"] <= -99.9)"
      ],
      "metadata": {
        "id": "v7-ON-orUqw0",
        "colab": {
          "base_uri": "https://localhost:8080/"
        },
        "outputId": "81aafd9e-fc84-4cd8-dcc1-2f9db601a6c1"
      },
      "execution_count": null,
      "outputs": [
        {
          "output_type": "execute_result",
          "data": {
            "text/plain": [
              "1007"
            ]
          },
          "metadata": {},
          "execution_count": 224
        }
      ]
    },
    {
      "cell_type": "code",
      "source": [
        "#RN: 결측치 7416개 존재\n",
        "\n",
        "sum(train[\"rn\"] <= -99.9)"
      ],
      "metadata": {
        "id": "862im5-JUsOI",
        "colab": {
          "base_uri": "https://localhost:8080/"
        },
        "outputId": "08cb3d7b-b977-4609-e8c5-6ba6eefae4f5"
      },
      "execution_count": null,
      "outputs": [
        {
          "output_type": "execute_result",
          "data": {
            "text/plain": [
              "7416"
            ]
          },
          "metadata": {},
          "execution_count": 225
        }
      ]
    },
    {
      "cell_type": "code",
      "source": [
        "#RE: 결측치 2139개 존재\n",
        "\n",
        "sum(train[\"re\"] <= -99)"
      ],
      "metadata": {
        "id": "71VKJkKjUt1Z",
        "colab": {
          "base_uri": "https://localhost:8080/"
        },
        "outputId": "d88ee51e-31c9-4211-c0b8-e26f15c47286"
      },
      "execution_count": null,
      "outputs": [
        {
          "output_type": "execute_result",
          "data": {
            "text/plain": [
              "2139"
            ]
          },
          "metadata": {},
          "execution_count": 226
        }
      ]
    },
    {
      "cell_type": "code",
      "source": [
        "#TS: 결측치 627개 존재\n",
        "\n",
        "sum(train[\"ts\"] <= -99.9)"
      ],
      "metadata": {
        "id": "m8WzyouFUu44",
        "colab": {
          "base_uri": "https://localhost:8080/"
        },
        "outputId": "dcaa8ab5-4fe7-44a0-aa86-08489556dc62"
      },
      "execution_count": null,
      "outputs": [
        {
          "output_type": "execute_result",
          "data": {
            "text/plain": [
              "627"
            ]
          },
          "metadata": {},
          "execution_count": 227
        }
      ]
    },
    {
      "cell_type": "code",
      "source": [
        "#하나라도 결측치가 있는 관측치 갯수 : 8165\n",
        "\n",
        "columns =  [\"ta\",\"td\",\"hm\",\"ws\",\"rn\",\"re\",\"ts\"]\n",
        "\n",
        "train.loc[(train[\"ta\"] < -99 ) | (train[\"td\"] < -99 )| (train[\"hm\"] < -99 )| (train[\"ws\"] < -99 ) | (train[\"rn\"] < -99 ) | (train[\"re\"] < -99 ) ]"
      ],
      "metadata": {
        "id": "7XzhBQVMUwjp",
        "colab": {
          "base_uri": "https://localhost:8080/",
          "height": 423
        },
        "outputId": "289852ba-73a3-4a61-c7b8-5e596fbfd9ec"
      },
      "execution_count": null,
      "outputs": [
        {
          "output_type": "execute_result",
          "data": {
            "text/plain": [
              "        stn year  mmddhh    ta    td    hm    ws    rn  re ww    ts     si  \\\n",
              "1000      1    A   31415 -99.9 -99.9 -99.9 -99.9   0.0 -99  C -99.9 -99.90   \n",
              "1745      1    A   41416 -99.9 -99.9 -99.9 -99.9   0.3 -99  R -99.9   0.11   \n",
              "4234      1    A   72709 -99.9 -99.9 -99.9 -99.9   0.0 -99  C -99.9   0.99   \n",
              "4853      1    A   82204  23.1  23.1  99.9   0.6 -99.9   0  F  23.1 -99.90   \n",
              "4854      1    A   82205  22.8  22.8  99.9   0.4 -99.9   0  F  23.2 -99.90   \n",
              "...     ...  ...     ...   ...   ...   ...   ...   ...  .. ..   ...    ...   \n",
              "437804   10    F   11319  -1.4  -9.9  52.3   7.9 -99.9   0  C  -1.2 -99.90   \n",
              "437805   10    F   11320  -1.7  -9.8  53.8   5.9 -99.9   0  C  -1.3 -99.90   \n",
              "438063   10    F   12414   7.6  -2.1  50.1 -99.9   0.0   0  C  13.9   1.27   \n",
              "438064   10    F   12415   8.0  -2.6  47.2 -99.9   0.0   0  C  14.2   1.30   \n",
              "438101   10    F   12604   4.0  -2.6  62.1   6.1 -99.9   0  G   1.9 -99.90   \n",
              "\n",
              "          ss    sn  \n",
              "1000   -99.9 -99.9  \n",
              "1745     0.0 -99.9  \n",
              "4234     0.1 -99.9  \n",
              "4853   -99.9 -99.9  \n",
              "4854   -99.9 -99.9  \n",
              "...      ...   ...  \n",
              "437804 -99.9 -99.9  \n",
              "437805 -99.9 -99.9  \n",
              "438063   0.0 -99.9  \n",
              "438064   0.5 -99.9  \n",
              "438101 -99.9 -99.9  \n",
              "\n",
              "[8165 rows x 14 columns]"
            ],
            "text/html": [
              "\n",
              "  <div id=\"df-745fcd41-f521-4d71-868e-a4136f57ce3b\">\n",
              "    <div class=\"colab-df-container\">\n",
              "      <div>\n",
              "<style scoped>\n",
              "    .dataframe tbody tr th:only-of-type {\n",
              "        vertical-align: middle;\n",
              "    }\n",
              "\n",
              "    .dataframe tbody tr th {\n",
              "        vertical-align: top;\n",
              "    }\n",
              "\n",
              "    .dataframe thead th {\n",
              "        text-align: right;\n",
              "    }\n",
              "</style>\n",
              "<table border=\"1\" class=\"dataframe\">\n",
              "  <thead>\n",
              "    <tr style=\"text-align: right;\">\n",
              "      <th></th>\n",
              "      <th>stn</th>\n",
              "      <th>year</th>\n",
              "      <th>mmddhh</th>\n",
              "      <th>ta</th>\n",
              "      <th>td</th>\n",
              "      <th>hm</th>\n",
              "      <th>ws</th>\n",
              "      <th>rn</th>\n",
              "      <th>re</th>\n",
              "      <th>ww</th>\n",
              "      <th>ts</th>\n",
              "      <th>si</th>\n",
              "      <th>ss</th>\n",
              "      <th>sn</th>\n",
              "    </tr>\n",
              "  </thead>\n",
              "  <tbody>\n",
              "    <tr>\n",
              "      <th>1000</th>\n",
              "      <td>1</td>\n",
              "      <td>A</td>\n",
              "      <td>31415</td>\n",
              "      <td>-99.9</td>\n",
              "      <td>-99.9</td>\n",
              "      <td>-99.9</td>\n",
              "      <td>-99.9</td>\n",
              "      <td>0.0</td>\n",
              "      <td>-99</td>\n",
              "      <td>C</td>\n",
              "      <td>-99.9</td>\n",
              "      <td>-99.90</td>\n",
              "      <td>-99.9</td>\n",
              "      <td>-99.9</td>\n",
              "    </tr>\n",
              "    <tr>\n",
              "      <th>1745</th>\n",
              "      <td>1</td>\n",
              "      <td>A</td>\n",
              "      <td>41416</td>\n",
              "      <td>-99.9</td>\n",
              "      <td>-99.9</td>\n",
              "      <td>-99.9</td>\n",
              "      <td>-99.9</td>\n",
              "      <td>0.3</td>\n",
              "      <td>-99</td>\n",
              "      <td>R</td>\n",
              "      <td>-99.9</td>\n",
              "      <td>0.11</td>\n",
              "      <td>0.0</td>\n",
              "      <td>-99.9</td>\n",
              "    </tr>\n",
              "    <tr>\n",
              "      <th>4234</th>\n",
              "      <td>1</td>\n",
              "      <td>A</td>\n",
              "      <td>72709</td>\n",
              "      <td>-99.9</td>\n",
              "      <td>-99.9</td>\n",
              "      <td>-99.9</td>\n",
              "      <td>-99.9</td>\n",
              "      <td>0.0</td>\n",
              "      <td>-99</td>\n",
              "      <td>C</td>\n",
              "      <td>-99.9</td>\n",
              "      <td>0.99</td>\n",
              "      <td>0.1</td>\n",
              "      <td>-99.9</td>\n",
              "    </tr>\n",
              "    <tr>\n",
              "      <th>4853</th>\n",
              "      <td>1</td>\n",
              "      <td>A</td>\n",
              "      <td>82204</td>\n",
              "      <td>23.1</td>\n",
              "      <td>23.1</td>\n",
              "      <td>99.9</td>\n",
              "      <td>0.6</td>\n",
              "      <td>-99.9</td>\n",
              "      <td>0</td>\n",
              "      <td>F</td>\n",
              "      <td>23.1</td>\n",
              "      <td>-99.90</td>\n",
              "      <td>-99.9</td>\n",
              "      <td>-99.9</td>\n",
              "    </tr>\n",
              "    <tr>\n",
              "      <th>4854</th>\n",
              "      <td>1</td>\n",
              "      <td>A</td>\n",
              "      <td>82205</td>\n",
              "      <td>22.8</td>\n",
              "      <td>22.8</td>\n",
              "      <td>99.9</td>\n",
              "      <td>0.4</td>\n",
              "      <td>-99.9</td>\n",
              "      <td>0</td>\n",
              "      <td>F</td>\n",
              "      <td>23.2</td>\n",
              "      <td>-99.90</td>\n",
              "      <td>-99.9</td>\n",
              "      <td>-99.9</td>\n",
              "    </tr>\n",
              "    <tr>\n",
              "      <th>...</th>\n",
              "      <td>...</td>\n",
              "      <td>...</td>\n",
              "      <td>...</td>\n",
              "      <td>...</td>\n",
              "      <td>...</td>\n",
              "      <td>...</td>\n",
              "      <td>...</td>\n",
              "      <td>...</td>\n",
              "      <td>...</td>\n",
              "      <td>...</td>\n",
              "      <td>...</td>\n",
              "      <td>...</td>\n",
              "      <td>...</td>\n",
              "      <td>...</td>\n",
              "    </tr>\n",
              "    <tr>\n",
              "      <th>437804</th>\n",
              "      <td>10</td>\n",
              "      <td>F</td>\n",
              "      <td>11319</td>\n",
              "      <td>-1.4</td>\n",
              "      <td>-9.9</td>\n",
              "      <td>52.3</td>\n",
              "      <td>7.9</td>\n",
              "      <td>-99.9</td>\n",
              "      <td>0</td>\n",
              "      <td>C</td>\n",
              "      <td>-1.2</td>\n",
              "      <td>-99.90</td>\n",
              "      <td>-99.9</td>\n",
              "      <td>-99.9</td>\n",
              "    </tr>\n",
              "    <tr>\n",
              "      <th>437805</th>\n",
              "      <td>10</td>\n",
              "      <td>F</td>\n",
              "      <td>11320</td>\n",
              "      <td>-1.7</td>\n",
              "      <td>-9.8</td>\n",
              "      <td>53.8</td>\n",
              "      <td>5.9</td>\n",
              "      <td>-99.9</td>\n",
              "      <td>0</td>\n",
              "      <td>C</td>\n",
              "      <td>-1.3</td>\n",
              "      <td>-99.90</td>\n",
              "      <td>-99.9</td>\n",
              "      <td>-99.9</td>\n",
              "    </tr>\n",
              "    <tr>\n",
              "      <th>438063</th>\n",
              "      <td>10</td>\n",
              "      <td>F</td>\n",
              "      <td>12414</td>\n",
              "      <td>7.6</td>\n",
              "      <td>-2.1</td>\n",
              "      <td>50.1</td>\n",
              "      <td>-99.9</td>\n",
              "      <td>0.0</td>\n",
              "      <td>0</td>\n",
              "      <td>C</td>\n",
              "      <td>13.9</td>\n",
              "      <td>1.27</td>\n",
              "      <td>0.0</td>\n",
              "      <td>-99.9</td>\n",
              "    </tr>\n",
              "    <tr>\n",
              "      <th>438064</th>\n",
              "      <td>10</td>\n",
              "      <td>F</td>\n",
              "      <td>12415</td>\n",
              "      <td>8.0</td>\n",
              "      <td>-2.6</td>\n",
              "      <td>47.2</td>\n",
              "      <td>-99.9</td>\n",
              "      <td>0.0</td>\n",
              "      <td>0</td>\n",
              "      <td>C</td>\n",
              "      <td>14.2</td>\n",
              "      <td>1.30</td>\n",
              "      <td>0.5</td>\n",
              "      <td>-99.9</td>\n",
              "    </tr>\n",
              "    <tr>\n",
              "      <th>438101</th>\n",
              "      <td>10</td>\n",
              "      <td>F</td>\n",
              "      <td>12604</td>\n",
              "      <td>4.0</td>\n",
              "      <td>-2.6</td>\n",
              "      <td>62.1</td>\n",
              "      <td>6.1</td>\n",
              "      <td>-99.9</td>\n",
              "      <td>0</td>\n",
              "      <td>G</td>\n",
              "      <td>1.9</td>\n",
              "      <td>-99.90</td>\n",
              "      <td>-99.9</td>\n",
              "      <td>-99.9</td>\n",
              "    </tr>\n",
              "  </tbody>\n",
              "</table>\n",
              "<p>8165 rows × 14 columns</p>\n",
              "</div>\n",
              "      <button class=\"colab-df-convert\" onclick=\"convertToInteractive('df-745fcd41-f521-4d71-868e-a4136f57ce3b')\"\n",
              "              title=\"Convert this dataframe to an interactive table.\"\n",
              "              style=\"display:none;\">\n",
              "        \n",
              "  <svg xmlns=\"http://www.w3.org/2000/svg\" height=\"24px\"viewBox=\"0 0 24 24\"\n",
              "       width=\"24px\">\n",
              "    <path d=\"M0 0h24v24H0V0z\" fill=\"none\"/>\n",
              "    <path d=\"M18.56 5.44l.94 2.06.94-2.06 2.06-.94-2.06-.94-.94-2.06-.94 2.06-2.06.94zm-11 1L8.5 8.5l.94-2.06 2.06-.94-2.06-.94L8.5 2.5l-.94 2.06-2.06.94zm10 10l.94 2.06.94-2.06 2.06-.94-2.06-.94-.94-2.06-.94 2.06-2.06.94z\"/><path d=\"M17.41 7.96l-1.37-1.37c-.4-.4-.92-.59-1.43-.59-.52 0-1.04.2-1.43.59L10.3 9.45l-7.72 7.72c-.78.78-.78 2.05 0 2.83L4 21.41c.39.39.9.59 1.41.59.51 0 1.02-.2 1.41-.59l7.78-7.78 2.81-2.81c.8-.78.8-2.07 0-2.86zM5.41 20L4 18.59l7.72-7.72 1.47 1.35L5.41 20z\"/>\n",
              "  </svg>\n",
              "      </button>\n",
              "      \n",
              "  <style>\n",
              "    .colab-df-container {\n",
              "      display:flex;\n",
              "      flex-wrap:wrap;\n",
              "      gap: 12px;\n",
              "    }\n",
              "\n",
              "    .colab-df-convert {\n",
              "      background-color: #E8F0FE;\n",
              "      border: none;\n",
              "      border-radius: 50%;\n",
              "      cursor: pointer;\n",
              "      display: none;\n",
              "      fill: #1967D2;\n",
              "      height: 32px;\n",
              "      padding: 0 0 0 0;\n",
              "      width: 32px;\n",
              "    }\n",
              "\n",
              "    .colab-df-convert:hover {\n",
              "      background-color: #E2EBFA;\n",
              "      box-shadow: 0px 1px 2px rgba(60, 64, 67, 0.3), 0px 1px 3px 1px rgba(60, 64, 67, 0.15);\n",
              "      fill: #174EA6;\n",
              "    }\n",
              "\n",
              "    [theme=dark] .colab-df-convert {\n",
              "      background-color: #3B4455;\n",
              "      fill: #D2E3FC;\n",
              "    }\n",
              "\n",
              "    [theme=dark] .colab-df-convert:hover {\n",
              "      background-color: #434B5C;\n",
              "      box-shadow: 0px 1px 3px 1px rgba(0, 0, 0, 0.15);\n",
              "      filter: drop-shadow(0px 1px 2px rgba(0, 0, 0, 0.3));\n",
              "      fill: #FFFFFF;\n",
              "    }\n",
              "  </style>\n",
              "\n",
              "      <script>\n",
              "        const buttonEl =\n",
              "          document.querySelector('#df-745fcd41-f521-4d71-868e-a4136f57ce3b button.colab-df-convert');\n",
              "        buttonEl.style.display =\n",
              "          google.colab.kernel.accessAllowed ? 'block' : 'none';\n",
              "\n",
              "        async function convertToInteractive(key) {\n",
              "          const element = document.querySelector('#df-745fcd41-f521-4d71-868e-a4136f57ce3b');\n",
              "          const dataTable =\n",
              "            await google.colab.kernel.invokeFunction('convertToInteractive',\n",
              "                                                     [key], {});\n",
              "          if (!dataTable) return;\n",
              "\n",
              "          const docLinkHtml = 'Like what you see? Visit the ' +\n",
              "            '<a target=\"_blank\" href=https://colab.research.google.com/notebooks/data_table.ipynb>data table notebook</a>'\n",
              "            + ' to learn more about interactive tables.';\n",
              "          element.innerHTML = '';\n",
              "          dataTable['output_type'] = 'display_data';\n",
              "          await google.colab.output.renderOutput(dataTable, element);\n",
              "          const docLink = document.createElement('div');\n",
              "          docLink.innerHTML = docLinkHtml;\n",
              "          element.appendChild(docLink);\n",
              "        }\n",
              "      </script>\n",
              "    </div>\n",
              "  </div>\n",
              "  "
            ]
          },
          "metadata": {},
          "execution_count": 228
        }
      ]
    },
    {
      "cell_type": "markdown",
      "source": [
        "* 특정 행 **DROP**하기"
      ],
      "metadata": {
        "id": "ZCYcOc7NU3L8"
      }
    },
    {
      "cell_type": "code",
      "source": [
        "index = train.loc[(train[\"ta\"] < -98 ) | (train[\"td\"] < -98 )| (train[\"hm\"] < -98 )| (train[\"ws\"] < -98 ) | (train[\"rn\"] < -98 ) | (train[\"re\"] < -98 ) ].index\n",
        "\n",
        "train.drop(index,inplace = True)"
      ],
      "metadata": {
        "id": "9rH1Py2hU4wr"
      },
      "execution_count": null,
      "outputs": []
    },
    {
      "cell_type": "markdown",
      "source": [
        "* **test**는 submission과의 일치를 위해 결측치 0으로 대체\n"
      ],
      "metadata": {
        "id": "nd8PXFwbQKWA"
      }
    },
    {
      "cell_type": "code",
      "source": [
        "index_ta = test.loc[(test['ta'] < -98)].index\n",
        "index_td = test.loc[(test['td'] < -98)].index\n",
        "index_ws = test.loc[test['ws'] < -98].index\n",
        "index_hm = test.loc[test['hm'] < -98].index\n",
        "index_rn = test.loc[test['rn'] < -98].index\n",
        "index_re = test.loc[test['re'] < -98].index\n",
        "\n",
        "test.loc[index_ta,'ta'] = 0\n",
        "test.loc[index_td,'td'] = 0\n",
        "test.loc[index_ws,'ws'] = 0\n",
        "test.loc[index_hm,'hm'] = 0\n",
        "test.loc[index_rn,'rn'] = 0\n",
        "test.loc[index_re,'re'] = 0"
      ],
      "metadata": {
        "id": "bkECS8YZz6Hj"
      },
      "execution_count": null,
      "outputs": []
    },
    {
      "cell_type": "markdown",
      "source": [
        "### (2) SI : 계절별 평균으로 대체"
      ],
      "metadata": {
        "id": "g5Aj-25tUcvf"
      }
    },
    {
      "cell_type": "code",
      "source": [
        "#갯수 매우 많음\n",
        "sum(train['si'] < 0)"
      ],
      "metadata": {
        "id": "dAc8jwQsU83L",
        "colab": {
          "base_uri": "https://localhost:8080/"
        },
        "outputId": "7cc7b0ad-d322-4c81-c207-fe921244c26e"
      },
      "execution_count": null,
      "outputs": [
        {
          "output_type": "execute_result",
          "data": {
            "text/plain": [
              "196020"
            ]
          },
          "metadata": {},
          "execution_count": 231
        }
      ]
    },
    {
      "cell_type": "code",
      "source": [
        "import matplotlib.pyplot as plt\n",
        "si_Y = train[train['si'] >= 0]\n",
        "season = []\n",
        "for i in si_Y['mmddhh'] :\n",
        "  if i < 20100 :\n",
        "    season.append(\"winter\")\n",
        "  elif i < 50100 :\n",
        "    season.append('spring')\n",
        "  elif i < 80100 :\n",
        "    season.append('summer')\n",
        "  elif i < 110100 :\n",
        "    season.append('fall')\n",
        "  else :\n",
        "    season.append(\"winter\")\n",
        "\n",
        "si_Y['season'] = season\n",
        "plt.scatter(x = 'season',y = 'si',data = si_Y)"
      ],
      "metadata": {
        "id": "g9kKcPu1VRlZ",
        "colab": {
          "base_uri": "https://localhost:8080/",
          "height": 566
        },
        "outputId": "ceacc3f7-6a6a-4683-e863-62945b384028"
      },
      "execution_count": null,
      "outputs": [
        {
          "output_type": "stream",
          "name": "stderr",
          "text": [
            "<ipython-input-5-215016b6c657>:16: SettingWithCopyWarning: \n",
            "A value is trying to be set on a copy of a slice from a DataFrame.\n",
            "Try using .loc[row_indexer,col_indexer] = value instead\n",
            "\n",
            "See the caveats in the documentation: https://pandas.pydata.org/pandas-docs/stable/user_guide/indexing.html#returning-a-view-versus-a-copy\n",
            "  si_Y['season'] = season\n"
          ]
        },
        {
          "output_type": "execute_result",
          "data": {
            "text/plain": [
              "<matplotlib.collections.PathCollection at 0x7f1ccfe2f490>"
            ]
          },
          "metadata": {},
          "execution_count": 5
        },
        {
          "output_type": "display_data",
          "data": {
            "text/plain": [
              "<Figure size 640x480 with 1 Axes>"
            ],
            "image/png": "[encoded data removed]"
          },
          "metadata": {}
        }
      ]
    },
    {
      "cell_type": "code",
      "source": [
        "si_Y.groupby('season')[['si']].mean()"
      ],
      "metadata": {
        "id": "GW5jbxqNYObF",
        "colab": {
          "base_uri": "https://localhost:8080/",
          "height": 206
        },
        "outputId": "50fb31c0-d0c3-4d8c-93a0-52e0db497683"
      },
      "execution_count": null,
      "outputs": [
        {
          "output_type": "execute_result",
          "data": {
            "text/plain": [
              "              si\n",
              "season          \n",
              "fall    1.047717\n",
              "spring  1.168466\n",
              "summer  1.260919\n",
              "winter  0.810904"
            ],
            "text/html": [
              "\n",
              "  <div id=\"df-4ae546ce-5499-406a-a555-3af1879054f8\">\n",
              "    <div class=\"colab-df-container\">\n",
              "      <div>\n",
              "<style scoped>\n",
              "    .dataframe tbody tr th:only-of-type {\n",
              "        vertical-align: middle;\n",
              "    }\n",
              "\n",
              "    .dataframe tbody tr th {\n",
              "        vertical-align: top;\n",
              "    }\n",
              "\n",
              "    .dataframe thead th {\n",
              "        text-align: right;\n",
              "    }\n",
              "</style>\n",
              "<table border=\"1\" class=\"dataframe\">\n",
              "  <thead>\n",
              "    <tr style=\"text-align: right;\">\n",
              "      <th></th>\n",
              "      <th>si</th>\n",
              "    </tr>\n",
              "    <tr>\n",
              "      <th>season</th>\n",
              "      <th></th>\n",
              "    </tr>\n",
              "  </thead>\n",
              "  <tbody>\n",
              "    <tr>\n",
              "      <th>fall</th>\n",
              "      <td>1.047717</td>\n",
              "    </tr>\n",
              "    <tr>\n",
              "      <th>spring</th>\n",
              "      <td>1.168466</td>\n",
              "    </tr>\n",
              "    <tr>\n",
              "      <th>summer</th>\n",
              "      <td>1.260919</td>\n",
              "    </tr>\n",
              "    <tr>\n",
              "      <th>winter</th>\n",
              "      <td>0.810904</td>\n",
              "    </tr>\n",
              "  </tbody>\n",
              "</table>\n",
              "</div>\n",
              "      <button class=\"colab-df-convert\" onclick=\"convertToInteractive('df-4ae546ce-5499-406a-a555-3af1879054f8')\"\n",
              "              title=\"Convert this dataframe to an interactive table.\"\n",
              "              style=\"display:none;\">\n",
              "        \n",
              "  <svg xmlns=\"http://www.w3.org/2000/svg\" height=\"24px\"viewBox=\"0 0 24 24\"\n",
              "       width=\"24px\">\n",
              "    <path d=\"M0 0h24v24H0V0z\" fill=\"none\"/>\n",
              "    <path d=\"M18.56 5.44l.94 2.06.94-2.06 2.06-.94-2.06-.94-.94-2.06-.94 2.06-2.06.94zm-11 1L8.5 8.5l.94-2.06 2.06-.94-2.06-.94L8.5 2.5l-.94 2.06-2.06.94zm10 10l.94 2.06.94-2.06 2.06-.94-2.06-.94-.94-2.06-.94 2.06-2.06.94z\"/><path d=\"M17.41 7.96l-1.37-1.37c-.4-.4-.92-.59-1.43-.59-.52 0-1.04.2-1.43.59L10.3 9.45l-7.72 7.72c-.78.78-.78 2.05 0 2.83L4 21.41c.39.39.9.59 1.41.59.51 0 1.02-.2 1.41-.59l7.78-7.78 2.81-2.81c.8-.78.8-2.07 0-2.86zM5.41 20L4 18.59l7.72-7.72 1.47 1.35L5.41 20z\"/>\n",
              "  </svg>\n",
              "      </button>\n",
              "      \n",
              "  <style>\n",
              "    .colab-df-container {\n",
              "      display:flex;\n",
              "      flex-wrap:wrap;\n",
              "      gap: 12px;\n",
              "    }\n",
              "\n",
              "    .colab-df-convert {\n",
              "      background-color: #E8F0FE;\n",
              "      border: none;\n",
              "      border-radius: 50%;\n",
              "      cursor: pointer;\n",
              "      display: none;\n",
              "      fill: #1967D2;\n",
              "      height: 32px;\n",
              "      padding: 0 0 0 0;\n",
              "      width: 32px;\n",
              "    }\n",
              "\n",
              "    .colab-df-convert:hover {\n",
              "      background-color: #E2EBFA;\n",
              "      box-shadow: 0px 1px 2px rgba(60, 64, 67, 0.3), 0px 1px 3px 1px rgba(60, 64, 67, 0.15);\n",
              "      fill: #174EA6;\n",
              "    }\n",
              "\n",
              "    [theme=dark] .colab-df-convert {\n",
              "      background-color: #3B4455;\n",
              "      fill: #D2E3FC;\n",
              "    }\n",
              "\n",
              "    [theme=dark] .colab-df-convert:hover {\n",
              "      background-color: #434B5C;\n",
              "      box-shadow: 0px 1px 3px 1px rgba(0, 0, 0, 0.15);\n",
              "      filter: drop-shadow(0px 1px 2px rgba(0, 0, 0, 0.3));\n",
              "      fill: #FFFFFF;\n",
              "    }\n",
              "  </style>\n",
              "\n",
              "      <script>\n",
              "        const buttonEl =\n",
              "          document.querySelector('#df-4ae546ce-5499-406a-a555-3af1879054f8 button.colab-df-convert');\n",
              "        buttonEl.style.display =\n",
              "          google.colab.kernel.accessAllowed ? 'block' : 'none';\n",
              "\n",
              "        async function convertToInteractive(key) {\n",
              "          const element = document.querySelector('#df-4ae546ce-5499-406a-a555-3af1879054f8');\n",
              "          const dataTable =\n",
              "            await google.colab.kernel.invokeFunction('convertToInteractive',\n",
              "                                                     [key], {});\n",
              "          if (!dataTable) return;\n",
              "\n",
              "          const docLinkHtml = 'Like what you see? Visit the ' +\n",
              "            '<a target=\"_blank\" href=https://colab.research.google.com/notebooks/data_table.ipynb>data table notebook</a>'\n",
              "            + ' to learn more about interactive tables.';\n",
              "          element.innerHTML = '';\n",
              "          dataTable['output_type'] = 'display_data';\n",
              "          await google.colab.output.renderOutput(dataTable, element);\n",
              "          const docLink = document.createElement('div');\n",
              "          docLink.innerHTML = docLinkHtml;\n",
              "          element.appendChild(docLink);\n",
              "        }\n",
              "      </script>\n",
              "    </div>\n",
              "  </div>\n",
              "  "
            ]
          },
          "metadata": {},
          "execution_count": 233
        }
      ]
    },
    {
      "cell_type": "markdown",
      "source": [
        "* 계절별 평균으로 결측치 대체"
      ],
      "metadata": {
        "id": "NFblY3pMWxQQ"
      }
    },
    {
      "cell_type": "code",
      "source": [
        "season = []\n",
        "for i in train['mmddhh'] :\n",
        "  if i < 20100 :\n",
        "    season.append(\"winter\")\n",
        "  elif i < 60100 :\n",
        "    season.append('spring')\n",
        "  elif i < 80100 :\n",
        "    season.append('summer')\n",
        "  elif i < 110100 :\n",
        "    season.append('fall')\n",
        "  else :\n",
        "    season.append(\"winter\")\n",
        "\n",
        "train['season'] = season\n"
      ],
      "metadata": {
        "id": "D34_jtiiYbCT"
      },
      "execution_count": null,
      "outputs": []
    },
    {
      "cell_type": "code",
      "source": [
        "index_si = train[train['si']< 0].index\n",
        "\n",
        "for i in index_si :\n",
        "  if train.loc[i, 'season']  == 'spring' :\n",
        "    train.loc[i,'si'] = 1.168466\n",
        "  elif train.loc[i, 'season'] == 'summer' :\n",
        "    train.loc[i,'si'] = \t1.260919\n",
        "  elif train.loc[i,'season'] == 'fall' :\n",
        "    train.loc[i,'si'] = 1.047717\n",
        "  else :\n",
        "    train.loc[i,'si'] = 0.810904"
      ],
      "metadata": {
        "id": "1Gv8nc0pMYcK"
      },
      "execution_count": null,
      "outputs": []
    },
    {
      "cell_type": "markdown",
      "source": [
        "* Test"
      ],
      "metadata": {
        "id": "cd_sRxD9VlaN"
      }
    },
    {
      "cell_type": "code",
      "source": [
        "si_y = test[test['si'] >= 0]\n",
        "season = []\n",
        "for i in si_y['mmddhh'] :\n",
        "  if i < 20100 :\n",
        "    season.append(\"winter\")\n",
        "  elif i < 50100 :\n",
        "    season.append('spring')\n",
        "  elif i < 80100 :\n",
        "    season.append('summer')\n",
        "  elif i < 110100 :\n",
        "    season.append('fall')\n",
        "  else :\n",
        "    season.append(\"winter\")\n",
        "\n",
        "si_y['season'] = season\n",
        "si_y.groupby('season')[['si']].mean()"
      ],
      "metadata": {
        "colab": {
          "base_uri": "https://localhost:8080/",
          "height": 318
        },
        "id": "PvP5bcYCWXo4",
        "outputId": "48f09048-a6b6-419c-de16-c39fb96d23ba"
      },
      "execution_count": null,
      "outputs": [
        {
          "output_type": "stream",
          "name": "stderr",
          "text": [
            "<ipython-input-8-3bdaa649784b>:15: SettingWithCopyWarning: \n",
            "A value is trying to be set on a copy of a slice from a DataFrame.\n",
            "Try using .loc[row_indexer,col_indexer] = value instead\n",
            "\n",
            "See the caveats in the documentation: https://pandas.pydata.org/pandas-docs/stable/user_guide/indexing.html#returning-a-view-versus-a-copy\n",
            "  si_y['season'] = season\n"
          ]
        },
        {
          "output_type": "execute_result",
          "data": {
            "text/plain": [
              "              si\n",
              "season          \n",
              "fall    1.124349\n",
              "spring  1.257126\n",
              "summer  1.376274\n",
              "winter  0.901294"
            ],
            "text/html": [
              "\n",
              "  <div id=\"df-e93358b6-9492-458f-be56-8f0c728162b3\">\n",
              "    <div class=\"colab-df-container\">\n",
              "      <div>\n",
              "<style scoped>\n",
              "    .dataframe tbody tr th:only-of-type {\n",
              "        vertical-align: middle;\n",
              "    }\n",
              "\n",
              "    .dataframe tbody tr th {\n",
              "        vertical-align: top;\n",
              "    }\n",
              "\n",
              "    .dataframe thead th {\n",
              "        text-align: right;\n",
              "    }\n",
              "</style>\n",
              "<table border=\"1\" class=\"dataframe\">\n",
              "  <thead>\n",
              "    <tr style=\"text-align: right;\">\n",
              "      <th></th>\n",
              "      <th>si</th>\n",
              "    </tr>\n",
              "    <tr>\n",
              "      <th>season</th>\n",
              "      <th></th>\n",
              "    </tr>\n",
              "  </thead>\n",
              "  <tbody>\n",
              "    <tr>\n",
              "      <th>fall</th>\n",
              "      <td>1.124349</td>\n",
              "    </tr>\n",
              "    <tr>\n",
              "      <th>spring</th>\n",
              "      <td>1.257126</td>\n",
              "    </tr>\n",
              "    <tr>\n",
              "      <th>summer</th>\n",
              "      <td>1.376274</td>\n",
              "    </tr>\n",
              "    <tr>\n",
              "      <th>winter</th>\n",
              "      <td>0.901294</td>\n",
              "    </tr>\n",
              "  </tbody>\n",
              "</table>\n",
              "</div>\n",
              "      <button class=\"colab-df-convert\" onclick=\"convertToInteractive('df-e93358b6-9492-458f-be56-8f0c728162b3')\"\n",
              "              title=\"Convert this dataframe to an interactive table.\"\n",
              "              style=\"display:none;\">\n",
              "        \n",
              "  <svg xmlns=\"http://www.w3.org/2000/svg\" height=\"24px\"viewBox=\"0 0 24 24\"\n",
              "       width=\"24px\">\n",
              "    <path d=\"M0 0h24v24H0V0z\" fill=\"none\"/>\n",
              "    <path d=\"M18.56 5.44l.94 2.06.94-2.06 2.06-.94-2.06-.94-.94-2.06-.94 2.06-2.06.94zm-11 1L8.5 8.5l.94-2.06 2.06-.94-2.06-.94L8.5 2.5l-.94 2.06-2.06.94zm10 10l.94 2.06.94-2.06 2.06-.94-2.06-.94-.94-2.06-.94 2.06-2.06.94z\"/><path d=\"M17.41 7.96l-1.37-1.37c-.4-.4-.92-.59-1.43-.59-.52 0-1.04.2-1.43.59L10.3 9.45l-7.72 7.72c-.78.78-.78 2.05 0 2.83L4 21.41c.39.39.9.59 1.41.59.51 0 1.02-.2 1.41-.59l7.78-7.78 2.81-2.81c.8-.78.8-2.07 0-2.86zM5.41 20L4 18.59l7.72-7.72 1.47 1.35L5.41 20z\"/>\n",
              "  </svg>\n",
              "      </button>\n",
              "      \n",
              "  <style>\n",
              "    .colab-df-container {\n",
              "      display:flex;\n",
              "      flex-wrap:wrap;\n",
              "      gap: 12px;\n",
              "    }\n",
              "\n",
              "    .colab-df-convert {\n",
              "      background-color: #E8F0FE;\n",
              "      border: none;\n",
              "      border-radius: 50%;\n",
              "      cursor: pointer;\n",
              "      display: none;\n",
              "      fill: #1967D2;\n",
              "      height: 32px;\n",
              "      padding: 0 0 0 0;\n",
              "      width: 32px;\n",
              "    }\n",
              "\n",
              "    .colab-df-convert:hover {\n",
              "      background-color: #E2EBFA;\n",
              "      box-shadow: 0px 1px 2px rgba(60, 64, 67, 0.3), 0px 1px 3px 1px rgba(60, 64, 67, 0.15);\n",
              "      fill: #174EA6;\n",
              "    }\n",
              "\n",
              "    [theme=dark] .colab-df-convert {\n",
              "      background-color: #3B4455;\n",
              "      fill: #D2E3FC;\n",
              "    }\n",
              "\n",
              "    [theme=dark] .colab-df-convert:hover {\n",
              "      background-color: #434B5C;\n",
              "      box-shadow: 0px 1px 3px 1px rgba(0, 0, 0, 0.15);\n",
              "      filter: drop-shadow(0px 1px 2px rgba(0, 0, 0, 0.3));\n",
              "      fill: #FFFFFF;\n",
              "    }\n",
              "  </style>\n",
              "\n",
              "      <script>\n",
              "        const buttonEl =\n",
              "          document.querySelector('#df-e93358b6-9492-458f-be56-8f0c728162b3 button.colab-df-convert');\n",
              "        buttonEl.style.display =\n",
              "          google.colab.kernel.accessAllowed ? 'block' : 'none';\n",
              "\n",
              "        async function convertToInteractive(key) {\n",
              "          const element = document.querySelector('#df-e93358b6-9492-458f-be56-8f0c728162b3');\n",
              "          const dataTable =\n",
              "            await google.colab.kernel.invokeFunction('convertToInteractive',\n",
              "                                                     [key], {});\n",
              "          if (!dataTable) return;\n",
              "\n",
              "          const docLinkHtml = 'Like what you see? Visit the ' +\n",
              "            '<a target=\"_blank\" href=https://colab.research.google.com/notebooks/data_table.ipynb>data table notebook</a>'\n",
              "            + ' to learn more about interactive tables.';\n",
              "          element.innerHTML = '';\n",
              "          dataTable['output_type'] = 'display_data';\n",
              "          await google.colab.output.renderOutput(dataTable, element);\n",
              "          const docLink = document.createElement('div');\n",
              "          docLink.innerHTML = docLinkHtml;\n",
              "          element.appendChild(docLink);\n",
              "        }\n",
              "      </script>\n",
              "    </div>\n",
              "  </div>\n",
              "  "
            ]
          },
          "metadata": {},
          "execution_count": 8
        }
      ]
    },
    {
      "cell_type": "code",
      "source": [
        "season = []\n",
        "for i in test['mmddhh'] :\n",
        "  if i < 20100 :\n",
        "    season.append(\"winter\")\n",
        "  elif i < 50100 :\n",
        "    season.append('spring')\n",
        "  elif i < 80100 :\n",
        "    season.append('summer')\n",
        "  elif i < 110100 :\n",
        "    season.append('fall')\n",
        "  else :\n",
        "    season.append(\"winter\")\n",
        "\n",
        "test['season'] = season\n"
      ],
      "metadata": {
        "id": "u8rKVFf1Vmd8"
      },
      "execution_count": null,
      "outputs": []
    },
    {
      "cell_type": "code",
      "source": [
        "index_si = test[test['si']< 0].index\n",
        "\n",
        "for i in index_si :\n",
        "  if test.loc[i, 'season']  == 'spring' :\n",
        "    test.loc[i,'si'] = 1.259132\n",
        "  elif test.loc[i, 'season'] == 'summer' :\n",
        "    test.loc[i,'si'] = 1.353273\n",
        "  elif test.loc[i,'season'] == 'fall' :\n",
        "    test.loc[i,'si'] = 1.123555\n",
        "  else :\n",
        "    test.loc[i,'si'] = 0.901981"
      ],
      "metadata": {
        "id": "lFfeyRYkXi_S"
      },
      "execution_count": null,
      "outputs": []
    },
    {
      "cell_type": "markdown",
      "source": [
        "### (3) SS : 전체 평균으로 대체"
      ],
      "metadata": {
        "id": "tKaKgnsaUgSY"
      }
    },
    {
      "cell_type": "code",
      "source": [
        "ss_Y = train[train['ss'] >= 0]\n",
        "season = []\n",
        "for i in ss_Y['mmddhh'] :\n",
        "  if i < 20100 :\n",
        "    season.append(\"winter\")\n",
        "  elif i < 50100 :\n",
        "    season.append('spring')\n",
        "  elif i < 80100 :\n",
        "    season.append('summer')\n",
        "  elif i < 110100 :\n",
        "    season.append('fall')\n",
        "  else :\n",
        "    season.append(\"winter\")\n",
        "\n",
        "ss_Y['season'] = season\n",
        "plt.scatter(x = 'season',y = 'ss',data = ss_Y)"
      ],
      "metadata": {
        "id": "5JSLWq9DYgXQ",
        "colab": {
          "base_uri": "https://localhost:8080/",
          "height": 561
        },
        "outputId": "0acbf4c1-5032-41bc-aa66-900703d2f5b1"
      },
      "execution_count": null,
      "outputs": [
        {
          "output_type": "stream",
          "name": "stderr",
          "text": [
            "<ipython-input-11-64ff747d150d>:15: SettingWithCopyWarning: \n",
            "A value is trying to be set on a copy of a slice from a DataFrame.\n",
            "Try using .loc[row_indexer,col_indexer] = value instead\n",
            "\n",
            "See the caveats in the documentation: https://pandas.pydata.org/pandas-docs/stable/user_guide/indexing.html#returning-a-view-versus-a-copy\n",
            "  ss_Y['season'] = season\n"
          ]
        },
        {
          "output_type": "execute_result",
          "data": {
            "text/plain": [
              "<matplotlib.collections.PathCollection at 0x7f1ccddc95a0>"
            ]
          },
          "metadata": {},
          "execution_count": 11
        },
        {
          "output_type": "display_data",
          "data": {
            "text/plain": [
              "<Figure size 640x480 with 1 Axes>"
            ],
            "image/png": "[encoded data removed]"
          },
          "metadata": {}
        }
      ]
    },
    {
      "cell_type": "markdown",
      "source": [
        "* 전체 평균으로 대체"
      ],
      "metadata": {
        "id": "CLPIgUbxYrF2"
      }
    },
    {
      "cell_type": "code",
      "source": [
        "ss_Y['ss'].mean()"
      ],
      "metadata": {
        "id": "qRn__95JYsdF",
        "colab": {
          "base_uri": "https://localhost:8080/"
        },
        "outputId": "11457b42-d515-4716-a163-b3017f90b0b5"
      },
      "execution_count": null,
      "outputs": [
        {
          "output_type": "execute_result",
          "data": {
            "text/plain": [
              "0.5191123475283543"
            ]
          },
          "metadata": {},
          "execution_count": 240
        }
      ]
    },
    {
      "cell_type": "code",
      "source": [
        "index_ss = train[train['ss']< 0].index\n",
        "\n",
        "for i in index_ss :\n",
        "  train.loc[i,'ss'] = 0.5191123475283543"
      ],
      "metadata": {
        "id": "8_cB9uQKYzTp"
      },
      "execution_count": null,
      "outputs": []
    },
    {
      "cell_type": "markdown",
      "source": [
        "* TEST"
      ],
      "metadata": {
        "id": "SZ2AsRsEYC0B"
      }
    },
    {
      "cell_type": "code",
      "source": [
        "ss_y = test[test['ss'] >= 0]\n",
        "season = []\n",
        "for i in ss_y['mmddhh'] :\n",
        "  if i < 20100 :\n",
        "    season.append(\"winter\")\n",
        "  elif i < 50100 :\n",
        "    season.append('spring')\n",
        "  elif i < 80100 :\n",
        "    season.append('summer')\n",
        "  elif i < 110100 :\n",
        "    season.append('fall')\n",
        "  else :\n",
        "    season.append(\"winter\")\n",
        "\n",
        "ss_y['season'] = season\n",
        "ss_y['ss'].mean()"
      ],
      "metadata": {
        "colab": {
          "base_uri": "https://localhost:8080/"
        },
        "id": "p77OsB-QYFRS",
        "outputId": "067511a6-f7c8-4c2f-b5ee-cababc8915a9"
      },
      "execution_count": null,
      "outputs": [
        {
          "output_type": "stream",
          "name": "stderr",
          "text": [
            "<ipython-input-13-7a72bf1b4d88>:15: SettingWithCopyWarning: \n",
            "A value is trying to be set on a copy of a slice from a DataFrame.\n",
            "Try using .loc[row_indexer,col_indexer] = value instead\n",
            "\n",
            "See the caveats in the documentation: https://pandas.pydata.org/pandas-docs/stable/user_guide/indexing.html#returning-a-view-versus-a-copy\n",
            "  ss_y['season'] = season\n"
          ]
        },
        {
          "output_type": "execute_result",
          "data": {
            "text/plain": [
              "0.5067535545023697"
            ]
          },
          "metadata": {},
          "execution_count": 13
        }
      ]
    },
    {
      "cell_type": "code",
      "source": [
        "index_ss = test[test['ss']< 0].index\n",
        "\n",
        "for i in index_ss :\n",
        "  test.loc[i,'ss'] = 0.5028894103842769"
      ],
      "metadata": {
        "id": "f7tiXH9wYJ8M"
      },
      "execution_count": null,
      "outputs": []
    },
    {
      "cell_type": "markdown",
      "source": [
        "### (4) SN : 0으로 대체"
      ],
      "metadata": {
        "id": "qjZY1ijMUiJL"
      }
    },
    {
      "cell_type": "code",
      "source": [
        "sum(train['sn'] < 0)"
      ],
      "metadata": {
        "id": "JcKtS0qsZSvZ",
        "colab": {
          "base_uri": "https://localhost:8080/"
        },
        "outputId": "d976f8e0-ca86-4ca0-ed78-3d295e77b9ba"
      },
      "execution_count": null,
      "outputs": [
        {
          "output_type": "execute_result",
          "data": {
            "text/plain": [
              "421929"
            ]
          },
          "metadata": {},
          "execution_count": 244
        }
      ]
    },
    {
      "cell_type": "code",
      "source": [
        "sn_Y = train[train['sn'] >= 0]\n",
        "season = []\n",
        "for i in sn_Y['mmddhh'] :\n",
        "  if i < 230100 :\n",
        "    season.append(\"winter\")\n",
        "  elif i < 50100 :\n",
        "    season.append('spring')\n",
        "  elif i < 80100 :\n",
        "    season.append('summer')\n",
        "  elif i < 110100 :\n",
        "    season.append('fall')\n",
        "  else :\n",
        "    season.append(\"winter\")\n",
        "\n",
        "sn_Y['season'] = season\n",
        "plt.scatter(x = 'season',y = 'sn',data = sn_Y)"
      ],
      "metadata": {
        "id": "4hObFvt9Y7-K",
        "colab": {
          "base_uri": "https://localhost:8080/",
          "height": 561
        },
        "outputId": "224344b7-4a78-4ed9-b1ad-021ed58fd666"
      },
      "execution_count": null,
      "outputs": [
        {
          "output_type": "stream",
          "name": "stderr",
          "text": [
            "<ipython-input-15-ececea68eb66>:15: SettingWithCopyWarning: \n",
            "A value is trying to be set on a copy of a slice from a DataFrame.\n",
            "Try using .loc[row_indexer,col_indexer] = value instead\n",
            "\n",
            "See the caveats in the documentation: https://pandas.pydata.org/pandas-docs/stable/user_guide/indexing.html#returning-a-view-versus-a-copy\n",
            "  sn_Y['season'] = season\n"
          ]
        },
        {
          "output_type": "execute_result",
          "data": {
            "text/plain": [
              "<matplotlib.collections.PathCollection at 0x7f1ccdc48dc0>"
            ]
          },
          "metadata": {},
          "execution_count": 15
        },
        {
          "output_type": "display_data",
          "data": {
            "text/plain": [
              "<Figure size 640x480 with 1 Axes>"
            ],
            "image/png": "[encoded data removed]"
          },
          "metadata": {}
        }
      ]
    },
    {
      "cell_type": "markdown",
      "source": [
        "* 결측치 0으로 대체"
      ],
      "metadata": {
        "id": "Lt7vvg8FN8-w"
      }
    },
    {
      "cell_type": "code",
      "source": [
        "index_sn = train[train['sn'] < 0][['sn']].index\n",
        "train.loc[index_sn,'sn'] = 0\n",
        "\n",
        "train"
      ],
      "metadata": {
        "colab": {
          "base_uri": "https://localhost:8080/",
          "height": 423
        },
        "id": "hs6Uujo7OBuN",
        "outputId": "45596b53-d6de-4866-d7bc-83cbe29c9825"
      },
      "execution_count": null,
      "outputs": [
        {
          "output_type": "execute_result",
          "data": {
            "text/plain": [
              "        stn year  mmddhh    ta    td    hm   ws   rn  re ww   ts        si  \\\n",
              "1         1    A   20100  -9.9 -10.7  93.9  0.6  0.0   0  H -1.3  1.168466   \n",
              "2         1    A   20101 -10.8 -11.6  93.8  0.6  0.0   0  H -1.5  1.168466   \n",
              "3         1    A   20102 -11.4 -12.1  94.6  0.7  0.0   0  H -1.7  1.168466   \n",
              "4         1    A   20103 -11.6 -12.5  93.4  0.6  0.0   0  H -1.8  1.168466   \n",
              "5         1    A   20104 -11.8 -12.7  93.0  0.6  0.0   0  H -2.0  1.168466   \n",
              "...     ...  ...     ...   ...   ...   ...  ...  ...  .. ..  ...       ...   \n",
              "438236   10    F   13119   5.7  -7.2  39.2  3.9  0.0   0  C  3.6  0.810904   \n",
              "438237   10    F   13120   5.2  -8.0  38.1  4.9  0.0   0  C  2.7  0.810904   \n",
              "438238   10    F   13121   4.6  -7.9  39.8  6.6  0.0   0  C  2.2  0.810904   \n",
              "438239   10    F   13122   3.6  -6.6  47.4  7.1  0.0   0  C  1.6  0.810904   \n",
              "438240   10    F   13123   2.9  -6.6  49.7  4.8  0.0   0  C  1.1  0.810904   \n",
              "\n",
              "              ss   sn  season  \n",
              "1       0.519112  0.0  spring  \n",
              "2       0.519112  0.0  spring  \n",
              "3       0.519112  0.0  spring  \n",
              "4       0.519112  0.0  spring  \n",
              "5       0.519112  0.0  spring  \n",
              "...          ...  ...     ...  \n",
              "438236  0.519112  0.0  winter  \n",
              "438237  0.519112  0.0  winter  \n",
              "438238  0.519112  0.0  winter  \n",
              "438239  0.519112  0.0  winter  \n",
              "438240  0.519112  0.0  winter  \n",
              "\n",
              "[428731 rows x 15 columns]"
            ],
            "text/html": [
              "\n",
              "  <div id=\"df-3ffb9e73-dfea-45f2-8a7f-377bf6215ce6\">\n",
              "    <div class=\"colab-df-container\">\n",
              "      <div>\n",
              "<style scoped>\n",
              "    .dataframe tbody tr th:only-of-type {\n",
              "        vertical-align: middle;\n",
              "    }\n",
              "\n",
              "    .dataframe tbody tr th {\n",
              "        vertical-align: top;\n",
              "    }\n",
              "\n",
              "    .dataframe thead th {\n",
              "        text-align: right;\n",
              "    }\n",
              "</style>\n",
              "<table border=\"1\" class=\"dataframe\">\n",
              "  <thead>\n",
              "    <tr style=\"text-align: right;\">\n",
              "      <th></th>\n",
              "      <th>stn</th>\n",
              "      <th>year</th>\n",
              "      <th>mmddhh</th>\n",
              "      <th>ta</th>\n",
              "      <th>td</th>\n",
              "      <th>hm</th>\n",
              "      <th>ws</th>\n",
              "      <th>rn</th>\n",
              "      <th>re</th>\n",
              "      <th>ww</th>\n",
              "      <th>ts</th>\n",
              "      <th>si</th>\n",
              "      <th>ss</th>\n",
              "      <th>sn</th>\n",
              "      <th>season</th>\n",
              "    </tr>\n",
              "  </thead>\n",
              "  <tbody>\n",
              "    <tr>\n",
              "      <th>1</th>\n",
              "      <td>1</td>\n",
              "      <td>A</td>\n",
              "      <td>20100</td>\n",
              "      <td>-9.9</td>\n",
              "      <td>-10.7</td>\n",
              "      <td>93.9</td>\n",
              "      <td>0.6</td>\n",
              "      <td>0.0</td>\n",
              "      <td>0</td>\n",
              "      <td>H</td>\n",
              "      <td>-1.3</td>\n",
              "      <td>1.168466</td>\n",
              "      <td>0.519112</td>\n",
              "      <td>0.0</td>\n",
              "      <td>spring</td>\n",
              "    </tr>\n",
              "    <tr>\n",
              "      <th>2</th>\n",
              "      <td>1</td>\n",
              "      <td>A</td>\n",
              "      <td>20101</td>\n",
              "      <td>-10.8</td>\n",
              "      <td>-11.6</td>\n",
              "      <td>93.8</td>\n",
              "      <td>0.6</td>\n",
              "      <td>0.0</td>\n",
              "      <td>0</td>\n",
              "      <td>H</td>\n",
              "      <td>-1.5</td>\n",
              "      <td>1.168466</td>\n",
              "      <td>0.519112</td>\n",
              "      <td>0.0</td>\n",
              "      <td>spring</td>\n",
              "    </tr>\n",
              "    <tr>\n",
              "      <th>3</th>\n",
              "      <td>1</td>\n",
              "      <td>A</td>\n",
              "      <td>20102</td>\n",
              "      <td>-11.4</td>\n",
              "      <td>-12.1</td>\n",
              "      <td>94.6</td>\n",
              "      <td>0.7</td>\n",
              "      <td>0.0</td>\n",
              "      <td>0</td>\n",
              "      <td>H</td>\n",
              "      <td>-1.7</td>\n",
              "      <td>1.168466</td>\n",
              "      <td>0.519112</td>\n",
              "      <td>0.0</td>\n",
              "      <td>spring</td>\n",
              "    </tr>\n",
              "    <tr>\n",
              "      <th>4</th>\n",
              "      <td>1</td>\n",
              "      <td>A</td>\n",
              "      <td>20103</td>\n",
              "      <td>-11.6</td>\n",
              "      <td>-12.5</td>\n",
              "      <td>93.4</td>\n",
              "      <td>0.6</td>\n",
              "      <td>0.0</td>\n",
              "      <td>0</td>\n",
              "      <td>H</td>\n",
              "      <td>-1.8</td>\n",
              "      <td>1.168466</td>\n",
              "      <td>0.519112</td>\n",
              "      <td>0.0</td>\n",
              "      <td>spring</td>\n",
              "    </tr>\n",
              "    <tr>\n",
              "      <th>5</th>\n",
              "      <td>1</td>\n",
              "      <td>A</td>\n",
              "      <td>20104</td>\n",
              "      <td>-11.8</td>\n",
              "      <td>-12.7</td>\n",
              "      <td>93.0</td>\n",
              "      <td>0.6</td>\n",
              "      <td>0.0</td>\n",
              "      <td>0</td>\n",
              "      <td>H</td>\n",
              "      <td>-2.0</td>\n",
              "      <td>1.168466</td>\n",
              "      <td>0.519112</td>\n",
              "      <td>0.0</td>\n",
              "      <td>spring</td>\n",
              "    </tr>\n",
              "    <tr>\n",
              "      <th>...</th>\n",
              "      <td>...</td>\n",
              "      <td>...</td>\n",
              "      <td>...</td>\n",
              "      <td>...</td>\n",
              "      <td>...</td>\n",
              "      <td>...</td>\n",
              "      <td>...</td>\n",
              "      <td>...</td>\n",
              "      <td>...</td>\n",
              "      <td>...</td>\n",
              "      <td>...</td>\n",
              "      <td>...</td>\n",
              "      <td>...</td>\n",
              "      <td>...</td>\n",
              "      <td>...</td>\n",
              "    </tr>\n",
              "    <tr>\n",
              "      <th>438236</th>\n",
              "      <td>10</td>\n",
              "      <td>F</td>\n",
              "      <td>13119</td>\n",
              "      <td>5.7</td>\n",
              "      <td>-7.2</td>\n",
              "      <td>39.2</td>\n",
              "      <td>3.9</td>\n",
              "      <td>0.0</td>\n",
              "      <td>0</td>\n",
              "      <td>C</td>\n",
              "      <td>3.6</td>\n",
              "      <td>0.810904</td>\n",
              "      <td>0.519112</td>\n",
              "      <td>0.0</td>\n",
              "      <td>winter</td>\n",
              "    </tr>\n",
              "    <tr>\n",
              "      <th>438237</th>\n",
              "      <td>10</td>\n",
              "      <td>F</td>\n",
              "      <td>13120</td>\n",
              "      <td>5.2</td>\n",
              "      <td>-8.0</td>\n",
              "      <td>38.1</td>\n",
              "      <td>4.9</td>\n",
              "      <td>0.0</td>\n",
              "      <td>0</td>\n",
              "      <td>C</td>\n",
              "      <td>2.7</td>\n",
              "      <td>0.810904</td>\n",
              "      <td>0.519112</td>\n",
              "      <td>0.0</td>\n",
              "      <td>winter</td>\n",
              "    </tr>\n",
              "    <tr>\n",
              "      <th>438238</th>\n",
              "      <td>10</td>\n",
              "      <td>F</td>\n",
              "      <td>13121</td>\n",
              "      <td>4.6</td>\n",
              "      <td>-7.9</td>\n",
              "      <td>39.8</td>\n",
              "      <td>6.6</td>\n",
              "      <td>0.0</td>\n",
              "      <td>0</td>\n",
              "      <td>C</td>\n",
              "      <td>2.2</td>\n",
              "      <td>0.810904</td>\n",
              "      <td>0.519112</td>\n",
              "      <td>0.0</td>\n",
              "      <td>winter</td>\n",
              "    </tr>\n",
              "    <tr>\n",
              "      <th>438239</th>\n",
              "      <td>10</td>\n",
              "      <td>F</td>\n",
              "      <td>13122</td>\n",
              "      <td>3.6</td>\n",
              "      <td>-6.6</td>\n",
              "      <td>47.4</td>\n",
              "      <td>7.1</td>\n",
              "      <td>0.0</td>\n",
              "      <td>0</td>\n",
              "      <td>C</td>\n",
              "      <td>1.6</td>\n",
              "      <td>0.810904</td>\n",
              "      <td>0.519112</td>\n",
              "      <td>0.0</td>\n",
              "      <td>winter</td>\n",
              "    </tr>\n",
              "    <tr>\n",
              "      <th>438240</th>\n",
              "      <td>10</td>\n",
              "      <td>F</td>\n",
              "      <td>13123</td>\n",
              "      <td>2.9</td>\n",
              "      <td>-6.6</td>\n",
              "      <td>49.7</td>\n",
              "      <td>4.8</td>\n",
              "      <td>0.0</td>\n",
              "      <td>0</td>\n",
              "      <td>C</td>\n",
              "      <td>1.1</td>\n",
              "      <td>0.810904</td>\n",
              "      <td>0.519112</td>\n",
              "      <td>0.0</td>\n",
              "      <td>winter</td>\n",
              "    </tr>\n",
              "  </tbody>\n",
              "</table>\n",
              "<p>428731 rows × 15 columns</p>\n",
              "</div>\n",
              "      <button class=\"colab-df-convert\" onclick=\"convertToInteractive('df-3ffb9e73-dfea-45f2-8a7f-377bf6215ce6')\"\n",
              "              title=\"Convert this dataframe to an interactive table.\"\n",
              "              style=\"display:none;\">\n",
              "        \n",
              "  <svg xmlns=\"http://www.w3.org/2000/svg\" height=\"24px\"viewBox=\"0 0 24 24\"\n",
              "       width=\"24px\">\n",
              "    <path d=\"M0 0h24v24H0V0z\" fill=\"none\"/>\n",
              "    <path d=\"M18.56 5.44l.94 2.06.94-2.06 2.06-.94-2.06-.94-.94-2.06-.94 2.06-2.06.94zm-11 1L8.5 8.5l.94-2.06 2.06-.94-2.06-.94L8.5 2.5l-.94 2.06-2.06.94zm10 10l.94 2.06.94-2.06 2.06-.94-2.06-.94-.94-2.06-.94 2.06-2.06.94z\"/><path d=\"M17.41 7.96l-1.37-1.37c-.4-.4-.92-.59-1.43-.59-.52 0-1.04.2-1.43.59L10.3 9.45l-7.72 7.72c-.78.78-.78 2.05 0 2.83L4 21.41c.39.39.9.59 1.41.59.51 0 1.02-.2 1.41-.59l7.78-7.78 2.81-2.81c.8-.78.8-2.07 0-2.86zM5.41 20L4 18.59l7.72-7.72 1.47 1.35L5.41 20z\"/>\n",
              "  </svg>\n",
              "      </button>\n",
              "      \n",
              "  <style>\n",
              "    .colab-df-container {\n",
              "      display:flex;\n",
              "      flex-wrap:wrap;\n",
              "      gap: 12px;\n",
              "    }\n",
              "\n",
              "    .colab-df-convert {\n",
              "      background-color: #E8F0FE;\n",
              "      border: none;\n",
              "      border-radius: 50%;\n",
              "      cursor: pointer;\n",
              "      display: none;\n",
              "      fill: #1967D2;\n",
              "      height: 32px;\n",
              "      padding: 0 0 0 0;\n",
              "      width: 32px;\n",
              "    }\n",
              "\n",
              "    .colab-df-convert:hover {\n",
              "      background-color: #E2EBFA;\n",
              "      box-shadow: 0px 1px 2px rgba(60, 64, 67, 0.3), 0px 1px 3px 1px rgba(60, 64, 67, 0.15);\n",
              "      fill: #174EA6;\n",
              "    }\n",
              "\n",
              "    [theme=dark] .colab-df-convert {\n",
              "      background-color: #3B4455;\n",
              "      fill: #D2E3FC;\n",
              "    }\n",
              "\n",
              "    [theme=dark] .colab-df-convert:hover {\n",
              "      background-color: #434B5C;\n",
              "      box-shadow: 0px 1px 3px 1px rgba(0, 0, 0, 0.15);\n",
              "      filter: drop-shadow(0px 1px 2px rgba(0, 0, 0, 0.3));\n",
              "      fill: #FFFFFF;\n",
              "    }\n",
              "  </style>\n",
              "\n",
              "      <script>\n",
              "        const buttonEl =\n",
              "          document.querySelector('#df-3ffb9e73-dfea-45f2-8a7f-377bf6215ce6 button.colab-df-convert');\n",
              "        buttonEl.style.display =\n",
              "          google.colab.kernel.accessAllowed ? 'block' : 'none';\n",
              "\n",
              "        async function convertToInteractive(key) {\n",
              "          const element = document.querySelector('#df-3ffb9e73-dfea-45f2-8a7f-377bf6215ce6');\n",
              "          const dataTable =\n",
              "            await google.colab.kernel.invokeFunction('convertToInteractive',\n",
              "                                                     [key], {});\n",
              "          if (!dataTable) return;\n",
              "\n",
              "          const docLinkHtml = 'Like what you see? Visit the ' +\n",
              "            '<a target=\"_blank\" href=https://colab.research.google.com/notebooks/data_table.ipynb>data table notebook</a>'\n",
              "            + ' to learn more about interactive tables.';\n",
              "          element.innerHTML = '';\n",
              "          dataTable['output_type'] = 'display_data';\n",
              "          await google.colab.output.renderOutput(dataTable, element);\n",
              "          const docLink = document.createElement('div');\n",
              "          docLink.innerHTML = docLinkHtml;\n",
              "          element.appendChild(docLink);\n",
              "        }\n",
              "      </script>\n",
              "    </div>\n",
              "  </div>\n",
              "  "
            ]
          },
          "metadata": {},
          "execution_count": 16
        }
      ]
    },
    {
      "cell_type": "markdown",
      "source": [
        "* TEST"
      ],
      "metadata": {
        "id": "e9bhRp_iYb16"
      }
    },
    {
      "cell_type": "code",
      "source": [
        "index_sn = test[test['sn'] < 0][['sn']].index\n",
        "test.loc[index_sn,'sn'] = 0"
      ],
      "metadata": {
        "id": "VGsF8H4vYcl_"
      },
      "execution_count": null,
      "outputs": []
    },
    {
      "cell_type": "markdown",
      "source": [
        "## 2) 데이터 인코딩"
      ],
      "metadata": {
        "id": "IdgA_ujsTmx-"
      }
    },
    {
      "cell_type": "markdown",
      "source": [
        "### (1) `Year` 칼럼"
      ],
      "metadata": {
        "id": "9V1-y73tZ25p"
      }
    },
    {
      "cell_type": "code",
      "source": [
        "from sklearn.preprocessing import LabelEncoder\n",
        "\n",
        "encoder = LabelEncoder()\n",
        "encoder.fit(train['year'])\n",
        "train[\"year\"] = encoder.transform(train['year'])"
      ],
      "metadata": {
        "id": "HGLWU5I0ZqsH"
      },
      "execution_count": null,
      "outputs": []
    },
    {
      "cell_type": "code",
      "source": [
        "encoder = LabelEncoder()\n",
        "encoder.fit(test['year'])\n",
        "test[\"year\"] = encoder.transform(test['year'])"
      ],
      "metadata": {
        "id": "i2qyxSVEZsdi"
      },
      "execution_count": null,
      "outputs": []
    },
    {
      "cell_type": "markdown",
      "source": [
        "### (2) `WW` 칼럼"
      ],
      "metadata": {
        "id": "fJGYhgRZZvWV"
      }
    },
    {
      "cell_type": "code",
      "source": [
        "train = pd.get_dummies(train,columns = ['ww'])"
      ],
      "metadata": {
        "id": "piQea9maZtxR"
      },
      "execution_count": null,
      "outputs": []
    },
    {
      "cell_type": "code",
      "source": [
        "train"
      ],
      "metadata": {
        "colab": {
          "base_uri": "https://localhost:8080/",
          "height": 423
        },
        "id": "A4lg1yG2e5Gj",
        "outputId": "53865397-c182-4691-a122-b3e94598b991"
      },
      "execution_count": null,
      "outputs": [
        {
          "output_type": "execute_result",
          "data": {
            "text/plain": [
              "        stn  year  mmddhh    ta    td    hm   ws   rn  re   ts  ...        ss  \\\n",
              "1         1     0   20100  -9.9 -10.7  93.9  0.6  0.0   0 -1.3  ...  0.519112   \n",
              "2         1     0   20101 -10.8 -11.6  93.8  0.6  0.0   0 -1.5  ...  0.519112   \n",
              "3         1     0   20102 -11.4 -12.1  94.6  0.7  0.0   0 -1.7  ...  0.519112   \n",
              "4         1     0   20103 -11.6 -12.5  93.4  0.6  0.0   0 -1.8  ...  0.519112   \n",
              "5         1     0   20104 -11.8 -12.7  93.0  0.6  0.0   0 -2.0  ...  0.519112   \n",
              "...     ...   ...     ...   ...   ...   ...  ...  ...  ..  ...  ...       ...   \n",
              "438236   10     5   13119   5.7  -7.2  39.2  3.9  0.0   0  3.6  ...  0.519112   \n",
              "438237   10     5   13120   5.2  -8.0  38.1  4.9  0.0   0  2.7  ...  0.519112   \n",
              "438238   10     5   13121   4.6  -7.9  39.8  6.6  0.0   0  2.2  ...  0.519112   \n",
              "438239   10     5   13122   3.6  -6.6  47.4  7.1  0.0   0  1.6  ...  0.519112   \n",
              "438240   10     5   13123   2.9  -6.6  49.7  4.8  0.0   0  1.1  ...  0.519112   \n",
              "\n",
              "         sn  season ww_C  ww_F  ww_G  ww_H  ww_R  ww_S  ww_X  \n",
              "1       0.0  spring    0     0     0     1     0     0     0  \n",
              "2       0.0  spring    0     0     0     1     0     0     0  \n",
              "3       0.0  spring    0     0     0     1     0     0     0  \n",
              "4       0.0  spring    0     0     0     1     0     0     0  \n",
              "5       0.0  spring    0     0     0     1     0     0     0  \n",
              "...     ...     ...  ...   ...   ...   ...   ...   ...   ...  \n",
              "438236  0.0  winter    1     0     0     0     0     0     0  \n",
              "438237  0.0  winter    1     0     0     0     0     0     0  \n",
              "438238  0.0  winter    1     0     0     0     0     0     0  \n",
              "438239  0.0  winter    1     0     0     0     0     0     0  \n",
              "438240  0.0  winter    1     0     0     0     0     0     0  \n",
              "\n",
              "[428731 rows x 21 columns]"
            ],
            "text/html": [
              "\n",
              "  <div id=\"df-76fc24d2-7eeb-4336-8a88-b23117a1266c\">\n",
              "    <div class=\"colab-df-container\">\n",
              "      <div>\n",
              "<style scoped>\n",
              "    .dataframe tbody tr th:only-of-type {\n",
              "        vertical-align: middle;\n",
              "    }\n",
              "\n",
              "    .dataframe tbody tr th {\n",
              "        vertical-align: top;\n",
              "    }\n",
              "\n",
              "    .dataframe thead th {\n",
              "        text-align: right;\n",
              "    }\n",
              "</style>\n",
              "<table border=\"1\" class=\"dataframe\">\n",
              "  <thead>\n",
              "    <tr style=\"text-align: right;\">\n",
              "      <th></th>\n",
              "      <th>stn</th>\n",
              "      <th>year</th>\n",
              "      <th>mmddhh</th>\n",
              "      <th>ta</th>\n",
              "      <th>td</th>\n",
              "      <th>hm</th>\n",
              "      <th>ws</th>\n",
              "      <th>rn</th>\n",
              "      <th>re</th>\n",
              "      <th>ts</th>\n",
              "      <th>...</th>\n",
              "      <th>ss</th>\n",
              "      <th>sn</th>\n",
              "      <th>season</th>\n",
              "      <th>ww_C</th>\n",
              "      <th>ww_F</th>\n",
              "      <th>ww_G</th>\n",
              "      <th>ww_H</th>\n",
              "      <th>ww_R</th>\n",
              "      <th>ww_S</th>\n",
              "      <th>ww_X</th>\n",
              "    </tr>\n",
              "  </thead>\n",
              "  <tbody>\n",
              "    <tr>\n",
              "      <th>1</th>\n",
              "      <td>1</td>\n",
              "      <td>0</td>\n",
              "      <td>20100</td>\n",
              "      <td>-9.9</td>\n",
              "      <td>-10.7</td>\n",
              "      <td>93.9</td>\n",
              "      <td>0.6</td>\n",
              "      <td>0.0</td>\n",
              "      <td>0</td>\n",
              "      <td>-1.3</td>\n",
              "      <td>...</td>\n",
              "      <td>0.519112</td>\n",
              "      <td>0.0</td>\n",
              "      <td>spring</td>\n",
              "      <td>0</td>\n",
              "      <td>0</td>\n",
              "      <td>0</td>\n",
              "      <td>1</td>\n",
              "      <td>0</td>\n",
              "      <td>0</td>\n",
              "      <td>0</td>\n",
              "    </tr>\n",
              "    <tr>\n",
              "      <th>2</th>\n",
              "      <td>1</td>\n",
              "      <td>0</td>\n",
              "      <td>20101</td>\n",
              "      <td>-10.8</td>\n",
              "      <td>-11.6</td>\n",
              "      <td>93.8</td>\n",
              "      <td>0.6</td>\n",
              "      <td>0.0</td>\n",
              "      <td>0</td>\n",
              "      <td>-1.5</td>\n",
              "      <td>...</td>\n",
              "      <td>0.519112</td>\n",
              "      <td>0.0</td>\n",
              "      <td>spring</td>\n",
              "      <td>0</td>\n",
              "      <td>0</td>\n",
              "      <td>0</td>\n",
              "      <td>1</td>\n",
              "      <td>0</td>\n",
              "      <td>0</td>\n",
              "      <td>0</td>\n",
              "    </tr>\n",
              "    <tr>\n",
              "      <th>3</th>\n",
              "      <td>1</td>\n",
              "      <td>0</td>\n",
              "      <td>20102</td>\n",
              "      <td>-11.4</td>\n",
              "      <td>-12.1</td>\n",
              "      <td>94.6</td>\n",
              "      <td>0.7</td>\n",
              "      <td>0.0</td>\n",
              "      <td>0</td>\n",
              "      <td>-1.7</td>\n",
              "      <td>...</td>\n",
              "      <td>0.519112</td>\n",
              "      <td>0.0</td>\n",
              "      <td>spring</td>\n",
              "      <td>0</td>\n",
              "      <td>0</td>\n",
              "      <td>0</td>\n",
              "      <td>1</td>\n",
              "      <td>0</td>\n",
              "      <td>0</td>\n",
              "      <td>0</td>\n",
              "    </tr>\n",
              "    <tr>\n",
              "      <th>4</th>\n",
              "      <td>1</td>\n",
              "      <td>0</td>\n",
              "      <td>20103</td>\n",
              "      <td>-11.6</td>\n",
              "      <td>-12.5</td>\n",
              "      <td>93.4</td>\n",
              "      <td>0.6</td>\n",
              "      <td>0.0</td>\n",
              "      <td>0</td>\n",
              "      <td>-1.8</td>\n",
              "      <td>...</td>\n",
              "      <td>0.519112</td>\n",
              "      <td>0.0</td>\n",
              "      <td>spring</td>\n",
              "      <td>0</td>\n",
              "      <td>0</td>\n",
              "      <td>0</td>\n",
              "      <td>1</td>\n",
              "      <td>0</td>\n",
              "      <td>0</td>\n",
              "      <td>0</td>\n",
              "    </tr>\n",
              "    <tr>\n",
              "      <th>5</th>\n",
              "      <td>1</td>\n",
              "      <td>0</td>\n",
              "      <td>20104</td>\n",
              "      <td>-11.8</td>\n",
              "      <td>-12.7</td>\n",
              "      <td>93.0</td>\n",
              "      <td>0.6</td>\n",
              "      <td>0.0</td>\n",
              "      <td>0</td>\n",
              "      <td>-2.0</td>\n",
              "      <td>...</td>\n",
              "      <td>0.519112</td>\n",
              "      <td>0.0</td>\n",
              "      <td>spring</td>\n",
              "      <td>0</td>\n",
              "      <td>0</td>\n",
              "      <td>0</td>\n",
              "      <td>1</td>\n",
              "      <td>0</td>\n",
              "      <td>0</td>\n",
              "      <td>0</td>\n",
              "    </tr>\n",
              "    <tr>\n",
              "      <th>...</th>\n",
              "      <td>...</td>\n",
              "      <td>...</td>\n",
              "      <td>...</td>\n",
              "      <td>...</td>\n",
              "      <td>...</td>\n",
              "      <td>...</td>\n",
              "      <td>...</td>\n",
              "      <td>...</td>\n",
              "      <td>...</td>\n",
              "      <td>...</td>\n",
              "      <td>...</td>\n",
              "      <td>...</td>\n",
              "      <td>...</td>\n",
              "      <td>...</td>\n",
              "      <td>...</td>\n",
              "      <td>...</td>\n",
              "      <td>...</td>\n",
              "      <td>...</td>\n",
              "      <td>...</td>\n",
              "      <td>...</td>\n",
              "      <td>...</td>\n",
              "    </tr>\n",
              "    <tr>\n",
              "      <th>438236</th>\n",
              "      <td>10</td>\n",
              "      <td>5</td>\n",
              "      <td>13119</td>\n",
              "      <td>5.7</td>\n",
              "      <td>-7.2</td>\n",
              "      <td>39.2</td>\n",
              "      <td>3.9</td>\n",
              "      <td>0.0</td>\n",
              "      <td>0</td>\n",
              "      <td>3.6</td>\n",
              "      <td>...</td>\n",
              "      <td>0.519112</td>\n",
              "      <td>0.0</td>\n",
              "      <td>winter</td>\n",
              "      <td>1</td>\n",
              "      <td>0</td>\n",
              "      <td>0</td>\n",
              "      <td>0</td>\n",
              "      <td>0</td>\n",
              "      <td>0</td>\n",
              "      <td>0</td>\n",
              "    </tr>\n",
              "    <tr>\n",
              "      <th>438237</th>\n",
              "      <td>10</td>\n",
              "      <td>5</td>\n",
              "      <td>13120</td>\n",
              "      <td>5.2</td>\n",
              "      <td>-8.0</td>\n",
              "      <td>38.1</td>\n",
              "      <td>4.9</td>\n",
              "      <td>0.0</td>\n",
              "      <td>0</td>\n",
              "      <td>2.7</td>\n",
              "      <td>...</td>\n",
              "      <td>0.519112</td>\n",
              "      <td>0.0</td>\n",
              "      <td>winter</td>\n",
              "      <td>1</td>\n",
              "      <td>0</td>\n",
              "      <td>0</td>\n",
              "      <td>0</td>\n",
              "      <td>0</td>\n",
              "      <td>0</td>\n",
              "      <td>0</td>\n",
              "    </tr>\n",
              "    <tr>\n",
              "      <th>438238</th>\n",
              "      <td>10</td>\n",
              "      <td>5</td>\n",
              "      <td>13121</td>\n",
              "      <td>4.6</td>\n",
              "      <td>-7.9</td>\n",
              "      <td>39.8</td>\n",
              "      <td>6.6</td>\n",
              "      <td>0.0</td>\n",
              "      <td>0</td>\n",
              "      <td>2.2</td>\n",
              "      <td>...</td>\n",
              "      <td>0.519112</td>\n",
              "      <td>0.0</td>\n",
              "      <td>winter</td>\n",
              "      <td>1</td>\n",
              "      <td>0</td>\n",
              "      <td>0</td>\n",
              "      <td>0</td>\n",
              "      <td>0</td>\n",
              "      <td>0</td>\n",
              "      <td>0</td>\n",
              "    </tr>\n",
              "    <tr>\n",
              "      <th>438239</th>\n",
              "      <td>10</td>\n",
              "      <td>5</td>\n",
              "      <td>13122</td>\n",
              "      <td>3.6</td>\n",
              "      <td>-6.6</td>\n",
              "      <td>47.4</td>\n",
              "      <td>7.1</td>\n",
              "      <td>0.0</td>\n",
              "      <td>0</td>\n",
              "      <td>1.6</td>\n",
              "      <td>...</td>\n",
              "      <td>0.519112</td>\n",
              "      <td>0.0</td>\n",
              "      <td>winter</td>\n",
              "      <td>1</td>\n",
              "      <td>0</td>\n",
              "      <td>0</td>\n",
              "      <td>0</td>\n",
              "      <td>0</td>\n",
              "      <td>0</td>\n",
              "      <td>0</td>\n",
              "    </tr>\n",
              "    <tr>\n",
              "      <th>438240</th>\n",
              "      <td>10</td>\n",
              "      <td>5</td>\n",
              "      <td>13123</td>\n",
              "      <td>2.9</td>\n",
              "      <td>-6.6</td>\n",
              "      <td>49.7</td>\n",
              "      <td>4.8</td>\n",
              "      <td>0.0</td>\n",
              "      <td>0</td>\n",
              "      <td>1.1</td>\n",
              "      <td>...</td>\n",
              "      <td>0.519112</td>\n",
              "      <td>0.0</td>\n",
              "      <td>winter</td>\n",
              "      <td>1</td>\n",
              "      <td>0</td>\n",
              "      <td>0</td>\n",
              "      <td>0</td>\n",
              "      <td>0</td>\n",
              "      <td>0</td>\n",
              "      <td>0</td>\n",
              "    </tr>\n",
              "  </tbody>\n",
              "</table>\n",
              "<p>428731 rows × 21 columns</p>\n",
              "</div>\n",
              "      <button class=\"colab-df-convert\" onclick=\"convertToInteractive('df-76fc24d2-7eeb-4336-8a88-b23117a1266c')\"\n",
              "              title=\"Convert this dataframe to an interactive table.\"\n",
              "              style=\"display:none;\">\n",
              "        \n",
              "  <svg xmlns=\"http://www.w3.org/2000/svg\" height=\"24px\"viewBox=\"0 0 24 24\"\n",
              "       width=\"24px\">\n",
              "    <path d=\"M0 0h24v24H0V0z\" fill=\"none\"/>\n",
              "    <path d=\"M18.56 5.44l.94 2.06.94-2.06 2.06-.94-2.06-.94-.94-2.06-.94 2.06-2.06.94zm-11 1L8.5 8.5l.94-2.06 2.06-.94-2.06-.94L8.5 2.5l-.94 2.06-2.06.94zm10 10l.94 2.06.94-2.06 2.06-.94-2.06-.94-.94-2.06-.94 2.06-2.06.94z\"/><path d=\"M17.41 7.96l-1.37-1.37c-.4-.4-.92-.59-1.43-.59-.52 0-1.04.2-1.43.59L10.3 9.45l-7.72 7.72c-.78.78-.78 2.05 0 2.83L4 21.41c.39.39.9.59 1.41.59.51 0 1.02-.2 1.41-.59l7.78-7.78 2.81-2.81c.8-.78.8-2.07 0-2.86zM5.41 20L4 18.59l7.72-7.72 1.47 1.35L5.41 20z\"/>\n",
              "  </svg>\n",
              "      </button>\n",
              "      \n",
              "  <style>\n",
              "    .colab-df-container {\n",
              "      display:flex;\n",
              "      flex-wrap:wrap;\n",
              "      gap: 12px;\n",
              "    }\n",
              "\n",
              "    .colab-df-convert {\n",
              "      background-color: #E8F0FE;\n",
              "      border: none;\n",
              "      border-radius: 50%;\n",
              "      cursor: pointer;\n",
              "      display: none;\n",
              "      fill: #1967D2;\n",
              "      height: 32px;\n",
              "      padding: 0 0 0 0;\n",
              "      width: 32px;\n",
              "    }\n",
              "\n",
              "    .colab-df-convert:hover {\n",
              "      background-color: #E2EBFA;\n",
              "      box-shadow: 0px 1px 2px rgba(60, 64, 67, 0.3), 0px 1px 3px 1px rgba(60, 64, 67, 0.15);\n",
              "      fill: #174EA6;\n",
              "    }\n",
              "\n",
              "    [theme=dark] .colab-df-convert {\n",
              "      background-color: #3B4455;\n",
              "      fill: #D2E3FC;\n",
              "    }\n",
              "\n",
              "    [theme=dark] .colab-df-convert:hover {\n",
              "      background-color: #434B5C;\n",
              "      box-shadow: 0px 1px 3px 1px rgba(0, 0, 0, 0.15);\n",
              "      filter: drop-shadow(0px 1px 2px rgba(0, 0, 0, 0.3));\n",
              "      fill: #FFFFFF;\n",
              "    }\n",
              "  </style>\n",
              "\n",
              "      <script>\n",
              "        const buttonEl =\n",
              "          document.querySelector('#df-76fc24d2-7eeb-4336-8a88-b23117a1266c button.colab-df-convert');\n",
              "        buttonEl.style.display =\n",
              "          google.colab.kernel.accessAllowed ? 'block' : 'none';\n",
              "\n",
              "        async function convertToInteractive(key) {\n",
              "          const element = document.querySelector('#df-76fc24d2-7eeb-4336-8a88-b23117a1266c');\n",
              "          const dataTable =\n",
              "            await google.colab.kernel.invokeFunction('convertToInteractive',\n",
              "                                                     [key], {});\n",
              "          if (!dataTable) return;\n",
              "\n",
              "          const docLinkHtml = 'Like what you see? Visit the ' +\n",
              "            '<a target=\"_blank\" href=https://colab.research.google.com/notebooks/data_table.ipynb>data table notebook</a>'\n",
              "            + ' to learn more about interactive tables.';\n",
              "          element.innerHTML = '';\n",
              "          dataTable['output_type'] = 'display_data';\n",
              "          await google.colab.output.renderOutput(dataTable, element);\n",
              "          const docLink = document.createElement('div');\n",
              "          docLink.innerHTML = docLinkHtml;\n",
              "          element.appendChild(docLink);\n",
              "        }\n",
              "      </script>\n",
              "    </div>\n",
              "  </div>\n",
              "  "
            ]
          },
          "metadata": {},
          "execution_count": 251
        }
      ]
    },
    {
      "cell_type": "code",
      "source": [
        "test = pd.get_dummies(test,columns = ['ww'])"
      ],
      "metadata": {
        "id": "cDUqtTIhZvFy"
      },
      "execution_count": null,
      "outputs": []
    },
    {
      "cell_type": "code",
      "source": [
        "ww_X = [0 for i in range(26280)]\n",
        "\n",
        "test['ww_X'] = ww_X"
      ],
      "metadata": {
        "id": "6YkeJfn1e6FU"
      },
      "execution_count": null,
      "outputs": []
    },
    {
      "cell_type": "markdown",
      "source": [
        "## 3) Outlier 제거"
      ],
      "metadata": {
        "id": "1Q5MrK4MaADc"
      }
    },
    {
      "cell_type": "code",
      "source": [
        "plt.scatter(train['re'],train['rn'])"
      ],
      "metadata": {
        "id": "i9wz28-daF4c",
        "colab": {
          "base_uri": "https://localhost:8080/",
          "height": 449
        },
        "outputId": "b86a9fc9-246d-4e78-84df-d51920be6439"
      },
      "execution_count": null,
      "outputs": [
        {
          "output_type": "execute_result",
          "data": {
            "text/plain": [
              "<matplotlib.collections.PathCollection at 0x7faeb65e1240>"
            ]
          },
          "metadata": {},
          "execution_count": 254
        },
        {
          "output_type": "display_data",
          "data": {
            "text/plain": [
              "<Figure size 640x480 with 1 Axes>"
            ],
            "image/png": "[encoded data removed]"
          },
          "metadata": {}
        }
      ]
    },
    {
      "cell_type": "code",
      "source": [
        "plt.scatter(test['re'],test['rn'])"
      ],
      "metadata": {
        "colab": {
          "base_uri": "https://localhost:8080/",
          "height": 449
        },
        "id": "B91rOyleZapj",
        "outputId": "db0872a5-0dad-491f-86a8-65e00dba2263"
      },
      "execution_count": null,
      "outputs": [
        {
          "output_type": "execute_result",
          "data": {
            "text/plain": [
              "<matplotlib.collections.PathCollection at 0x7faeb870cfd0>"
            ]
          },
          "metadata": {},
          "execution_count": 255
        },
        {
          "output_type": "display_data",
          "data": {
            "text/plain": [
              "<Figure size 640x480 with 1 Axes>"
            ],
            "image/png": "[encoded data removed]"
          },
          "metadata": {}
        }
      ]
    },
    {
      "cell_type": "code",
      "source": [
        "train.drop(train[train['rn'] > 100].index,axis = 0,inplace = True)"
      ],
      "metadata": {
        "id": "LhfH1OxttGIv"
      },
      "execution_count": null,
      "outputs": []
    },
    {
      "cell_type": "markdown",
      "source": [
        "## 4) `STN` DROP"
      ],
      "metadata": {
        "id": "XchC0ADDZ-DA"
      }
    },
    {
      "cell_type": "code",
      "source": [
        "train.drop('stn',axis = 1,inplace = True)\n",
        "test.drop('stn',axis = 1,inplace = True)"
      ],
      "metadata": {
        "id": "gu3T6E1vaI8M"
      },
      "execution_count": null,
      "outputs": []
    },
    {
      "cell_type": "markdown",
      "source": [
        "# **3-1 두번째 전처리**"
      ],
      "metadata": {
        "id": "ZjCZkVISg8KS"
      }
    },
    {
      "cell_type": "markdown",
      "source": [
        "## 1) `SN` 칼럼\n",
        "* 봄&겨울 평균 값으로 대체 : 눈이 왔다고 표시된 날(WW = S)"
      ],
      "metadata": {
        "id": "ZZ5FGBy2hDao"
      }
    },
    {
      "cell_type": "code",
      "source": [
        "train[train['season'] == 'winter']['sn'].mean()"
      ],
      "metadata": {
        "colab": {
          "base_uri": "https://localhost:8080/"
        },
        "id": "OjRzc9QkgIy3",
        "outputId": "9c7c2b0b-ba71-4061-f605-6fb18b6c9516"
      },
      "execution_count": null,
      "outputs": [
        {
          "output_type": "execute_result",
          "data": {
            "text/plain": [
              "0.13150580585229912"
            ]
          },
          "metadata": {},
          "execution_count": 258
        }
      ]
    },
    {
      "cell_type": "code",
      "source": [
        "train[train['season'] == 'spring']['sn'].mean()"
      ],
      "metadata": {
        "colab": {
          "base_uri": "https://localhost:8080/"
        },
        "id": "JvY89qNbgxsd",
        "outputId": "99dd6aeb-17b2-47ec-accb-0180983165b3"
      },
      "execution_count": null,
      "outputs": [
        {
          "output_type": "execute_result",
          "data": {
            "text/plain": [
              "0.05154010672388924"
            ]
          },
          "metadata": {},
          "execution_count": 259
        }
      ]
    },
    {
      "cell_type": "code",
      "source": [
        "train[(train['ww_S']== 1)&(train['sn'] == 0) & (train['season'] == 'winter')]"
      ],
      "metadata": {
        "id": "iInXUCD7gjD8",
        "colab": {
          "base_uri": "https://localhost:8080/",
          "height": 423
        },
        "outputId": "9b23a168-a630-48ce-bfec-6a9ee71896ac"
      },
      "execution_count": null,
      "outputs": [
        {
          "output_type": "execute_result",
          "data": {
            "text/plain": [
              "        year  mmddhh   ta   td    hm   ws   rn  re   ts        si        ss  \\\n",
              "7023       0  112014  2.1 -4.7  61.3  2.2  0.0   9  4.4  0.760000  0.000000   \n",
              "7024       0  112015  1.3 -2.2  77.7  2.6  0.0   9  3.4  0.590000  0.000000   \n",
              "7092       0  112311 -1.6 -3.9  84.7  1.5  0.4  16 -0.3  1.020000  0.700000   \n",
              "7105       0  112400 -0.9 -5.1  73.8  1.6  0.1  18 -1.3  0.810904  0.519112   \n",
              "7106       0  112401 -1.1 -1.9  94.6  0.5  0.6  56 -1.0  0.810904  0.519112   \n",
              "...      ...     ...  ...  ...   ...  ...  ...  ..  ...       ...       ...   \n",
              "437150     4  121713  1.6 -4.8  62.9  8.2  0.1   7  6.9  1.820000  0.900000   \n",
              "437151     4  121714  1.4 -6.0  58.3  6.7  0.0   2  6.3  1.320000  0.800000   \n",
              "437152     4  121715  0.9 -5.7  62.2  8.5  0.1  11  4.5  0.830000  0.500000   \n",
              "437157     4  121720 -1.4 -7.1  65.3  5.3  0.0   2  0.2  0.810904  0.519112   \n",
              "437158     4  121721 -1.8 -6.6  69.7  4.7  0.0   3  0.2  0.810904  0.519112   \n",
              "\n",
              "         sn  season  ww_C  ww_F  ww_G  ww_H  ww_R  ww_S  ww_X  \n",
              "7023    0.0  winter     0     0     0     0     0     1     0  \n",
              "7024    0.0  winter     0     0     0     0     0     1     0  \n",
              "7092    0.0  winter     0     0     0     0     0     1     0  \n",
              "7105    0.0  winter     0     0     0     0     0     1     0  \n",
              "7106    0.0  winter     0     0     0     0     0     1     0  \n",
              "...     ...     ...   ...   ...   ...   ...   ...   ...   ...  \n",
              "437150  0.0  winter     0     0     0     0     0     1     0  \n",
              "437151  0.0  winter     0     0     0     0     0     1     0  \n",
              "437152  0.0  winter     0     0     0     0     0     1     0  \n",
              "437157  0.0  winter     0     0     0     0     0     1     0  \n",
              "437158  0.0  winter     0     0     0     0     0     1     0  \n",
              "\n",
              "[912 rows x 20 columns]"
            ],
            "text/html": [
              "\n",
              "  <div id=\"df-fdbebf76-b70f-4c5c-9410-abdc17571738\">\n",
              "    <div class=\"colab-df-container\">\n",
              "      <div>\n",
              "<style scoped>\n",
              "    .dataframe tbody tr th:only-of-type {\n",
              "        vertical-align: middle;\n",
              "    }\n",
              "\n",
              "    .dataframe tbody tr th {\n",
              "        vertical-align: top;\n",
              "    }\n",
              "\n",
              "    .dataframe thead th {\n",
              "        text-align: right;\n",
              "    }\n",
              "</style>\n",
              "<table border=\"1\" class=\"dataframe\">\n",
              "  <thead>\n",
              "    <tr style=\"text-align: right;\">\n",
              "      <th></th>\n",
              "      <th>year</th>\n",
              "      <th>mmddhh</th>\n",
              "      <th>ta</th>\n",
              "      <th>td</th>\n",
              "      <th>hm</th>\n",
              "      <th>ws</th>\n",
              "      <th>rn</th>\n",
              "      <th>re</th>\n",
              "      <th>ts</th>\n",
              "      <th>si</th>\n",
              "      <th>ss</th>\n",
              "      <th>sn</th>\n",
              "      <th>season</th>\n",
              "      <th>ww_C</th>\n",
              "      <th>ww_F</th>\n",
              "      <th>ww_G</th>\n",
              "      <th>ww_H</th>\n",
              "      <th>ww_R</th>\n",
              "      <th>ww_S</th>\n",
              "      <th>ww_X</th>\n",
              "    </tr>\n",
              "  </thead>\n",
              "  <tbody>\n",
              "    <tr>\n",
              "      <th>7023</th>\n",
              "      <td>0</td>\n",
              "      <td>112014</td>\n",
              "      <td>2.1</td>\n",
              "      <td>-4.7</td>\n",
              "      <td>61.3</td>\n",
              "      <td>2.2</td>\n",
              "      <td>0.0</td>\n",
              "      <td>9</td>\n",
              "      <td>4.4</td>\n",
              "      <td>0.760000</td>\n",
              "      <td>0.000000</td>\n",
              "      <td>0.0</td>\n",
              "      <td>winter</td>\n",
              "      <td>0</td>\n",
              "      <td>0</td>\n",
              "      <td>0</td>\n",
              "      <td>0</td>\n",
              "      <td>0</td>\n",
              "      <td>1</td>\n",
              "      <td>0</td>\n",
              "    </tr>\n",
              "    <tr>\n",
              "      <th>7024</th>\n",
              "      <td>0</td>\n",
              "      <td>112015</td>\n",
              "      <td>1.3</td>\n",
              "      <td>-2.2</td>\n",
              "      <td>77.7</td>\n",
              "      <td>2.6</td>\n",
              "      <td>0.0</td>\n",
              "      <td>9</td>\n",
              "      <td>3.4</td>\n",
              "      <td>0.590000</td>\n",
              "      <td>0.000000</td>\n",
              "      <td>0.0</td>\n",
              "      <td>winter</td>\n",
              "      <td>0</td>\n",
              "      <td>0</td>\n",
              "      <td>0</td>\n",
              "      <td>0</td>\n",
              "      <td>0</td>\n",
              "      <td>1</td>\n",
              "      <td>0</td>\n",
              "    </tr>\n",
              "    <tr>\n",
              "      <th>7092</th>\n",
              "      <td>0</td>\n",
              "      <td>112311</td>\n",
              "      <td>-1.6</td>\n",
              "      <td>-3.9</td>\n",
              "      <td>84.7</td>\n",
              "      <td>1.5</td>\n",
              "      <td>0.4</td>\n",
              "      <td>16</td>\n",
              "      <td>-0.3</td>\n",
              "      <td>1.020000</td>\n",
              "      <td>0.700000</td>\n",
              "      <td>0.0</td>\n",
              "      <td>winter</td>\n",
              "      <td>0</td>\n",
              "      <td>0</td>\n",
              "      <td>0</td>\n",
              "      <td>0</td>\n",
              "      <td>0</td>\n",
              "      <td>1</td>\n",
              "      <td>0</td>\n",
              "    </tr>\n",
              "    <tr>\n",
              "      <th>7105</th>\n",
              "      <td>0</td>\n",
              "      <td>112400</td>\n",
              "      <td>-0.9</td>\n",
              "      <td>-5.1</td>\n",
              "      <td>73.8</td>\n",
              "      <td>1.6</td>\n",
              "      <td>0.1</td>\n",
              "      <td>18</td>\n",
              "      <td>-1.3</td>\n",
              "      <td>0.810904</td>\n",
              "      <td>0.519112</td>\n",
              "      <td>0.0</td>\n",
              "      <td>winter</td>\n",
              "      <td>0</td>\n",
              "      <td>0</td>\n",
              "      <td>0</td>\n",
              "      <td>0</td>\n",
              "      <td>0</td>\n",
              "      <td>1</td>\n",
              "      <td>0</td>\n",
              "    </tr>\n",
              "    <tr>\n",
              "      <th>7106</th>\n",
              "      <td>0</td>\n",
              "      <td>112401</td>\n",
              "      <td>-1.1</td>\n",
              "      <td>-1.9</td>\n",
              "      <td>94.6</td>\n",
              "      <td>0.5</td>\n",
              "      <td>0.6</td>\n",
              "      <td>56</td>\n",
              "      <td>-1.0</td>\n",
              "      <td>0.810904</td>\n",
              "      <td>0.519112</td>\n",
              "      <td>0.0</td>\n",
              "      <td>winter</td>\n",
              "      <td>0</td>\n",
              "      <td>0</td>\n",
              "      <td>0</td>\n",
              "      <td>0</td>\n",
              "      <td>0</td>\n",
              "      <td>1</td>\n",
              "      <td>0</td>\n",
              "    </tr>\n",
              "    <tr>\n",
              "      <th>...</th>\n",
              "      <td>...</td>\n",
              "      <td>...</td>\n",
              "      <td>...</td>\n",
              "      <td>...</td>\n",
              "      <td>...</td>\n",
              "      <td>...</td>\n",
              "      <td>...</td>\n",
              "      <td>...</td>\n",
              "      <td>...</td>\n",
              "      <td>...</td>\n",
              "      <td>...</td>\n",
              "      <td>...</td>\n",
              "      <td>...</td>\n",
              "      <td>...</td>\n",
              "      <td>...</td>\n",
              "      <td>...</td>\n",
              "      <td>...</td>\n",
              "      <td>...</td>\n",
              "      <td>...</td>\n",
              "      <td>...</td>\n",
              "    </tr>\n",
              "    <tr>\n",
              "      <th>437150</th>\n",
              "      <td>4</td>\n",
              "      <td>121713</td>\n",
              "      <td>1.6</td>\n",
              "      <td>-4.8</td>\n",
              "      <td>62.9</td>\n",
              "      <td>8.2</td>\n",
              "      <td>0.1</td>\n",
              "      <td>7</td>\n",
              "      <td>6.9</td>\n",
              "      <td>1.820000</td>\n",
              "      <td>0.900000</td>\n",
              "      <td>0.0</td>\n",
              "      <td>winter</td>\n",
              "      <td>0</td>\n",
              "      <td>0</td>\n",
              "      <td>0</td>\n",
              "      <td>0</td>\n",
              "      <td>0</td>\n",
              "      <td>1</td>\n",
              "      <td>0</td>\n",
              "    </tr>\n",
              "    <tr>\n",
              "      <th>437151</th>\n",
              "      <td>4</td>\n",
              "      <td>121714</td>\n",
              "      <td>1.4</td>\n",
              "      <td>-6.0</td>\n",
              "      <td>58.3</td>\n",
              "      <td>6.7</td>\n",
              "      <td>0.0</td>\n",
              "      <td>2</td>\n",
              "      <td>6.3</td>\n",
              "      <td>1.320000</td>\n",
              "      <td>0.800000</td>\n",
              "      <td>0.0</td>\n",
              "      <td>winter</td>\n",
              "      <td>0</td>\n",
              "      <td>0</td>\n",
              "      <td>0</td>\n",
              "      <td>0</td>\n",
              "      <td>0</td>\n",
              "      <td>1</td>\n",
              "      <td>0</td>\n",
              "    </tr>\n",
              "    <tr>\n",
              "      <th>437152</th>\n",
              "      <td>4</td>\n",
              "      <td>121715</td>\n",
              "      <td>0.9</td>\n",
              "      <td>-5.7</td>\n",
              "      <td>62.2</td>\n",
              "      <td>8.5</td>\n",
              "      <td>0.1</td>\n",
              "      <td>11</td>\n",
              "      <td>4.5</td>\n",
              "      <td>0.830000</td>\n",
              "      <td>0.500000</td>\n",
              "      <td>0.0</td>\n",
              "      <td>winter</td>\n",
              "      <td>0</td>\n",
              "      <td>0</td>\n",
              "      <td>0</td>\n",
              "      <td>0</td>\n",
              "      <td>0</td>\n",
              "      <td>1</td>\n",
              "      <td>0</td>\n",
              "    </tr>\n",
              "    <tr>\n",
              "      <th>437157</th>\n",
              "      <td>4</td>\n",
              "      <td>121720</td>\n",
              "      <td>-1.4</td>\n",
              "      <td>-7.1</td>\n",
              "      <td>65.3</td>\n",
              "      <td>5.3</td>\n",
              "      <td>0.0</td>\n",
              "      <td>2</td>\n",
              "      <td>0.2</td>\n",
              "      <td>0.810904</td>\n",
              "      <td>0.519112</td>\n",
              "      <td>0.0</td>\n",
              "      <td>winter</td>\n",
              "      <td>0</td>\n",
              "      <td>0</td>\n",
              "      <td>0</td>\n",
              "      <td>0</td>\n",
              "      <td>0</td>\n",
              "      <td>1</td>\n",
              "      <td>0</td>\n",
              "    </tr>\n",
              "    <tr>\n",
              "      <th>437158</th>\n",
              "      <td>4</td>\n",
              "      <td>121721</td>\n",
              "      <td>-1.8</td>\n",
              "      <td>-6.6</td>\n",
              "      <td>69.7</td>\n",
              "      <td>4.7</td>\n",
              "      <td>0.0</td>\n",
              "      <td>3</td>\n",
              "      <td>0.2</td>\n",
              "      <td>0.810904</td>\n",
              "      <td>0.519112</td>\n",
              "      <td>0.0</td>\n",
              "      <td>winter</td>\n",
              "      <td>0</td>\n",
              "      <td>0</td>\n",
              "      <td>0</td>\n",
              "      <td>0</td>\n",
              "      <td>0</td>\n",
              "      <td>1</td>\n",
              "      <td>0</td>\n",
              "    </tr>\n",
              "  </tbody>\n",
              "</table>\n",
              "<p>912 rows × 20 columns</p>\n",
              "</div>\n",
              "      <button class=\"colab-df-convert\" onclick=\"convertToInteractive('df-fdbebf76-b70f-4c5c-9410-abdc17571738')\"\n",
              "              title=\"Convert this dataframe to an interactive table.\"\n",
              "              style=\"display:none;\">\n",
              "        \n",
              "  <svg xmlns=\"http://www.w3.org/2000/svg\" height=\"24px\"viewBox=\"0 0 24 24\"\n",
              "       width=\"24px\">\n",
              "    <path d=\"M0 0h24v24H0V0z\" fill=\"none\"/>\n",
              "    <path d=\"M18.56 5.44l.94 2.06.94-2.06 2.06-.94-2.06-.94-.94-2.06-.94 2.06-2.06.94zm-11 1L8.5 8.5l.94-2.06 2.06-.94-2.06-.94L8.5 2.5l-.94 2.06-2.06.94zm10 10l.94 2.06.94-2.06 2.06-.94-2.06-.94-.94-2.06-.94 2.06-2.06.94z\"/><path d=\"M17.41 7.96l-1.37-1.37c-.4-.4-.92-.59-1.43-.59-.52 0-1.04.2-1.43.59L10.3 9.45l-7.72 7.72c-.78.78-.78 2.05 0 2.83L4 21.41c.39.39.9.59 1.41.59.51 0 1.02-.2 1.41-.59l7.78-7.78 2.81-2.81c.8-.78.8-2.07 0-2.86zM5.41 20L4 18.59l7.72-7.72 1.47 1.35L5.41 20z\"/>\n",
              "  </svg>\n",
              "      </button>\n",
              "      \n",
              "  <style>\n",
              "    .colab-df-container {\n",
              "      display:flex;\n",
              "      flex-wrap:wrap;\n",
              "      gap: 12px;\n",
              "    }\n",
              "\n",
              "    .colab-df-convert {\n",
              "      background-color: #E8F0FE;\n",
              "      border: none;\n",
              "      border-radius: 50%;\n",
              "      cursor: pointer;\n",
              "      display: none;\n",
              "      fill: #1967D2;\n",
              "      height: 32px;\n",
              "      padding: 0 0 0 0;\n",
              "      width: 32px;\n",
              "    }\n",
              "\n",
              "    .colab-df-convert:hover {\n",
              "      background-color: #E2EBFA;\n",
              "      box-shadow: 0px 1px 2px rgba(60, 64, 67, 0.3), 0px 1px 3px 1px rgba(60, 64, 67, 0.15);\n",
              "      fill: #174EA6;\n",
              "    }\n",
              "\n",
              "    [theme=dark] .colab-df-convert {\n",
              "      background-color: #3B4455;\n",
              "      fill: #D2E3FC;\n",
              "    }\n",
              "\n",
              "    [theme=dark] .colab-df-convert:hover {\n",
              "      background-color: #434B5C;\n",
              "      box-shadow: 0px 1px 3px 1px rgba(0, 0, 0, 0.15);\n",
              "      filter: drop-shadow(0px 1px 2px rgba(0, 0, 0, 0.3));\n",
              "      fill: #FFFFFF;\n",
              "    }\n",
              "  </style>\n",
              "\n",
              "      <script>\n",
              "        const buttonEl =\n",
              "          document.querySelector('#df-fdbebf76-b70f-4c5c-9410-abdc17571738 button.colab-df-convert');\n",
              "        buttonEl.style.display =\n",
              "          google.colab.kernel.accessAllowed ? 'block' : 'none';\n",
              "\n",
              "        async function convertToInteractive(key) {\n",
              "          const element = document.querySelector('#df-fdbebf76-b70f-4c5c-9410-abdc17571738');\n",
              "          const dataTable =\n",
              "            await google.colab.kernel.invokeFunction('convertToInteractive',\n",
              "                                                     [key], {});\n",
              "          if (!dataTable) return;\n",
              "\n",
              "          const docLinkHtml = 'Like what you see? Visit the ' +\n",
              "            '<a target=\"_blank\" href=https://colab.research.google.com/notebooks/data_table.ipynb>data table notebook</a>'\n",
              "            + ' to learn more about interactive tables.';\n",
              "          element.innerHTML = '';\n",
              "          dataTable['output_type'] = 'display_data';\n",
              "          await google.colab.output.renderOutput(dataTable, element);\n",
              "          const docLink = document.createElement('div');\n",
              "          docLink.innerHTML = docLinkHtml;\n",
              "          element.appendChild(docLink);\n",
              "        }\n",
              "      </script>\n",
              "    </div>\n",
              "  </div>\n",
              "  "
            ]
          },
          "metadata": {},
          "execution_count": 260
        }
      ]
    },
    {
      "cell_type": "code",
      "source": [
        "sn_spring = train[(train['ww_S']== 1)&(train['sn'] == 0) & (train['season'] == 'spring')].index\n",
        "sn_winter = train[(train['ww_S']== 1)&(train['sn'] == 0) & (train['season'] == 'winter')].index\n",
        "\n",
        "train.loc[sn_spring,'sn'] = 0.05154010672388924\n",
        "train.loc[sn_winter,'sn'] = 0.13150580585229912"
      ],
      "metadata": {
        "id": "ihnAgkImgQkG"
      },
      "execution_count": null,
      "outputs": []
    },
    {
      "cell_type": "markdown",
      "source": [
        "## 2) `Year` & `mmmddhh`"
      ],
      "metadata": {
        "id": "1JLJDQZhvj_M"
      }
    },
    {
      "cell_type": "code",
      "source": [
        "train.groupby(['season','year']).mean()"
      ],
      "metadata": {
        "id": "6H96iy8ftkAd",
        "colab": {
          "base_uri": "https://localhost:8080/",
          "height": 803
        },
        "outputId": "82469734-b135-4478-8e21-a0a6fb18230f"
      },
      "execution_count": null,
      "outputs": [
        {
          "output_type": "execute_result",
          "data": {
            "text/plain": [
              "                    mmddhh         ta         td         hm        ws  \\\n",
              "season year                                                             \n",
              "fall   0      91574.244769  21.119841  15.758646  73.902332  2.105074   \n",
              "       1      91584.210454  20.934214  14.927024  70.908368  2.134067   \n",
              "       2      91682.563594  21.865799  16.800760  74.914062  2.046341   \n",
              "       3      91552.856136  20.934103  15.822413  74.763915  2.190298   \n",
              "       4      91590.637367  21.358746  16.472085  75.648162  2.021351   \n",
              "spring 0      36897.067936  10.725131   1.311023  56.700059  2.437248   \n",
              "       1      36940.150499  10.343620   2.361977  62.265163  2.470608   \n",
              "       2      36800.059411  10.617074   1.071985  56.427588  2.262529   \n",
              "       3      36586.720573  10.430419   2.220957  61.280742  2.472434   \n",
              "       4      36929.803320  11.306764   3.209070  61.705001  2.417384   \n",
              "summer 0      66664.067420  24.456115  19.152648  75.208421  2.119376   \n",
              "       1      66673.654065  24.878839  19.108129  72.900222  2.053344   \n",
              "       2      66774.975738  23.529367  18.376439  75.241938  2.064185   \n",
              "       3      66731.317529  23.133042  18.711745  78.424336  2.075629   \n",
              "       4      66680.458652  24.672129  19.596207  75.392924  1.980357   \n",
              "winter 0     116627.471656   3.766127  -4.764552  57.481833  2.251997   \n",
              "       1      81491.583635   2.921129  -5.518501  57.793773  2.055085   \n",
              "       2      81491.487076   4.460637  -3.868531  58.593524  2.068173   \n",
              "       3      81299.869881   4.485809  -3.476038  59.796048  2.169150   \n",
              "       4      81735.370931   3.858105  -3.449389  62.008303  2.200316   \n",
              "       5      11609.960244  -0.125585  -9.517786  52.305804  2.139216   \n",
              "\n",
              "                   rn        re         ts        si        ss        sn  \\\n",
              "season year                                                                \n",
              "fall   0     0.211282  3.242465  22.965780  1.019426  0.499226  0.000000   \n",
              "       1     0.259840  3.690050  23.020275  1.087051  0.519446  0.000000   \n",
              "       2     0.222214  4.112552  23.459532  1.055361  0.494487  0.000000   \n",
              "       3     0.317395  4.166392  22.723283  1.049272  0.481262  0.000000   \n",
              "       4     0.221489  3.778621  22.974219  1.027339  0.464394  0.000000   \n",
              "spring 0     0.049967  2.244640  12.898335  1.201030  0.568112  0.039103   \n",
              "       1     0.148835  4.100368  11.550959  1.133131  0.522916  0.038877   \n",
              "       2     0.069016  2.728431  12.221064  1.207745  0.546769  0.023213   \n",
              "       3     0.083176  3.073154  12.538455  1.231700  0.551831  0.031812   \n",
              "       4     0.126184  3.309758  12.743844  1.197759  0.525642  0.125186   \n",
              "summer 0     0.284296  3.552655  28.335382  1.200784  0.472316  0.000000   \n",
              "       1     0.230010  3.423556  29.031221  1.305514  0.517985  0.000000   \n",
              "       2     0.268749  4.618023  26.726738  1.217395  0.465931  0.000000   \n",
              "       3     0.432285  6.482457  26.282940  1.178347  0.425740  0.000000   \n",
              "       4     0.207635  3.336920  28.140458  1.292988  0.496305  0.000000   \n",
              "winter 0     0.028682  1.410114   3.966184  0.779733  0.554037  0.043013   \n",
              "       1     0.048235  2.111452   2.941042  0.793713  0.539658  0.123083   \n",
              "       2     0.043394  1.779172   4.035388  0.815501  0.545916  0.009007   \n",
              "       3     0.061510  2.289868   4.449529  0.810403  0.533941  0.061495   \n",
              "       4     0.039206  1.774414   3.798653  0.823381  0.541492  0.294604   \n",
              "       5     0.003172  0.296301   0.245075  0.874158  0.571087  0.435803   \n",
              "\n",
              "                 ww_C      ww_F      ww_G      ww_H      ww_R      ww_S  \\\n",
              "season year                                                               \n",
              "fall   0     0.694995  0.004517  0.055259  0.126095  0.118997  0.000000   \n",
              "       1     0.732875  0.003806  0.036726  0.076341  0.149977  0.000092   \n",
              "       2     0.629458  0.004678  0.042751  0.105836  0.178416  0.000046   \n",
              "       3     0.675366  0.005998  0.070147  0.111859  0.131914  0.000275   \n",
              "       4     0.747850  0.006853  0.050458  0.049170  0.145072  0.000230   \n",
              "spring 0     0.705980  0.006151  0.054036  0.152518  0.074643  0.004830   \n",
              "       1     0.598846  0.012639  0.082808  0.177972  0.114140  0.012356   \n",
              "       2     0.580899  0.005938  0.074472  0.180189  0.138916  0.004960   \n",
              "       3     0.711720  0.007670  0.063943  0.120036  0.088244  0.008387   \n",
              "       4     0.732026  0.008548  0.077998  0.072642  0.101195  0.007520   \n",
              "summer 0     0.551559  0.007468  0.082700  0.211237  0.143748  0.000000   \n",
              "       1     0.618335  0.010525  0.087938  0.171237  0.111896  0.000000   \n",
              "       2     0.472164  0.007437  0.060654  0.167449  0.171493  0.000144   \n",
              "       3     0.609777  0.014217  0.072554  0.133623  0.168359  0.000210   \n",
              "       4     0.706531  0.010483  0.085316  0.082144  0.115318  0.000138   \n",
              "winter 0     0.660571  0.008299  0.075960  0.188212  0.047827  0.018498   \n",
              "       1     0.594409  0.008823  0.073605  0.196155  0.104811  0.021362   \n",
              "       2     0.641934  0.008647  0.069038  0.174663  0.098698  0.006648   \n",
              "       3     0.704169  0.007488  0.080568  0.127901  0.069335  0.009568   \n",
              "       4     0.712979  0.012073  0.081913  0.104481  0.062689  0.022196   \n",
              "       5     0.755229  0.003325  0.097382  0.091564  0.033661  0.018839   \n",
              "\n",
              "                 ww_X  \n",
              "season year            \n",
              "fall   0     0.000138  \n",
              "       1     0.000183  \n",
              "       2     0.038814  \n",
              "       3     0.004441  \n",
              "       4     0.000368  \n",
              "spring 0     0.001842  \n",
              "       1     0.001239  \n",
              "       2     0.014627  \n",
              "       3     0.000000  \n",
              "       4     0.000071  \n",
              "summer 0     0.003289  \n",
              "       1     0.000069  \n",
              "       2     0.120659  \n",
              "       3     0.001261  \n",
              "       4     0.000069  \n",
              "winter 0     0.000633  \n",
              "       1     0.000836  \n",
              "       2     0.000372  \n",
              "       3     0.000971  \n",
              "       4     0.003668  \n",
              "       5     0.000000  "
            ],
            "text/html": [
              "\n",
              "  <div id=\"df-8cfacbff-74db-434a-9c7e-579f281c1bb0\">\n",
              "    <div class=\"colab-df-container\">\n",
              "      <div>\n",
              "<style scoped>\n",
              "    .dataframe tbody tr th:only-of-type {\n",
              "        vertical-align: middle;\n",
              "    }\n",
              "\n",
              "    .dataframe tbody tr th {\n",
              "        vertical-align: top;\n",
              "    }\n",
              "\n",
              "    .dataframe thead th {\n",
              "        text-align: right;\n",
              "    }\n",
              "</style>\n",
              "<table border=\"1\" class=\"dataframe\">\n",
              "  <thead>\n",
              "    <tr style=\"text-align: right;\">\n",
              "      <th></th>\n",
              "      <th></th>\n",
              "      <th>mmddhh</th>\n",
              "      <th>ta</th>\n",
              "      <th>td</th>\n",
              "      <th>hm</th>\n",
              "      <th>ws</th>\n",
              "      <th>rn</th>\n",
              "      <th>re</th>\n",
              "      <th>ts</th>\n",
              "      <th>si</th>\n",
              "      <th>ss</th>\n",
              "      <th>sn</th>\n",
              "      <th>ww_C</th>\n",
              "      <th>ww_F</th>\n",
              "      <th>ww_G</th>\n",
              "      <th>ww_H</th>\n",
              "      <th>ww_R</th>\n",
              "      <th>ww_S</th>\n",
              "      <th>ww_X</th>\n",
              "    </tr>\n",
              "    <tr>\n",
              "      <th>season</th>\n",
              "      <th>year</th>\n",
              "      <th></th>\n",
              "      <th></th>\n",
              "      <th></th>\n",
              "      <th></th>\n",
              "      <th></th>\n",
              "      <th></th>\n",
              "      <th></th>\n",
              "      <th></th>\n",
              "      <th></th>\n",
              "      <th></th>\n",
              "      <th></th>\n",
              "      <th></th>\n",
              "      <th></th>\n",
              "      <th></th>\n",
              "      <th></th>\n",
              "      <th></th>\n",
              "      <th></th>\n",
              "      <th></th>\n",
              "    </tr>\n",
              "  </thead>\n",
              "  <tbody>\n",
              "    <tr>\n",
              "      <th rowspan=\"5\" valign=\"top\">fall</th>\n",
              "      <th>0</th>\n",
              "      <td>91574.244769</td>\n",
              "      <td>21.119841</td>\n",
              "      <td>15.758646</td>\n",
              "      <td>73.902332</td>\n",
              "      <td>2.105074</td>\n",
              "      <td>0.211282</td>\n",
              "      <td>3.242465</td>\n",
              "      <td>22.965780</td>\n",
              "      <td>1.019426</td>\n",
              "      <td>0.499226</td>\n",
              "      <td>0.000000</td>\n",
              "      <td>0.694995</td>\n",
              "      <td>0.004517</td>\n",
              "      <td>0.055259</td>\n",
              "      <td>0.126095</td>\n",
              "      <td>0.118997</td>\n",
              "      <td>0.000000</td>\n",
              "      <td>0.000138</td>\n",
              "    </tr>\n",
              "    <tr>\n",
              "      <th>1</th>\n",
              "      <td>91584.210454</td>\n",
              "      <td>20.934214</td>\n",
              "      <td>14.927024</td>\n",
              "      <td>70.908368</td>\n",
              "      <td>2.134067</td>\n",
              "      <td>0.259840</td>\n",
              "      <td>3.690050</td>\n",
              "      <td>23.020275</td>\n",
              "      <td>1.087051</td>\n",
              "      <td>0.519446</td>\n",
              "      <td>0.000000</td>\n",
              "      <td>0.732875</td>\n",
              "      <td>0.003806</td>\n",
              "      <td>0.036726</td>\n",
              "      <td>0.076341</td>\n",
              "      <td>0.149977</td>\n",
              "      <td>0.000092</td>\n",
              "      <td>0.000183</td>\n",
              "    </tr>\n",
              "    <tr>\n",
              "      <th>2</th>\n",
              "      <td>91682.563594</td>\n",
              "      <td>21.865799</td>\n",
              "      <td>16.800760</td>\n",
              "      <td>74.914062</td>\n",
              "      <td>2.046341</td>\n",
              "      <td>0.222214</td>\n",
              "      <td>4.112552</td>\n",
              "      <td>23.459532</td>\n",
              "      <td>1.055361</td>\n",
              "      <td>0.494487</td>\n",
              "      <td>0.000000</td>\n",
              "      <td>0.629458</td>\n",
              "      <td>0.004678</td>\n",
              "      <td>0.042751</td>\n",
              "      <td>0.105836</td>\n",
              "      <td>0.178416</td>\n",
              "      <td>0.000046</td>\n",
              "      <td>0.038814</td>\n",
              "    </tr>\n",
              "    <tr>\n",
              "      <th>3</th>\n",
              "      <td>91552.856136</td>\n",
              "      <td>20.934103</td>\n",
              "      <td>15.822413</td>\n",
              "      <td>74.763915</td>\n",
              "      <td>2.190298</td>\n",
              "      <td>0.317395</td>\n",
              "      <td>4.166392</td>\n",
              "      <td>22.723283</td>\n",
              "      <td>1.049272</td>\n",
              "      <td>0.481262</td>\n",
              "      <td>0.000000</td>\n",
              "      <td>0.675366</td>\n",
              "      <td>0.005998</td>\n",
              "      <td>0.070147</td>\n",
              "      <td>0.111859</td>\n",
              "      <td>0.131914</td>\n",
              "      <td>0.000275</td>\n",
              "      <td>0.004441</td>\n",
              "    </tr>\n",
              "    <tr>\n",
              "      <th>4</th>\n",
              "      <td>91590.637367</td>\n",
              "      <td>21.358746</td>\n",
              "      <td>16.472085</td>\n",
              "      <td>75.648162</td>\n",
              "      <td>2.021351</td>\n",
              "      <td>0.221489</td>\n",
              "      <td>3.778621</td>\n",
              "      <td>22.974219</td>\n",
              "      <td>1.027339</td>\n",
              "      <td>0.464394</td>\n",
              "      <td>0.000000</td>\n",
              "      <td>0.747850</td>\n",
              "      <td>0.006853</td>\n",
              "      <td>0.050458</td>\n",
              "      <td>0.049170</td>\n",
              "      <td>0.145072</td>\n",
              "      <td>0.000230</td>\n",
              "      <td>0.000368</td>\n",
              "    </tr>\n",
              "    <tr>\n",
              "      <th rowspan=\"5\" valign=\"top\">spring</th>\n",
              "      <th>0</th>\n",
              "      <td>36897.067936</td>\n",
              "      <td>10.725131</td>\n",
              "      <td>1.311023</td>\n",
              "      <td>56.700059</td>\n",
              "      <td>2.437248</td>\n",
              "      <td>0.049967</td>\n",
              "      <td>2.244640</td>\n",
              "      <td>12.898335</td>\n",
              "      <td>1.201030</td>\n",
              "      <td>0.568112</td>\n",
              "      <td>0.039103</td>\n",
              "      <td>0.705980</td>\n",
              "      <td>0.006151</td>\n",
              "      <td>0.054036</td>\n",
              "      <td>0.152518</td>\n",
              "      <td>0.074643</td>\n",
              "      <td>0.004830</td>\n",
              "      <td>0.001842</td>\n",
              "    </tr>\n",
              "    <tr>\n",
              "      <th>1</th>\n",
              "      <td>36940.150499</td>\n",
              "      <td>10.343620</td>\n",
              "      <td>2.361977</td>\n",
              "      <td>62.265163</td>\n",
              "      <td>2.470608</td>\n",
              "      <td>0.148835</td>\n",
              "      <td>4.100368</td>\n",
              "      <td>11.550959</td>\n",
              "      <td>1.133131</td>\n",
              "      <td>0.522916</td>\n",
              "      <td>0.038877</td>\n",
              "      <td>0.598846</td>\n",
              "      <td>0.012639</td>\n",
              "      <td>0.082808</td>\n",
              "      <td>0.177972</td>\n",
              "      <td>0.114140</td>\n",
              "      <td>0.012356</td>\n",
              "      <td>0.001239</td>\n",
              "    </tr>\n",
              "    <tr>\n",
              "      <th>2</th>\n",
              "      <td>36800.059411</td>\n",
              "      <td>10.617074</td>\n",
              "      <td>1.071985</td>\n",
              "      <td>56.427588</td>\n",
              "      <td>2.262529</td>\n",
              "      <td>0.069016</td>\n",
              "      <td>2.728431</td>\n",
              "      <td>12.221064</td>\n",
              "      <td>1.207745</td>\n",
              "      <td>0.546769</td>\n",
              "      <td>0.023213</td>\n",
              "      <td>0.580899</td>\n",
              "      <td>0.005938</td>\n",
              "      <td>0.074472</td>\n",
              "      <td>0.180189</td>\n",
              "      <td>0.138916</td>\n",
              "      <td>0.004960</td>\n",
              "      <td>0.014627</td>\n",
              "    </tr>\n",
              "    <tr>\n",
              "      <th>3</th>\n",
              "      <td>36586.720573</td>\n",
              "      <td>10.430419</td>\n",
              "      <td>2.220957</td>\n",
              "      <td>61.280742</td>\n",
              "      <td>2.472434</td>\n",
              "      <td>0.083176</td>\n",
              "      <td>3.073154</td>\n",
              "      <td>12.538455</td>\n",
              "      <td>1.231700</td>\n",
              "      <td>0.551831</td>\n",
              "      <td>0.031812</td>\n",
              "      <td>0.711720</td>\n",
              "      <td>0.007670</td>\n",
              "      <td>0.063943</td>\n",
              "      <td>0.120036</td>\n",
              "      <td>0.088244</td>\n",
              "      <td>0.008387</td>\n",
              "      <td>0.000000</td>\n",
              "    </tr>\n",
              "    <tr>\n",
              "      <th>4</th>\n",
              "      <td>36929.803320</td>\n",
              "      <td>11.306764</td>\n",
              "      <td>3.209070</td>\n",
              "      <td>61.705001</td>\n",
              "      <td>2.417384</td>\n",
              "      <td>0.126184</td>\n",
              "      <td>3.309758</td>\n",
              "      <td>12.743844</td>\n",
              "      <td>1.197759</td>\n",
              "      <td>0.525642</td>\n",
              "      <td>0.125186</td>\n",
              "      <td>0.732026</td>\n",
              "      <td>0.008548</td>\n",
              "      <td>0.077998</td>\n",
              "      <td>0.072642</td>\n",
              "      <td>0.101195</td>\n",
              "      <td>0.007520</td>\n",
              "      <td>0.000071</td>\n",
              "    </tr>\n",
              "    <tr>\n",
              "      <th rowspan=\"5\" valign=\"top\">summer</th>\n",
              "      <th>0</th>\n",
              "      <td>66664.067420</td>\n",
              "      <td>24.456115</td>\n",
              "      <td>19.152648</td>\n",
              "      <td>75.208421</td>\n",
              "      <td>2.119376</td>\n",
              "      <td>0.284296</td>\n",
              "      <td>3.552655</td>\n",
              "      <td>28.335382</td>\n",
              "      <td>1.200784</td>\n",
              "      <td>0.472316</td>\n",
              "      <td>0.000000</td>\n",
              "      <td>0.551559</td>\n",
              "      <td>0.007468</td>\n",
              "      <td>0.082700</td>\n",
              "      <td>0.211237</td>\n",
              "      <td>0.143748</td>\n",
              "      <td>0.000000</td>\n",
              "      <td>0.003289</td>\n",
              "    </tr>\n",
              "    <tr>\n",
              "      <th>1</th>\n",
              "      <td>66673.654065</td>\n",
              "      <td>24.878839</td>\n",
              "      <td>19.108129</td>\n",
              "      <td>72.900222</td>\n",
              "      <td>2.053344</td>\n",
              "      <td>0.230010</td>\n",
              "      <td>3.423556</td>\n",
              "      <td>29.031221</td>\n",
              "      <td>1.305514</td>\n",
              "      <td>0.517985</td>\n",
              "      <td>0.000000</td>\n",
              "      <td>0.618335</td>\n",
              "      <td>0.010525</td>\n",
              "      <td>0.087938</td>\n",
              "      <td>0.171237</td>\n",
              "      <td>0.111896</td>\n",
              "      <td>0.000000</td>\n",
              "      <td>0.000069</td>\n",
              "    </tr>\n",
              "    <tr>\n",
              "      <th>2</th>\n",
              "      <td>66774.975738</td>\n",
              "      <td>23.529367</td>\n",
              "      <td>18.376439</td>\n",
              "      <td>75.241938</td>\n",
              "      <td>2.064185</td>\n",
              "      <td>0.268749</td>\n",
              "      <td>4.618023</td>\n",
              "      <td>26.726738</td>\n",
              "      <td>1.217395</td>\n",
              "      <td>0.465931</td>\n",
              "      <td>0.000000</td>\n",
              "      <td>0.472164</td>\n",
              "      <td>0.007437</td>\n",
              "      <td>0.060654</td>\n",
              "      <td>0.167449</td>\n",
              "      <td>0.171493</td>\n",
              "      <td>0.000144</td>\n",
              "      <td>0.120659</td>\n",
              "    </tr>\n",
              "    <tr>\n",
              "      <th>3</th>\n",
              "      <td>66731.317529</td>\n",
              "      <td>23.133042</td>\n",
              "      <td>18.711745</td>\n",
              "      <td>78.424336</td>\n",
              "      <td>2.075629</td>\n",
              "      <td>0.432285</td>\n",
              "      <td>6.482457</td>\n",
              "      <td>26.282940</td>\n",
              "      <td>1.178347</td>\n",
              "      <td>0.425740</td>\n",
              "      <td>0.000000</td>\n",
              "      <td>0.609777</td>\n",
              "      <td>0.014217</td>\n",
              "      <td>0.072554</td>\n",
              "      <td>0.133623</td>\n",
              "      <td>0.168359</td>\n",
              "      <td>0.000210</td>\n",
              "      <td>0.001261</td>\n",
              "    </tr>\n",
              "    <tr>\n",
              "      <th>4</th>\n",
              "      <td>66680.458652</td>\n",
              "      <td>24.672129</td>\n",
              "      <td>19.596207</td>\n",
              "      <td>75.392924</td>\n",
              "      <td>1.980357</td>\n",
              "      <td>0.207635</td>\n",
              "      <td>3.336920</td>\n",
              "      <td>28.140458</td>\n",
              "      <td>1.292988</td>\n",
              "      <td>0.496305</td>\n",
              "      <td>0.000000</td>\n",
              "      <td>0.706531</td>\n",
              "      <td>0.010483</td>\n",
              "      <td>0.085316</td>\n",
              "      <td>0.082144</td>\n",
              "      <td>0.115318</td>\n",
              "      <td>0.000138</td>\n",
              "      <td>0.000069</td>\n",
              "    </tr>\n",
              "    <tr>\n",
              "      <th rowspan=\"6\" valign=\"top\">winter</th>\n",
              "      <th>0</th>\n",
              "      <td>116627.471656</td>\n",
              "      <td>3.766127</td>\n",
              "      <td>-4.764552</td>\n",
              "      <td>57.481833</td>\n",
              "      <td>2.251997</td>\n",
              "      <td>0.028682</td>\n",
              "      <td>1.410114</td>\n",
              "      <td>3.966184</td>\n",
              "      <td>0.779733</td>\n",
              "      <td>0.554037</td>\n",
              "      <td>0.043013</td>\n",
              "      <td>0.660571</td>\n",
              "      <td>0.008299</td>\n",
              "      <td>0.075960</td>\n",
              "      <td>0.188212</td>\n",
              "      <td>0.047827</td>\n",
              "      <td>0.018498</td>\n",
              "      <td>0.000633</td>\n",
              "    </tr>\n",
              "    <tr>\n",
              "      <th>1</th>\n",
              "      <td>81491.583635</td>\n",
              "      <td>2.921129</td>\n",
              "      <td>-5.518501</td>\n",
              "      <td>57.793773</td>\n",
              "      <td>2.055085</td>\n",
              "      <td>0.048235</td>\n",
              "      <td>2.111452</td>\n",
              "      <td>2.941042</td>\n",
              "      <td>0.793713</td>\n",
              "      <td>0.539658</td>\n",
              "      <td>0.123083</td>\n",
              "      <td>0.594409</td>\n",
              "      <td>0.008823</td>\n",
              "      <td>0.073605</td>\n",
              "      <td>0.196155</td>\n",
              "      <td>0.104811</td>\n",
              "      <td>0.021362</td>\n",
              "      <td>0.000836</td>\n",
              "    </tr>\n",
              "    <tr>\n",
              "      <th>2</th>\n",
              "      <td>81491.487076</td>\n",
              "      <td>4.460637</td>\n",
              "      <td>-3.868531</td>\n",
              "      <td>58.593524</td>\n",
              "      <td>2.068173</td>\n",
              "      <td>0.043394</td>\n",
              "      <td>1.779172</td>\n",
              "      <td>4.035388</td>\n",
              "      <td>0.815501</td>\n",
              "      <td>0.545916</td>\n",
              "      <td>0.009007</td>\n",
              "      <td>0.641934</td>\n",
              "      <td>0.008647</td>\n",
              "      <td>0.069038</td>\n",
              "      <td>0.174663</td>\n",
              "      <td>0.098698</td>\n",
              "      <td>0.006648</td>\n",
              "      <td>0.000372</td>\n",
              "    </tr>\n",
              "    <tr>\n",
              "      <th>3</th>\n",
              "      <td>81299.869881</td>\n",
              "      <td>4.485809</td>\n",
              "      <td>-3.476038</td>\n",
              "      <td>59.796048</td>\n",
              "      <td>2.169150</td>\n",
              "      <td>0.061510</td>\n",
              "      <td>2.289868</td>\n",
              "      <td>4.449529</td>\n",
              "      <td>0.810403</td>\n",
              "      <td>0.533941</td>\n",
              "      <td>0.061495</td>\n",
              "      <td>0.704169</td>\n",
              "      <td>0.007488</td>\n",
              "      <td>0.080568</td>\n",
              "      <td>0.127901</td>\n",
              "      <td>0.069335</td>\n",
              "      <td>0.009568</td>\n",
              "      <td>0.000971</td>\n",
              "    </tr>\n",
              "    <tr>\n",
              "      <th>4</th>\n",
              "      <td>81735.370931</td>\n",
              "      <td>3.858105</td>\n",
              "      <td>-3.449389</td>\n",
              "      <td>62.008303</td>\n",
              "      <td>2.200316</td>\n",
              "      <td>0.039206</td>\n",
              "      <td>1.774414</td>\n",
              "      <td>3.798653</td>\n",
              "      <td>0.823381</td>\n",
              "      <td>0.541492</td>\n",
              "      <td>0.294604</td>\n",
              "      <td>0.712979</td>\n",
              "      <td>0.012073</td>\n",
              "      <td>0.081913</td>\n",
              "      <td>0.104481</td>\n",
              "      <td>0.062689</td>\n",
              "      <td>0.022196</td>\n",
              "      <td>0.003668</td>\n",
              "    </tr>\n",
              "    <tr>\n",
              "      <th>5</th>\n",
              "      <td>11609.960244</td>\n",
              "      <td>-0.125585</td>\n",
              "      <td>-9.517786</td>\n",
              "      <td>52.305804</td>\n",
              "      <td>2.139216</td>\n",
              "      <td>0.003172</td>\n",
              "      <td>0.296301</td>\n",
              "      <td>0.245075</td>\n",
              "      <td>0.874158</td>\n",
              "      <td>0.571087</td>\n",
              "      <td>0.435803</td>\n",
              "      <td>0.755229</td>\n",
              "      <td>0.003325</td>\n",
              "      <td>0.097382</td>\n",
              "      <td>0.091564</td>\n",
              "      <td>0.033661</td>\n",
              "      <td>0.018839</td>\n",
              "      <td>0.000000</td>\n",
              "    </tr>\n",
              "  </tbody>\n",
              "</table>\n",
              "</div>\n",
              "      <button class=\"colab-df-convert\" onclick=\"convertToInteractive('df-8cfacbff-74db-434a-9c7e-579f281c1bb0')\"\n",
              "              title=\"Convert this dataframe to an interactive table.\"\n",
              "              style=\"display:none;\">\n",
              "        \n",
              "  <svg xmlns=\"http://www.w3.org/2000/svg\" height=\"24px\"viewBox=\"0 0 24 24\"\n",
              "       width=\"24px\">\n",
              "    <path d=\"M0 0h24v24H0V0z\" fill=\"none\"/>\n",
              "    <path d=\"M18.56 5.44l.94 2.06.94-2.06 2.06-.94-2.06-.94-.94-2.06-.94 2.06-2.06.94zm-11 1L8.5 8.5l.94-2.06 2.06-.94-2.06-.94L8.5 2.5l-.94 2.06-2.06.94zm10 10l.94 2.06.94-2.06 2.06-.94-2.06-.94-.94-2.06-.94 2.06-2.06.94z\"/><path d=\"M17.41 7.96l-1.37-1.37c-.4-.4-.92-.59-1.43-.59-.52 0-1.04.2-1.43.59L10.3 9.45l-7.72 7.72c-.78.78-.78 2.05 0 2.83L4 21.41c.39.39.9.59 1.41.59.51 0 1.02-.2 1.41-.59l7.78-7.78 2.81-2.81c.8-.78.8-2.07 0-2.86zM5.41 20L4 18.59l7.72-7.72 1.47 1.35L5.41 20z\"/>\n",
              "  </svg>\n",
              "      </button>\n",
              "      \n",
              "  <style>\n",
              "    .colab-df-container {\n",
              "      display:flex;\n",
              "      flex-wrap:wrap;\n",
              "      gap: 12px;\n",
              "    }\n",
              "\n",
              "    .colab-df-convert {\n",
              "      background-color: #E8F0FE;\n",
              "      border: none;\n",
              "      border-radius: 50%;\n",
              "      cursor: pointer;\n",
              "      display: none;\n",
              "      fill: #1967D2;\n",
              "      height: 32px;\n",
              "      padding: 0 0 0 0;\n",
              "      width: 32px;\n",
              "    }\n",
              "\n",
              "    .colab-df-convert:hover {\n",
              "      background-color: #E2EBFA;\n",
              "      box-shadow: 0px 1px 2px rgba(60, 64, 67, 0.3), 0px 1px 3px 1px rgba(60, 64, 67, 0.15);\n",
              "      fill: #174EA6;\n",
              "    }\n",
              "\n",
              "    [theme=dark] .colab-df-convert {\n",
              "      background-color: #3B4455;\n",
              "      fill: #D2E3FC;\n",
              "    }\n",
              "\n",
              "    [theme=dark] .colab-df-convert:hover {\n",
              "      background-color: #434B5C;\n",
              "      box-shadow: 0px 1px 3px 1px rgba(0, 0, 0, 0.15);\n",
              "      filter: drop-shadow(0px 1px 2px rgba(0, 0, 0, 0.3));\n",
              "      fill: #FFFFFF;\n",
              "    }\n",
              "  </style>\n",
              "\n",
              "      <script>\n",
              "        const buttonEl =\n",
              "          document.querySelector('#df-8cfacbff-74db-434a-9c7e-579f281c1bb0 button.colab-df-convert');\n",
              "        buttonEl.style.display =\n",
              "          google.colab.kernel.accessAllowed ? 'block' : 'none';\n",
              "\n",
              "        async function convertToInteractive(key) {\n",
              "          const element = document.querySelector('#df-8cfacbff-74db-434a-9c7e-579f281c1bb0');\n",
              "          const dataTable =\n",
              "            await google.colab.kernel.invokeFunction('convertToInteractive',\n",
              "                                                     [key], {});\n",
              "          if (!dataTable) return;\n",
              "\n",
              "          const docLinkHtml = 'Like what you see? Visit the ' +\n",
              "            '<a target=\"_blank\" href=https://colab.research.google.com/notebooks/data_table.ipynb>data table notebook</a>'\n",
              "            + ' to learn more about interactive tables.';\n",
              "          element.innerHTML = '';\n",
              "          dataTable['output_type'] = 'display_data';\n",
              "          await google.colab.output.renderOutput(dataTable, element);\n",
              "          const docLink = document.createElement('div');\n",
              "          docLink.innerHTML = docLinkHtml;\n",
              "          element.appendChild(docLink);\n",
              "        }\n",
              "      </script>\n",
              "    </div>\n",
              "  </div>\n",
              "  "
            ]
          },
          "metadata": {},
          "execution_count": 262
        }
      ]
    },
    {
      "cell_type": "code",
      "source": [
        "train.drop(['year','mmddhh'],axis = 1, inplace = True)\n",
        "test.drop(['year','mmddhh'],axis = 1, inplace = True)"
      ],
      "metadata": {
        "id": "Uum0umZyxX4c"
      },
      "execution_count": null,
      "outputs": []
    },
    {
      "cell_type": "markdown",
      "source": [
        "---\n",
        "# **4. 모델링**"
      ],
      "metadata": {
        "id": "oCeV_5Mga1Ju"
      }
    },
    {
      "cell_type": "markdown",
      "source": [
        "1. 릿지\n",
        "2. 라쏘\n",
        "3. XGB\n",
        "4. LGB\n",
        "5. RF\n",
        "6. GB\n",
        "7. DT\n",
        "8. 엘라스틱\n"
      ],
      "metadata": {
        "id": "LOIFFGHwd8y6"
      }
    },
    {
      "cell_type": "code",
      "source": [
        "from sklearn.model_selection import train_test_split\n",
        "\n",
        "X_data = train.drop(['ts','season'],axis = 1)\n",
        "Y_data = train['ts']\n",
        "\n",
        "X_train,X_val,y_train,y_val = train_test_split(X_data,Y_data,test_size = 0.3, random_state = 0)"
      ],
      "metadata": {
        "id": "miFU83obwqNl"
      },
      "execution_count": null,
      "outputs": []
    },
    {
      "cell_type": "markdown",
      "source": [
        "##1) 릿지\n"
      ],
      "metadata": {
        "id": "I9sJk9hSvCtU"
      }
    },
    {
      "cell_type": "markdown",
      "source": [
        "### (1) Randomized Search CV\n"
      ],
      "metadata": {
        "id": "ERx2Nrt29Xxy"
      }
    },
    {
      "cell_type": "code",
      "source": [
        "from sklearn.model_selection import RandomizedSearchCV, cross_val_score\n",
        "from sklearn.pipeline import make_pipeline\n",
        "from sklearn.linear_model import Ridge"
      ],
      "metadata": {
        "id": "dCwjgnu_9baY"
      },
      "execution_count": null,
      "outputs": []
    },
    {
      "cell_type": "code",
      "source": [
        "ridge = Ridge(random_state = 0)\n",
        "dists = {\n",
        "    'alpha' : (np.linspace(-8, 8, 100))\n",
        "}\n",
        "\n",
        "rs_cv = RandomizedSearchCV( ridge,\n",
        "                           param_distributions = dists,\n",
        "                            n_iter= 50, cv = 3,\n",
        "                            scoring = 'neg_mean_absolute_error',\n",
        "                            verbose = 1,\n",
        "                            n_jobs = -1\n",
        "\n",
        ")"
      ],
      "metadata": {
        "id": "yxcG1_Gy-jOJ"
      },
      "execution_count": null,
      "outputs": []
    },
    {
      "cell_type": "code",
      "source": [
        "rs_cv.fit(X_train,y_train)"
      ],
      "metadata": {
        "colab": {
          "base_uri": "https://localhost:8080/",
          "height": 1000
        },
        "id": "OZcuAxKD_RV_",
        "outputId": "9f85a427-6106-4903-b391-dcc1e5be885f"
      },
      "execution_count": null,
      "outputs": [
        {
          "output_type": "stream",
          "name": "stdout",
          "text": [
            "Fitting 3 folds for each of 50 candidates, totalling 150 fits\n"
          ]
        },
        {
          "output_type": "stream",
          "name": "stderr",
          "text": [
            "/usr/local/lib/python3.10/dist-packages/sklearn/model_selection/_validation.py:378: FitFailedWarning: \n",
            "81 fits failed out of a total of 150.\n",
            "The score on these train-test partitions for these parameters will be set to nan.\n",
            "If these failures are not expected, you can try to debug them by setting error_score='raise'.\n",
            "\n",
            "Below are more details about the failures:\n",
            "--------------------------------------------------------------------------------\n",
            "3 fits failed with the following error:\n",
            "Traceback (most recent call last):\n",
            "  File \"/usr/local/lib/python3.10/dist-packages/sklearn/model_selection/_validation.py\", line 686, in _fit_and_score\n",
            "    estimator.fit(X_train, y_train, **fit_params)\n",
            "  File \"/usr/local/lib/python3.10/dist-packages/sklearn/linear_model/_ridge.py\", line 1123, in fit\n",
            "    self._validate_params()\n",
            "  File \"/usr/local/lib/python3.10/dist-packages/sklearn/base.py\", line 600, in _validate_params\n",
            "    validate_parameter_constraints(\n",
            "  File \"/usr/local/lib/python3.10/dist-packages/sklearn/utils/_param_validation.py\", line 97, in validate_parameter_constraints\n",
            "    raise InvalidParameterError(\n",
            "sklearn.utils._param_validation.InvalidParameterError: The 'alpha' parameter of Ridge must be a float in the range [0, inf) or an instance of 'numpy.ndarray'. Got -5.575757575757576 instead.\n",
            "\n",
            "--------------------------------------------------------------------------------\n",
            "3 fits failed with the following error:\n",
            "Traceback (most recent call last):\n",
            "  File \"/usr/local/lib/python3.10/dist-packages/sklearn/model_selection/_validation.py\", line 686, in _fit_and_score\n",
            "    estimator.fit(X_train, y_train, **fit_params)\n",
            "  File \"/usr/local/lib/python3.10/dist-packages/sklearn/linear_model/_ridge.py\", line 1123, in fit\n",
            "    self._validate_params()\n",
            "  File \"/usr/local/lib/python3.10/dist-packages/sklearn/base.py\", line 600, in _validate_params\n",
            "    validate_parameter_constraints(\n",
            "  File \"/usr/local/lib/python3.10/dist-packages/sklearn/utils/_param_validation.py\", line 97, in validate_parameter_constraints\n",
            "    raise InvalidParameterError(\n",
            "sklearn.utils._param_validation.InvalidParameterError: The 'alpha' parameter of Ridge must be a float in the range [0, inf) or an instance of 'numpy.ndarray'. Got -5.737373737373737 instead.\n",
            "\n",
            "--------------------------------------------------------------------------------\n",
            "3 fits failed with the following error:\n",
            "Traceback (most recent call last):\n",
            "  File \"/usr/local/lib/python3.10/dist-packages/sklearn/model_selection/_validation.py\", line 686, in _fit_and_score\n",
            "    estimator.fit(X_train, y_train, **fit_params)\n",
            "  File \"/usr/local/lib/python3.10/dist-packages/sklearn/linear_model/_ridge.py\", line 1123, in fit\n",
            "    self._validate_params()\n",
            "  File \"/usr/local/lib/python3.10/dist-packages/sklearn/base.py\", line 600, in _validate_params\n",
            "    validate_parameter_constraints(\n",
            "  File \"/usr/local/lib/python3.10/dist-packages/sklearn/utils/_param_validation.py\", line 97, in validate_parameter_constraints\n",
            "    raise InvalidParameterError(\n",
            "sklearn.utils._param_validation.InvalidParameterError: The 'alpha' parameter of Ridge must be a float in the range [0, inf) or an instance of 'numpy.ndarray'. Got -0.2424242424242422 instead.\n",
            "\n",
            "--------------------------------------------------------------------------------\n",
            "3 fits failed with the following error:\n",
            "Traceback (most recent call last):\n",
            "  File \"/usr/local/lib/python3.10/dist-packages/sklearn/model_selection/_validation.py\", line 686, in _fit_and_score\n",
            "    estimator.fit(X_train, y_train, **fit_params)\n",
            "  File \"/usr/local/lib/python3.10/dist-packages/sklearn/linear_model/_ridge.py\", line 1123, in fit\n",
            "    self._validate_params()\n",
            "  File \"/usr/local/lib/python3.10/dist-packages/sklearn/base.py\", line 600, in _validate_params\n",
            "    validate_parameter_constraints(\n",
            "  File \"/usr/local/lib/python3.10/dist-packages/sklearn/utils/_param_validation.py\", line 97, in validate_parameter_constraints\n",
            "    raise InvalidParameterError(\n",
            "sklearn.utils._param_validation.InvalidParameterError: The 'alpha' parameter of Ridge must be a float in the range [0, inf) or an instance of 'numpy.ndarray'. Got -6.383838383838384 instead.\n",
            "\n",
            "--------------------------------------------------------------------------------\n",
            "3 fits failed with the following error:\n",
            "Traceback (most recent call last):\n",
            "  File \"/usr/local/lib/python3.10/dist-packages/sklearn/model_selection/_validation.py\", line 686, in _fit_and_score\n",
            "    estimator.fit(X_train, y_train, **fit_params)\n",
            "  File \"/usr/local/lib/python3.10/dist-packages/sklearn/linear_model/_ridge.py\", line 1123, in fit\n",
            "    self._validate_params()\n",
            "  File \"/usr/local/lib/python3.10/dist-packages/sklearn/base.py\", line 600, in _validate_params\n",
            "    validate_parameter_constraints(\n",
            "  File \"/usr/local/lib/python3.10/dist-packages/sklearn/utils/_param_validation.py\", line 97, in validate_parameter_constraints\n",
            "    raise InvalidParameterError(\n",
            "sklearn.utils._param_validation.InvalidParameterError: The 'alpha' parameter of Ridge must be a float in the range [0, inf) or an instance of 'numpy.ndarray'. Got -5.252525252525253 instead.\n",
            "\n",
            "--------------------------------------------------------------------------------\n",
            "3 fits failed with the following error:\n",
            "Traceback (most recent call last):\n",
            "  File \"/usr/local/lib/python3.10/dist-packages/sklearn/model_selection/_validation.py\", line 686, in _fit_and_score\n",
            "    estimator.fit(X_train, y_train, **fit_params)\n",
            "  File \"/usr/local/lib/python3.10/dist-packages/sklearn/linear_model/_ridge.py\", line 1123, in fit\n",
            "    self._validate_params()\n",
            "  File \"/usr/local/lib/python3.10/dist-packages/sklearn/base.py\", line 600, in _validate_params\n",
            "    validate_parameter_constraints(\n",
            "  File \"/usr/local/lib/python3.10/dist-packages/sklearn/utils/_param_validation.py\", line 97, in validate_parameter_constraints\n",
            "    raise InvalidParameterError(\n",
            "sklearn.utils._param_validation.InvalidParameterError: The 'alpha' parameter of Ridge must be a float in the range [0, inf) or an instance of 'numpy.ndarray'. Got -7.6767676767676765 instead.\n",
            "\n",
            "--------------------------------------------------------------------------------\n",
            "3 fits failed with the following error:\n",
            "Traceback (most recent call last):\n",
            "  File \"/usr/local/lib/python3.10/dist-packages/sklearn/model_selection/_validation.py\", line 686, in _fit_and_score\n",
            "    estimator.fit(X_train, y_train, **fit_params)\n",
            "  File \"/usr/local/lib/python3.10/dist-packages/sklearn/linear_model/_ridge.py\", line 1123, in fit\n",
            "    self._validate_params()\n",
            "  File \"/usr/local/lib/python3.10/dist-packages/sklearn/base.py\", line 600, in _validate_params\n",
            "    validate_parameter_constraints(\n",
            "  File \"/usr/local/lib/python3.10/dist-packages/sklearn/utils/_param_validation.py\", line 97, in validate_parameter_constraints\n",
            "    raise InvalidParameterError(\n",
            "sklearn.utils._param_validation.InvalidParameterError: The 'alpha' parameter of Ridge must be a float in the range [0, inf) or an instance of 'numpy.ndarray'. Got -1.5353535353535346 instead.\n",
            "\n",
            "--------------------------------------------------------------------------------\n",
            "3 fits failed with the following error:\n",
            "Traceback (most recent call last):\n",
            "  File \"/usr/local/lib/python3.10/dist-packages/sklearn/model_selection/_validation.py\", line 686, in _fit_and_score\n",
            "    estimator.fit(X_train, y_train, **fit_params)\n",
            "  File \"/usr/local/lib/python3.10/dist-packages/sklearn/linear_model/_ridge.py\", line 1123, in fit\n",
            "    self._validate_params()\n",
            "  File \"/usr/local/lib/python3.10/dist-packages/sklearn/base.py\", line 600, in _validate_params\n",
            "    validate_parameter_constraints(\n",
            "  File \"/usr/local/lib/python3.10/dist-packages/sklearn/utils/_param_validation.py\", line 97, in validate_parameter_constraints\n",
            "    raise InvalidParameterError(\n",
            "sklearn.utils._param_validation.InvalidParameterError: The 'alpha' parameter of Ridge must be a float in the range [0, inf) or an instance of 'numpy.ndarray'. Got -7.191919191919192 instead.\n",
            "\n",
            "--------------------------------------------------------------------------------\n",
            "3 fits failed with the following error:\n",
            "Traceback (most recent call last):\n",
            "  File \"/usr/local/lib/python3.10/dist-packages/sklearn/model_selection/_validation.py\", line 686, in _fit_and_score\n",
            "    estimator.fit(X_train, y_train, **fit_params)\n",
            "  File \"/usr/local/lib/python3.10/dist-packages/sklearn/linear_model/_ridge.py\", line 1123, in fit\n",
            "    self._validate_params()\n",
            "  File \"/usr/local/lib/python3.10/dist-packages/sklearn/base.py\", line 600, in _validate_params\n",
            "    validate_parameter_constraints(\n",
            "  File \"/usr/local/lib/python3.10/dist-packages/sklearn/utils/_param_validation.py\", line 97, in validate_parameter_constraints\n",
            "    raise InvalidParameterError(\n",
            "sklearn.utils._param_validation.InvalidParameterError: The 'alpha' parameter of Ridge must be a float in the range [0, inf) or an instance of 'numpy.ndarray'. Got -2.9898989898989896 instead.\n",
            "\n",
            "--------------------------------------------------------------------------------\n",
            "3 fits failed with the following error:\n",
            "Traceback (most recent call last):\n",
            "  File \"/usr/local/lib/python3.10/dist-packages/sklearn/model_selection/_validation.py\", line 686, in _fit_and_score\n",
            "    estimator.fit(X_train, y_train, **fit_params)\n",
            "  File \"/usr/local/lib/python3.10/dist-packages/sklearn/linear_model/_ridge.py\", line 1123, in fit\n",
            "    self._validate_params()\n",
            "  File \"/usr/local/lib/python3.10/dist-packages/sklearn/base.py\", line 600, in _validate_params\n",
            "    validate_parameter_constraints(\n",
            "  File \"/usr/local/lib/python3.10/dist-packages/sklearn/utils/_param_validation.py\", line 97, in validate_parameter_constraints\n",
            "    raise InvalidParameterError(\n",
            "sklearn.utils._param_validation.InvalidParameterError: The 'alpha' parameter of Ridge must be a float in the range [0, inf) or an instance of 'numpy.ndarray'. Got -7.838383838383838 instead.\n",
            "\n",
            "--------------------------------------------------------------------------------\n",
            "3 fits failed with the following error:\n",
            "Traceback (most recent call last):\n",
            "  File \"/usr/local/lib/python3.10/dist-packages/sklearn/model_selection/_validation.py\", line 686, in _fit_and_score\n",
            "    estimator.fit(X_train, y_train, **fit_params)\n",
            "  File \"/usr/local/lib/python3.10/dist-packages/sklearn/linear_model/_ridge.py\", line 1123, in fit\n",
            "    self._validate_params()\n",
            "  File \"/usr/local/lib/python3.10/dist-packages/sklearn/base.py\", line 600, in _validate_params\n",
            "    validate_parameter_constraints(\n",
            "  File \"/usr/local/lib/python3.10/dist-packages/sklearn/utils/_param_validation.py\", line 97, in validate_parameter_constraints\n",
            "    raise InvalidParameterError(\n",
            "sklearn.utils._param_validation.InvalidParameterError: The 'alpha' parameter of Ridge must be a float in the range [0, inf) or an instance of 'numpy.ndarray'. Got -1.3737373737373728 instead.\n",
            "\n",
            "--------------------------------------------------------------------------------\n",
            "3 fits failed with the following error:\n",
            "Traceback (most recent call last):\n",
            "  File \"/usr/local/lib/python3.10/dist-packages/sklearn/model_selection/_validation.py\", line 686, in _fit_and_score\n",
            "    estimator.fit(X_train, y_train, **fit_params)\n",
            "  File \"/usr/local/lib/python3.10/dist-packages/sklearn/linear_model/_ridge.py\", line 1123, in fit\n",
            "    self._validate_params()\n",
            "  File \"/usr/local/lib/python3.10/dist-packages/sklearn/base.py\", line 600, in _validate_params\n",
            "    validate_parameter_constraints(\n",
            "  File \"/usr/local/lib/python3.10/dist-packages/sklearn/utils/_param_validation.py\", line 97, in validate_parameter_constraints\n",
            "    raise InvalidParameterError(\n",
            "sklearn.utils._param_validation.InvalidParameterError: The 'alpha' parameter of Ridge must be a float in the range [0, inf) or an instance of 'numpy.ndarray'. Got -2.828282828282828 instead.\n",
            "\n",
            "--------------------------------------------------------------------------------\n",
            "3 fits failed with the following error:\n",
            "Traceback (most recent call last):\n",
            "  File \"/usr/local/lib/python3.10/dist-packages/sklearn/model_selection/_validation.py\", line 686, in _fit_and_score\n",
            "    estimator.fit(X_train, y_train, **fit_params)\n",
            "  File \"/usr/local/lib/python3.10/dist-packages/sklearn/linear_model/_ridge.py\", line 1123, in fit\n",
            "    self._validate_params()\n",
            "  File \"/usr/local/lib/python3.10/dist-packages/sklearn/base.py\", line 600, in _validate_params\n",
            "    validate_parameter_constraints(\n",
            "  File \"/usr/local/lib/python3.10/dist-packages/sklearn/utils/_param_validation.py\", line 97, in validate_parameter_constraints\n",
            "    raise InvalidParameterError(\n",
            "sklearn.utils._param_validation.InvalidParameterError: The 'alpha' parameter of Ridge must be a float in the range [0, inf) or an instance of 'numpy.ndarray'. Got -6.545454545454545 instead.\n",
            "\n",
            "--------------------------------------------------------------------------------\n",
            "3 fits failed with the following error:\n",
            "Traceback (most recent call last):\n",
            "  File \"/usr/local/lib/python3.10/dist-packages/sklearn/model_selection/_validation.py\", line 686, in _fit_and_score\n",
            "    estimator.fit(X_train, y_train, **fit_params)\n",
            "  File \"/usr/local/lib/python3.10/dist-packages/sklearn/linear_model/_ridge.py\", line 1123, in fit\n",
            "    self._validate_params()\n",
            "  File \"/usr/local/lib/python3.10/dist-packages/sklearn/base.py\", line 600, in _validate_params\n",
            "    validate_parameter_constraints(\n",
            "  File \"/usr/local/lib/python3.10/dist-packages/sklearn/utils/_param_validation.py\", line 97, in validate_parameter_constraints\n",
            "    raise InvalidParameterError(\n",
            "sklearn.utils._param_validation.InvalidParameterError: The 'alpha' parameter of Ridge must be a float in the range [0, inf) or an instance of 'numpy.ndarray'. Got -3.7979797979797976 instead.\n",
            "\n",
            "--------------------------------------------------------------------------------\n",
            "3 fits failed with the following error:\n",
            "Traceback (most recent call last):\n",
            "  File \"/usr/local/lib/python3.10/dist-packages/sklearn/model_selection/_validation.py\", line 686, in _fit_and_score\n",
            "    estimator.fit(X_train, y_train, **fit_params)\n",
            "  File \"/usr/local/lib/python3.10/dist-packages/sklearn/linear_model/_ridge.py\", line 1123, in fit\n",
            "    self._validate_params()\n",
            "  File \"/usr/local/lib/python3.10/dist-packages/sklearn/base.py\", line 600, in _validate_params\n",
            "    validate_parameter_constraints(\n",
            "  File \"/usr/local/lib/python3.10/dist-packages/sklearn/utils/_param_validation.py\", line 97, in validate_parameter_constraints\n",
            "    raise InvalidParameterError(\n",
            "sklearn.utils._param_validation.InvalidParameterError: The 'alpha' parameter of Ridge must be a float in the range [0, inf) or an instance of 'numpy.ndarray'. Got -2.3434343434343425 instead.\n",
            "\n",
            "--------------------------------------------------------------------------------\n",
            "3 fits failed with the following error:\n",
            "Traceback (most recent call last):\n",
            "  File \"/usr/local/lib/python3.10/dist-packages/sklearn/model_selection/_validation.py\", line 686, in _fit_and_score\n",
            "    estimator.fit(X_train, y_train, **fit_params)\n",
            "  File \"/usr/local/lib/python3.10/dist-packages/sklearn/linear_model/_ridge.py\", line 1123, in fit\n",
            "    self._validate_params()\n",
            "  File \"/usr/local/lib/python3.10/dist-packages/sklearn/base.py\", line 600, in _validate_params\n",
            "    validate_parameter_constraints(\n",
            "  File \"/usr/local/lib/python3.10/dist-packages/sklearn/utils/_param_validation.py\", line 97, in validate_parameter_constraints\n",
            "    raise InvalidParameterError(\n",
            "sklearn.utils._param_validation.InvalidParameterError: The 'alpha' parameter of Ridge must be a float in the range [0, inf) or an instance of 'numpy.ndarray'. Got -3.636363636363636 instead.\n",
            "\n",
            "--------------------------------------------------------------------------------\n",
            "3 fits failed with the following error:\n",
            "Traceback (most recent call last):\n",
            "  File \"/usr/local/lib/python3.10/dist-packages/sklearn/model_selection/_validation.py\", line 686, in _fit_and_score\n",
            "    estimator.fit(X_train, y_train, **fit_params)\n",
            "  File \"/usr/local/lib/python3.10/dist-packages/sklearn/linear_model/_ridge.py\", line 1123, in fit\n",
            "    self._validate_params()\n",
            "  File \"/usr/local/lib/python3.10/dist-packages/sklearn/base.py\", line 600, in _validate_params\n",
            "    validate_parameter_constraints(\n",
            "  File \"/usr/local/lib/python3.10/dist-packages/sklearn/utils/_param_validation.py\", line 97, in validate_parameter_constraints\n",
            "    raise InvalidParameterError(\n",
            "sklearn.utils._param_validation.InvalidParameterError: The 'alpha' parameter of Ridge must be a float in the range [0, inf) or an instance of 'numpy.ndarray'. Got -0.5656565656565649 instead.\n",
            "\n",
            "--------------------------------------------------------------------------------\n",
            "3 fits failed with the following error:\n",
            "Traceback (most recent call last):\n",
            "  File \"/usr/local/lib/python3.10/dist-packages/sklearn/model_selection/_validation.py\", line 686, in _fit_and_score\n",
            "    estimator.fit(X_train, y_train, **fit_params)\n",
            "  File \"/usr/local/lib/python3.10/dist-packages/sklearn/linear_model/_ridge.py\", line 1123, in fit\n",
            "    self._validate_params()\n",
            "  File \"/usr/local/lib/python3.10/dist-packages/sklearn/base.py\", line 600, in _validate_params\n",
            "    validate_parameter_constraints(\n",
            "  File \"/usr/local/lib/python3.10/dist-packages/sklearn/utils/_param_validation.py\", line 97, in validate_parameter_constraints\n",
            "    raise InvalidParameterError(\n",
            "sklearn.utils._param_validation.InvalidParameterError: The 'alpha' parameter of Ridge must be a float in the range [0, inf) or an instance of 'numpy.ndarray'. Got -2.1818181818181817 instead.\n",
            "\n",
            "--------------------------------------------------------------------------------\n",
            "3 fits failed with the following error:\n",
            "Traceback (most recent call last):\n",
            "  File \"/usr/local/lib/python3.10/dist-packages/sklearn/model_selection/_validation.py\", line 686, in _fit_and_score\n",
            "    estimator.fit(X_train, y_train, **fit_params)\n",
            "  File \"/usr/local/lib/python3.10/dist-packages/sklearn/linear_model/_ridge.py\", line 1123, in fit\n",
            "    self._validate_params()\n",
            "  File \"/usr/local/lib/python3.10/dist-packages/sklearn/base.py\", line 600, in _validate_params\n",
            "    validate_parameter_constraints(\n",
            "  File \"/usr/local/lib/python3.10/dist-packages/sklearn/utils/_param_validation.py\", line 97, in validate_parameter_constraints\n",
            "    raise InvalidParameterError(\n",
            "sklearn.utils._param_validation.InvalidParameterError: The 'alpha' parameter of Ridge must be a float in the range [0, inf) or an instance of 'numpy.ndarray'. Got -4.929292929292929 instead.\n",
            "\n",
            "--------------------------------------------------------------------------------\n",
            "3 fits failed with the following error:\n",
            "Traceback (most recent call last):\n",
            "  File \"/usr/local/lib/python3.10/dist-packages/sklearn/model_selection/_validation.py\", line 686, in _fit_and_score\n",
            "    estimator.fit(X_train, y_train, **fit_params)\n",
            "  File \"/usr/local/lib/python3.10/dist-packages/sklearn/linear_model/_ridge.py\", line 1123, in fit\n",
            "    self._validate_params()\n",
            "  File \"/usr/local/lib/python3.10/dist-packages/sklearn/base.py\", line 600, in _validate_params\n",
            "    validate_parameter_constraints(\n",
            "  File \"/usr/local/lib/python3.10/dist-packages/sklearn/utils/_param_validation.py\", line 97, in validate_parameter_constraints\n",
            "    raise InvalidParameterError(\n",
            "sklearn.utils._param_validation.InvalidParameterError: The 'alpha' parameter of Ridge must be a float in the range [0, inf) or an instance of 'numpy.ndarray'. Got -5.090909090909091 instead.\n",
            "\n",
            "--------------------------------------------------------------------------------\n",
            "3 fits failed with the following error:\n",
            "Traceback (most recent call last):\n",
            "  File \"/usr/local/lib/python3.10/dist-packages/sklearn/model_selection/_validation.py\", line 686, in _fit_and_score\n",
            "    estimator.fit(X_train, y_train, **fit_params)\n",
            "  File \"/usr/local/lib/python3.10/dist-packages/sklearn/linear_model/_ridge.py\", line 1123, in fit\n",
            "    self._validate_params()\n",
            "  File \"/usr/local/lib/python3.10/dist-packages/sklearn/base.py\", line 600, in _validate_params\n",
            "    validate_parameter_constraints(\n",
            "  File \"/usr/local/lib/python3.10/dist-packages/sklearn/utils/_param_validation.py\", line 97, in validate_parameter_constraints\n",
            "    raise InvalidParameterError(\n",
            "sklearn.utils._param_validation.InvalidParameterError: The 'alpha' parameter of Ridge must be a float in the range [0, inf) or an instance of 'numpy.ndarray'. Got -6.707070707070707 instead.\n",
            "\n",
            "--------------------------------------------------------------------------------\n",
            "3 fits failed with the following error:\n",
            "Traceback (most recent call last):\n",
            "  File \"/usr/local/lib/python3.10/dist-packages/sklearn/model_selection/_validation.py\", line 686, in _fit_and_score\n",
            "    estimator.fit(X_train, y_train, **fit_params)\n",
            "  File \"/usr/local/lib/python3.10/dist-packages/sklearn/linear_model/_ridge.py\", line 1123, in fit\n",
            "    self._validate_params()\n",
            "  File \"/usr/local/lib/python3.10/dist-packages/sklearn/base.py\", line 600, in _validate_params\n",
            "    validate_parameter_constraints(\n",
            "  File \"/usr/local/lib/python3.10/dist-packages/sklearn/utils/_param_validation.py\", line 97, in validate_parameter_constraints\n",
            "    raise InvalidParameterError(\n",
            "sklearn.utils._param_validation.InvalidParameterError: The 'alpha' parameter of Ridge must be a float in the range [0, inf) or an instance of 'numpy.ndarray'. Got -1.8585858585858581 instead.\n",
            "\n",
            "--------------------------------------------------------------------------------\n",
            "3 fits failed with the following error:\n",
            "Traceback (most recent call last):\n",
            "  File \"/usr/local/lib/python3.10/dist-packages/sklearn/model_selection/_validation.py\", line 686, in _fit_and_score\n",
            "    estimator.fit(X_train, y_train, **fit_params)\n",
            "  File \"/usr/local/lib/python3.10/dist-packages/sklearn/linear_model/_ridge.py\", line 1123, in fit\n",
            "    self._validate_params()\n",
            "  File \"/usr/local/lib/python3.10/dist-packages/sklearn/base.py\", line 600, in _validate_params\n",
            "    validate_parameter_constraints(\n",
            "  File \"/usr/local/lib/python3.10/dist-packages/sklearn/utils/_param_validation.py\", line 97, in validate_parameter_constraints\n",
            "    raise InvalidParameterError(\n",
            "sklearn.utils._param_validation.InvalidParameterError: The 'alpha' parameter of Ridge must be a float in the range [0, inf) or an instance of 'numpy.ndarray'. Got -4.444444444444445 instead.\n",
            "\n",
            "--------------------------------------------------------------------------------\n",
            "3 fits failed with the following error:\n",
            "Traceback (most recent call last):\n",
            "  File \"/usr/local/lib/python3.10/dist-packages/sklearn/model_selection/_validation.py\", line 686, in _fit_and_score\n",
            "    estimator.fit(X_train, y_train, **fit_params)\n",
            "  File \"/usr/local/lib/python3.10/dist-packages/sklearn/linear_model/_ridge.py\", line 1123, in fit\n",
            "    self._validate_params()\n",
            "  File \"/usr/local/lib/python3.10/dist-packages/sklearn/base.py\", line 600, in _validate_params\n",
            "    validate_parameter_constraints(\n",
            "  File \"/usr/local/lib/python3.10/dist-packages/sklearn/utils/_param_validation.py\", line 97, in validate_parameter_constraints\n",
            "    raise InvalidParameterError(\n",
            "sklearn.utils._param_validation.InvalidParameterError: The 'alpha' parameter of Ridge must be a float in the range [0, inf) or an instance of 'numpy.ndarray'. Got -7.03030303030303 instead.\n",
            "\n",
            "--------------------------------------------------------------------------------\n",
            "3 fits failed with the following error:\n",
            "Traceback (most recent call last):\n",
            "  File \"/usr/local/lib/python3.10/dist-packages/sklearn/model_selection/_validation.py\", line 686, in _fit_and_score\n",
            "    estimator.fit(X_train, y_train, **fit_params)\n",
            "  File \"/usr/local/lib/python3.10/dist-packages/sklearn/linear_model/_ridge.py\", line 1123, in fit\n",
            "    self._validate_params()\n",
            "  File \"/usr/local/lib/python3.10/dist-packages/sklearn/base.py\", line 600, in _validate_params\n",
            "    validate_parameter_constraints(\n",
            "  File \"/usr/local/lib/python3.10/dist-packages/sklearn/utils/_param_validation.py\", line 97, in validate_parameter_constraints\n",
            "    raise InvalidParameterError(\n",
            "sklearn.utils._param_validation.InvalidParameterError: The 'alpha' parameter of Ridge must be a float in the range [0, inf) or an instance of 'numpy.ndarray'. Got -6.0606060606060606 instead.\n",
            "\n",
            "--------------------------------------------------------------------------------\n",
            "3 fits failed with the following error:\n",
            "Traceback (most recent call last):\n",
            "  File \"/usr/local/lib/python3.10/dist-packages/sklearn/model_selection/_validation.py\", line 686, in _fit_and_score\n",
            "    estimator.fit(X_train, y_train, **fit_params)\n",
            "  File \"/usr/local/lib/python3.10/dist-packages/sklearn/linear_model/_ridge.py\", line 1123, in fit\n",
            "    self._validate_params()\n",
            "  File \"/usr/local/lib/python3.10/dist-packages/sklearn/base.py\", line 600, in _validate_params\n",
            "    validate_parameter_constraints(\n",
            "  File \"/usr/local/lib/python3.10/dist-packages/sklearn/utils/_param_validation.py\", line 97, in validate_parameter_constraints\n",
            "    raise InvalidParameterError(\n",
            "sklearn.utils._param_validation.InvalidParameterError: The 'alpha' parameter of Ridge must be a float in the range [0, inf) or an instance of 'numpy.ndarray'. Got -7.353535353535354 instead.\n",
            "\n",
            "--------------------------------------------------------------------------------\n",
            "3 fits failed with the following error:\n",
            "Traceback (most recent call last):\n",
            "  File \"/usr/local/lib/python3.10/dist-packages/sklearn/model_selection/_validation.py\", line 686, in _fit_and_score\n",
            "    estimator.fit(X_train, y_train, **fit_params)\n",
            "  File \"/usr/local/lib/python3.10/dist-packages/sklearn/linear_model/_ridge.py\", line 1123, in fit\n",
            "    self._validate_params()\n",
            "  File \"/usr/local/lib/python3.10/dist-packages/sklearn/base.py\", line 600, in _validate_params\n",
            "    validate_parameter_constraints(\n",
            "  File \"/usr/local/lib/python3.10/dist-packages/sklearn/utils/_param_validation.py\", line 97, in validate_parameter_constraints\n",
            "    raise InvalidParameterError(\n",
            "sklearn.utils._param_validation.InvalidParameterError: The 'alpha' parameter of Ridge must be a float in the range [0, inf) or an instance of 'numpy.ndarray'. Got -2.02020202020202 instead.\n",
            "\n",
            "  warnings.warn(some_fits_failed_message, FitFailedWarning)\n",
            "/usr/local/lib/python3.10/dist-packages/sklearn/model_selection/_search.py:952: UserWarning: One or more of the test scores are non-finite: [-2.81444363         nan         nan -2.8144382  -2.81444472 -2.81444\n",
            " -2.8144364          nan         nan         nan         nan         nan\n",
            "         nan -2.8144328          nan         nan         nan -2.81444036\n",
            "         nan         nan         nan -2.81443892 -2.81444254         nan\n",
            "         nan         nan -2.81443496 -2.81444691 -2.8144429  -2.81444181\n",
            " -2.81443209 -2.81444654         nan         nan         nan -2.81443784\n",
            "         nan -2.81443604 -2.81443066 -2.81444545         nan -2.81444145\n",
            "         nan -2.81443244         nan         nan         nan -2.81443137\n",
            "         nan -2.81444436]\n",
            "  warnings.warn(\n"
          ]
        },
        {
          "output_type": "execute_result",
          "data": {
            "text/plain": [
              "RandomizedSearchCV(cv=3, estimator=Ridge(random_state=0), n_iter=50, n_jobs=-1,\n",
              "                   param_distributions={'alpha': array([-8.        , -7.83838384, -7.67676768, -7.51515152, -7.35353535,\n",
              "       -7.19191919, -7.03030303, -6.86868687, -6.70707071, -6.54545455,\n",
              "       -6.38383838, -6.22222222, -6.06060606, -5.8989899 , -5.73737374,\n",
              "       -5.57575758, -5.41414141, -5.25252525, -5.09090909, -4.92929293,\n",
              "       -4.7676...\n",
              "        3.31313131,  3.47474747,  3.63636364,  3.7979798 ,  3.95959596,\n",
              "        4.12121212,  4.28282828,  4.44444444,  4.60606061,  4.76767677,\n",
              "        4.92929293,  5.09090909,  5.25252525,  5.41414141,  5.57575758,\n",
              "        5.73737374,  5.8989899 ,  6.06060606,  6.22222222,  6.38383838,\n",
              "        6.54545455,  6.70707071,  6.86868687,  7.03030303,  7.19191919,\n",
              "        7.35353535,  7.51515152,  7.67676768,  7.83838384,  8.        ])},\n",
              "                   scoring='neg_mean_absolute_error', verbose=1)"
            ],
            "text/html": [
              "<style>#sk-container-id-3 {color: black;background-color: white;}#sk-container-id-3 pre{padding: 0;}#sk-container-id-3 div.sk-toggleable {background-color: white;}#sk-container-id-3 label.sk-toggleable__label {cursor: pointer;display: block;width: 100%;margin-bottom: 0;padding: 0.3em;box-sizing: border-box;text-align: center;}#sk-container-id-3 label.sk-toggleable__label-arrow:before {content: \"▸\";float: left;margin-right: 0.25em;color: #696969;}#sk-container-id-3 label.sk-toggleable__label-arrow:hover:before {color: black;}#sk-container-id-3 div.sk-estimator:hover label.sk-toggleable__label-arrow:before {color: black;}#sk-container-id-3 div.sk-toggleable__content {max-height: 0;max-width: 0;overflow: hidden;text-align: left;background-color: #f0f8ff;}#sk-container-id-3 div.sk-toggleable__content pre {margin: 0.2em;color: black;border-radius: 0.25em;background-color: #f0f8ff;}#sk-container-id-3 input.sk-toggleable__control:checked~div.sk-toggleable__content {max-height: 200px;max-width: 100%;overflow: auto;}#sk-container-id-3 input.sk-toggleable__control:checked~label.sk-toggleable__label-arrow:before {content: \"▾\";}#sk-container-id-3 div.sk-estimator input.sk-toggleable__control:checked~label.sk-toggleable__label {background-color: #d4ebff;}#sk-container-id-3 div.sk-label input.sk-toggleable__control:checked~label.sk-toggleable__label {background-color: #d4ebff;}#sk-container-id-3 input.sk-hidden--visually {border: 0;clip: rect(1px 1px 1px 1px);clip: rect(1px, 1px, 1px, 1px);height: 1px;margin: -1px;overflow: hidden;padding: 0;position: absolute;width: 1px;}#sk-container-id-3 div.sk-estimator {font-family: monospace;background-color: #f0f8ff;border: 1px dotted black;border-radius: 0.25em;box-sizing: border-box;margin-bottom: 0.5em;}#sk-container-id-3 div.sk-estimator:hover {background-color: #d4ebff;}#sk-container-id-3 div.sk-parallel-item::after {content: \"\";width: 100%;border-bottom: 1px solid gray;flex-grow: 1;}#sk-container-id-3 div.sk-label:hover label.sk-toggleable__label {background-color: #d4ebff;}#sk-container-id-3 div.sk-serial::before {content: \"\";position: absolute;border-left: 1px solid gray;box-sizing: border-box;top: 0;bottom: 0;left: 50%;z-index: 0;}#sk-container-id-3 div.sk-serial {display: flex;flex-direction: column;align-items: center;background-color: white;padding-right: 0.2em;padding-left: 0.2em;position: relative;}#sk-container-id-3 div.sk-item {position: relative;z-index: 1;}#sk-container-id-3 div.sk-parallel {display: flex;align-items: stretch;justify-content: center;background-color: white;position: relative;}#sk-container-id-3 div.sk-item::before, #sk-container-id-3 div.sk-parallel-item::before {content: \"\";position: absolute;border-left: 1px solid gray;box-sizing: border-box;top: 0;bottom: 0;left: 50%;z-index: -1;}#sk-container-id-3 div.sk-parallel-item {display: flex;flex-direction: column;z-index: 1;position: relative;background-color: white;}#sk-container-id-3 div.sk-parallel-item:first-child::after {align-self: flex-end;width: 50%;}#sk-container-id-3 div.sk-parallel-item:last-child::after {align-self: flex-start;width: 50%;}#sk-container-id-3 div.sk-parallel-item:only-child::after {width: 0;}#sk-container-id-3 div.sk-dashed-wrapped {border: 1px dashed gray;margin: 0 0.4em 0.5em 0.4em;box-sizing: border-box;padding-bottom: 0.4em;background-color: white;}#sk-container-id-3 div.sk-label label {font-family: monospace;font-weight: bold;display: inline-block;line-height: 1.2em;}#sk-container-id-3 div.sk-label-container {text-align: center;}#sk-container-id-3 div.sk-container {/* jupyter's `normalize.less` sets `[hidden] { display: none; }` but bootstrap.min.css set `[hidden] { display: none !important; }` so we also need the `!important` here to be able to override the default hidden behavior on the sphinx rendered scikit-learn.org. See: https://github.com/scikit-learn/scikit-learn/issues/21755 */display: inline-block !important;position: relative;}#sk-container-id-3 div.sk-text-repr-fallback {display: none;}</style><div id=\"sk-container-id-3\" class=\"sk-top-container\"><div class=\"sk-text-repr-fallback\"><pre>RandomizedSearchCV(cv=3, estimator=Ridge(random_state=0), n_iter=50, n_jobs=-1,\n",
              "                   param_distributions={&#x27;alpha&#x27;: array([-8.        , -7.83838384, -7.67676768, -7.51515152, -7.35353535,\n",
              "       -7.19191919, -7.03030303, -6.86868687, -6.70707071, -6.54545455,\n",
              "       -6.38383838, -6.22222222, -6.06060606, -5.8989899 , -5.73737374,\n",
              "       -5.57575758, -5.41414141, -5.25252525, -5.09090909, -4.92929293,\n",
              "       -4.7676...\n",
              "        3.31313131,  3.47474747,  3.63636364,  3.7979798 ,  3.95959596,\n",
              "        4.12121212,  4.28282828,  4.44444444,  4.60606061,  4.76767677,\n",
              "        4.92929293,  5.09090909,  5.25252525,  5.41414141,  5.57575758,\n",
              "        5.73737374,  5.8989899 ,  6.06060606,  6.22222222,  6.38383838,\n",
              "        6.54545455,  6.70707071,  6.86868687,  7.03030303,  7.19191919,\n",
              "        7.35353535,  7.51515152,  7.67676768,  7.83838384,  8.        ])},\n",
              "                   scoring=&#x27;neg_mean_absolute_error&#x27;, verbose=1)</pre><b>In a Jupyter environment, please rerun this cell to show the HTML representation or trust the notebook. <br />On GitHub, the HTML representation is unable to render, please try loading this page with nbviewer.org.</b></div><div class=\"sk-container\" hidden><div class=\"sk-item sk-dashed-wrapped\"><div class=\"sk-label-container\"><div class=\"sk-label sk-toggleable\"><input class=\"sk-toggleable__control sk-hidden--visually\" id=\"sk-estimator-id-7\" type=\"checkbox\" ><label for=\"sk-estimator-id-7\" class=\"sk-toggleable__label sk-toggleable__label-arrow\">RandomizedSearchCV</label><div class=\"sk-toggleable__content\"><pre>RandomizedSearchCV(cv=3, estimator=Ridge(random_state=0), n_iter=50, n_jobs=-1,\n",
              "                   param_distributions={&#x27;alpha&#x27;: array([-8.        , -7.83838384, -7.67676768, -7.51515152, -7.35353535,\n",
              "       -7.19191919, -7.03030303, -6.86868687, -6.70707071, -6.54545455,\n",
              "       -6.38383838, -6.22222222, -6.06060606, -5.8989899 , -5.73737374,\n",
              "       -5.57575758, -5.41414141, -5.25252525, -5.09090909, -4.92929293,\n",
              "       -4.7676...\n",
              "        3.31313131,  3.47474747,  3.63636364,  3.7979798 ,  3.95959596,\n",
              "        4.12121212,  4.28282828,  4.44444444,  4.60606061,  4.76767677,\n",
              "        4.92929293,  5.09090909,  5.25252525,  5.41414141,  5.57575758,\n",
              "        5.73737374,  5.8989899 ,  6.06060606,  6.22222222,  6.38383838,\n",
              "        6.54545455,  6.70707071,  6.86868687,  7.03030303,  7.19191919,\n",
              "        7.35353535,  7.51515152,  7.67676768,  7.83838384,  8.        ])},\n",
              "                   scoring=&#x27;neg_mean_absolute_error&#x27;, verbose=1)</pre></div></div></div><div class=\"sk-parallel\"><div class=\"sk-parallel-item\"><div class=\"sk-item\"><div class=\"sk-label-container\"><div class=\"sk-label sk-toggleable\"><input class=\"sk-toggleable__control sk-hidden--visually\" id=\"sk-estimator-id-8\" type=\"checkbox\" ><label for=\"sk-estimator-id-8\" class=\"sk-toggleable__label sk-toggleable__label-arrow\">estimator: Ridge</label><div class=\"sk-toggleable__content\"><pre>Ridge(random_state=0)</pre></div></div></div><div class=\"sk-serial\"><div class=\"sk-item\"><div class=\"sk-estimator sk-toggleable\"><input class=\"sk-toggleable__control sk-hidden--visually\" id=\"sk-estimator-id-9\" type=\"checkbox\" ><label for=\"sk-estimator-id-9\" class=\"sk-toggleable__label sk-toggleable__label-arrow\">Ridge</label><div class=\"sk-toggleable__content\"><pre>Ridge(random_state=0)</pre></div></div></div></div></div></div></div></div></div></div>"
            ]
          },
          "metadata": {},
          "execution_count": 46
        }
      ]
    },
    {
      "cell_type": "code",
      "source": [
        "print('최적 하이퍼파라미터 : ', rs_cv.best_params_)\n",
        "print('MAE : ', -rs_cv.best_score_)"
      ],
      "metadata": {
        "colab": {
          "base_uri": "https://localhost:8080/"
        },
        "id": "mpnj2xEo_yoN",
        "outputId": "43233d81-ec9e-4410-8fe5-0a2c28d25008"
      },
      "execution_count": null,
      "outputs": [
        {
          "output_type": "stream",
          "name": "stdout",
          "text": [
            "최적 하이퍼파라미터 :  {'alpha': 7.676767676767678}\n",
            "MAE :  2.814430656281287\n"
          ]
        }
      ]
    },
    {
      "cell_type": "markdown",
      "source": [
        "### (2) GridSearchCV"
      ],
      "metadata": {
        "id": "heLZTaDxAky9"
      }
    },
    {
      "cell_type": "code",
      "source": [
        "\n",
        "from sklearn.model_selection import GridSearchCV\n",
        "\n",
        "\n",
        "params = {'alpha': (np.logspace(0, 8, 100))} # It will check from 1e-08 to 1e+08\n",
        "ridge = Ridge(random_state = 0)\n",
        "ridge_model = GridSearchCV(ridge, params, cv = 3)\n",
        "ridge_model.fit(X_train, y_train)\n"
      ],
      "metadata": {
        "id": "mF-tQdMJasMS",
        "colab": {
          "base_uri": "https://localhost:8080/",
          "height": 116
        },
        "outputId": "776d9acc-bbe7-4ba0-c16a-901b39d93d0f"
      },
      "execution_count": null,
      "outputs": [
        {
          "output_type": "execute_result",
          "data": {
            "text/plain": [
              "GridSearchCV(cv=3, estimator=Ridge(random_state=0),\n",
              "             param_grid={'alpha': array([1.00000000e+00, 1.20450354e+00, 1.45082878e+00, 1.74752840e+00,\n",
              "       2.10490414e+00, 2.53536449e+00, 3.05385551e+00, 3.67837977e+00,\n",
              "       4.43062146e+00, 5.33669923e+00, 6.42807312e+00, 7.74263683e+00,\n",
              "       9.32603347e+00, 1.12332403e+01, 1.35304777e+01, 1.62975083e+01,\n",
              "       1.96304065e+01, 2.36448941e+01, 2.8...\n",
              "       1.38488637e+06, 1.66810054e+06, 2.00923300e+06, 2.42012826e+06,\n",
              "       2.91505306e+06, 3.51119173e+06, 4.22924287e+06, 5.09413801e+06,\n",
              "       6.13590727e+06, 7.39072203e+06, 8.90215085e+06, 1.07226722e+07,\n",
              "       1.29154967e+07, 1.55567614e+07, 1.87381742e+07, 2.25701972e+07,\n",
              "       2.71858824e+07, 3.27454916e+07, 3.94420606e+07, 4.75081016e+07,\n",
              "       5.72236766e+07, 6.89261210e+07, 8.30217568e+07, 1.00000000e+08])})"
            ],
            "text/html": [
              "<style>#sk-container-id-5 {color: black;background-color: white;}#sk-container-id-5 pre{padding: 0;}#sk-container-id-5 div.sk-toggleable {background-color: white;}#sk-container-id-5 label.sk-toggleable__label {cursor: pointer;display: block;width: 100%;margin-bottom: 0;padding: 0.3em;box-sizing: border-box;text-align: center;}#sk-container-id-5 label.sk-toggleable__label-arrow:before {content: \"▸\";float: left;margin-right: 0.25em;color: #696969;}#sk-container-id-5 label.sk-toggleable__label-arrow:hover:before {color: black;}#sk-container-id-5 div.sk-estimator:hover label.sk-toggleable__label-arrow:before {color: black;}#sk-container-id-5 div.sk-toggleable__content {max-height: 0;max-width: 0;overflow: hidden;text-align: left;background-color: #f0f8ff;}#sk-container-id-5 div.sk-toggleable__content pre {margin: 0.2em;color: black;border-radius: 0.25em;background-color: #f0f8ff;}#sk-container-id-5 input.sk-toggleable__control:checked~div.sk-toggleable__content {max-height: 200px;max-width: 100%;overflow: auto;}#sk-container-id-5 input.sk-toggleable__control:checked~label.sk-toggleable__label-arrow:before {content: \"▾\";}#sk-container-id-5 div.sk-estimator input.sk-toggleable__control:checked~label.sk-toggleable__label {background-color: #d4ebff;}#sk-container-id-5 div.sk-label input.sk-toggleable__control:checked~label.sk-toggleable__label {background-color: #d4ebff;}#sk-container-id-5 input.sk-hidden--visually {border: 0;clip: rect(1px 1px 1px 1px);clip: rect(1px, 1px, 1px, 1px);height: 1px;margin: -1px;overflow: hidden;padding: 0;position: absolute;width: 1px;}#sk-container-id-5 div.sk-estimator {font-family: monospace;background-color: #f0f8ff;border: 1px dotted black;border-radius: 0.25em;box-sizing: border-box;margin-bottom: 0.5em;}#sk-container-id-5 div.sk-estimator:hover {background-color: #d4ebff;}#sk-container-id-5 div.sk-parallel-item::after {content: \"\";width: 100%;border-bottom: 1px solid gray;flex-grow: 1;}#sk-container-id-5 div.sk-label:hover label.sk-toggleable__label {background-color: #d4ebff;}#sk-container-id-5 div.sk-serial::before {content: \"\";position: absolute;border-left: 1px solid gray;box-sizing: border-box;top: 0;bottom: 0;left: 50%;z-index: 0;}#sk-container-id-5 div.sk-serial {display: flex;flex-direction: column;align-items: center;background-color: white;padding-right: 0.2em;padding-left: 0.2em;position: relative;}#sk-container-id-5 div.sk-item {position: relative;z-index: 1;}#sk-container-id-5 div.sk-parallel {display: flex;align-items: stretch;justify-content: center;background-color: white;position: relative;}#sk-container-id-5 div.sk-item::before, #sk-container-id-5 div.sk-parallel-item::before {content: \"\";position: absolute;border-left: 1px solid gray;box-sizing: border-box;top: 0;bottom: 0;left: 50%;z-index: -1;}#sk-container-id-5 div.sk-parallel-item {display: flex;flex-direction: column;z-index: 1;position: relative;background-color: white;}#sk-container-id-5 div.sk-parallel-item:first-child::after {align-self: flex-end;width: 50%;}#sk-container-id-5 div.sk-parallel-item:last-child::after {align-self: flex-start;width: 50%;}#sk-container-id-5 div.sk-parallel-item:only-child::after {width: 0;}#sk-container-id-5 div.sk-dashed-wrapped {border: 1px dashed gray;margin: 0 0.4em 0.5em 0.4em;box-sizing: border-box;padding-bottom: 0.4em;background-color: white;}#sk-container-id-5 div.sk-label label {font-family: monospace;font-weight: bold;display: inline-block;line-height: 1.2em;}#sk-container-id-5 div.sk-label-container {text-align: center;}#sk-container-id-5 div.sk-container {/* jupyter's `normalize.less` sets `[hidden] { display: none; }` but bootstrap.min.css set `[hidden] { display: none !important; }` so we also need the `!important` here to be able to override the default hidden behavior on the sphinx rendered scikit-learn.org. See: https://github.com/scikit-learn/scikit-learn/issues/21755 */display: inline-block !important;position: relative;}#sk-container-id-5 div.sk-text-repr-fallback {display: none;}</style><div id=\"sk-container-id-5\" class=\"sk-top-container\"><div class=\"sk-text-repr-fallback\"><pre>GridSearchCV(cv=3, estimator=Ridge(random_state=0),\n",
              "             param_grid={&#x27;alpha&#x27;: array([1.00000000e+00, 1.20450354e+00, 1.45082878e+00, 1.74752840e+00,\n",
              "       2.10490414e+00, 2.53536449e+00, 3.05385551e+00, 3.67837977e+00,\n",
              "       4.43062146e+00, 5.33669923e+00, 6.42807312e+00, 7.74263683e+00,\n",
              "       9.32603347e+00, 1.12332403e+01, 1.35304777e+01, 1.62975083e+01,\n",
              "       1.96304065e+01, 2.36448941e+01, 2.8...\n",
              "       1.38488637e+06, 1.66810054e+06, 2.00923300e+06, 2.42012826e+06,\n",
              "       2.91505306e+06, 3.51119173e+06, 4.22924287e+06, 5.09413801e+06,\n",
              "       6.13590727e+06, 7.39072203e+06, 8.90215085e+06, 1.07226722e+07,\n",
              "       1.29154967e+07, 1.55567614e+07, 1.87381742e+07, 2.25701972e+07,\n",
              "       2.71858824e+07, 3.27454916e+07, 3.94420606e+07, 4.75081016e+07,\n",
              "       5.72236766e+07, 6.89261210e+07, 8.30217568e+07, 1.00000000e+08])})</pre><b>In a Jupyter environment, please rerun this cell to show the HTML representation or trust the notebook. <br />On GitHub, the HTML representation is unable to render, please try loading this page with nbviewer.org.</b></div><div class=\"sk-container\" hidden><div class=\"sk-item sk-dashed-wrapped\"><div class=\"sk-label-container\"><div class=\"sk-label sk-toggleable\"><input class=\"sk-toggleable__control sk-hidden--visually\" id=\"sk-estimator-id-13\" type=\"checkbox\" ><label for=\"sk-estimator-id-13\" class=\"sk-toggleable__label sk-toggleable__label-arrow\">GridSearchCV</label><div class=\"sk-toggleable__content\"><pre>GridSearchCV(cv=3, estimator=Ridge(random_state=0),\n",
              "             param_grid={&#x27;alpha&#x27;: array([1.00000000e+00, 1.20450354e+00, 1.45082878e+00, 1.74752840e+00,\n",
              "       2.10490414e+00, 2.53536449e+00, 3.05385551e+00, 3.67837977e+00,\n",
              "       4.43062146e+00, 5.33669923e+00, 6.42807312e+00, 7.74263683e+00,\n",
              "       9.32603347e+00, 1.12332403e+01, 1.35304777e+01, 1.62975083e+01,\n",
              "       1.96304065e+01, 2.36448941e+01, 2.8...\n",
              "       1.38488637e+06, 1.66810054e+06, 2.00923300e+06, 2.42012826e+06,\n",
              "       2.91505306e+06, 3.51119173e+06, 4.22924287e+06, 5.09413801e+06,\n",
              "       6.13590727e+06, 7.39072203e+06, 8.90215085e+06, 1.07226722e+07,\n",
              "       1.29154967e+07, 1.55567614e+07, 1.87381742e+07, 2.25701972e+07,\n",
              "       2.71858824e+07, 3.27454916e+07, 3.94420606e+07, 4.75081016e+07,\n",
              "       5.72236766e+07, 6.89261210e+07, 8.30217568e+07, 1.00000000e+08])})</pre></div></div></div><div class=\"sk-parallel\"><div class=\"sk-parallel-item\"><div class=\"sk-item\"><div class=\"sk-label-container\"><div class=\"sk-label sk-toggleable\"><input class=\"sk-toggleable__control sk-hidden--visually\" id=\"sk-estimator-id-14\" type=\"checkbox\" ><label for=\"sk-estimator-id-14\" class=\"sk-toggleable__label sk-toggleable__label-arrow\">estimator: Ridge</label><div class=\"sk-toggleable__content\"><pre>Ridge(random_state=0)</pre></div></div></div><div class=\"sk-serial\"><div class=\"sk-item\"><div class=\"sk-estimator sk-toggleable\"><input class=\"sk-toggleable__control sk-hidden--visually\" id=\"sk-estimator-id-15\" type=\"checkbox\" ><label for=\"sk-estimator-id-15\" class=\"sk-toggleable__label sk-toggleable__label-arrow\">Ridge</label><div class=\"sk-toggleable__content\"><pre>Ridge(random_state=0)</pre></div></div></div></div></div></div></div></div></div></div>"
            ]
          },
          "metadata": {},
          "execution_count": 51
        }
      ]
    },
    {
      "cell_type": "code",
      "source": [
        "print('GridSearchCV 최적 파라미터 : ', ridge_model.best_params_)\n",
        "print('GridSearchCV 최고 정확도 : {0:.4f}', format(ridge_model.best_score_))"
      ],
      "metadata": {
        "colab": {
          "base_uri": "https://localhost:8080/"
        },
        "id": "Ttj6iYmsA58w",
        "outputId": "7d02da7d-d45e-4e98-dbc8-bddbde8d1880"
      },
      "execution_count": null,
      "outputs": [
        {
          "output_type": "stream",
          "name": "stdout",
          "text": [
            "GridSearchCV 최적 파라미터 :  {'alpha': 4.430621457583881}\n",
            "GridSearchCV 최고 정확도 : {0:.4f} 0.9094966776747491\n"
          ]
        }
      ]
    },
    {
      "cell_type": "code",
      "source": [
        "from sklearn.metrics import mean_absolute_error\n",
        "best = ridge_model.best_estimator_\n",
        "y_pred_ridge = best.predict(X_val)\n",
        "print('릿지 회귀의 MAE : ', mean_absolute_error(y_pred_ridge,y_val))"
      ],
      "metadata": {
        "colab": {
          "base_uri": "https://localhost:8080/"
        },
        "id": "gwBjv_VlavWu",
        "outputId": "50b4b4f5-4026-4e91-ba69-9b0627f156b9"
      },
      "execution_count": null,
      "outputs": [
        {
          "output_type": "stream",
          "name": "stdout",
          "text": [
            "릿지 회귀의 MAE :  2.831068565287408\n"
          ]
        }
      ]
    },
    {
      "cell_type": "markdown",
      "source": [
        "## 2) 라쏘"
      ],
      "metadata": {
        "id": "5-asmVSTcbDu"
      }
    },
    {
      "cell_type": "code",
      "source": [
        "#라쏘\n",
        "\n",
        "from sklearn.metrics import mean_absolute_error\n",
        "from sklearn.linear_model import Lasso\n",
        "\n",
        "lasso001 = Lasso(alpha=0.01, max_iter=100000).fit(X_train, y_train)\n",
        "\n",
        "print(\"훈련 세트의 정확도 : {:.2f}\".format(lasso001.score(X_train, y_train)))\n",
        "\n",
        "print(\"테스트 세트의 정확도 : {:.2f}\".format(lasso001.score(X_val, y_val)))\n",
        "\n",
        "print(\"사용한 특성의 수 : {}\".format(np.sum(lasso001.coef_ != 0)))\n",
        "\n",
        "print(\"사용한 max_iter : {}\".format(lasso001.n_iter_))\n",
        "\n",
        "pred = lasso001.predict(X_val)\n",
        "\n",
        "print('MAE : ', mean_absolute_error(pred,y_val))\n",
        "\n",
        "# MAE :  2.83458441466"
      ],
      "metadata": {
        "id": "HZeA6aGxdRvA"
      },
      "execution_count": null,
      "outputs": []
    },
    {
      "cell_type": "markdown",
      "source": [
        "## 3) XGB"
      ],
      "metadata": {
        "id": "Iqd2Z516BbFE"
      }
    },
    {
      "cell_type": "markdown",
      "source": [
        "### (1) Randomized Search CV"
      ],
      "metadata": {
        "id": "N3BFmul5B4ZE"
      }
    },
    {
      "cell_type": "code",
      "source": [
        "import xgboost as xgb\n",
        "from xgboost import XGBRegressor"
      ],
      "metadata": {
        "id": "xN_QtaWxB61k"
      },
      "execution_count": null,
      "outputs": []
    },
    {
      "cell_type": "code",
      "source": [
        "xgb = xgb.XGBRegressor()\n",
        "\n",
        "dists = {\n",
        "    'max_depth' : [2,4,6,8,10],\n",
        "    'n_estimators' : [100,300,500],\n",
        "    'learning_rate' : [0.01,0.05,0.1]\n",
        "}\n",
        "\n",
        "rs_xgb = RandomizedSearchCV( xgb,\n",
        "                           param_distributions = dists,\n",
        "                            n_iter= 50, cv = 3,\n",
        "                            scoring = 'neg_mean_absolute_error',\n",
        "                            verbose = 1,\n",
        "                            n_jobs = -1\n",
        "\n",
        ")"
      ],
      "metadata": {
        "id": "PiR62H8wCQbZ"
      },
      "execution_count": null,
      "outputs": []
    },
    {
      "cell_type": "code",
      "source": [
        "rs_xgb.fit(X_train,y_train)"
      ],
      "metadata": {
        "id": "OJmOJVCUDHr2"
      },
      "execution_count": null,
      "outputs": []
    },
    {
      "cell_type": "code",
      "execution_count": null,
      "metadata": {
        "colab": {
          "background_save": true
        },
        "outputId": "9d046f9d-9f83-4c17-b424-9282116751b6",
        "id": "CNHnIxMMR_S_"
      },
      "outputs": [
        {
          "name": "stdout",
          "output_type": "stream",
          "text": [
            "최적 하이퍼파라미터 :  {'n_estimators': 300, 'max_depth': 10, 'learning_rate': 0.1}\n",
            "MAE :  1.3843192696243747\n"
          ]
        }
      ],
      "source": [
        "print('최적 하이퍼파라미터 : ', rs_xgb.best_params_)\n",
        "print('MAE : ', -rs_xgb.best_score_)"
      ]
    },
    {
      "cell_type": "markdown",
      "source": [
        "### (2) GridSearch"
      ],
      "metadata": {
        "id": "1dsLHI7EItx-"
      }
    },
    {
      "cell_type": "code",
      "execution_count": null,
      "metadata": {
        "id": "tbX1NVCMIv-r",
        "colab": {
          "base_uri": "https://localhost:8080/",
          "height": 135
        },
        "outputId": "84c83bae-ff6d-4210-b3ee-185aa8860ca4"
      },
      "outputs": [
        {
          "metadata": {
            "tags": null
          },
          "name": "stdout",
          "output_type": "stream",
          "text": [
            "Fitting 2 folds for each of 27 candidates, totalling 54 fits\n"
          ]
        },
        {
          "output_type": "execute_result",
          "data": {
            "text/plain": [
              "GridSearchCV(cv=2,\n",
              "             estimator=XGBRegressor(base_score=None, booster=None,\n",
              "                                    callbacks=None, colsample_bylevel=None,\n",
              "                                    colsample_bynode=None,\n",
              "                                    colsample_bytree=None,\n",
              "                                    early_stopping_rounds=None,\n",
              "                                    enable_categorical=False, eval_metric=None,\n",
              "                                    feature_types=None, gamma=None, gpu_id=None,\n",
              "                                    grow_policy=None, importance_type=None,\n",
              "                                    interaction_constraints=None,\n",
              "                                    learning_rate=None, m...\n",
              "                                    max_cat_to_onehot=None, max_delta_step=None,\n",
              "                                    max_depth=None, max_leaves=None,\n",
              "                                    min_child_weight=None, missing=nan,\n",
              "                                    monotone_constraints=None, n_estimators=100,\n",
              "                                    n_jobs=None, num_parallel_tree=None,\n",
              "                                    predictor=None, random_state=0, ...),\n",
              "             param_grid={'learning_rate': [0.05, 0.1, 0.2],\n",
              "                         'max_depth': [8, 10, 12],\n",
              "                         'n_estimators': [300, 350, 400]},\n",
              "             scoring='neg_mean_absolute_error', verbose=1)"
            ],
            "text/html": [
              "<style>#sk-container-id-1 {color: black;background-color: white;}#sk-container-id-1 pre{padding: 0;}#sk-container-id-1 div.sk-toggleable {background-color: white;}#sk-container-id-1 label.sk-toggleable__label {cursor: pointer;display: block;width: 100%;margin-bottom: 0;padding: 0.3em;box-sizing: border-box;text-align: center;}#sk-container-id-1 label.sk-toggleable__label-arrow:before {content: \"▸\";float: left;margin-right: 0.25em;color: #696969;}#sk-container-id-1 label.sk-toggleable__label-arrow:hover:before {color: black;}#sk-container-id-1 div.sk-estimator:hover label.sk-toggleable__label-arrow:before {color: black;}#sk-container-id-1 div.sk-toggleable__content {max-height: 0;max-width: 0;overflow: hidden;text-align: left;background-color: #f0f8ff;}#sk-container-id-1 div.sk-toggleable__content pre {margin: 0.2em;color: black;border-radius: 0.25em;background-color: #f0f8ff;}#sk-container-id-1 input.sk-toggleable__control:checked~div.sk-toggleable__content {max-height: 200px;max-width: 100%;overflow: auto;}#sk-container-id-1 input.sk-toggleable__control:checked~label.sk-toggleable__label-arrow:before {content: \"▾\";}#sk-container-id-1 div.sk-estimator input.sk-toggleable__control:checked~label.sk-toggleable__label {background-color: #d4ebff;}#sk-container-id-1 div.sk-label input.sk-toggleable__control:checked~label.sk-toggleable__label {background-color: #d4ebff;}#sk-container-id-1 input.sk-hidden--visually {border: 0;clip: rect(1px 1px 1px 1px);clip: rect(1px, 1px, 1px, 1px);height: 1px;margin: -1px;overflow: hidden;padding: 0;position: absolute;width: 1px;}#sk-container-id-1 div.sk-estimator {font-family: monospace;background-color: #f0f8ff;border: 1px dotted black;border-radius: 0.25em;box-sizing: border-box;margin-bottom: 0.5em;}#sk-container-id-1 div.sk-estimator:hover {background-color: #d4ebff;}#sk-container-id-1 div.sk-parallel-item::after {content: \"\";width: 100%;border-bottom: 1px solid gray;flex-grow: 1;}#sk-container-id-1 div.sk-label:hover label.sk-toggleable__label {background-color: #d4ebff;}#sk-container-id-1 div.sk-serial::before {content: \"\";position: absolute;border-left: 1px solid gray;box-sizing: border-box;top: 0;bottom: 0;left: 50%;z-index: 0;}#sk-container-id-1 div.sk-serial {display: flex;flex-direction: column;align-items: center;background-color: white;padding-right: 0.2em;padding-left: 0.2em;position: relative;}#sk-container-id-1 div.sk-item {position: relative;z-index: 1;}#sk-container-id-1 div.sk-parallel {display: flex;align-items: stretch;justify-content: center;background-color: white;position: relative;}#sk-container-id-1 div.sk-item::before, #sk-container-id-1 div.sk-parallel-item::before {content: \"\";position: absolute;border-left: 1px solid gray;box-sizing: border-box;top: 0;bottom: 0;left: 50%;z-index: -1;}#sk-container-id-1 div.sk-parallel-item {display: flex;flex-direction: column;z-index: 1;position: relative;background-color: white;}#sk-container-id-1 div.sk-parallel-item:first-child::after {align-self: flex-end;width: 50%;}#sk-container-id-1 div.sk-parallel-item:last-child::after {align-self: flex-start;width: 50%;}#sk-container-id-1 div.sk-parallel-item:only-child::after {width: 0;}#sk-container-id-1 div.sk-dashed-wrapped {border: 1px dashed gray;margin: 0 0.4em 0.5em 0.4em;box-sizing: border-box;padding-bottom: 0.4em;background-color: white;}#sk-container-id-1 div.sk-label label {font-family: monospace;font-weight: bold;display: inline-block;line-height: 1.2em;}#sk-container-id-1 div.sk-label-container {text-align: center;}#sk-container-id-1 div.sk-container {/* jupyter's `normalize.less` sets `[hidden] { display: none; }` but bootstrap.min.css set `[hidden] { display: none !important; }` so we also need the `!important` here to be able to override the default hidden behavior on the sphinx rendered scikit-learn.org. See: https://github.com/scikit-learn/scikit-learn/issues/21755 */display: inline-block !important;position: relative;}#sk-container-id-1 div.sk-text-repr-fallback {display: none;}</style><div id=\"sk-container-id-1\" class=\"sk-top-container\"><div class=\"sk-text-repr-fallback\"><pre>GridSearchCV(cv=2,\n",
              "             estimator=XGBRegressor(base_score=None, booster=None,\n",
              "                                    callbacks=None, colsample_bylevel=None,\n",
              "                                    colsample_bynode=None,\n",
              "                                    colsample_bytree=None,\n",
              "                                    early_stopping_rounds=None,\n",
              "                                    enable_categorical=False, eval_metric=None,\n",
              "                                    feature_types=None, gamma=None, gpu_id=None,\n",
              "                                    grow_policy=None, importance_type=None,\n",
              "                                    interaction_constraints=None,\n",
              "                                    learning_rate=None, m...\n",
              "                                    max_cat_to_onehot=None, max_delta_step=None,\n",
              "                                    max_depth=None, max_leaves=None,\n",
              "                                    min_child_weight=None, missing=nan,\n",
              "                                    monotone_constraints=None, n_estimators=100,\n",
              "                                    n_jobs=None, num_parallel_tree=None,\n",
              "                                    predictor=None, random_state=0, ...),\n",
              "             param_grid={&#x27;learning_rate&#x27;: [0.05, 0.1, 0.2],\n",
              "                         &#x27;max_depth&#x27;: [8, 10, 12],\n",
              "                         &#x27;n_estimators&#x27;: [300, 350, 400]},\n",
              "             scoring=&#x27;neg_mean_absolute_error&#x27;, verbose=1)</pre><b>In a Jupyter environment, please rerun this cell to show the HTML representation or trust the notebook. <br />On GitHub, the HTML representation is unable to render, please try loading this page with nbviewer.org.</b></div><div class=\"sk-container\" hidden><div class=\"sk-item sk-dashed-wrapped\"><div class=\"sk-label-container\"><div class=\"sk-label sk-toggleable\"><input class=\"sk-toggleable__control sk-hidden--visually\" id=\"sk-estimator-id-1\" type=\"checkbox\" ><label for=\"sk-estimator-id-1\" class=\"sk-toggleable__label sk-toggleable__label-arrow\">GridSearchCV</label><div class=\"sk-toggleable__content\"><pre>GridSearchCV(cv=2,\n",
              "             estimator=XGBRegressor(base_score=None, booster=None,\n",
              "                                    callbacks=None, colsample_bylevel=None,\n",
              "                                    colsample_bynode=None,\n",
              "                                    colsample_bytree=None,\n",
              "                                    early_stopping_rounds=None,\n",
              "                                    enable_categorical=False, eval_metric=None,\n",
              "                                    feature_types=None, gamma=None, gpu_id=None,\n",
              "                                    grow_policy=None, importance_type=None,\n",
              "                                    interaction_constraints=None,\n",
              "                                    learning_rate=None, m...\n",
              "                                    max_cat_to_onehot=None, max_delta_step=None,\n",
              "                                    max_depth=None, max_leaves=None,\n",
              "                                    min_child_weight=None, missing=nan,\n",
              "                                    monotone_constraints=None, n_estimators=100,\n",
              "                                    n_jobs=None, num_parallel_tree=None,\n",
              "                                    predictor=None, random_state=0, ...),\n",
              "             param_grid={&#x27;learning_rate&#x27;: [0.05, 0.1, 0.2],\n",
              "                         &#x27;max_depth&#x27;: [8, 10, 12],\n",
              "                         &#x27;n_estimators&#x27;: [300, 350, 400]},\n",
              "             scoring=&#x27;neg_mean_absolute_error&#x27;, verbose=1)</pre></div></div></div><div class=\"sk-parallel\"><div class=\"sk-parallel-item\"><div class=\"sk-item\"><div class=\"sk-label-container\"><div class=\"sk-label sk-toggleable\"><input class=\"sk-toggleable__control sk-hidden--visually\" id=\"sk-estimator-id-2\" type=\"checkbox\" ><label for=\"sk-estimator-id-2\" class=\"sk-toggleable__label sk-toggleable__label-arrow\">estimator: XGBRegressor</label><div class=\"sk-toggleable__content\"><pre>XGBRegressor(base_score=None, booster=None, callbacks=None,\n",
              "             colsample_bylevel=None, colsample_bynode=None,\n",
              "             colsample_bytree=None, early_stopping_rounds=None,\n",
              "             enable_categorical=False, eval_metric=None, feature_types=None,\n",
              "             gamma=None, gpu_id=None, grow_policy=None, importance_type=None,\n",
              "             interaction_constraints=None, learning_rate=None, max_bin=None,\n",
              "             max_cat_threshold=None, max_cat_to_onehot=None,\n",
              "             max_delta_step=None, max_depth=None, max_leaves=None,\n",
              "             min_child_weight=None, missing=nan, monotone_constraints=None,\n",
              "             n_estimators=100, n_jobs=None, num_parallel_tree=None,\n",
              "             predictor=None, random_state=0, ...)</pre></div></div></div><div class=\"sk-serial\"><div class=\"sk-item\"><div class=\"sk-estimator sk-toggleable\"><input class=\"sk-toggleable__control sk-hidden--visually\" id=\"sk-estimator-id-3\" type=\"checkbox\" ><label for=\"sk-estimator-id-3\" class=\"sk-toggleable__label sk-toggleable__label-arrow\">XGBRegressor</label><div class=\"sk-toggleable__content\"><pre>XGBRegressor(base_score=None, booster=None, callbacks=None,\n",
              "             colsample_bylevel=None, colsample_bynode=None,\n",
              "             colsample_bytree=None, early_stopping_rounds=None,\n",
              "             enable_categorical=False, eval_metric=None, feature_types=None,\n",
              "             gamma=None, gpu_id=None, grow_policy=None, importance_type=None,\n",
              "             interaction_constraints=None, learning_rate=None, max_bin=None,\n",
              "             max_cat_threshold=None, max_cat_to_onehot=None,\n",
              "             max_delta_step=None, max_depth=None, max_leaves=None,\n",
              "             min_child_weight=None, missing=nan, monotone_constraints=None,\n",
              "             n_estimators=100, n_jobs=None, num_parallel_tree=None,\n",
              "             predictor=None, random_state=0, ...)</pre></div></div></div></div></div></div></div></div></div></div>"
            ]
          },
          "metadata": {},
          "execution_count": 33
        }
      ],
      "source": [
        "params = {'n_estimators' : [300,350,400],\n",
        "          'max_depth' : [8,10,12],\n",
        "          'learning_rate' : [0.05,0.1,0.2]}\n",
        "\n",
        "xgb = xgb.XGBRegressor(random_state = 0)\n",
        "\n",
        "grid_xgb = GridSearchCV(xgb, param_grid = params, cv = 2, verbose = 1,\n",
        "                        scoring = 'neg_mean_absolute_error')\n",
        "\n",
        "grid_xgb.fit(X_train,y_train)"
      ]
    },
    {
      "cell_type": "code",
      "execution_count": null,
      "metadata": {
        "colab": {
          "base_uri": "https://localhost:8080/"
        },
        "outputId": "36432be2-eaac-4c4d-e7b5-cdb6337919e0",
        "id": "bOk_gan9SDxL"
      },
      "outputs": [
        {
          "output_type": "stream",
          "name": "stdout",
          "text": [
            "최적 하이퍼파라미터 :  {'learning_rate': 0.2, 'max_depth': 12, 'n_estimators': 400}\n",
            "XGB의 MAE :  1.2695696214292653\n"
          ]
        }
      ],
      "source": [
        "from sklearn.metrics import mean_absolute_error\n",
        "print('최적 하이퍼파라미터 : ', grid_xgb.best_params_)\n",
        "y_pred_xgb = grid_xgb.predict(X_val)\n",
        "print('XGB의 MAE : ', mean_absolute_error(y_pred_xgb,y_val))"
      ]
    },
    {
      "cell_type": "markdown",
      "source": [
        "## 4) LGBM"
      ],
      "metadata": {
        "id": "3okRUPCOdNJ_"
      }
    },
    {
      "cell_type": "code",
      "source": [
        "# LGBM\n",
        "\n",
        "import lightgbm as lgb\n",
        "from sklearn.metrics import mean_absolute_error\n",
        "\n",
        "params = {}\n",
        "params['learning_rate'] = 0.003\n",
        "params['categorical_feature'] = [0]\n",
        "params['boosting_type'] = 'dart'\n",
        "params['application'] = 'regression'\n",
        "params['num_iterations'] = 1000\n",
        "params['num_leaves'] = 2000\n",
        "params['min_data'] = 50\n",
        "params['max_depth'] = 50\n",
        "params['max_bin'] = 500\n",
        "\n",
        "lgb_train = lgb.Dataset(X_train, y_train)\n",
        "lgb_eval = lgb.Dataset(X_val, y_val, reference=lgb_train)\n",
        "\n",
        "lgb_model = lgb.train(params,\n",
        "                 train_set=lgb_train,\n",
        "                 valid_sets=lgb_eval,\n",
        "                 early_stopping_rounds=50)\n",
        "\n",
        "pred = lgb_model.predict(X_val)\n",
        "\n",
        "\n",
        "\n",
        "print('MAE : ', mean_absolute_error(pred,y_val))\n",
        "\n",
        "# MAE : 6.819058387031935"
      ],
      "metadata": {
        "id": "DT8Mr6DUckok"
      },
      "execution_count": null,
      "outputs": []
    },
    {
      "cell_type": "markdown",
      "source": [
        "## 5) RandomForest"
      ],
      "metadata": {
        "id": "mMXsu8iGJ7AK"
      }
    },
    {
      "cell_type": "markdown",
      "source": [
        "### (1) Randomized Search CV"
      ],
      "metadata": {
        "id": "vca-C4G5J-wt"
      }
    },
    {
      "cell_type": "code",
      "source": [
        "from sklearn.ensemble import RandomForestRegressor\n",
        "from sklearn.model_selection import GridSearchCV"
      ],
      "metadata": {
        "id": "M6d-ZjXbtsRH"
      },
      "execution_count": null,
      "outputs": []
    },
    {
      "cell_type": "code",
      "source": [
        "from sklearn.ensemble import RandomForestRegressor\n",
        "\n",
        "rf = RandomForestRegressor(random_state = 0)\n",
        "dists = {\n",
        "    'n_estimators' : [100,200,300],\n",
        "    'max_depth' : [4,6,8,10],\n",
        "    'min_samples_leaf' : [4,6,8,10],\n",
        "    'max_features' : [4,6,8,10]\n",
        "}\n",
        "\n",
        "rs_rf = RandomizedSearchCV( rf,\n",
        "                           param_distributions = dists,\n",
        "                            n_iter= 50, cv = 3,\n",
        "                            scoring = 'neg_mean_absolute_error',\n",
        "                            verbose = 1,\n",
        "                            n_jobs = -1\n",
        "\n",
        ")"
      ],
      "metadata": {
        "id": "EG7d7CEGKLtm"
      },
      "execution_count": null,
      "outputs": []
    },
    {
      "cell_type": "code",
      "source": [
        "rs_rf.fit(X_train,y_train)"
      ],
      "metadata": {
        "id": "J_4VdF33Vmkx"
      },
      "execution_count": null,
      "outputs": []
    },
    {
      "cell_type": "code",
      "source": [
        "print('최적 하이퍼파라미터 : ', rs_rf.best_params_)\n",
        "print('MAE : ', -rs_rf.best_score_)"
      ],
      "metadata": {
        "colab": {
          "base_uri": "https://localhost:8080/"
        },
        "outputId": "4b7f3b48-8348-4831-fbb5-8b3b874cb67e",
        "id": "PkC1-S1lthWC"
      },
      "execution_count": null,
      "outputs": [
        {
          "output_type": "stream",
          "name": "stdout",
          "text": [
            "최적 하이퍼파라미터 :  {'n_estimators': 300, 'min_samples_leaf': 6, 'max_features': 10, 'max_depth': 10}\n",
            "MAE :  1.684818352762261\n"
          ]
        }
      ]
    },
    {
      "cell_type": "markdown",
      "source": [
        "### (2) GridSearch CV"
      ],
      "metadata": {
        "id": "p5qKwlKFLMkx"
      }
    },
    {
      "cell_type": "code",
      "execution_count": null,
      "metadata": {
        "colab": {
          "base_uri": "https://localhost:8080/",
          "height": 135
        },
        "id": "vqosbVuug__7",
        "outputId": "37840c20-a2a3-46ef-bf23-658749c173b8"
      },
      "outputs": [
        {
          "output_type": "stream",
          "name": "stdout",
          "text": [
            "Fitting 2 folds for each of 54 candidates, totalling 108 fits\n"
          ]
        },
        {
          "output_type": "execute_result",
          "data": {
            "text/plain": [
              "GridSearchCV(cv=2, estimator=RandomForestRegressor(random_state=0),\n",
              "             param_grid={'max_depth': [8, 10, 12], 'max_features': [10, 11, 12],\n",
              "                         'min_samples_leaf': [4, 6, 8],\n",
              "                         'n_estimators': [300, 350]},\n",
              "             scoring='neg_mean_absolute_error', verbose=1)"
            ],
            "text/html": [
              "<style>#sk-container-id-2 {color: black;background-color: white;}#sk-container-id-2 pre{padding: 0;}#sk-container-id-2 div.sk-toggleable {background-color: white;}#sk-container-id-2 label.sk-toggleable__label {cursor: pointer;display: block;width: 100%;margin-bottom: 0;padding: 0.3em;box-sizing: border-box;text-align: center;}#sk-container-id-2 label.sk-toggleable__label-arrow:before {content: \"▸\";float: left;margin-right: 0.25em;color: #696969;}#sk-container-id-2 label.sk-toggleable__label-arrow:hover:before {color: black;}#sk-container-id-2 div.sk-estimator:hover label.sk-toggleable__label-arrow:before {color: black;}#sk-container-id-2 div.sk-toggleable__content {max-height: 0;max-width: 0;overflow: hidden;text-align: left;background-color: #f0f8ff;}#sk-container-id-2 div.sk-toggleable__content pre {margin: 0.2em;color: black;border-radius: 0.25em;background-color: #f0f8ff;}#sk-container-id-2 input.sk-toggleable__control:checked~div.sk-toggleable__content {max-height: 200px;max-width: 100%;overflow: auto;}#sk-container-id-2 input.sk-toggleable__control:checked~label.sk-toggleable__label-arrow:before {content: \"▾\";}#sk-container-id-2 div.sk-estimator input.sk-toggleable__control:checked~label.sk-toggleable__label {background-color: #d4ebff;}#sk-container-id-2 div.sk-label input.sk-toggleable__control:checked~label.sk-toggleable__label {background-color: #d4ebff;}#sk-container-id-2 input.sk-hidden--visually {border: 0;clip: rect(1px 1px 1px 1px);clip: rect(1px, 1px, 1px, 1px);height: 1px;margin: -1px;overflow: hidden;padding: 0;position: absolute;width: 1px;}#sk-container-id-2 div.sk-estimator {font-family: monospace;background-color: #f0f8ff;border: 1px dotted black;border-radius: 0.25em;box-sizing: border-box;margin-bottom: 0.5em;}#sk-container-id-2 div.sk-estimator:hover {background-color: #d4ebff;}#sk-container-id-2 div.sk-parallel-item::after {content: \"\";width: 100%;border-bottom: 1px solid gray;flex-grow: 1;}#sk-container-id-2 div.sk-label:hover label.sk-toggleable__label {background-color: #d4ebff;}#sk-container-id-2 div.sk-serial::before {content: \"\";position: absolute;border-left: 1px solid gray;box-sizing: border-box;top: 0;bottom: 0;left: 50%;z-index: 0;}#sk-container-id-2 div.sk-serial {display: flex;flex-direction: column;align-items: center;background-color: white;padding-right: 0.2em;padding-left: 0.2em;position: relative;}#sk-container-id-2 div.sk-item {position: relative;z-index: 1;}#sk-container-id-2 div.sk-parallel {display: flex;align-items: stretch;justify-content: center;background-color: white;position: relative;}#sk-container-id-2 div.sk-item::before, #sk-container-id-2 div.sk-parallel-item::before {content: \"\";position: absolute;border-left: 1px solid gray;box-sizing: border-box;top: 0;bottom: 0;left: 50%;z-index: -1;}#sk-container-id-2 div.sk-parallel-item {display: flex;flex-direction: column;z-index: 1;position: relative;background-color: white;}#sk-container-id-2 div.sk-parallel-item:first-child::after {align-self: flex-end;width: 50%;}#sk-container-id-2 div.sk-parallel-item:last-child::after {align-self: flex-start;width: 50%;}#sk-container-id-2 div.sk-parallel-item:only-child::after {width: 0;}#sk-container-id-2 div.sk-dashed-wrapped {border: 1px dashed gray;margin: 0 0.4em 0.5em 0.4em;box-sizing: border-box;padding-bottom: 0.4em;background-color: white;}#sk-container-id-2 div.sk-label label {font-family: monospace;font-weight: bold;display: inline-block;line-height: 1.2em;}#sk-container-id-2 div.sk-label-container {text-align: center;}#sk-container-id-2 div.sk-container {/* jupyter's `normalize.less` sets `[hidden] { display: none; }` but bootstrap.min.css set `[hidden] { display: none !important; }` so we also need the `!important` here to be able to override the default hidden behavior on the sphinx rendered scikit-learn.org. See: https://github.com/scikit-learn/scikit-learn/issues/21755 */display: inline-block !important;position: relative;}#sk-container-id-2 div.sk-text-repr-fallback {display: none;}</style><div id=\"sk-container-id-2\" class=\"sk-top-container\"><div class=\"sk-text-repr-fallback\"><pre>GridSearchCV(cv=2, estimator=RandomForestRegressor(random_state=0),\n",
              "             param_grid={&#x27;max_depth&#x27;: [8, 10, 12], &#x27;max_features&#x27;: [10, 11, 12],\n",
              "                         &#x27;min_samples_leaf&#x27;: [4, 6, 8],\n",
              "                         &#x27;n_estimators&#x27;: [300, 350]},\n",
              "             scoring=&#x27;neg_mean_absolute_error&#x27;, verbose=1)</pre><b>In a Jupyter environment, please rerun this cell to show the HTML representation or trust the notebook. <br />On GitHub, the HTML representation is unable to render, please try loading this page with nbviewer.org.</b></div><div class=\"sk-container\" hidden><div class=\"sk-item sk-dashed-wrapped\"><div class=\"sk-label-container\"><div class=\"sk-label sk-toggleable\"><input class=\"sk-toggleable__control sk-hidden--visually\" id=\"sk-estimator-id-2\" type=\"checkbox\" ><label for=\"sk-estimator-id-2\" class=\"sk-toggleable__label sk-toggleable__label-arrow\">GridSearchCV</label><div class=\"sk-toggleable__content\"><pre>GridSearchCV(cv=2, estimator=RandomForestRegressor(random_state=0),\n",
              "             param_grid={&#x27;max_depth&#x27;: [8, 10, 12], &#x27;max_features&#x27;: [10, 11, 12],\n",
              "                         &#x27;min_samples_leaf&#x27;: [4, 6, 8],\n",
              "                         &#x27;n_estimators&#x27;: [300, 350]},\n",
              "             scoring=&#x27;neg_mean_absolute_error&#x27;, verbose=1)</pre></div></div></div><div class=\"sk-parallel\"><div class=\"sk-parallel-item\"><div class=\"sk-item\"><div class=\"sk-label-container\"><div class=\"sk-label sk-toggleable\"><input class=\"sk-toggleable__control sk-hidden--visually\" id=\"sk-estimator-id-3\" type=\"checkbox\" ><label for=\"sk-estimator-id-3\" class=\"sk-toggleable__label sk-toggleable__label-arrow\">estimator: RandomForestRegressor</label><div class=\"sk-toggleable__content\"><pre>RandomForestRegressor(random_state=0)</pre></div></div></div><div class=\"sk-serial\"><div class=\"sk-item\"><div class=\"sk-estimator sk-toggleable\"><input class=\"sk-toggleable__control sk-hidden--visually\" id=\"sk-estimator-id-4\" type=\"checkbox\" ><label for=\"sk-estimator-id-4\" class=\"sk-toggleable__label sk-toggleable__label-arrow\">RandomForestRegressor</label><div class=\"sk-toggleable__content\"><pre>RandomForestRegressor(random_state=0)</pre></div></div></div></div></div></div></div></div></div></div>"
            ]
          },
          "metadata": {},
          "execution_count": 29
        }
      ],
      "source": [
        "params = {'max_depth' : [8,10,12],\n",
        "          'n_estimators' : [300,350],\n",
        "          'min_samples_leaf' : [4,6,8],\n",
        "          'max_features' : [10,11,12]}\n",
        "\n",
        "rf = RandomForestRegressor(random_state = 0)\n",
        "\n",
        "grid_xgb = GridSearchCV(rf, param_grid = params, cv = 2, verbose = 1,\n",
        "                        scoring = 'neg_mean_absolute_error')\n",
        "\n",
        "grid_xgb.fit(X_train,y_train)"
      ]
    },
    {
      "cell_type": "code",
      "source": [
        "from sklearn.metrics import mean_absolute_error\n",
        "print('최적 하이퍼파라미터 : ', grid_xgb.best_params_)\n",
        "y_pred_xgb = grid_xgb.predict(X_val)\n",
        "print('Random Forest의 MAE : ', mean_absolute_error(y_pred_xgb,y_val))"
      ],
      "metadata": {
        "colab": {
          "base_uri": "https://localhost:8080/"
        },
        "id": "2YinaAn92TXZ",
        "outputId": "634a3730-8cc3-44c6-d1a2-718f37cd600a"
      },
      "execution_count": null,
      "outputs": [
        {
          "output_type": "stream",
          "name": "stdout",
          "text": [
            "최적 하이퍼파라미터 :  {'max_depth': 12, 'max_features': 12, 'min_samples_leaf': 4, 'n_estimators': 350}\n",
            "XGB의 MAE :  0.016642314418061088\n"
          ]
        }
      ]
    },
    {
      "cell_type": "markdown",
      "source": [
        "## 6) GB"
      ],
      "metadata": {
        "id": "Y07PXL4ycvoY"
      }
    },
    {
      "cell_type": "code",
      "source": [
        "from sklearn.ensemble import GradientBoostingRegressor\n",
        "\n",
        "GB_model = GradientBoostingRegressor(\n",
        "            n_estimators=1000,\n",
        "            min_samples_leaf=7,\n",
        "            max_depth=13,\n",
        "            learning_rate=0.001,\n",
        "            subsample = 0.5,\n",
        "            random_state=0\n",
        "        ).fit(X_train,y_train)\n",
        "\n",
        "pred = GB_model.predict(X_val)\n",
        "\n",
        "print('MAE : ', mean_absolute_error(pred,y_val))\n",
        "\n",
        "# MAE :  4.112111787818531"
      ],
      "metadata": {
        "id": "kgG7UrS4dILB"
      },
      "execution_count": null,
      "outputs": []
    },
    {
      "cell_type": "markdown",
      "source": [
        "## 7) Decision Tree"
      ],
      "metadata": {
        "id": "BYLMbSOQM6aq"
      }
    },
    {
      "cell_type": "markdown",
      "source": [
        "### (1) GridSearch CV"
      ],
      "metadata": {
        "id": "BI1R7P3cM87A"
      }
    },
    {
      "cell_type": "code",
      "execution_count": null,
      "metadata": {
        "id": "FuiAbKNV4tzL"
      },
      "outputs": [],
      "source": [
        "from sklearn.tree import DecisionTreeRegressor\n",
        "from sklearn.model_selection import GridSearchCV\n",
        "\n",
        "dt_reg = DecisionTreeRegressor(random_state = 0)\n",
        "\n",
        "params = {\n",
        "    'max_depth' : [5,10,15],\n",
        "    'min_samples_leaf' : [5,10,20,30],\n",
        "    'criterion' : ['squared_error', 'friedman_mse', 'absolute_error']\n",
        "}\n",
        "\n",
        "grid_dt = GridSearchCV( dt_reg,\n",
        "                           param_grid = params,\n",
        "                           cv = 2,\n",
        "                            scoring = 'neg_mean_absolute_error',\n",
        "                            verbose = 1,\n",
        "                            n_jobs = -1\n",
        "\n",
        ")"
      ]
    },
    {
      "cell_type": "code",
      "execution_count": null,
      "metadata": {
        "colab": {
          "base_uri": "https://localhost:8080/",
          "height": 135
        },
        "id": "1yHwsxI2gMlY",
        "outputId": "216dea4e-f5f7-4592-b204-4f7cf99941ea"
      },
      "outputs": [
        {
          "output_type": "stream",
          "name": "stdout",
          "text": [
            "Fitting 2 folds for each of 36 candidates, totalling 72 fits\n"
          ]
        },
        {
          "output_type": "execute_result",
          "data": {
            "text/plain": [
              "GridSearchCV(cv=2, estimator=DecisionTreeRegressor(random_state=0), n_jobs=-1,\n",
              "             param_grid={'criterion': ['squared_error', 'friedman_mse',\n",
              "                                       'absolute_error'],\n",
              "                         'max_depth': [5, 10, 15],\n",
              "                         'min_samples_leaf': [5, 10, 20, 30]},\n",
              "             scoring='neg_mean_absolute_error', verbose=1)"
            ],
            "text/html": [
              "<style>#sk-container-id-1 {color: black;background-color: white;}#sk-container-id-1 pre{padding: 0;}#sk-container-id-1 div.sk-toggleable {background-color: white;}#sk-container-id-1 label.sk-toggleable__label {cursor: pointer;display: block;width: 100%;margin-bottom: 0;padding: 0.3em;box-sizing: border-box;text-align: center;}#sk-container-id-1 label.sk-toggleable__label-arrow:before {content: \"▸\";float: left;margin-right: 0.25em;color: #696969;}#sk-container-id-1 label.sk-toggleable__label-arrow:hover:before {color: black;}#sk-container-id-1 div.sk-estimator:hover label.sk-toggleable__label-arrow:before {color: black;}#sk-container-id-1 div.sk-toggleable__content {max-height: 0;max-width: 0;overflow: hidden;text-align: left;background-color: #f0f8ff;}#sk-container-id-1 div.sk-toggleable__content pre {margin: 0.2em;color: black;border-radius: 0.25em;background-color: #f0f8ff;}#sk-container-id-1 input.sk-toggleable__control:checked~div.sk-toggleable__content {max-height: 200px;max-width: 100%;overflow: auto;}#sk-container-id-1 input.sk-toggleable__control:checked~label.sk-toggleable__label-arrow:before {content: \"▾\";}#sk-container-id-1 div.sk-estimator input.sk-toggleable__control:checked~label.sk-toggleable__label {background-color: #d4ebff;}#sk-container-id-1 div.sk-label input.sk-toggleable__control:checked~label.sk-toggleable__label {background-color: #d4ebff;}#sk-container-id-1 input.sk-hidden--visually {border: 0;clip: rect(1px 1px 1px 1px);clip: rect(1px, 1px, 1px, 1px);height: 1px;margin: -1px;overflow: hidden;padding: 0;position: absolute;width: 1px;}#sk-container-id-1 div.sk-estimator {font-family: monospace;background-color: #f0f8ff;border: 1px dotted black;border-radius: 0.25em;box-sizing: border-box;margin-bottom: 0.5em;}#sk-container-id-1 div.sk-estimator:hover {background-color: #d4ebff;}#sk-container-id-1 div.sk-parallel-item::after {content: \"\";width: 100%;border-bottom: 1px solid gray;flex-grow: 1;}#sk-container-id-1 div.sk-label:hover label.sk-toggleable__label {background-color: #d4ebff;}#sk-container-id-1 div.sk-serial::before {content: \"\";position: absolute;border-left: 1px solid gray;box-sizing: border-box;top: 0;bottom: 0;left: 50%;z-index: 0;}#sk-container-id-1 div.sk-serial {display: flex;flex-direction: column;align-items: center;background-color: white;padding-right: 0.2em;padding-left: 0.2em;position: relative;}#sk-container-id-1 div.sk-item {position: relative;z-index: 1;}#sk-container-id-1 div.sk-parallel {display: flex;align-items: stretch;justify-content: center;background-color: white;position: relative;}#sk-container-id-1 div.sk-item::before, #sk-container-id-1 div.sk-parallel-item::before {content: \"\";position: absolute;border-left: 1px solid gray;box-sizing: border-box;top: 0;bottom: 0;left: 50%;z-index: -1;}#sk-container-id-1 div.sk-parallel-item {display: flex;flex-direction: column;z-index: 1;position: relative;background-color: white;}#sk-container-id-1 div.sk-parallel-item:first-child::after {align-self: flex-end;width: 50%;}#sk-container-id-1 div.sk-parallel-item:last-child::after {align-self: flex-start;width: 50%;}#sk-container-id-1 div.sk-parallel-item:only-child::after {width: 0;}#sk-container-id-1 div.sk-dashed-wrapped {border: 1px dashed gray;margin: 0 0.4em 0.5em 0.4em;box-sizing: border-box;padding-bottom: 0.4em;background-color: white;}#sk-container-id-1 div.sk-label label {font-family: monospace;font-weight: bold;display: inline-block;line-height: 1.2em;}#sk-container-id-1 div.sk-label-container {text-align: center;}#sk-container-id-1 div.sk-container {/* jupyter's `normalize.less` sets `[hidden] { display: none; }` but bootstrap.min.css set `[hidden] { display: none !important; }` so we also need the `!important` here to be able to override the default hidden behavior on the sphinx rendered scikit-learn.org. See: https://github.com/scikit-learn/scikit-learn/issues/21755 */display: inline-block !important;position: relative;}#sk-container-id-1 div.sk-text-repr-fallback {display: none;}</style><div id=\"sk-container-id-1\" class=\"sk-top-container\"><div class=\"sk-text-repr-fallback\"><pre>GridSearchCV(cv=2, estimator=DecisionTreeRegressor(random_state=0), n_jobs=-1,\n",
              "             param_grid={&#x27;criterion&#x27;: [&#x27;squared_error&#x27;, &#x27;friedman_mse&#x27;,\n",
              "                                       &#x27;absolute_error&#x27;],\n",
              "                         &#x27;max_depth&#x27;: [5, 10, 15],\n",
              "                         &#x27;min_samples_leaf&#x27;: [5, 10, 20, 30]},\n",
              "             scoring=&#x27;neg_mean_absolute_error&#x27;, verbose=1)</pre><b>In a Jupyter environment, please rerun this cell to show the HTML representation or trust the notebook. <br />On GitHub, the HTML representation is unable to render, please try loading this page with nbviewer.org.</b></div><div class=\"sk-container\" hidden><div class=\"sk-item sk-dashed-wrapped\"><div class=\"sk-label-container\"><div class=\"sk-label sk-toggleable\"><input class=\"sk-toggleable__control sk-hidden--visually\" id=\"sk-estimator-id-1\" type=\"checkbox\" ><label for=\"sk-estimator-id-1\" class=\"sk-toggleable__label sk-toggleable__label-arrow\">GridSearchCV</label><div class=\"sk-toggleable__content\"><pre>GridSearchCV(cv=2, estimator=DecisionTreeRegressor(random_state=0), n_jobs=-1,\n",
              "             param_grid={&#x27;criterion&#x27;: [&#x27;squared_error&#x27;, &#x27;friedman_mse&#x27;,\n",
              "                                       &#x27;absolute_error&#x27;],\n",
              "                         &#x27;max_depth&#x27;: [5, 10, 15],\n",
              "                         &#x27;min_samples_leaf&#x27;: [5, 10, 20, 30]},\n",
              "             scoring=&#x27;neg_mean_absolute_error&#x27;, verbose=1)</pre></div></div></div><div class=\"sk-parallel\"><div class=\"sk-parallel-item\"><div class=\"sk-item\"><div class=\"sk-label-container\"><div class=\"sk-label sk-toggleable\"><input class=\"sk-toggleable__control sk-hidden--visually\" id=\"sk-estimator-id-2\" type=\"checkbox\" ><label for=\"sk-estimator-id-2\" class=\"sk-toggleable__label sk-toggleable__label-arrow\">estimator: DecisionTreeRegressor</label><div class=\"sk-toggleable__content\"><pre>DecisionTreeRegressor(random_state=0)</pre></div></div></div><div class=\"sk-serial\"><div class=\"sk-item\"><div class=\"sk-estimator sk-toggleable\"><input class=\"sk-toggleable__control sk-hidden--visually\" id=\"sk-estimator-id-3\" type=\"checkbox\" ><label for=\"sk-estimator-id-3\" class=\"sk-toggleable__label sk-toggleable__label-arrow\">DecisionTreeRegressor</label><div class=\"sk-toggleable__content\"><pre>DecisionTreeRegressor(random_state=0)</pre></div></div></div></div></div></div></div></div></div></div>"
            ]
          },
          "metadata": {},
          "execution_count": 32
        }
      ],
      "source": [
        "grid_dt.fit(X_train,y_train)"
      ]
    },
    {
      "cell_type": "code",
      "source": [
        "from sklearn.metrics import mean_absolute_error\n",
        "print('최적 하이퍼파라미터 : ', grid_dt.best_params_)\n",
        "y_pred_dt = grid_dt.predict(X_val)\n",
        "print('Decision Tree의 MAE : ', mean_absolute_error(y_pred_dt,y_val))"
      ],
      "metadata": {
        "colab": {
          "base_uri": "https://localhost:8080/"
        },
        "id": "KihH3dzF04tU",
        "outputId": "fc2eaa5f-a2b7-4943-fada-5925a5596112"
      },
      "execution_count": null,
      "outputs": [
        {
          "output_type": "stream",
          "name": "stdout",
          "text": [
            "최적 하이퍼파라미터 :  {'criterion': 'absolute_error', 'max_depth': 15, 'min_samples_leaf': 30}\n",
            "Decision Tree의 MAE :  1.6794159494320435\n"
          ]
        }
      ]
    },
    {
      "cell_type": "markdown",
      "source": [
        "## 8) ELASTIC NET"
      ],
      "metadata": {
        "id": "DX35TjkLcyv5"
      }
    },
    {
      "cell_type": "code",
      "source": [
        "from sklearn.linear_model import ElasticNet\n",
        "\n",
        "model_elastic = ElasticNet(alpha=0.001, l1_ratio=0.5)\n",
        "model_elastic.fit(X_train,y_train)\n",
        "\n",
        "pred = model_elastic.predict(X_val)\n",
        "\n",
        "print('MAE : ', mean_absolute_error(pred,y_val))\n",
        "\n",
        "# MAE :  2.8309705786912587"
      ],
      "metadata": {
        "id": "4NsOWpR0c2AG"
      },
      "execution_count": null,
      "outputs": []
    },
    {
      "cell_type": "markdown",
      "source": [
        "## 9) Stacking"
      ],
      "metadata": {
        "id": "DHDNAXp3Ua9a"
      }
    },
    {
      "cell_type": "markdown",
      "source": [
        "### (1) RF + Ridge + XGB = LGBM"
      ],
      "metadata": {
        "id": "ReiUVvUEQJS7"
      }
    },
    {
      "cell_type": "code",
      "source": [
        "from sklearn.model_selection import KFold\n",
        "from sklearn.metrics import mean_absolute_error\n",
        "def stackdata(model, X_train_n, y_train_n, X_test_n, n_folds) :\n",
        "  kf = KFold(n_splits = n_folds, shuffle = True, random_state = 0)\n",
        "  train_fold_pred = np.zeros((X_train_n.shape[0],1))\n",
        "  test_pred = np.zeros((X_test_n.shape[0],n_folds))\n",
        "  print(model.__class__.__name__,'model 시작')\n",
        "\n",
        "  for folder_counter, (train_index, valid_index) in enumerate(kf.split(X_train_n)) :\n",
        "    print('\\t 폴드 세트 : ',folder_counter,' 시작 ')\n",
        "    X_tr = X_train_n[train_index]\n",
        "    y_tr = y_train_n[train_index]\n",
        "    X_te = X_train_n[valid_index]\n",
        "\n",
        "    model.fit(X_tr,y_tr)\n",
        "    train_fold_pred[valid_index, :] = model.predict(X_te).reshape(-1,1)\n",
        "    test_pred[:,folder_counter] = model.predict(X_test_n)\n",
        "\n",
        "  test_pred_mean = np.mean(test_pred,axis = 1).reshape(-1,1)\n",
        "\n",
        "  return train_fold_pred,test_pred_mean"
      ],
      "metadata": {
        "id": "kjTChoNtCnvA"
      },
      "execution_count": null,
      "outputs": []
    },
    {
      "cell_type": "code",
      "source": [
        "from sklearn.ensemble import RandomForestRegressor\n",
        "import xgboost as xgb\n",
        "from xgboost import XGBRegressor\n",
        "from sklearn.linear_model import Ridge\n",
        "from lightgbm import LGBMRegressor\n",
        "from sklearn.metrics import mean_absolute_error"
      ],
      "metadata": {
        "id": "_RUxtR48Kuae"
      },
      "execution_count": null,
      "outputs": []
    },
    {
      "cell_type": "code",
      "source": [
        "X_train_n = X_train.values\n",
        "X_test_n = X_val.values\n",
        "y_train_n = y_train.values\n",
        "\n",
        "ridge_reg = Ridge(alpha = 4.430621457583881)\n",
        "rf = RandomForestRegressor(n_estimators=300 ,min_samples_leaf= 6, max_features=10, max_depth=10)\n",
        "xgb_reg = xgb.XGBRegressor(n_estimators= 300, max_depth=10, learning_rate= 0.1)\n",
        "ridge_train, ridge_test = stackdata(ridge_reg,X_train_n,y_train_n,X_test_n,5)\n",
        "xgb_train,xgb_test = stackdata(xgb_reg,X_train_n, y_train_n, X_test_n, 5)\n",
        "rf_train, rf_test = stackdata(rf,X_train_n,y_train_n,X_test_n,5)"
      ],
      "metadata": {
        "id": "IOZuh7LNKTcH"
      },
      "execution_count": null,
      "outputs": []
    },
    {
      "cell_type": "markdown",
      "source": [
        "* 1차 전처리 결과"
      ],
      "metadata": {
        "id": "81M3u9prm_5E"
      }
    },
    {
      "cell_type": "code",
      "source": [
        "Stack_final_X_train = np.concatenate((ridge_train,xgb_train,rf_train),axis = 1)\n",
        "Stack_final_X_test = np.concatenate((ridge_test,xgb_test,rf_test),axis = 1)\n",
        "\n",
        "\n",
        "lgbm = LGBMRegressor()\n",
        "\n",
        "lgbm.fit(Stack_final_X_train,y_train)\n",
        "final = lgbm.predict(Stack_final_X_test)\n",
        "print('스태킹 회귀 모델의 최종MAE : ', mean_absolute_error(y_val,final))"
      ],
      "metadata": {
        "colab": {
          "base_uri": "https://localhost:8080/"
        },
        "id": "6XP4-viILJKW",
        "outputId": "645dd69f-46b7-40f9-e69b-d0b98b5cc132"
      },
      "execution_count": null,
      "outputs": [
        {
          "output_type": "stream",
          "name": "stdout",
          "text": [
            "스태킹 회귀 모델의 최종MAE :  1.3388977250739753\n"
          ]
        }
      ]
    },
    {
      "cell_type": "markdown",
      "source": [
        "* 2차 전처리 결과"
      ],
      "metadata": {
        "id": "uLQp3RNinCpV"
      }
    },
    {
      "cell_type": "code",
      "source": [
        "Stack_final_X_train = np.concatenate((ridge_train,xgb_train,rf_train),axis = 1)\n",
        "Stack_final_X_test = np.concatenate((ridge_test,xgb_test,rf_test),axis = 1)\n",
        "\n",
        "\n",
        "lgbm = LGBMRegressor()\n",
        "\n",
        "lgbm.fit(Stack_final_X_train,y_train)\n",
        "final = lgbm.predict(Stack_final_X_test)\n",
        "print('스태킹 회귀 모델의 최종MAE : ', mean_absolute_error(y_val,final))"
      ],
      "metadata": {
        "colab": {
          "base_uri": "https://localhost:8080/"
        },
        "id": "S7y6vN1Cm_XN",
        "outputId": "e117d4aa-0c19-427a-9757-2447de4abe2b"
      },
      "execution_count": null,
      "outputs": [
        {
          "output_type": "stream",
          "name": "stdout",
          "text": [
            "스태킹 회귀 모델의 최종MAE :  1.6834944830923846\n"
          ]
        }
      ]
    },
    {
      "cell_type": "markdown",
      "source": [
        "### (2) Lasso + Ridge + XGB = RF"
      ],
      "metadata": {
        "id": "99-lUjADQO6A"
      }
    },
    {
      "cell_type": "code",
      "source": [
        "X_train_n = X_train.values\n",
        "X_test_n = X_val.values\n",
        "y_train_n = y_train.values\n",
        "\n",
        "ridge_reg = Ridge(alpha = 4.430621457583881)\n",
        "xgb_reg = xgb.XGBRegressor(n_estimators= 300, max_depth=10, learning_rate= 0.1)\n",
        "lasso = Lasso(alpha=0.01, max_iter=100000)\n",
        "\n",
        "ridge_train, ridge_test = stackdata(ridge_reg,X_train_n,y_train_n,X_test_n,5)\n",
        "xgb_train,xgb_test = stackdata(xgb_reg,X_train_n, y_train_n, X_test_n, 5)\n",
        "lasso_train, lasso_test = stackdata(lasso,X_train_n,y_train_n,X_test_n,5)"
      ],
      "metadata": {
        "colab": {
          "base_uri": "https://localhost:8080/"
        },
        "id": "HOscKYhwTNnu",
        "outputId": "2a90ea71-a13a-4176-b06d-894f65b5d9f1"
      },
      "execution_count": null,
      "outputs": [
        {
          "output_type": "stream",
          "name": "stdout",
          "text": [
            "Ridge model 시작\n",
            "\t 폴드 세트 :  0  시작 \n",
            "\t 폴드 세트 :  1  시작 \n",
            "\t 폴드 세트 :  2  시작 \n",
            "\t 폴드 세트 :  3  시작 \n",
            "\t 폴드 세트 :  4  시작 \n",
            "XGBRegressor model 시작\n",
            "\t 폴드 세트 :  0  시작 \n",
            "\t 폴드 세트 :  1  시작 \n",
            "\t 폴드 세트 :  2  시작 \n",
            "\t 폴드 세트 :  3  시작 \n",
            "\t 폴드 세트 :  4  시작 \n",
            "Lasso model 시작\n",
            "\t 폴드 세트 :  0  시작 \n",
            "\t 폴드 세트 :  1  시작 \n",
            "\t 폴드 세트 :  2  시작 \n",
            "\t 폴드 세트 :  3  시작 \n",
            "\t 폴드 세트 :  4  시작 \n"
          ]
        }
      ]
    },
    {
      "cell_type": "markdown",
      "source": [
        "* 1차 전처리"
      ],
      "metadata": {
        "id": "HTrj5QNLvdjb"
      }
    },
    {
      "cell_type": "code",
      "source": [
        "Stack_final_X_train = np.concatenate((ridge_train,xgb_train,lasso_train),axis = 1)\n",
        "Stack_final_X_test = np.concatenate((ridge_test,xgb_test ,lasso_test),axis = 1)\n",
        "\n",
        "\n",
        "rf = RandomForestRegressor(n_estimators=300 ,min_samples_leaf= 6, max_features=10, max_depth=10)\n",
        "\n",
        "rf.fit(Stack_final_X_train,y_train)\n",
        "pred_w = rf.predict(Stack_final_X_test)\n",
        "print('Stacking  의 MAE : ', mean_absolute_error(pred_w,y_val))"
      ],
      "metadata": {
        "colab": {
          "base_uri": "https://localhost:8080/"
        },
        "id": "_JNIX59LS_Ph",
        "outputId": "49f63d14-f6a1-43a0-d902-b63f1567c684"
      },
      "execution_count": null,
      "outputs": [
        {
          "output_type": "stream",
          "name": "stdout",
          "text": [
            "Stacking  의 MAE :  1.3509054571946482\n"
          ]
        }
      ]
    },
    {
      "cell_type": "markdown",
      "source": [
        "* 2차 전처리"
      ],
      "metadata": {
        "id": "fBoIlGJsvfJh"
      }
    },
    {
      "cell_type": "code",
      "source": [
        "Stack_final_X_train = np.concatenate((ridge_train,xgb_train,lasso_train),axis = 1)\n",
        "Stack_final_X_test = np.concatenate((ridge_test,xgb_test ,lasso_test),axis = 1)\n",
        "\n",
        "\n",
        "rf = RandomForestRegressor(n_estimators=300 ,min_samples_leaf= 6, max_features=10, max_depth=10)\n",
        "\n",
        "rf.fit(Stack_final_X_train,y_train)\n",
        "pred_w = rf.predict(Stack_final_X_test)\n",
        "print('Stacking  의 MAE : ', mean_absolute_error(pred_w,y_val))"
      ],
      "metadata": {
        "colab": {
          "base_uri": "https://localhost:8080/"
        },
        "id": "f-rtQB9SvgUN",
        "outputId": "8168eb6b-9abf-428c-be81-1f9882816ba4"
      },
      "execution_count": null,
      "outputs": [
        {
          "output_type": "stream",
          "name": "stdout",
          "text": [
            "Stacking  의 MAE :  1.6896959703635799\n"
          ]
        }
      ]
    },
    {
      "cell_type": "markdown",
      "source": [
        "### (3) Ensemble Weight"
      ],
      "metadata": {
        "id": "kZqZNjn6JSml"
      }
    },
    {
      "cell_type": "code",
      "source": [
        "from sklearn.ensemble import RandomForestRegressor\n",
        "import xgboost as xgb\n",
        "from xgboost import XGBRegressor\n",
        "from sklearn.linear_model import Lasso,Ridge\n",
        "\n",
        "\n",
        "\n",
        "\n",
        "X_train_sp = train[train.season == 'spring'].drop(['ts'],axis = 1)\n",
        "X_train_su = train[train.season == 'summer'].drop(['ts'],axis = 1)\n",
        "X_train_f = train[train.season == 'fall'].drop(['ts'],axis = 1)\n",
        "X_train_w = train[train.season == 'winter'].drop(['ts'],axis = 1)\n",
        "\n",
        "y_train_sp = train[train.season == 'spring']['ts']\n",
        "y_train_su = train[train.season == 'summer']['ts']\n",
        "y_train_f = train[train.season == 'fall']['ts']\n",
        "y_train_w = train[train.season == 'winter']['ts']\n",
        "\n",
        "\n",
        "\n",
        "X_train_sp,X_val_sp,y_train_sp,y_val_sp = train_test_split(X_train_sp,y_train_sp,test_size = 0.3, random_state = 0)\n",
        "X_train_su,X_val_su,y_train_su,y_val_su = train_test_split(X_train_su,y_train_su,test_size = 0.3, random_state = 0)\n",
        "X_train_f,X_val_f,y_train_f,y_val_f = train_test_split(X_train_f,y_train_f,test_size = 0.3, random_state = 0)\n",
        "X_train_w,X_val_w,y_train_w,y_val_w = train_test_split(X_train_w,y_train_w,test_size = 0.3, random_state = 0)\n",
        "\n",
        "X_train_sp.drop('season', axis=1, inplace=True)\n",
        "X_train_su.drop('season', axis=1, inplace=True)\n",
        "X_train_f.drop('season', axis=1, inplace=True)\n",
        "X_train_w.drop('season', axis=1, inplace=True)\n",
        "\n",
        "\n",
        "X_val_sp.drop('season', axis=1, inplace=True)\n",
        "X_val_su.drop('season', axis=1, inplace=True)\n",
        "X_val_f.drop('season', axis=1, inplace=True)\n",
        "X_val_w.drop('season', axis=1, inplace=True)\n",
        "\n",
        "rf = RandomForestRegressor(n_estimators=300 ,min_samples_leaf= 6, max_features=10, max_depth=10)\n",
        "xgb_reg = xgb.XGBRegressor(n_estimators= 300, max_depth=10, learning_rate= 0.1)\n",
        "lasso = Lasso(alpha=0.01, max_iter=100000)\n",
        "\n",
        "sp_rf = rf.fit(X_train_sp,y_train_sp)\n",
        "sp_xgb = xgb_reg.fit(X_train_sp,y_train_sp)\n",
        "sp_la = lasso.fit(X_train_sp,y_train_sp)\n",
        "\n",
        "sp_pred = 0.65*sp_la.predict(X_val_sp) + 0.25*sp_rf.predict(X_val_sp) + 0.1*sp_xgb.predict(X_val_sp)\n",
        "\n",
        "su_rf = rf.fit(X_train_su,y_train_su)\n",
        "su_xgb = xgb_reg.fit(X_train_su,y_train_su)\n",
        "su_la = lasso.fit(X_train_su,y_train_su)\n",
        "\n",
        "su_pred = 0.45*su_la.predict(X_val_su) + 0.45*su_rf.predict(X_val_su) + 0.1*su_xgb.predict(X_val_su)\n",
        "\n",
        "f_rf = rf.fit(X_train_f,y_train_f)\n",
        "f_xgb = xgb_reg.fit(X_train_f,y_train_f)\n",
        "f_la = lasso.fit(X_train_f,y_train_f)\n",
        "\n",
        "f_pred = 0.5*su_la.predict(X_val_f) + 0.35*su_rf.predict(X_val_f) + 0.15*su_xgb.predict(X_val_f)\n",
        "\n",
        "w_rf = rf.fit(X_train_w,y_train_w)\n",
        "w_xgb = xgb_reg.fit(X_train_w,y_train_w)\n",
        "w_la = lasso.fit(X_train_w,y_train_w)\n",
        "\n",
        "\n",
        "w_pred = 0.1*su_la.predict(X_val_w) + 0.5*su_rf.predict(X_val_w) + 0.4*su_xgb.predict(X_val_w)\n",
        "\n",
        "sp_mae = mean_absolute_error(sp_pred,y_val_sp)\n",
        "su_mae = mean_absolute_error(su_pred,y_val_su)\n",
        "f_mae = mean_absolute_error(f_pred,y_val_f)\n",
        "w_mae = mean_absolute_error(w_pred,y_val_w)\n",
        "\n",
        "print('spring MAE : ', sp_mae)\n",
        "print('summer MAE : ', su_mae)\n",
        "print('fall MAE : ', f_mae)\n",
        "print('winter MAE : ', w_mae)\n",
        "print('전체 평균 MAE :', np.mean([sp_mae,su_mae,f_mae,w_mae]))"
      ],
      "metadata": {
        "colab": {
          "base_uri": "https://localhost:8080/"
        },
        "id": "Gnjx0cItJV3z",
        "outputId": "d2289f2f-9710-4598-da34-28f431f62860"
      },
      "execution_count": null,
      "outputs": [
        {
          "output_type": "stream",
          "name": "stdout",
          "text": [
            "spring MAE :  2.447692965562569\n",
            "summer MAE :  2.1892460364675976\n",
            "fall MAE :  1.7737041043880863\n",
            "winter MAE :  1.4888884377901495\n",
            "전체 평균 MAE : 1.9748828860521004\n"
          ]
        }
      ]
    },
    {
      "cell_type": "markdown",
      "source": [
        "### (4) 계절별 다른 Model 선정"
      ],
      "metadata": {
        "id": "kDlVvQkyBAuP"
      }
    },
    {
      "cell_type": "markdown",
      "source": [
        "* 봄 : Lasso / 여름 : Rf / 가을 : Lasso / 겨울 : Rf"
      ],
      "metadata": {
        "id": "pnMBmUeRVx2s"
      }
    },
    {
      "cell_type": "code",
      "source": [
        "from sklearn.ensemble import RandomForestRegressor\n",
        "import xgboost as xgb\n",
        "from xgboost import XGBRegressor\n",
        "from sklearn.linear_model import Lasso,Ridge\n",
        "\n",
        "\n",
        "\n",
        "\n",
        "X_train_sp = train[train.season == 'spring'].drop(['ts'],axis = 1)\n",
        "X_train_su = train[train.season == 'summer'].drop(['ts'],axis = 1)\n",
        "X_train_f = train[train.season == 'fall'].drop(['ts'],axis = 1)\n",
        "X_train_w = train[train.season == 'winter'].drop(['ts'],axis = 1)\n",
        "\n",
        "y_train_sp = train[train.season == 'spring']['ts']\n",
        "y_train_su = train[train.season == 'summer']['ts']\n",
        "y_train_f = train[train.season == 'fall']['ts']\n",
        "y_train_w = train[train.season == 'winter']['ts']\n",
        "\n",
        "\n",
        "\n",
        "X_train_sp,X_val_sp,y_train_sp,y_val_sp = train_test_split(X_train_sp,y_train_sp,test_size = 0.3, random_state = 0)\n",
        "X_train_su,X_val_su,y_train_su,y_val_su = train_test_split(X_train_su,y_train_su,test_size = 0.3, random_state = 0)\n",
        "X_train_f,X_val_f,y_train_f,y_val_f = train_test_split(X_train_f,y_train_f,test_size = 0.3, random_state = 0)\n",
        "X_train_w,X_val_w,y_train_w,y_val_w = train_test_split(X_train_w,y_train_w,test_size = 0.3, random_state = 0)\n",
        "\n",
        "X_train_sp.drop('season', axis=1, inplace=True)\n",
        "X_train_su.drop('season', axis=1, inplace=True)\n",
        "X_train_f.drop('season', axis=1, inplace=True)\n",
        "X_train_w.drop('season', axis=1, inplace=True)\n",
        "\n",
        "\n",
        "X_val_sp.drop('season', axis=1, inplace=True)\n",
        "X_val_su.drop('season', axis=1, inplace=True)\n",
        "X_val_f.drop('season', axis=1, inplace=True)\n",
        "X_val_w.drop('season', axis=1, inplace=True)\n",
        "\n",
        "rf = RandomForestRegressor(n_estimators=300 ,min_samples_leaf= 6, max_features=10, max_depth=10)\n",
        "lasso = Lasso(alpha=0.01, max_iter=100000)\n",
        "\n",
        "sp_la = lasso.fit(X_train_sp,y_train_sp)\n",
        "sp_pred = sp_la.predict(X_val_sp)\n",
        "su_rf = rf.fit(X_train_su,y_train_su)\n",
        "su_pred = su_rf.predict(X_val_su)\n",
        "f_la = lasso.fit(X_train_f,y_train_f)\n",
        "f_pred = f_la.predict(X_val_f)\n",
        "w_rf = rf.fit(X_train_w,y_train_w)\n",
        "w_pred = w_rf.predict(X_val_w)\n",
        "\n",
        "\n",
        "sp_mae = mean_absolute_error(sp_pred,y_val_sp)\n",
        "su_mae = mean_absolute_error(su_pred,y_val_su)\n",
        "f_mae = mean_absolute_error(f_pred,y_val_f)\n",
        "w_mae = mean_absolute_error(w_pred,y_val_w)\n",
        "\n",
        "print('spring MAE : ', sp_mae)\n",
        "print('summer MAE : ', su_mae)\n",
        "print('fall MAE : ', f_mae)\n",
        "print('winter MAE : ', w_mae)\n",
        "print('전체 평균 MAE :', np.mean([sp_mae,su_mae,f_mae,w_mae]))"
      ],
      "metadata": {
        "colab": {
          "base_uri": "https://localhost:8080/"
        },
        "outputId": "7ad93b01-f3d9-4aba-92c8-dde380788b20",
        "id": "a3p5YwH4Wsky"
      },
      "execution_count": null,
      "outputs": [
        {
          "output_type": "stream",
          "name": "stdout",
          "text": [
            "spring MAE :  3.0887759265642756\n",
            "summer MAE :  1.874395366875375\n",
            "fall MAE :  2.353438974420615\n",
            "winter MAE :  1.5090454642049858\n",
            "전체 평균 MAE : 2.2064139330163126\n"
          ]
        }
      ]
    },
    {
      "cell_type": "markdown",
      "source": [
        "* 봄 : Lasso / 여름 : Xgb / 가을 : Lasso / 겨울 : Rf"
      ],
      "metadata": {
        "id": "e-nuprjpV5mI"
      }
    },
    {
      "cell_type": "code",
      "source": [
        "from sklearn.ensemble import RandomForestRegressor\n",
        "import xgboost as xgb\n",
        "from xgboost import XGBRegressor\n",
        "from sklearn.linear_model import Lasso,Ridge\n",
        "\n",
        "X_train_sp = train[train.season == 'spring'].drop(['ts'],axis = 1)\n",
        "X_train_su = train[train.season == 'summer'].drop(['ts'],axis = 1)\n",
        "X_train_f = train[train.season == 'fall'].drop(['ts'],axis = 1)\n",
        "X_train_w = train[train.season == 'winter'].drop(['ts'],axis = 1)\n",
        "\n",
        "y_train_sp = train[train.season == 'spring']['ts']\n",
        "y_train_su = train[train.season == 'summer']['ts']\n",
        "y_train_f = train[train.season == 'fall']['ts']\n",
        "y_train_w = train[train.season == 'winter']['ts']\n",
        "\n",
        "X_train_sp,X_val_sp,y_train_sp,y_val_sp = train_test_split(X_train_sp,y_train_sp,test_size = 0.3, random_state = 0)\n",
        "X_train_su,X_val_su,y_train_su,y_val_su = train_test_split(X_train_su,y_train_su,test_size = 0.3, random_state = 0)\n",
        "X_train_f,X_val_f,y_train_f,y_val_f = train_test_split(X_train_f,y_train_f,test_size = 0.3, random_state = 0)\n",
        "X_train_w,X_val_w,y_train_w,y_val_w = train_test_split(X_train_w,y_train_w,test_size = 0.3, random_state = 0)\n",
        "\n",
        "X_train_sp.drop('season', axis=1, inplace=True)\n",
        "X_train_su.drop('season', axis=1, inplace=True)\n",
        "X_train_f.drop('season', axis=1, inplace=True)\n",
        "X_train_w.drop('season', axis=1, inplace=True)\n",
        "\n",
        "X_val_sp.drop('season', axis=1, inplace=True)\n",
        "X_val_su.drop('season', axis=1, inplace=True)\n",
        "X_val_f.drop('season', axis=1, inplace=True)\n",
        "X_val_w.drop('season', axis=1, inplace=True)\n",
        "\n",
        "rf = RandomForestRegressor(n_estimators=300 ,min_samples_leaf= 6, max_features=10, max_depth=10)\n",
        "lasso = Lasso(alpha=0.01, max_iter=100000)\n",
        "xgb_reg = xgb.XGBRegressor(n_estimators= 300, max_depth=10, learning_rate= 0.1)\n",
        "\n",
        "\n",
        "sp_la = lasso.fit(X_train_sp,y_train_sp)\n",
        "sp_pred = sp_la.predict(X_val_sp)\n",
        "su_xgb = xgb_reg.fit(X_train_su,y_train_su)\n",
        "su_pred = su_xgb.predict(X_val_su)\n",
        "f_la = lasso.fit(X_train_f,y_train_f)\n",
        "f_pred = f_la.predict(X_val_f)\n",
        "w_rf = rf.fit(X_train_w,y_train_w)\n",
        "w_pred = w_rf.predict(X_val_w)\n",
        "\n",
        "\n",
        "sp_mae = mean_absolute_error(sp_pred,y_val_sp)\n",
        "su_mae = mean_absolute_error(su_pred,y_val_su)\n",
        "f_mae = mean_absolute_error(f_pred,y_val_f)\n",
        "w_mae = mean_absolute_error(w_pred,y_val_w)\n",
        "\n",
        "print('spring MAE : ', sp_mae)\n",
        "print('summer MAE : ', su_mae)\n",
        "print('fall MAE : ', f_mae)\n",
        "print('winter MAE : ', w_mae)\n",
        "print('전체 평균 MAE :', np.mean([sp_mae,su_mae,f_mae,w_mae]))"
      ],
      "metadata": {
        "colab": {
          "base_uri": "https://localhost:8080/"
        },
        "id": "p2RujM_uZ5es",
        "outputId": "d73ddb10-deff-43da-8bc1-9de553a7e386"
      },
      "execution_count": null,
      "outputs": [
        {
          "output_type": "stream",
          "name": "stdout",
          "text": [
            "spring MAE :  3.0887759265642756\n",
            "summer MAE :  1.8690739568765773\n",
            "fall MAE :  2.353438974420615\n",
            "winter MAE :  1.509913656501925\n",
            "전체 평균 MAE : 2.205300628590848\n"
          ]
        }
      ]
    },
    {
      "cell_type": "markdown",
      "source": [
        "---\n",
        "# **5. SUBMISSION**"
      ],
      "metadata": {
        "id": "J_sTZyBHaxZt"
      }
    },
    {
      "cell_type": "code",
      "source": [
        "sp = pd.read_excel('/content/drive/MyDrive/데이터/기상청/subminssionUser.xlsx',sheet_name='SPRING')\n",
        "su = pd.read_excel('/content/drive/MyDrive/데이터/기상청/subminssionUser.xlsx',sheet_name='SUMMER')\n",
        "f = pd.read_excel('/content/drive/MyDrive/데이터/기상청/subminssionUser.xlsx',sheet_name='AUTUMN')\n",
        "w = pd.read_excel('/content/drive/MyDrive/데이터/기상청/subminssionUser.xlsx',sheet_name='WINTER')"
      ],
      "metadata": {
        "id": "QREIWhURbYQ5"
      },
      "execution_count": null,
      "outputs": []
    },
    {
      "cell_type": "code",
      "source": [
        "# submission과 비교후 같은 값을 위해 맞춰줌\n",
        "test.drop([1215,3016,3017,9975,11773,11869,20533,18735],axis = 0,inplace = True)"
      ],
      "metadata": {
        "id": "n0qKOde1gAm3"
      },
      "execution_count": null,
      "outputs": []
    },
    {
      "cell_type": "code",
      "source": [
        "from sklearn.ensemble import RandomForestRegressor\n",
        "import xgboost as xgb\n",
        "from xgboost import XGBRegressor\n",
        "from sklearn.linear_model import Lasso,Ridge\n",
        "\n",
        "X_train_sp = train[train.season == 'spring'].drop(['ts'],axis = 1)\n",
        "X_train_su = train[train.season == 'summer'].drop(['ts'],axis = 1)\n",
        "X_train_f = train[train.season == 'fall'].drop(['ts'],axis = 1)\n",
        "X_train_w = train[train.season == 'winter'].drop(['ts'],axis = 1)\n",
        "\n",
        "y_train_sp = train[train.season == 'spring']['ts']\n",
        "y_train_su = train[train.season == 'summer']['ts']\n",
        "y_train_f = train[train.season == 'fall']['ts']\n",
        "y_train_w = train[train.season == 'winter']['ts']\n",
        "\n",
        "X_train_sp.drop('season', axis=1, inplace=True)\n",
        "X_train_su.drop('season', axis=1, inplace=True)\n",
        "X_train_f.drop('season', axis=1, inplace=True)\n",
        "X_train_w.drop('season', axis=1, inplace=True)\n",
        "\n",
        "test_sp = test[test['season']=='spring']\n",
        "test_su = test[test['season']=='summer']\n",
        "test_f = test[test['season']=='fall']\n",
        "test_w = test[test['season']=='winter']\n",
        "\n",
        "\n",
        "test_sp.drop('season', axis=1, inplace=True)\n",
        "test_su.drop('season', axis=1, inplace=True)\n",
        "test_f.drop('season', axis=1, inplace=True)\n",
        "test_w.drop('season', axis=1, inplace=True)\n",
        "\n",
        "rf = RandomForestRegressor(n_estimators=300 ,min_samples_leaf= 6, max_features=10, max_depth=10)\n",
        "lasso = Lasso(alpha=0.01, max_iter=100000)\n",
        "xgb_reg = xgb.XGBRegressor(n_estimators= 300, max_depth=10, learning_rate= 0.1)\n",
        "\n",
        "sp_la = lasso.fit(X_train_sp,y_train_sp)\n",
        "su_xgb = xgb_reg.fit(X_train_su,y_train_su)\n",
        "f_la = lasso.fit(X_train_f,y_train_f)\n",
        "w_rf = rf.fit(X_train_w,y_train_w)\n",
        "\n",
        "\n",
        "\n",
        "pred_sp = sp_la.predict(test_sp)\n",
        "pred_su = su_xgb.predict(test_su)\n",
        "pred_f = f_la.predict(test_f)\n",
        "pred_w = w_rf.predict(test_w)\n",
        "\n",
        "\n",
        "sp['TS'] = pred_sp\n",
        "sp.to_excel('/content/drive/MyDrive/데이터/기상청/sp.xlsx')\n",
        "\n",
        "su['TS'] = pred_su\n",
        "su.to_excel('/content/drive/MyDrive/데이터/기상청/su.xlsx')\n",
        "\n",
        "f['TS'] = pred_f\n",
        "f.to_excel('/content/drive/MyDrive/데이터/기상청/f.xlsx')\n",
        "\n",
        "w['TS'] = pred_w\n",
        "w.to_excel('/content/drive/MyDrive/데이터/기상청/w.xlsx')"
      ],
      "metadata": {
        "colab": {
          "base_uri": "https://localhost:8080/"
        },
        "id": "7JJrsy72cBYD",
        "outputId": "2fc869f2-325c-4d58-e90d-6198c60723aa"
      },
      "execution_count": null,
      "outputs": [
        {
          "output_type": "stream",
          "name": "stderr",
          "text": [
            "<ipython-input-39-e05ad2e9b46a>:27: SettingWithCopyWarning: \n",
            "A value is trying to be set on a copy of a slice from a DataFrame\n",
            "\n",
            "See the caveats in the documentation: https://pandas.pydata.org/pandas-docs/stable/user_guide/indexing.html#returning-a-view-versus-a-copy\n",
            "  test_sp.drop('season', axis=1, inplace=True)\n",
            "<ipython-input-39-e05ad2e9b46a>:28: SettingWithCopyWarning: \n",
            "A value is trying to be set on a copy of a slice from a DataFrame\n",
            "\n",
            "See the caveats in the documentation: https://pandas.pydata.org/pandas-docs/stable/user_guide/indexing.html#returning-a-view-versus-a-copy\n",
            "  test_su.drop('season', axis=1, inplace=True)\n",
            "<ipython-input-39-e05ad2e9b46a>:29: SettingWithCopyWarning: \n",
            "A value is trying to be set on a copy of a slice from a DataFrame\n",
            "\n",
            "See the caveats in the documentation: https://pandas.pydata.org/pandas-docs/stable/user_guide/indexing.html#returning-a-view-versus-a-copy\n",
            "  test_f.drop('season', axis=1, inplace=True)\n",
            "<ipython-input-39-e05ad2e9b46a>:30: SettingWithCopyWarning: \n",
            "A value is trying to be set on a copy of a slice from a DataFrame\n",
            "\n",
            "See the caveats in the documentation: https://pandas.pydata.org/pandas-docs/stable/user_guide/indexing.html#returning-a-view-versus-a-copy\n",
            "  test_w.drop('season', axis=1, inplace=True)\n"
          ]
        }
      ]
    }
  ]
}