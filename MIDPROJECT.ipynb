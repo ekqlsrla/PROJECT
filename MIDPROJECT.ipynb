{
 "cells": [
  {
   "cell_type": "markdown",
   "id": "86ef19ed",
   "metadata": {},
   "source": [
    "# MID PROJECT 확률과정론\n",
    "\n",
    "* 248STG01 김다빈\n",
    "\n"
   ]
  },
  {
   "cell_type": "markdown",
   "id": "022e2ddd",
   "metadata": {},
   "source": [
    "## Case I\n",
    "\n"
   ]
  },
  {
   "cell_type": "code",
   "execution_count": 94,
   "id": "1aa5b801",
   "metadata": {},
   "outputs": [],
   "source": [
    "import numpy as np\n",
    "\n",
    "\n",
    "states = ['Fail','Bad','Normal','Good','Best']\n",
    "actions = ['Drive','Maintenance']\n",
    "rewards = { 'Fail' : {'Drive' : 0, 'Maintenance' : -10},\n",
    "           'Bad' : {'Drive' :-100, 'Maintenance' : -5},\n",
    "           'Normal' : {'Drive' :-30, 'Maintenance' : -4},\n",
    "           'Good' : {'Drive' : 9, 'Maintenance': -3},\n",
    "           'Best' : {'Drive' : 10, 'Maintenance' : -2},\n",
    "           }\n",
    "\n",
    "transitions = {\n",
    "   'Fail' :  {'Drive' : {'Fail' : 1, 'Bad' : 0, 'Normal' : 0,'Good' :0,'Best':0} ,\n",
    "               'Maintenance' : {'Fail' : 1, 'Bad' : 0,'Normal' : 0,'Good' :0,'Best':0}},\n",
    "   'Bad' :  {'Drive' : {'Fail' : 0.8,'Bad' : 0.2,'Normal' : 0,'Good' :0,'Best':0} ,\n",
    "               'Maintenance' : {'Fail' : 0, 'Bad' : 0.7,'Normal' : 0.3,'Good' :0,'Best':0}},\n",
    "    'Normal':  {'Drive' : {'Fail' : 0.2, 'Bad' : 0.6,'Normal': 0.2,'Good' :0,'Best':0} ,\n",
    "               'Maintenance' : {'Fail' : 0, 'Bad' : 0,'Normal' : 0.6,'Good' :0.4,'Best':0}\n",
    "              },\n",
    "     'Good' :  {'Drive' : {'Fail' : 0, 'Bad' : 0,'Normal': 0.8,'Good' :0.2,'Best':0} ,\n",
    "               'Maintenance' : {'Fail' : 0, 'Bad' : 0,'Normal' : 0,'Good' :0.5,'Best':0.5}\n",
    "              },\n",
    "     'Best' :  {'Drive' : {'Fail' : 0, 'Bad' : 0,'Normal' : 0,'Good' :0.8,'Best':0.2} ,\n",
    "               'Maintenance' : {'Fail' : 0, 'Bad' : 0,'Normal' : 0,'Good' :0,'Best':1}\n",
    "              },\n",
    "    \n",
    "}\n",
    "\n",
    "gamma = 0.95\n",
    "\n",
    "#FUNTCION for valut iteration\n",
    "\n",
    "def value_iteration() :\n",
    "    V = {s: 0 for s in states}\n",
    "    while True :\n",
    "        V1 = {}\n",
    "        for s in states :\n",
    "            values = []\n",
    "            for a in actions :\n",
    "                v = rewards[s][a]\n",
    "                for s2 in states :\n",
    "                    v += gamma * transitions[s][a][s2]*V[s2]\n",
    "                values.append(v)\n",
    "            V1[s] = max(values)\n",
    "            \n",
    "            #차이가 엄청 작은지, 수렴하는지 확인\n",
    "        if all(abs(V[s] - V1[s]) < 0.01 for s in states) :\n",
    "             return V1\n",
    "        V = V1\n",
    "            \n",
    "            \n",
    "        "
   ]
  },
  {
   "cell_type": "code",
   "execution_count": 87,
   "id": "12b9ef69",
   "metadata": {},
   "outputs": [
    {
     "name": "stdout",
     "output_type": "stream",
     "text": [
      "{'Fail': 'Drive', 'Bad': 'Maintenance', 'Normal': 'Maintenance', 'Good': 'Maintenance', 'Best': 'Drive'}\n"
     ]
    }
   ],
   "source": [
    "V1 = value_iteration()\n",
    "policy1 = {}\n",
    "for s in states :\n",
    "    values = []\n",
    "    for a in actions :\n",
    "        v1 = rewards[s][a]\n",
    "        for s2 in states :\n",
    "            v1 += gamma* transitions[s][a][s2] * V[s2]\n",
    "        values.append(v1)\n",
    "    policy1[s] = actions[np.argmax(values)]\n",
    "\n",
    "print(policy1)\n"
   ]
  },
  {
   "cell_type": "markdown",
   "id": "8e828204",
   "metadata": {},
   "source": [
    "## Case II\n",
    "\n"
   ]
  },
  {
   "cell_type": "code",
   "execution_count": 88,
   "id": "aaadc88d",
   "metadata": {},
   "outputs": [],
   "source": [
    "states = ['Fail','Bad','Normal','Good','Best']\n",
    "actions = ['Drive','Maintenance']\n",
    "rewards = { 'Fail' : {'Drive' : 0, 'Maintenance' : -10},\n",
    "           'Bad' : {'Drive' :-30, 'Maintenance' : -3},\n",
    "           'Normal' : {'Drive' : 4, 'Maintenance' : -3},\n",
    "           'Good' : {'Drive' : 9, 'Maintenance': -3},\n",
    "           'Best' : {'Drive' : 10, 'Maintenance' : -2},\n",
    "}\n",
    "\n",
    "transition = {\n",
    "    'Fail' :  {'Drive' : {'Fail' : 1, 'Bad' : 0, 'Normal' : 0,'Good' :0,'Best':0} ,\n",
    "               'Maintenance' : {'Fail' : 1, 'Bad' : 0,'Normal' : 0,'Good' :0,'Best':0}},\n",
    "    'Bad' :  {'Drive' : {'Fail' : 0.8, 'Bad' : 0.2,'Normal' : 0,'Good' :0,'Best':0} ,\n",
    "               'Maintenance' : {'Fail' : 0, 'Bad' : 0.5,'Normal' : 0.5,'Good' :0,'Best':0}},\n",
    "    'Normal' :  {'Drive' : {'Fail' : 0, 'Bad' : 0.8,'Normal' : 0.2,'Good' :0,'Best':0} ,\n",
    "               'Maintenance' : {'Fail' : 0, 'Bad' : 0,'Normal' : 0.5,'Good' :0.5,'Best':0}\n",
    "              },\n",
    "     'Good' :  {'Drive' : {'Fail' : 0, 'Bad' : 0,'Normal' : 0.8,'Good' :0.2,'Best':0} ,\n",
    "               'Maintenance' : {'Fail' : 0, 'Bad' : 0,'Normal' : 0,'Good' :0.5,'Best':0.5}\n",
    "              },\n",
    "     'Best' :  {'Drive' : {'Fail' : 0, 'Bad' : 0,'Normal' : 0,'Good' :0.8,'Best':0.2} ,\n",
    "               'Maintenance' : {'Fail' : 0, 'Bad' : 0,'Normal' : 0,'Good' :0,'Best':1}\n",
    "              },\n",
    "    \n",
    "}\n",
    "\n"
   ]
  },
  {
   "cell_type": "code",
   "execution_count": 89,
   "id": "b96c7d28",
   "metadata": {},
   "outputs": [
    {
     "name": "stdout",
     "output_type": "stream",
     "text": [
      "{'Fail': 'Drive', 'Bad': 'Maintenance', 'Normal': 'Maintenance', 'Good': 'Maintenance', 'Best': 'Drive'}\n"
     ]
    }
   ],
   "source": [
    "V2 = value_iteration()\n",
    "policy2= {}\n",
    "for s in states :\n",
    "    values = []\n",
    "    for a in actions :\n",
    "        v2= rewards[s][a]\n",
    "        for s2 in states :\n",
    "            v2 += gamma* transition[s][a][s2] * V[s2]\n",
    "        values.append(v2)\n",
    "    policy2[s] = actions[np.argmax(values)]\n",
    "\n",
    "print(policy2)"
   ]
  },
  {
   "cell_type": "markdown",
   "id": "6d4616fa",
   "metadata": {},
   "source": [
    "## Case III"
   ]
  },
  {
   "cell_type": "code",
   "execution_count": 92,
   "id": "69f2d5ea",
   "metadata": {},
   "outputs": [],
   "source": [
    "states = ['Fail','Bad','Normal','Good','Best']\n",
    "actions = ['Drive','Maintenance']\n",
    "rewards = { 'Fail' : {'Drive' : 0, 'Maintenance' : -10},\n",
    "           'Bad' : {'Drive' :-30, 'Maintenance' : -3},\n",
    "           'Normal' : {'Drive' : 8, 'Maintenance' : -3},\n",
    "           'Good' : {'Drive' : 9, 'Maintenance': -3},\n",
    "           'Best' : {'Drive' : 10, 'Maintenance' : -2},\n",
    "}\n",
    "\n",
    "transition = {\n",
    "    'Fail' :  {'Drive' : {'Fail' : 1, 'Bad' : 0, 'Normal' : 0,'Good' :0,'Best':0} ,\n",
    "                'Maintenance' : {'Fail' : 1, 'Bad' : 0,'Normal' : 0,'Good' :0,'Best':0}},\n",
    "    'Bad' :  {'Drive' : {'Fail' : 0.8, 'Bad' : 0.2,'Normal' : 0,'Good' :0,'Best':0} ,\n",
    "                'Maintenance' : {'Fail' : 0, 'Bad' : 0.5,'Normal' : 0.5,'Good' :0,'Best':0}},\n",
    "    'Normal' :  {'Drive' : {'Fail' : 0, 'Bad' : 0.8,'Normal' : 0.2,'Good' :0,'Best':0} ,\n",
    "                'Maintenance' : {'Fail' : 0, 'Bad' : 0,'Normal' : 0.5,'Good' :0.5,'Best':0}\n",
    "              },\n",
    "     'Good' :  {'Drive' : {'Fail' : 0, 'Bad' : 0,'Normal' : 0.8,'Good' :0.2,'Best':0} ,\n",
    "                'Maintenance' : {'Fail' : 0, 'Bad' : 0,'Normal' : 0,'Good' :0.5,'Best':0.5}\n",
    "              },\n",
    "     'Best' :  {'Drive' : {'Fail' : 0, 'Bad' : 0,'Normal' : 0,'Good' :0.8,'Best':0.2} ,\n",
    "               'Maintenance' : {'Fail' : 0, 'Bad' : 0,'Normal' : 0,'Good' :0,'Best':1}\n",
    "              },\n",
    "    \n",
    "}\n"
   ]
  },
  {
   "cell_type": "code",
   "execution_count": 93,
   "id": "8853dc13",
   "metadata": {
    "scrolled": true
   },
   "outputs": [
    {
     "name": "stdout",
     "output_type": "stream",
     "text": [
      "{'Fail': 'Drive', 'Bad': 'Maintenance', 'Normal': 'Maintenance', 'Good': 'Maintenance', 'Best': 'Drive'}\n"
     ]
    }
   ],
   "source": [
    "V3 = value_iteration()\n",
    "policy3 = {}\n",
    "for s in states :\n",
    "    values3 = []\n",
    "    for a in actions :\n",
    "        v3 = rewards[s][a]\n",
    "        for s2 in states :\n",
    "            v3 += gamma* transition[s][a][s2] * V3[s2]\n",
    "        values3.append(v3)\n",
    "    policy3[s] = actions[np.argmax(values3)]\n",
    "\n",
    "print(policy3)"
   ]
  },
  {
   "cell_type": "markdown",
   "id": "a7fd78d3",
   "metadata": {},
   "source": [
    "## 결과\n",
    "\n",
    "* Case 1 : {'Fail': 'Drive', 'Bad': 'Maintenance', 'Normal': 'Maintenance', 'Good': 'Maintenance', 'Best': 'Drive'}\n",
    "* Case 2 : {'Fail': 'Drive', 'Bad': 'Maintenance', 'Normal': 'Maintenance', 'Good': 'Maintenance', 'Best': 'Drive'}\n",
    "* Case 3 : {'Fail': 'Drive', 'Bad': 'Maintenance', 'Normal': 'Maintenance', 'Good': 'Maintenance', 'Best': 'Drive'}\n",
    "\n",
    "\n",
    "1. 세 가지의 Case에서 동일한 optimal policy를 구할 수 있었다.\n",
    "2. state =1,5에서는 action =1일때의 reward가 높은 것을 반영하여 optimal policy에서도 'Drive'가 도출된 것을 확인할 수 있다.\n",
    "\n",
    "\n"
   ]
  }
 ],
 "metadata": {
  "kernelspec": {
   "display_name": "Python 3 (ipykernel)",
   "language": "python",
   "name": "python3"
  },
  "language_info": {
   "codemirror_mode": {
    "name": "ipython",
    "version": 3
   },
   "file_extension": ".py",
   "mimetype": "text/x-python",
   "name": "python",
   "nbconvert_exporter": "python",
   "pygments_lexer": "ipython3",
   "version": "3.11.5"
  }
 },
 "nbformat": 4,
 "nbformat_minor": 5
}
